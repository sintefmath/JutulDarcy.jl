{
 "cells": [
  {
   "cell_type": "markdown",
   "source": [
    "# Example with wells"
   ],
   "metadata": {}
  },
  {
   "cell_type": "markdown",
   "source": [
    "This example demonstrates how to set up a 3D domain with a layered\n",
    "permeability field, define wells and solve a simple production-injection\n",
    "schedule. We begin by loading the `Jutul` package that contains generic\n",
    "features like grids and linear solvers and the `JutulDarcy` package itself."
   ],
   "metadata": {}
  },
  {
   "cell_type": "markdown",
   "source": [
    "## Preliminaries"
   ],
   "metadata": {}
  },
  {
   "outputs": [],
   "cell_type": "code",
   "source": [
    "using JutulDarcy, Jutul"
   ],
   "metadata": {},
   "execution_count": null
  },
  {
   "cell_type": "markdown",
   "source": [
    "`JutulDarcy` uses SI units internally. It is therefore convenient to define a\n",
    "few constants at the start of the script to have more managable numbers later\n",
    "on."
   ],
   "metadata": {}
  },
  {
   "outputs": [],
   "cell_type": "code",
   "source": [
    "Darcy, bar, kg, meter, day = si_units(:darcy, :bar, :kilogram, :meter, :day)"
   ],
   "metadata": {},
   "execution_count": null
  },
  {
   "cell_type": "markdown",
   "source": [
    "## Defining a porous medium\n",
    "We start by defining the static part of our simulation problem -- the porous medium itself.\n",
    "### Defining the grid"
   ],
   "metadata": {}
  },
  {
   "cell_type": "markdown",
   "source": [
    "The first step is to create a grid for our simulation domain. We make a tiny 5\n",
    "by 5 grid with 4 layers that discretizes a physical domain of 2000 by 1500 by\n",
    "50 meters."
   ],
   "metadata": {}
  },
  {
   "outputs": [],
   "cell_type": "code",
   "source": [
    "nx = ny = 5\n",
    "nz = 4\n",
    "dims = (nx, ny, nz)\n",
    "g = CartesianMesh(dims, (2000.0, 1500.0, 50.0))"
   ],
   "metadata": {},
   "execution_count": null
  },
  {
   "cell_type": "markdown",
   "source": [
    "### Adding properties and making a domain\n",
    "The grid by itself does not fully specify a porous medium. For that we need to\n",
    "specify the permeability in each cell and the porosity. Permeability, often\n",
    "denoted by a positive-definite tensor K, describes the relationship between a\n",
    "pressure gradient and the flow through the medium. Porosity is a dimensionless\n",
    "number between 0 and 1 that describes how much of the porous medium is void\n",
    "space where fluids can be present. The assumption of Darcy flow becomes less\n",
    "reasonable for high porosity values and the flow equations break down at zero\n",
    "porosity. A porosity of 0.2 is then a safe choice."
   ],
   "metadata": {}
  },
  {
   "cell_type": "markdown",
   "source": [
    "Jutul uses the `DataDomain` type to store a domain/grid together with data.\n",
    "For porous media simulation, `JutulDarcy` includes a convenience function\n",
    "`reservoir_domain` that contains defaults for permeability and porosity. We\n",
    "specify the permeability per-cell with varying values per layer in the\n",
    "vertical direction and a single porosity value for all cells that the function\n",
    "will expand for us. From the output, we can see that basic geometry primitives\n",
    "are also automatically added:"
   ],
   "metadata": {}
  },
  {
   "outputs": [],
   "cell_type": "code",
   "source": [
    "nlayer = nx*ny # Cells in each layer\n",
    "K = vcat(\n",
    "    repeat([0.65], nlayer),\n",
    "    repeat([0.3], nlayer),\n",
    "    repeat([0.5], nlayer),\n",
    "    repeat([0.2], nlayer)\n",
    "    )*Darcy\n",
    "\n",
    "domain = reservoir_domain(g, permeability = K, porosity = 0.2)"
   ],
   "metadata": {},
   "execution_count": null
  },
  {
   "cell_type": "markdown",
   "source": [
    "## Defining wells\n",
    "Now that we have a porous medium with all static properties set up, it is time\n",
    "to introduce some driving forces. Jutul assumes no-flow boundary conditions on\n",
    "all boundary faces unless otherwise specified so we can go ahead and add wells\n",
    "to the model."
   ],
   "metadata": {}
  },
  {
   "cell_type": "markdown",
   "source": [
    "### A vertical producer well\n",
    "We will define two wells: A first well is named \"Producer\" and is a vertical\n",
    "well positioned at `(1, 1)`. By default, the `setup_vertical_well`\n",
    "function perforates all layers in the model."
   ],
   "metadata": {}
  },
  {
   "outputs": [],
   "cell_type": "code",
   "source": [
    "Prod = setup_vertical_well(domain, 1, 1, name = :Producer);"
   ],
   "metadata": {},
   "execution_count": null
  },
  {
   "cell_type": "markdown",
   "source": [
    "### A single-perforation injector\n",
    "We also define an injector by `setup_well`. This function allows us to\n",
    "pass a vector of either cell indices or tuples of logical indices that the\n",
    "well trajectory will follow. We setup the injector in the upper left corner."
   ],
   "metadata": {}
  },
  {
   "outputs": [],
   "cell_type": "code",
   "source": [
    "Inj = setup_well(domain, [(nx, ny, 1)], name = :Injector);"
   ],
   "metadata": {},
   "execution_count": null
  },
  {
   "cell_type": "markdown",
   "source": [
    "## Choosing a fluid system\n",
    "To solve multiphase flow with our little toy reservoir we need to pick a fluid\n",
    "system. The type of system determines what physical effects are modelled, what\n",
    "parameters are required and the runtime and accuracy of the resulting\n",
    "simulation. The choice is in practice a trade-off between accuracy, runtime\n",
    "and available data that should be informed by modelling objectives. In this\n",
    "example our goal is to understand how to set up a simple well problem and the\n",
    "`ImmiscibleSystem` requires a minimal amount of input. We define\n",
    "liquid and gas phases and their densities at some reference conditions and\n",
    "instantiate the system."
   ],
   "metadata": {}
  },
  {
   "outputs": [],
   "cell_type": "code",
   "source": [
    "# Set up a two-phase immiscible system and define a density secondary variable\n",
    "phases = (LiquidPhase(), VaporPhase())\n",
    "rhoLS = 1000.0\n",
    "rhoGS = 100.0\n",
    "rhoS = [rhoLS, rhoGS] .* kg/meter^3\n",
    "sys = ImmiscibleSystem(phases, reference_densities = rhoS)"
   ],
   "metadata": {},
   "execution_count": null
  },
  {
   "cell_type": "markdown",
   "source": [
    "### Creating the model\n",
    "The same fluid system can be used for both flow inside the wells and the\n",
    "reservoir. JutulDarcy treats wells as first-class citizens and models flow\n",
    "inside the well bore using the same fluid description as the reservoir, with\n",
    "modified equations to account for the non-Darcy velocities. We call the\n",
    "utility function that sets up all of this for us:"
   ],
   "metadata": {}
  },
  {
   "outputs": [],
   "cell_type": "code",
   "source": [
    "model, parameters = setup_reservoir_model(domain, sys, wells = [Inj, Prod])\n",
    "model"
   ],
   "metadata": {},
   "execution_count": null
  },
  {
   "cell_type": "markdown",
   "source": [
    "The model is an instance of the `MultiModel` from `Jutul` where a\n",
    "submodel is defined for the reservoir, each of the wells and the facility that\n",
    "controls both wells. In addition we can see the cross-terms that couple these\n",
    "wells together. If we want to see more details on how either of these are set\n",
    "up, we can display for example the reservoir model."
   ],
   "metadata": {}
  },
  {
   "outputs": [],
   "cell_type": "code",
   "source": [
    "reservoir = model[:Reservoir]"
   ],
   "metadata": {},
   "execution_count": null
  },
  {
   "cell_type": "markdown",
   "source": [
    "We can see that the model contains primary variables, secondary variables\n",
    "(sometimes referred to as properties) and static parameters in addition to the\n",
    "system we already set up. These can be replaced or modified to alter the\n",
    "behavior of the system."
   ],
   "metadata": {}
  },
  {
   "cell_type": "markdown",
   "source": [
    "### Replace the density function with our custom version\n",
    "Let us change the definition of phase mass densities for our model. We'd like\n",
    "to model our liquid phase as weakly compressible and the vapor phase with more\n",
    "significant compressibility. A common approach is to define densities\n",
    "$\\rho_\\alpha^s$ at some reference pressure $p_r$ and use a phase\n",
    "compressibility $c_\\alpha$ to extrapolate around that known value.\n",
    "\n",
    "$\\rho_\\alpha (p) = \\rho_\\alpha^s \\exp((p - p_r)c_\\alpha)$\n",
    "\n",
    "This is already implement in Jutul and we simply need to instantiate the variable definition:"
   ],
   "metadata": {}
  },
  {
   "outputs": [],
   "cell_type": "code",
   "source": [
    "c = [1e-6/bar, 1e-4/bar]\n",
    "ρ = ConstantCompressibilityDensities(p_ref = 1*bar, density_ref = rhoS, compressibility = c)"
   ],
   "metadata": {},
   "execution_count": null
  },
  {
   "cell_type": "markdown",
   "source": [
    "Before replacing it in the model. This change will propagate to all submodels\n",
    "that have a definition given for PhaseMassDensities, including the wells. The\n",
    "facility, which does not know about densities, will ignore it."
   ],
   "metadata": {}
  },
  {
   "outputs": [],
   "cell_type": "code",
   "source": [
    "replace_variables!(model, PhaseMassDensities = ρ);"
   ],
   "metadata": {},
   "execution_count": null
  },
  {
   "cell_type": "markdown",
   "source": [
    "This concludes the setup of the model.\n",
    "## Set up initial state\n",
    "The model is time-dependent and requires initial conditions. For the\n",
    "immiscible model it is sufficient to specify the reference phase pressure and\n",
    "the saturations for both phases, summed up to one. These can be specified per\n",
    "cell or one for the entire grid. Specifying a single pressure for the entire\n",
    "model is not very realistic, but should be fine for our simple example. The\n",
    "initial conditions will equilibrate themselves from gravity fairly quickly."
   ],
   "metadata": {}
  },
  {
   "outputs": [],
   "cell_type": "code",
   "source": [
    "state0 = setup_reservoir_state(model, Pressure = 150*bar, Saturations = [1.0, 0.0])"
   ],
   "metadata": {},
   "execution_count": null
  },
  {
   "cell_type": "markdown",
   "source": [
    "## Set up report time steps and injection rate\n",
    "We create a set of time-steps. These are report steps where the solution will\n",
    "be reported, but the simulator itself will do internal subdivision of time\n",
    "steps if these values are too coarse for the solvers. We also define an\n",
    "injection rate of a full pore-volume (at reference conditions) of gas."
   ],
   "metadata": {}
  },
  {
   "outputs": [],
   "cell_type": "code",
   "source": [
    "dt = repeat([30.0]*day, 12*5)\n",
    "pv = pore_volume(model, parameters)\n",
    "inj_rate = sum(pv)/sum(dt)"
   ],
   "metadata": {},
   "execution_count": null
  },
  {
   "cell_type": "markdown",
   "source": [
    "## Set up well controls\n",
    "We then set up a total rate target (positive value for injection) together\n",
    "with a corresponding injection control that specifies the mass fractions of\n",
    "the two components/phases for pure gas injection, with surface density given\n",
    "by the known gas density. The producer operates at a fixed bottom hole\n",
    "pressure. These are given as a `Dict` with keys that correspond to the well\n",
    "names."
   ],
   "metadata": {}
  },
  {
   "outputs": [],
   "cell_type": "code",
   "source": [
    "rate_target = TotalRateTarget(inj_rate)\n",
    "I_ctrl = InjectorControl(rate_target, [0.0, 1.0], density = rhoGS)\n",
    "bhp_target = BottomHolePressureTarget(50*bar)\n",
    "P_ctrl = ProducerControl(bhp_target)\n",
    "controls = Dict()\n",
    "controls[:Injector] = I_ctrl\n",
    "controls[:Producer] = P_ctrl\n",
    "# Set up the forces"
   ],
   "metadata": {},
   "execution_count": null
  },
  {
   "cell_type": "markdown",
   "source": [
    "Set up forces for the whole model. For this example, all other forces than the\n",
    "well controls are defaulted (amounting to no-flow for the reservoir). Jutul\n",
    "supports either a single set of forces for the entire simulation, or a vector\n",
    "of equal length to `dt` with varying forces. Reasonable operational limits for\n",
    "wells are also set up by default."
   ],
   "metadata": {}
  },
  {
   "outputs": [],
   "cell_type": "code",
   "source": [
    "forces = setup_reservoir_forces(model, control = controls)"
   ],
   "metadata": {},
   "execution_count": null
  },
  {
   "cell_type": "markdown",
   "source": [
    "## Simulate the model\n",
    "We are finally ready to simulate the model for the given initial state\n",
    "`state0`, report steps `dt`, `parameters` and forces. As the model is small,\n",
    "barring any compilation time, this should run in about 300 ms."
   ],
   "metadata": {}
  },
  {
   "outputs": [],
   "cell_type": "code",
   "source": [
    "result = simulate_reservoir(state0, model, dt, parameters = parameters, forces = forces)"
   ],
   "metadata": {},
   "execution_count": null
  },
  {
   "cell_type": "markdown",
   "source": [
    "### Unpacking the result\n",
    "The result contains a lot of data. This can be unpacked to get the most\n",
    "typical desired outputs: Well responses, reservoir states and the time they\n",
    "correspond to."
   ],
   "metadata": {}
  },
  {
   "outputs": [],
   "cell_type": "code",
   "source": [
    "wd, states, t = result"
   ],
   "metadata": {},
   "execution_count": null
  },
  {
   "cell_type": "markdown",
   "source": [
    "We could in fact equally well have written\n",
    "`wd, states, t = simulate_reservoir(...)`\n",
    "to arrive at the same result."
   ],
   "metadata": {}
  },
  {
   "cell_type": "markdown",
   "source": [
    "## Plot the producer responses\n",
    "We load a plotting package to plot the wells."
   ],
   "metadata": {}
  },
  {
   "outputs": [],
   "cell_type": "code",
   "source": [
    "using GLMakie"
   ],
   "metadata": {},
   "execution_count": null
  },
  {
   "cell_type": "markdown",
   "source": [
    "## Plot the surface rates at the producer\n",
    "We observe that the total rate does not vary much, but the composition changes\n",
    "from liquid to gas as the front propagate through the domain and hits the\n",
    "producer well.\n",
    "Gas rates"
   ],
   "metadata": {}
  },
  {
   "outputs": [],
   "cell_type": "code",
   "source": [
    "qg = wd[:Producer][:grat]"
   ],
   "metadata": {},
   "execution_count": null
  },
  {
   "cell_type": "markdown",
   "source": [
    "Total rate"
   ],
   "metadata": {}
  },
  {
   "outputs": [],
   "cell_type": "code",
   "source": [
    "qt = wd[:Producer][:rate]"
   ],
   "metadata": {},
   "execution_count": null
  },
  {
   "cell_type": "markdown",
   "source": [
    "Compute liquid rate and plot"
   ],
   "metadata": {}
  },
  {
   "outputs": [],
   "cell_type": "code",
   "source": [
    "ql = qt - qg\n",
    "x = t/day\n",
    "fig = Figure()\n",
    "ax = Axis(fig[1, 1], xlabel = \"Time (days)\",\n",
    "                     ylabel = \"Rate (m³/day)\",\n",
    "                     title = \"Well production rates\")\n",
    "lines!(ax, x, abs.(qg).*day, label = \"Gas\")\n",
    "lines!(ax, x, abs.(ql).*day, label = \"Liquid\")\n",
    "lines!(ax, x, abs.(qt).*day, label = \"Total\")\n",
    "axislegend(position = :rb)\n",
    "fig"
   ],
   "metadata": {},
   "execution_count": null
  },
  {
   "cell_type": "markdown",
   "source": [
    "## Plot bottom hole pressure of the injector\n",
    "The pressure builds during injection, until the gas breaks through to the\n",
    "other well."
   ],
   "metadata": {}
  },
  {
   "outputs": [],
   "cell_type": "code",
   "source": [
    "bh = wd[:Injector][:bhp]\n",
    "fig = Figure()\n",
    "ax = Axis(fig[1, 1], xlabel = \"Time (days)\",\n",
    "                     ylabel = \"Bottom hole pressure (bar)\",\n",
    "                     title = \"Injector bottom hole pressure\")\n",
    "lines!(ax, x, bh./bar)\n",
    "fig"
   ],
   "metadata": {},
   "execution_count": null
  },
  {
   "cell_type": "markdown",
   "source": [
    "---\n",
    "\n",
    "*This notebook was generated using [Literate.jl](https://github.com/fredrikekre/Literate.jl).*"
   ],
   "metadata": {}
  }
 ],
 "nbformat_minor": 3,
 "metadata": {
  "language_info": {
   "file_extension": ".jl",
   "mimetype": "application/julia",
   "name": "julia",
   "version": "1.11.0"
  },
  "kernelspec": {
   "name": "julia-1.11",
   "display_name": "Julia 1.11.0",
   "language": "julia"
  }
 },
 "nbformat": 4
}
