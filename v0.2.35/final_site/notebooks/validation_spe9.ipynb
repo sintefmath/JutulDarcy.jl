{
 "cells": [
  {
   "cell_type": "markdown",
   "source": [
    "# The SPE9 model\n",
    "[Killough, J. E. 1995. Ninth SPE comparative solution project: A reexamination\n",
    "of black-oil simulation. In SPE Reservoir Simulation Symposium,  12-15\n",
    "February 1995, San Antonio, Texas. SPE 29110-MS]\n",
    "(http://dx.doi.org/10.2118/29110-MS)\n",
    "[spe9](@cite)"
   ],
   "metadata": {}
  },
  {
   "outputs": [],
   "cell_type": "code",
   "source": [
    "using Jutul, JutulDarcy, GLMakie, DelimitedFiles\n",
    "spe9_dir = JutulDarcy.GeoEnergyIO.test_input_file_path(\"SPE9\")\n",
    "case = setup_case_from_data_file(joinpath(spe9_dir, \"SPE9.DATA\"))\n",
    "ws, states = simulate_reservoir(case, output_substates = true)\n",
    "#\n",
    "csv_path = joinpath(spe9_dir, \"REFERENCE.CSV\")\n",
    "data, header = readdlm(csv_path, ',', header = true)\n",
    "#\n",
    "time_ref = data[:, 1]\n",
    "time_jutul = deepcopy(ws.time)\n",
    "wells = deepcopy(ws.wells)\n",
    "wnames = collect(keys(wells))\n",
    "nw = length(wnames)\n",
    "day = si_unit(:day)\n",
    "cmap = :tableau_hue_circle\n",
    "\n",
    "inj = Symbol[]\n",
    "prod = Symbol[]\n",
    "for (wellname, well) in pairs(wells)\n",
    "    qts = well[:wrat] + well[:orat] + well[:grat]\n",
    "    if sum(qts) > 0\n",
    "        push!(inj, wellname)\n",
    "    else\n",
    "        push!(prod, wellname)\n",
    "    end\n",
    "end\n",
    "\n",
    "function plot_well_comparison(response, well_names, reponse_name = \"$response\")\n",
    "    fig = Figure(size = (1000, 400))\n",
    "    if response == :bhp\n",
    "        ys = 1/si_unit(:bar)\n",
    "        yl = \"Bottom hole pressure / Bar\"\n",
    "    elseif response == :wrat\n",
    "        ys = si_unit(:day)\n",
    "        yl = \"Surface water rate / m³/day\"\n",
    "    elseif response == :grat\n",
    "        ys = si_unit(:day)/1e6\n",
    "        yl = \"Surface gas rate / 10⁶ m³/day\"\n",
    "    elseif response == :orat\n",
    "        ys = si_unit(:day)/(1000*si_unit(:stb))\n",
    "        yl = \"Surface oil rate / 10³ stb/day\"\n",
    "    else\n",
    "        error(\"$response not ready.\")\n",
    "    end\n",
    "    welltypes = []\n",
    "    ax = Axis(fig[1:4, 1], xlabel = \"Time / days\", ylabel = yl)\n",
    "    i = 1\n",
    "    linehandles = []\n",
    "    linelabels = []\n",
    "    for well_name in well_names\n",
    "        well = wells[well_name]\n",
    "        label_in_csv = \"$well_name:$response\"\n",
    "        ref_pos = findfirst(x -> x == label_in_csv, vec(header))\n",
    "        qoi = copy(well[response]).*ys\n",
    "        qoi_ref = data[:, ref_pos].*ys\n",
    "        tot_rate = copy(well[:rate])\n",
    "        @. qoi[tot_rate == 0] = NaN\n",
    "        grat_ref = data[:, findfirst(x -> x == \"$well_name:grat\", vec(header))]\n",
    "        orat_ref = data[:, findfirst(x -> x == \"$well_name:orat\", vec(header))]\n",
    "        wrat_ref = data[:, findfirst(x -> x == \"$well_name:wrat\", vec(header))]\n",
    "        tot_rate_ref = grat_ref + orat_ref + wrat_ref\n",
    "        @. qoi_ref[tot_rate_ref == 0] = NaN\n",
    "        crange = (1, max(length(well_names), 2))\n",
    "        lh = lines!(ax, time_jutul./day, abs.(qoi),\n",
    "            color = i,\n",
    "            colorrange = crange,\n",
    "            label = \"$well_name\", colormap = cmap\n",
    "        )\n",
    "        push!(linehandles, lh)\n",
    "        push!(linelabels, \"$well_name\")\n",
    "        lines!(ax, time_ref./day, abs.(qoi_ref),\n",
    "            color = i,\n",
    "            colorrange = crange,\n",
    "            linestyle = :dash,\n",
    "            colormap = cmap\n",
    "        )\n",
    "        i += 1\n",
    "    end\n",
    "    l1 = LineElement(color = :black, linestyle = nothing)\n",
    "    l2 = LineElement(color = :black, linestyle = :dash)\n",
    "\n",
    "    Legend(fig[1:3, 2], linehandles, linelabels, nbanks = 3)\n",
    "    Legend(fig[4, 2], [l1, l2], [\"JutulDarcy.jl\", \"E100\"])\n",
    "    fig\n",
    "end"
   ],
   "metadata": {},
   "execution_count": null
  },
  {
   "cell_type": "markdown",
   "source": [
    "## Producer BHP"
   ],
   "metadata": {}
  },
  {
   "outputs": [],
   "cell_type": "code",
   "source": [
    "plot_well_comparison(:bhp, prod, \"Bottom hole pressure\")"
   ],
   "metadata": {},
   "execution_count": null
  },
  {
   "cell_type": "markdown",
   "source": [
    "## Producer water rate"
   ],
   "metadata": {}
  },
  {
   "outputs": [],
   "cell_type": "code",
   "source": [
    "plot_well_comparison(:wrat, prod, \"Water surface rate\")"
   ],
   "metadata": {},
   "execution_count": null
  },
  {
   "cell_type": "markdown",
   "source": [
    "## Injector water rate"
   ],
   "metadata": {}
  },
  {
   "outputs": [],
   "cell_type": "code",
   "source": [
    "plot_well_comparison(:wrat, inj, \"Water surface rate\")"
   ],
   "metadata": {},
   "execution_count": null
  },
  {
   "cell_type": "markdown",
   "source": [
    "## Oil produciton rate"
   ],
   "metadata": {}
  },
  {
   "outputs": [],
   "cell_type": "code",
   "source": [
    "plot_well_comparison(:orat, prod, \"Oil surface rate\")"
   ],
   "metadata": {},
   "execution_count": null
  },
  {
   "cell_type": "markdown",
   "source": [
    "---\n",
    "\n",
    "*This notebook was generated using [Literate.jl](https://github.com/fredrikekre/Literate.jl).*"
   ],
   "metadata": {}
  }
 ],
 "nbformat_minor": 3,
 "metadata": {
  "language_info": {
   "file_extension": ".jl",
   "mimetype": "application/julia",
   "name": "julia",
   "version": "1.11.0"
  },
  "kernelspec": {
   "name": "julia-1.11",
   "display_name": "Julia 1.11.0",
   "language": "julia"
  }
 },
 "nbformat": 4
}
