{
 "cells": [
  {
   "cell_type": "markdown",
   "source": [
    "# Consistent discretizations: Average MPFA and nonlinear TPFA\n",
    "This example demonstrates how to use alternative discretizations for the\n",
    "pressure gradient term in the Darcy equation, i.e. the approximation of the\n",
    "Darcy flux:\n",
    "\n",
    "$\\mathbf{}{K}(\\nabla p + \\rho g \\Delta z)$.\n",
    "\n",
    "It is well-known that for certain combinations of grid geometry and\n",
    "permeability fields, the classical two-point flux approximation scheme can\n",
    "give incorrect results. This is due to the fact that the TPFA scheme is not a\n",
    "formally consistent method when the product of the permeability tensor and the\n",
    "normal vector does not align with the cell-to-cell vectors over a face (lack\n",
    "of K-orthogonality).\n",
    "\n",
    "In such cases, it is often beneficial to use a consistent discretization.\n",
    "JutulDarcy includes a class of linear and nonlinear schemes that are designed\n",
    "to be accurate even for challenging grids.\n",
    "\n",
    "For further details on this class of methods, which differ a bit from the\n",
    "classical MPFA-O type method often seen in the literature, see\n",
    "[schneider_nonlinear](@cite), [zhang_nonlinear](@cite) and\n",
    "[raynaud_discretization](@cite)."
   ],
   "metadata": {}
  },
  {
   "cell_type": "markdown",
   "source": [
    "## Define a mesh and twist the nodes\n",
    "This makes the mesh non K-orthogonal and will lead to wrong solutions for the\n",
    "default TPFA scheme."
   ],
   "metadata": {}
  },
  {
   "outputs": [],
   "cell_type": "code",
   "source": [
    "using Jutul\n",
    "using JutulDarcy\n",
    "using LinearAlgebra\n",
    "using GLMakie\n",
    "\n",
    "sys = SinglePhaseSystem()\n",
    "nx = nz = 100\n",
    "pdims = (1.0, 1.0)\n",
    "g = CartesianMesh((nx, nz), pdims)\n",
    "\n",
    "g = UnstructuredMesh(g)\n",
    "D = dim(g)\n",
    "\n",
    "v = 0.1\n",
    "for i in eachindex(g.node_points)\n",
    "    x, y = g.node_points[i]\n",
    "    shiftx =  v*sin(π*x)*sin(3*(-π/2 + π*y))\n",
    "    shifty =  v*sin(π*y)*sin(3*(-π/2 + π*x))\n",
    "    g.node_points[i] += [shiftx, shifty]\n",
    "end\n",
    "\n",
    "nc = number_of_cells(g)\n",
    "domain = reservoir_domain(g, permeability = 0.1*si_unit(:darcy))\n",
    "\n",
    "fig = Figure()\n",
    "Jutul.plot_mesh_edges!(Axis(fig[1, 1]), g)\n",
    "fig"
   ],
   "metadata": {},
   "execution_count": null
  },
  {
   "cell_type": "markdown",
   "source": [
    "## Create a test problem function\n",
    "We set up a problem for our given domain with left and right boundary boundary\n",
    "conditions that correspond to a linear pressure drop. We can expect the\n",
    "steady-state pressure solution to be linear between the two faces as there is\n",
    "no variation in permeability or significant compressibility. The function will\n",
    "return the pressure solution at the end of the simulation for a given scheme."
   ],
   "metadata": {}
  },
  {
   "outputs": [],
   "cell_type": "code",
   "source": [
    "function solve_test_problem(scheme)\n",
    "    model, parameters = setup_reservoir_model(domain, sys,\n",
    "        general_ad = true,\n",
    "        kgrad = scheme,\n",
    "        block_backend = false\n",
    "    )\n",
    "    state0 = setup_reservoir_state(model, Pressure = 1e5)\n",
    "    nc = number_of_cells(g)\n",
    "    bcells = Int64[]\n",
    "    bpres = Float64[]\n",
    "    for k in 1:nz\n",
    "        bnd_l = Jutul.cell_index(g, (1, k))\n",
    "        bnd_r = Jutul.cell_index(g, (nx, k))\n",
    "        push!(bcells, bnd_l)\n",
    "        push!(bpres, 1e5)\n",
    "        push!(bcells, bnd_r)\n",
    "        push!(bpres, 2e5)\n",
    "    end\n",
    "    bc = flow_boundary_condition(bcells, domain, bpres)\n",
    "    forces = setup_reservoir_forces(model, bc = bc)\n",
    "\n",
    "    dt = [si_unit(:day)]\n",
    "    _, states = simulate_reservoir(state0, model, dt,\n",
    "        forces = forces, failure_cuts_timestep = false,\n",
    "        tol_cnv = 1e-6,\n",
    "        linear_solver = GenericKrylov(preconditioner = AMGPreconditioner(:smoothed_aggregation), rtol = 1e-6)\n",
    "        )\n",
    "    return states[end][:Pressure]\n",
    "end"
   ],
   "metadata": {},
   "execution_count": null
  },
  {
   "cell_type": "markdown",
   "source": [
    "## Solve the test problem with three different schemes\n",
    "- TPFA (two-point flux approximation, inconsistent, linear)\n",
    "- Average MPFA (consistent, linear)\n",
    "- NTPFA (nonlinear two-point flux approximation, consistent, nonlinear)"
   ],
   "metadata": {}
  },
  {
   "outputs": [],
   "cell_type": "code",
   "source": [
    "results = Dict()\n",
    "for m in [:tpfa, :avgmpfa, :ntpfa]\n",
    "    println(\"Solving $m\")\n",
    "    results[m] = solve_test_problem(m);\n",
    "end"
   ],
   "metadata": {},
   "execution_count": null
  },
  {
   "cell_type": "markdown",
   "source": [
    "## Plot the results\n",
    "We plot the pressure solution for each of the schemes, as well as the error.\n",
    "Note that the color axis varies between error plots. As the grid is quite\n",
    "skewed, we observe significant errors for the TPFA scheme, with no significant\n",
    "error for the consistent schemes."
   ],
   "metadata": {}
  },
  {
   "outputs": [],
   "cell_type": "code",
   "source": [
    "x = domain[:cell_centroids][1, :]\n",
    "get_ref(x) = x*1e5 + 1e5\n",
    "x_distinct = sort(unique(x))\n",
    "sol = get_ref.(x_distinct)\n",
    "\n",
    "fig = Figure(size = (1200, 600))\n",
    "for (i, (m, s)) in enumerate(results)\n",
    "    ref = get_ref.(x)\n",
    "    err = norm(s .- ref)/norm(ref)\n",
    "\n",
    "    ax = Axis(fig[1, i], title = \"$m\")\n",
    "    lines!(ax, x_distinct, sol, color = :red)\n",
    "    scatter!(ax, x, s, label = m, markersize = 1, alpha = 0.5, transparency = true)\n",
    "\n",
    "    ax2 = Axis(fig[2, i], title = \"Error=$err\")\n",
    "    Δ = s - ref\n",
    "    emin, emax = extrema(Δ)\n",
    "    largest = max(abs(emin), abs(emax))\n",
    "    crange = (-largest, largest)\n",
    "    plt = plot_cell_data!(ax2, g, Δ, colorrange = crange, colormap = :seismic)\n",
    "    Colorbar(fig[3, i], plt, vertical = false)\n",
    "end\n",
    "fig"
   ],
   "metadata": {},
   "execution_count": null
  },
  {
   "cell_type": "markdown",
   "source": [
    "---\n",
    "\n",
    "*This notebook was generated using [Literate.jl](https://github.com/fredrikekre/Literate.jl).*"
   ],
   "metadata": {}
  }
 ],
 "nbformat_minor": 3,
 "metadata": {
  "language_info": {
   "file_extension": ".jl",
   "mimetype": "application/julia",
   "name": "julia",
   "version": "1.11.1"
  },
  "kernelspec": {
   "name": "julia-1.11",
   "display_name": "Julia 1.11.1",
   "language": "julia"
  }
 },
 "nbformat": 4
}
