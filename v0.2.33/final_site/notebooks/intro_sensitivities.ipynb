{
 "cells": [
  {
   "cell_type": "markdown",
   "source": [
    "# Intro to sensitivities in JutulDarcy\n",
    "Sensitivites with respect to custom parameters: We demonstrate how to set up a\n",
    "simple conceptual model, add new parameters and variable definitions in the\n",
    "form of a new relative permeability function, and calculate and visualize\n",
    "parameter sensitivities.\n",
    "\n",
    "We first set up a quarter-five-spot model where the domain is flooded from\n",
    "left to right. Some cells have lower permeability to impede flow and make the\n",
    "scenario more interesting.\n",
    "\n",
    "For more details, see the paper [JutulDarcy.jl - a Fully Differentiable\n",
    "High-Performance Reservoir Simulator Based on Automatic\n",
    "Differentiation](https://doi.org/10.3997/2214-4609.202437111)."
   ],
   "metadata": {}
  },
  {
   "outputs": [],
   "cell_type": "code",
   "source": [
    "using Jutul, JutulDarcy, GLMakie, HYPRE\n",
    "darcy, kg, meter, year, day, bar = si_units(:darcy, :kilogram, :meter, :year, :day, :bar)\n",
    "\n",
    "L = 1000.0meter\n",
    "H = 100.0meter\n",
    "big = false # Paper uses big, takes some more time to run\n",
    "if big\n",
    "    nx = 500\n",
    "else\n",
    "    nx = 100\n",
    "end\n",
    "dx = L/nx\n",
    "\n",
    "g = CartesianMesh((nx, nx, 1), (L, L, H))\n",
    "nc = number_of_cells(g)\n",
    "perm = fill(0.1darcy, nc)\n",
    "\n",
    "reservoir = reservoir_domain(g, permeability = 0.1darcy)\n",
    "centroids = reservoir[:cell_centroids]\n",
    "rock_type = fill(1, nc)\n",
    "for (i, x, y) in zip(eachindex(perm), centroids[1, :], centroids[2, :])\n",
    "    xseg = (x > 0.2L) & (x < 0.8L) & (y > 0.75L) & (y < 0.8L)\n",
    "    yseg = (y > 0.2L) & (y < 0.8L) & (x > 0.75L) & (x < 0.8L)\n",
    "    if xseg || yseg\n",
    "        rock_type[i] = 2\n",
    "    end\n",
    "    xseg = (x > 0.2L) & (x < 0.55L) & (y > 0.50L) & (y < 0.55L)\n",
    "    yseg = (y > 0.2L) & (y < 0.55L) & (x > 0.50L) & (x < 0.55L)\n",
    "    if xseg || yseg\n",
    "        rock_type[i] = 3\n",
    "    end\n",
    "    xseg = (x > 0.2L) & (x < 0.3L) & (y > 0.25L) & (y < 0.3L)\n",
    "    yseg = (y > 0.2L) & (y < 0.3L) & (x > 0.25L) & (x < 0.3L)\n",
    "    if xseg || yseg\n",
    "        rock_type[i] = 4\n",
    "    end\n",
    "end\n",
    "\n",
    "perm = reservoir[:permeability]\n",
    "@. perm[rock_type == 2] = 0.001darcy\n",
    "@. perm[rock_type == 3] = 0.005darcy\n",
    "@. perm[rock_type == 4] = 0.01darcy\n",
    "\n",
    "I = setup_vertical_well(reservoir, 1, 1, name = :Injector)\n",
    "P = setup_vertical_well(reservoir, nx, nx, name = :Producer)\n",
    "\n",
    "phases = (AqueousPhase(), VaporPhase())\n",
    "rhoWS, rhoGS = 1000.0kg/meter^3, 700.0kg/meter^3\n",
    "system = ImmiscibleSystem(phases, reference_densities = (rhoWS, rhoGS))\n",
    "\n",
    "model, = setup_reservoir_model(reservoir, system, wells = [I, P])\n",
    "rmodel = reservoir_model(model)"
   ],
   "metadata": {},
   "execution_count": null
  },
  {
   "cell_type": "markdown",
   "source": [
    "## Plot the initial variable graph\n",
    "We plot the default variable graph that describes how the different variables\n",
    "relate to each other. When we add a new parameter and property in the next\n",
    "section, the graph is automatically modified."
   ],
   "metadata": {}
  },
  {
   "outputs": [],
   "cell_type": "code",
   "source": [
    "using NetworkLayout, LayeredLayouts, GraphMakie\n",
    "Jutul.plot_variable_graph(rmodel)"
   ],
   "metadata": {},
   "execution_count": null
  },
  {
   "cell_type": "markdown",
   "source": [
    "## Change the variables\n",
    "We replace the density variable with a more compressible version, and we also\n",
    "define a new relative permeability variable that depends on a new parameter\n",
    "`KrExponents` to define the exponent of the relative permeability in each cell\n",
    "and phase of the model.\n",
    "\n",
    "This is done through several steps:\n",
    "  1. First, we define the type\n",
    "  2. We define functions that act on that type, in particular the update\n",
    "     function that is used to evaluate the new relative permeability during\n",
    "     the simulation for named inputs `Saturations` and `KrExponents`.\n",
    "  3. We define the `KrExponents` as a model parameter with a default value,\n",
    "     that can subsequently be used by the relative permeability.\n",
    "\n",
    "Finally we plot the variable graph again to verify that the new relationship\n",
    "has been included in our model."
   ],
   "metadata": {}
  },
  {
   "outputs": [],
   "cell_type": "code",
   "source": [
    "c = [1e-6/bar, 1e-4/bar]\n",
    "density = ConstantCompressibilityDensities(p_ref = 1*bar, density_ref = [rhoWS, rhoGS], compressibility = c)\n",
    "replace_variables!(rmodel, PhaseMassDensities = density);\n",
    "\n",
    "import JutulDarcy: AbstractRelativePermeabilities, PhaseVariables\n",
    "struct MyKr <: AbstractRelativePermeabilities end\n",
    "@jutul_secondary function update_my_kr!(vals, def::MyKr, model, Saturations, KrExponents, cells_to_update)\n",
    "    for c in cells_to_update\n",
    "        for ph in axes(vals, 1)\n",
    "            S_α = max(Saturations[ph, c], 0.0)\n",
    "            n_α = KrExponents[ph, c]\n",
    "            vals[ph, c] = S_α^n_α\n",
    "        end\n",
    "    end\n",
    "end\n",
    "struct MyKrExp <: PhaseVariables end\n",
    "Jutul.default_value(model, ::MyKrExp) = 2.0\n",
    "set_parameters!(rmodel, KrExponents = MyKrExp())\n",
    "replace_variables!(rmodel, RelativePermeabilities = MyKr());\n",
    "Jutul.plot_variable_graph(rmodel)"
   ],
   "metadata": {},
   "execution_count": null
  },
  {
   "cell_type": "markdown",
   "source": [
    "## Set up scenario and simulate"
   ],
   "metadata": {}
  },
  {
   "outputs": [],
   "cell_type": "code",
   "source": [
    "parameters = setup_parameters(model)\n",
    "exponents = parameters[:Reservoir][:KrExponents]\n",
    "for (cell, rtype) in enumerate(rock_type)\n",
    "    if rtype == 1\n",
    "        exp_w = 2\n",
    "        exp_g = 3\n",
    "    else\n",
    "        exp_w = 1\n",
    "        exp_g = 2\n",
    "    end\n",
    "    exponents[1, cell] = exp_w\n",
    "    exponents[2, cell] = exp_g\n",
    "end\n",
    "\n",
    "pv = pore_volume(model, parameters)\n",
    "state0 = setup_reservoir_state(model, Pressure = 150*bar, Saturations = [1.0, 0.0])\n",
    "\n",
    "dt = repeat([30.0]*day, 12*5)\n",
    "pv = pore_volume(model, parameters)\n",
    "total_time = sum(dt)\n",
    "inj_rate = sum(pv)/total_time\n",
    "\n",
    "rate_target = TotalRateTarget(inj_rate)\n",
    "I_ctrl = InjectorControl(rate_target, [0.0, 1.0], density = rhoGS)\n",
    "bhp_target = BottomHolePressureTarget(50*bar)\n",
    "P_ctrl = ProducerControl(bhp_target)\n",
    "controls = Dict()\n",
    "controls[:Injector] = I_ctrl\n",
    "controls[:Producer] = P_ctrl\n",
    "\n",
    "forces = setup_reservoir_forces(model, control = controls)\n",
    "case = JutulCase(model, dt, forces, parameters = parameters, state0 = state0)\n",
    "result = simulate_reservoir(case, output_substates = true);\n",
    "#\n",
    "ws, states = result\n",
    "ws(:Producer, :grat)"
   ],
   "metadata": {},
   "execution_count": null
  },
  {
   "cell_type": "markdown",
   "source": [
    "## Define objective function\n",
    "We let the objective function be the amount produced of produced gas,\n",
    "normalized by the injected amount."
   ],
   "metadata": {}
  },
  {
   "outputs": [],
   "cell_type": "code",
   "source": [
    "using GLMakie\n",
    "function objective_function(model, state, Δt, step_i, forces)\n",
    "    grat = JutulDarcy.compute_well_qoi(model, state, forces, :Producer, SurfaceGasRateTarget)\n",
    "    return Δt*grat/(inj_rate*total_time)\n",
    "end\n",
    "data_domain_with_gradients = JutulDarcy.reservoir_sensitivities(case, result, objective_function, include_parameters = true)"
   ],
   "metadata": {},
   "execution_count": null
  },
  {
   "cell_type": "markdown",
   "source": [
    "## Launch interactive plotter for cell-wise gradients"
   ],
   "metadata": {}
  },
  {
   "outputs": [],
   "cell_type": "code",
   "source": [
    "plot_reservoir(data_domain_with_gradients)"
   ],
   "metadata": {},
   "execution_count": null
  },
  {
   "cell_type": "markdown",
   "source": [
    "## Set up plotting functions"
   ],
   "metadata": {}
  },
  {
   "outputs": [],
   "cell_type": "code",
   "source": [
    "∂K = data_domain_with_gradients[:permeability]\n",
    "∂ϕ = data_domain_with_gradients[:porosity]\n",
    "\n",
    "function get_cscale(x)\n",
    "    minv0, maxv0 = extrema(x)\n",
    "    minv = min(minv0, -maxv0)\n",
    "    maxv = max(maxv0, -minv0)\n",
    "    return (minv, maxv)\n",
    "end\n",
    "\n",
    "function myplot(title, vals; kwarg...)\n",
    "    fig = Figure()\n",
    "    myplot!(fig, 1, 1, title, vals; kwarg...)\n",
    "    return fig\n",
    "end\n",
    "\n",
    "function myplot!(fig, I, J, title, vals; is_grad = false, is_log = false, colorrange = missing, contourplot = false, nticks = 5, ticks = missing, colorbar = true, kwarg...)\n",
    "    ax = Axis(fig[I, J], title = title)\n",
    "\n",
    "    if is_grad\n",
    "        if ismissing(colorrange)\n",
    "            colorrange = get_cscale(vals)\n",
    "        end\n",
    "        cmap = :seismic\n",
    "    else\n",
    "        if ismissing(colorrange)\n",
    "            colorrange = extrema(vals)\n",
    "        end\n",
    "        cmap = :seaborn_icefire_gradient\n",
    "    end\n",
    "    hidedecorations!(ax)\n",
    "    hidespines!(ax)\n",
    "    arg = (; colormap = cmap, colorrange = colorrange, kwarg...)\n",
    "    plt = plot_cell_data!(ax, g, vals; shading = NoShading, arg...)\n",
    "    if colorbar\n",
    "        if ismissing(ticks)\n",
    "            ticks = range(colorrange..., nticks)\n",
    "        end\n",
    "        Colorbar(fig[I, J+1], plt, ticks = ticks, ticklabelsize = 25, size = 25)\n",
    "    end\n",
    "    return fig\n",
    "end"
   ],
   "metadata": {},
   "execution_count": null
  },
  {
   "cell_type": "markdown",
   "source": [
    "## Plot the permeability"
   ],
   "metadata": {}
  },
  {
   "outputs": [],
   "cell_type": "code",
   "source": [
    "myplot(\"Permeability\", perm./darcy, colorscale = log10, ticks = [0.001, 0.01, 0.1])"
   ],
   "metadata": {},
   "execution_count": null
  },
  {
   "cell_type": "markdown",
   "source": [
    "## Plot the evolution of the gas saturation"
   ],
   "metadata": {}
  },
  {
   "outputs": [],
   "cell_type": "code",
   "source": [
    "fig = Figure(size = (1200, 400))\n",
    "sg = states[25][:Saturations][2, :]\n",
    "myplot!(fig, 1, 1, \"Gas saturation\", sg, colorrange = (0, 1), colorbar = false)\n",
    "sg = states[70][:Saturations][2, :]\n",
    "myplot!(fig, 1, 2, \"Gas saturation\", sg, colorrange = (0, 1), colorbar = false)\n",
    "sg = states[end][:Saturations][2, :]\n",
    "myplot!(fig, 1, 3, \"Gas saturation\", sg, colorrange = (0, 1))\n",
    "fig\n",
    "# ## Plot the sensitivity of the objective with respect to permeability\n",
    "if big\n",
    "    cr = (-0.001, 0.001)\n",
    "    cticks = [-0.001, -0.0005, 0.0005, 0.001]\n",
    "else\n",
    "    cr = (-0.05, 0.05)\n",
    "    cticks = [-0.05, -0.025, 0, 0.025, 0.05]\n",
    "end\n",
    "\n",
    "myplot(\"perm_sens\", ∂K.*darcy, is_grad = true, ticks = cticks, colorrange = cr)\n",
    "# ## Plot the sensitivity of the objective with respect to porosity\n",
    "if big\n",
    "    cr = (-0.00001, 0.00001)\n",
    "else\n",
    "    cr = (-0.00025, 0.00025)\n",
    "end\n",
    "myplot(\"porosity_sens\", ∂ϕ, is_grad = true, colorrange = cr)\n",
    "#\n",
    "∂xyz = data_domain_with_gradients[:cell_centroids]\n",
    "∂x = ∂xyz[1, :]\n",
    "∂y = ∂xyz[2, :]\n",
    "∂z = ∂xyz[3, :]\n",
    "#\n",
    "if big\n",
    "    cr = [-1e-8, 1e-8]\n",
    "else\n",
    "    cr = [-1e-7, 1e-7]\n",
    "end"
   ],
   "metadata": {},
   "execution_count": null
  },
  {
   "cell_type": "markdown",
   "source": [
    "## Plot the sensitivity of the objective with respect to x cell centroids"
   ],
   "metadata": {}
  },
  {
   "outputs": [],
   "cell_type": "code",
   "source": [
    "myplot(\"dx_sens\", ∂x, is_grad = true, colorrange = cr)"
   ],
   "metadata": {},
   "execution_count": null
  },
  {
   "cell_type": "markdown",
   "source": [
    "## Plot the sensitivity of the objective with respect to y cell centroids"
   ],
   "metadata": {}
  },
  {
   "outputs": [],
   "cell_type": "code",
   "source": [
    "myplot(\"dy_sens\", ∂y, is_grad = true, colorrange = cr)"
   ],
   "metadata": {},
   "execution_count": null
  },
  {
   "cell_type": "markdown",
   "source": [
    "## Plot the sensitivity of the objective with respect to z cell centroids\n",
    "Note: The effect here is primarily coming from gravity."
   ],
   "metadata": {}
  },
  {
   "outputs": [],
   "cell_type": "code",
   "source": [
    "myplot(\"dz_sens\", ∂z, is_grad = true, colorrange = cr)"
   ],
   "metadata": {},
   "execution_count": null
  },
  {
   "cell_type": "markdown",
   "source": [
    "## Plot the effect of the new liquid kr exponent on the gas production"
   ],
   "metadata": {}
  },
  {
   "outputs": [],
   "cell_type": "code",
   "source": [
    "if big\n",
    "    cr = [-1e-7, 1e-7]\n",
    "else\n",
    "    cr = [-8e-6, 8e-6]\n",
    "end\n",
    "\n",
    "kre = data_domain_with_gradients[:KrExponents]\n",
    "exp_l = kre[1, :]\n",
    "myplot(\"exp_liquid\", exp_l, is_grad = true, colorrange = cr)"
   ],
   "metadata": {},
   "execution_count": null
  },
  {
   "cell_type": "markdown",
   "source": [
    "## Plot the effect of the new vapor kr exponent on the gas production"
   ],
   "metadata": {}
  },
  {
   "outputs": [],
   "cell_type": "code",
   "source": [
    "exp_v = kre[2, :]\n",
    "myplot(\"exp_vapor\", exp_v, is_grad = true, colorrange = cr)"
   ],
   "metadata": {},
   "execution_count": null
  },
  {
   "cell_type": "markdown",
   "source": [
    "## Plot the effect of the liquid phase viscosity\n",
    "Note: The viscosity can in many models be a variable and not a parameter. For\n",
    "this simple model, however, it is treated as a parameter and we obtain sensitivities."
   ],
   "metadata": {}
  },
  {
   "outputs": [],
   "cell_type": "code",
   "source": [
    "mu = data_domain_with_gradients[:PhaseViscosities]\n",
    "if big\n",
    "    cr = [-0.001, 0.001]\n",
    "else\n",
    "    cr = [-0.01, 0.01]\n",
    "end\n",
    "mu_l = mu[1, :]\n",
    "myplot(\"mu_liquid\", mu_l, is_grad = true, colorrange = cr)"
   ],
   "metadata": {},
   "execution_count": null
  },
  {
   "cell_type": "markdown",
   "source": [
    "## Plot the effect of the liquid phase viscosity"
   ],
   "metadata": {}
  },
  {
   "outputs": [],
   "cell_type": "code",
   "source": [
    "mu_v = mu[2, :]\n",
    "myplot(\"mu_vapor\", mu_v, is_grad = true, colorrange = cr)"
   ],
   "metadata": {},
   "execution_count": null
  },
  {
   "cell_type": "markdown",
   "source": [
    "---\n",
    "\n",
    "*This notebook was generated using [Literate.jl](https://github.com/fredrikekre/Literate.jl).*"
   ],
   "metadata": {}
  }
 ],
 "nbformat_minor": 3,
 "metadata": {
  "language_info": {
   "file_extension": ".jl",
   "mimetype": "application/julia",
   "name": "julia",
   "version": "1.10.5"
  },
  "kernelspec": {
   "name": "julia-1.10",
   "display_name": "Julia 1.10.5",
   "language": "julia"
  }
 },
 "nbformat": 4
}
