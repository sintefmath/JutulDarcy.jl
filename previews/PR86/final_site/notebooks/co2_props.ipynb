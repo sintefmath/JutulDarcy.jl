{
 "cells": [
  {
   "cell_type": "markdown",
   "source": [
    "# CO2-brine correlations with salinity\n",
    "JutulDarcy includes a set of pre-generated tables for simulation of CO2\n",
    "storage in saline aquifers, as well as functions for calculating PVT and\n",
    "solubility properties of CO2-brine mixtures with varying degrees of salinity.\n",
    "\n",
    "For more details on the property calculations used herein, please see the\n",
    "paper [Three-dimensional simulation of geologic carbon dioxide sequestration\n",
    "using MRST by L. Saló et al (2024)](https://doi.org/10.46690/ager.2024.10.06).\n",
    "\n",
    "This example demonstrates how to plot the properties, and does a basic\n",
    "comparison of how the properties change when the aqueous phase has salts\n",
    "added."
   ],
   "metadata": {}
  },
  {
   "outputs": [],
   "cell_type": "code",
   "source": [
    "using Jutul, JutulDarcy, GLMakie\n",
    "import JutulDarcy.CO2Properties: co2_brine_property_tables"
   ],
   "metadata": {},
   "execution_count": null
  },
  {
   "cell_type": "markdown",
   "source": [
    "## Define plotting functions\n",
    "We define a plotting function that varies temperature, and one that compares\n",
    "the same property with and without salts for a given temperature."
   ],
   "metadata": {}
  },
  {
   "outputs": [],
   "cell_type": "code",
   "source": [
    "T = [20.0, 40.0, 60.0, 80.0, 100.0]\n",
    "p = range(5, 300, 100)\n",
    "\n",
    "function plot_property(prop, tab, component, title = \"\")\n",
    "    trans = x -> x\n",
    "    if prop == :viscosity\n",
    "        u = \"(Pa s)\"\n",
    "    elseif prop == :density\n",
    "        u = \"(kg/m^3)\"\n",
    "    elseif prop == :K\n",
    "        u = \" (log10)\"\n",
    "        trans = log10\n",
    "    else\n",
    "        u = \"\"\n",
    "    end\n",
    "    is_h2o = component == :H2O\n",
    "    fig = Figure(size = (800, 600))\n",
    "    ax = Axis(fig[1, 1], title = title, xlabel = \"Pressure (bar)\", ylabel = \"$component $prop $u\")\n",
    "\n",
    "    F = tab[prop]\n",
    "    if prop == :K\n",
    "        F = F.K\n",
    "    end\n",
    "    for (i, T_i) in enumerate(T)\n",
    "        val = F.(convert_to_si(p, :bar), T_i + 273.15)\n",
    "        if is_h2o\n",
    "            val = map(first, val)\n",
    "        else\n",
    "            val = map(last, val)\n",
    "        end\n",
    "        lines!(ax, p, trans.(val), label = \"T=$(T_i) °C\",\n",
    "            colormap = :hot,\n",
    "            color = i,\n",
    "            colorrange = (1, length(T)+3),\n",
    "            linewidth = 2,\n",
    "        )\n",
    "    end\n",
    "    axislegend(position = :lt, orientation = :horizontal)\n",
    "    fig\n",
    "end\n",
    "\n",
    "function plot_brine_comparison(prop, T, tab1, tab2, component, title = \"\")\n",
    "    trans = x -> x\n",
    "    if prop == :viscosity\n",
    "        u = \"(Pa s)\"\n",
    "    elseif prop == :density\n",
    "        u = \"(kg/m^3)\"\n",
    "    elseif prop == :K\n",
    "        u = \"\"\n",
    "        u = \" (log10)\"\n",
    "        trans = log10\n",
    "    else\n",
    "        u = \"\"\n",
    "    end\n",
    "    is_h2o = component == :H2O\n",
    "    fig = Figure(size = (800, 600))\n",
    "    ax = Axis(fig[1, 1], title = title, xlabel = \"Pressure (bar)\", ylabel = \"$component $prop $u\")\n",
    "\n",
    "    pbar = convert_to_si.(p, :bar)\n",
    "\n",
    "    F1 = tab1[prop]\n",
    "    F2 = tab2[prop]\n",
    "    if prop == :K\n",
    "        F1 = F1.K\n",
    "        F2 = F2.K\n",
    "    end\n",
    "    val1 = F1.(pbar, T + 273.15)\n",
    "    val2 = F2.(pbar, T + 273.15)\n",
    "\n",
    "    if is_h2o\n",
    "        val1 = map(first, val1)\n",
    "        val2 = map(first, val2)\n",
    "    else\n",
    "        val1 = map(last, val1)\n",
    "        val2 = map(last, val2)\n",
    "    end\n",
    "    lines!(ax, trans.(val1), label = \"Water\",\n",
    "        linewidth = 2,\n",
    "    )\n",
    "    lines!(ax, trans.(val2), label = \"Brine\",\n",
    "        linewidth = 2,\n",
    "    )\n",
    "    axislegend(position = :lt, orientation = :horizontal)\n",
    "    fig\n",
    "end"
   ],
   "metadata": {},
   "execution_count": null
  },
  {
   "cell_type": "markdown",
   "source": [
    "## Generate tables\n",
    "We get tables for a wide pressure and temperature range. The first set of\n",
    "tables assumes no salts, and the second set of tables uses specified molar\n",
    "fractions of salts in the aqueous phase."
   ],
   "metadata": {}
  },
  {
   "outputs": [],
   "cell_type": "code",
   "source": [
    "tab_water = co2_brine_property_tables()\n",
    "tab_brine = co2_brine_property_tables(\n",
    "    salt_names = [\"NaCl\", \"KCl\"],\n",
    "    salt_mole_fractions = [0.05, 0.01]\n",
    ")"
   ],
   "metadata": {},
   "execution_count": null
  },
  {
   "cell_type": "markdown",
   "source": [
    "## Plot aqueous mass density"
   ],
   "metadata": {}
  },
  {
   "outputs": [],
   "cell_type": "code",
   "source": [
    "plot_property(:density, tab_water, :H2O, \"Pure phase density, no salts\")"
   ],
   "metadata": {},
   "execution_count": null
  },
  {
   "cell_type": "markdown",
   "source": [
    "## Plot gaseous mass density"
   ],
   "metadata": {}
  },
  {
   "outputs": [],
   "cell_type": "code",
   "source": [
    "plot_property(:density, tab_water, :CO2, \"Pure phase density, no salts\")"
   ],
   "metadata": {},
   "execution_count": null
  },
  {
   "cell_type": "markdown",
   "source": [
    "## Plot aqueous viscosity"
   ],
   "metadata": {}
  },
  {
   "outputs": [],
   "cell_type": "code",
   "source": [
    "plot_property(:viscosity, tab_water, :H2O, \"Pure phase viscosity, no salts\")"
   ],
   "metadata": {},
   "execution_count": null
  },
  {
   "cell_type": "markdown",
   "source": [
    "## Plot gaseous viscosity"
   ],
   "metadata": {}
  },
  {
   "outputs": [],
   "cell_type": "code",
   "source": [
    "plot_property(:viscosity, tab_water, :CO2, \"Pure phase viscosity, no salts\")"
   ],
   "metadata": {},
   "execution_count": null
  },
  {
   "cell_type": "markdown",
   "source": [
    "## Plot K-value of CO2\n",
    "The K value defines the ratio between liquid and vapor phases at equilibrium\n",
    "conditions and is closely related to solubility. For a component we relate the\n",
    "liquid mass fraction $x_i$ to the vapor mole fraction $y_i$ of that\n",
    "component by the K-value $K_i$:\n",
    "\n",
    "$y_i = K_i(p, T) x_i$"
   ],
   "metadata": {}
  },
  {
   "outputs": [],
   "cell_type": "code",
   "source": [
    "plot_property(:K, tab_water, :CO2, \"K value of CO2 component in aqueous phase, no salts\")"
   ],
   "metadata": {},
   "execution_count": null
  },
  {
   "cell_type": "markdown",
   "source": [
    "## Compare K value with and without salts"
   ],
   "metadata": {}
  },
  {
   "outputs": [],
   "cell_type": "code",
   "source": [
    "plot_brine_comparison(:K, 30.0, tab_water, tab_brine, :CO2, \"K value of CO2 component in aqueous phase\")"
   ],
   "metadata": {},
   "execution_count": null
  },
  {
   "cell_type": "markdown",
   "source": [
    "## Compare density with and without salts"
   ],
   "metadata": {}
  },
  {
   "outputs": [],
   "cell_type": "code",
   "source": [
    "plot_brine_comparison(:density, 30.0, tab_water, tab_brine, :H2O, \"Pure phase density\")"
   ],
   "metadata": {},
   "execution_count": null
  },
  {
   "cell_type": "markdown",
   "source": [
    "---\n",
    "\n",
    "*This notebook was generated using [Literate.jl](https://github.com/fredrikekre/Literate.jl).*"
   ],
   "metadata": {}
  }
 ],
 "nbformat_minor": 3,
 "metadata": {
  "language_info": {
   "file_extension": ".jl",
   "mimetype": "application/julia",
   "name": "julia",
   "version": "1.11.2"
  },
  "kernelspec": {
   "name": "julia-1.11",
   "display_name": "Julia 1.11.2",
   "language": "julia"
  }
 },
 "nbformat": 4
}
