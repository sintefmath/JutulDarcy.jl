{
 "cells": [
  {
   "cell_type": "markdown",
   "source": [
    "# Adding tracers to a flow simulation\n",
    "JutulDarcy supports tracers, which are concentrations that flow in one or more\n",
    "phases. These tracers can be passive, or they can be active and change the\n",
    "properties.\n",
    "\n",
    "This example demonstrates passive tracers for a simple model with two\n",
    "injectors. We will add a different type of tracer to each injector so that we\n",
    "can show what region of the reservoir is being flooded by each injector.\n",
    "## Set up mesh and identify the well cells"
   ],
   "metadata": {}
  },
  {
   "outputs": [],
   "cell_type": "code",
   "source": [
    "using Jutul, JutulDarcy, GLMakie\n",
    "Darcy, kg, meter, day, bar = si_units(:darcy, :kg, :meter, :day, :bar)\n",
    "ny = 20\n",
    "nx = 2*ny + 1\n",
    "nz = 1\n",
    "\n",
    "g = CartesianMesh((nx, ny, nz), (2000.0, 1000.0, 100.0))\n",
    "\n",
    "c_i = cell_index(g, (nx÷2+1, ny, 1))\n",
    "c_p1 = cell_index(g, (1, 1, 1))\n",
    "c_p2 = cell_index(g, (nx, 1, 1))\n",
    "\n",
    "fig = Figure()\n",
    "ax = Axis(fig[1, 1])\n",
    "Jutul.plot_mesh_edges!(ax, g)\n",
    "plot_mesh!(ax, g, cells = c_i, color = :red)\n",
    "plot_mesh!(ax, g, cells = [c_p1, c_p2], color = :blue)\n",
    "fig"
   ],
   "metadata": {},
   "execution_count": null
  },
  {
   "cell_type": "markdown",
   "source": [
    "## Set up reservoir and well"
   ],
   "metadata": {}
  },
  {
   "outputs": [],
   "cell_type": "code",
   "source": [
    "reservoir = reservoir_domain(g, permeability = 0.1Darcy, porosity = 0.1)\n",
    "c_i1 = cell_index(g, (nx÷2+1, ny, 1))\n",
    "\n",
    "P1 = setup_vertical_well(reservoir, nx÷2+1, ny, name = :P1)\n",
    "I1 = setup_vertical_well(reservoir, 1, 1, name = :I1)\n",
    "I2 = setup_vertical_well(reservoir, nx, 1, name = :I2)"
   ],
   "metadata": {},
   "execution_count": null
  },
  {
   "cell_type": "markdown",
   "source": [
    "## Set up the fluid system\n",
    "We set up a simple two-phase immiscible system."
   ],
   "metadata": {}
  },
  {
   "outputs": [],
   "cell_type": "code",
   "source": [
    "phases = (AqueousPhase(), LiquidPhase())\n",
    "rhoWS = rhoLS = 1000.0\n",
    "rhoS = [rhoWS, rhoLS] .* kg/meter^3\n",
    "sys = ImmiscibleSystem(phases, reference_densities = rhoS)"
   ],
   "metadata": {},
   "execution_count": null
  },
  {
   "cell_type": "markdown",
   "source": [
    "## Define the tracers\n",
    "We set up two tracers, one for each injector. The single-phase tracers are in\n",
    "this case associated with the aqueous phase and will only travel with the\n",
    "aqueous phase. The multiphase tracer will travel with both phases."
   ],
   "metadata": {}
  },
  {
   "outputs": [],
   "cell_type": "code",
   "source": [
    "tracer_1 = SinglePhaseTracer(sys, AqueousPhase())\n",
    "tracer_2 = MultiPhaseTracer(sys)\n",
    "\n",
    "tracers = [tracer_1, tracer_2]"
   ],
   "metadata": {},
   "execution_count": null
  },
  {
   "cell_type": "markdown",
   "source": [
    "## Set up the schedule and reporting steps\n",
    "This is similar to other examples, but we also specify the tracer\n",
    "concentration for the injector wells. Wells without tracer concentration\n",
    "specified will be assumed to have zero concentration for all tracers.\n",
    "\n",
    "JutulDarcy supports time-varying time-steps, so it is possible to have a a\n",
    "tracer active for a specific time period."
   ],
   "metadata": {}
  },
  {
   "outputs": [],
   "cell_type": "code",
   "source": [
    "dt = repeat([30.0]*day, 100)\n",
    "pv = pore_volume(reservoir)\n",
    "inj_rate = 0.35*sum(pv)/sum(dt)\n",
    "\n",
    "rate_target = TotalRateTarget(inj_rate)\n",
    "I_ctrl1 = InjectorControl(rate_target, [1.0, 0.0], density = rhoWS, tracers = [0.0, 1.0])\n",
    "I_ctrl2 = InjectorControl(rate_target, [1.0, 0.0], density = rhoWS, tracers = [1.0, 0.0])\n",
    "\n",
    "bhp_target = BottomHolePressureTarget(50*bar)\n",
    "P_ctrl = ProducerControl(bhp_target)\n",
    "controls = Dict()\n",
    "controls[:I1] = I_ctrl1\n",
    "controls[:I2] = I_ctrl2\n",
    "controls[:P1] = P_ctrl"
   ],
   "metadata": {},
   "execution_count": null
  },
  {
   "cell_type": "markdown",
   "source": [
    "## Set up the reservoir model and simulate\n",
    "We set up the reservoir model and simulate the flow. Note that we must pass\n",
    "the tracers to the setup function for the reservoir model - otherwise the\n",
    "tracers will not be simulated."
   ],
   "metadata": {}
  },
  {
   "outputs": [],
   "cell_type": "code",
   "source": [
    "model, parameters = setup_reservoir_model(reservoir, sys,\n",
    "    wells = [I1, I2, P1],\n",
    "    tracers = tracers,\n",
    ")\n",
    "\n",
    "forces = setup_reservoir_forces(model, control = controls)\n",
    "state0 = setup_reservoir_state(model, Pressure = 100*bar, Saturations = [0.0, 1.0])\n",
    "ws, states = simulate_reservoir(state0, model, dt, info_level = -1, parameters = parameters, forces = forces);"
   ],
   "metadata": {},
   "execution_count": null
  },
  {
   "cell_type": "markdown",
   "source": [
    "## Plot interactively"
   ],
   "metadata": {}
  },
  {
   "outputs": [],
   "cell_type": "code",
   "source": [
    "plot_reservoir(model, states, key = :TracerMasses, step = length(dt))"
   ],
   "metadata": {},
   "execution_count": null
  },
  {
   "cell_type": "markdown",
   "source": [
    "## Plot the final water saturation and tracer concentrations\n",
    "Note that the fluid front has filled most of the domain. The tracers give us\n",
    "additional information about what water volume comes from a specific injector."
   ],
   "metadata": {}
  },
  {
   "outputs": [],
   "cell_type": "code",
   "source": [
    "tracer_mass = states[end][:TracerMasses]\n",
    "sw = states[end][:Saturations][1, :]\n",
    "c1 = tracer_mass[1, :]\n",
    "c2 = tracer_mass[2, :]\n",
    "fig = Figure(size = (600, 1200))\n",
    "ax = Axis(fig[1, 1], title = \"Water saturation\")\n",
    "plot_cell_data!(ax, g, sw)\n",
    "ax = Axis(fig[2, 1], title = \"Tracer from injector 1\")\n",
    "plot_cell_data!(ax, g, c1)\n",
    "ax = Axis(fig[3, 1], title = \"Tracer from injector 2\")\n",
    "plot_cell_data!(ax, g, c2)\n",
    "fig"
   ],
   "metadata": {},
   "execution_count": null
  },
  {
   "cell_type": "markdown",
   "source": [
    "---\n",
    "\n",
    "*This notebook was generated using [Literate.jl](https://github.com/fredrikekre/Literate.jl).*"
   ],
   "metadata": {}
  }
 ],
 "nbformat_minor": 3,
 "metadata": {
  "language_info": {
   "file_extension": ".jl",
   "mimetype": "application/julia",
   "name": "julia",
   "version": "1.11.4"
  },
  "kernelspec": {
   "name": "julia-1.11",
   "display_name": "Julia 1.11.4",
   "language": "julia"
  }
 },
 "nbformat": 4
}
