{
 "cells": [
  {
   "cell_type": "markdown",
   "source": [
    "# Buckley-Leverett two-phase problem\n",
    "The Buckley-Leverett test problem is a classical reservoir simulation\n",
    "benchmark that demonstrates the nonlinear displacement process of a viscous\n",
    "fluid being displaced by a less viscous fluid, typically taken to be water\n",
    "displacing oil.\n",
    "\n",
    "## Problem definition\n",
    "\n",
    "This is a simple model without wells, where the flow is driven by a simple\n",
    "source term and a simple constant pressure boundary condition at the outlet.\n",
    "We define a function that sets up a two-phase system, a simple 1D domain and\n",
    "replaces the default relative permeability functions with quadratic functions:\n",
    "\n",
    "$k_{r\\alpha}(S) = \\min \\left(\\frac{S - S_r}{1 - S_r}, 1\\right)^n, S_r = 0.2,\n",
    "n = 2$\n",
    "\n",
    "In addition, the phase viscosities are treated as constant parameters of 1 and\n",
    "5 centipoise for the displacing and resident fluids, respectively.\n",
    "\n",
    "The function is parametrized on the number of cells and the number of\n",
    "time-steps used to solve the model. This function, since it uses a relatively\n",
    "simple setup without wells, uses the `Jutul` functions directly."
   ],
   "metadata": {}
  },
  {
   "outputs": [],
   "cell_type": "code",
   "source": [
    "using JutulDarcy, Jutul\n",
    "function solve_bl(;nc = 100, time = 1.0, nstep = nc)\n",
    "    T = time\n",
    "    tstep = repeat([T/nstep], nstep)\n",
    "    domain = get_1d_reservoir(nc)\n",
    "    nc = number_of_cells(domain)\n",
    "    timesteps = tstep*3600*24\n",
    "    bar = 1e5\n",
    "    p0 = 100*bar\n",
    "    sys = ImmiscibleSystem((LiquidPhase(), VaporPhase()))\n",
    "    model = SimulationModel(domain, sys)\n",
    "    kr = BrooksCoreyRelativePermeabilities(sys, [2.0, 2.0], [0.2, 0.2])\n",
    "    replace_variables!(model, RelativePermeabilities = kr)\n",
    "    tot_time = sum(timesteps)\n",
    "    pv = pore_volume(domain)\n",
    "    irate = 500*sum(pv)/tot_time\n",
    "    src  = SourceTerm(1, irate, fractional_flow = [1.0, 0.0])\n",
    "    bc = FlowBoundaryCondition(nc, p0/2)\n",
    "    forces = setup_forces(model, sources = src, bc = bc)\n",
    "    parameters = setup_parameters(model, PhaseViscosities = [1e-3, 5e-3]) # 1 and 5 cP\n",
    "    state0 = setup_state(model, Pressure = p0, Saturations = [0.0, 1.0])\n",
    "    states, report = simulate(state0, model, timesteps,\n",
    "        forces = forces, parameters = parameters, info_level = -1)\n",
    "    return states, model, report\n",
    "end"
   ],
   "metadata": {},
   "execution_count": null
  },
  {
   "cell_type": "markdown",
   "source": [
    "## Run the base case\n",
    "We solve a small model with 100 cells and 100 steps to serve as the baseline."
   ],
   "metadata": {}
  },
  {
   "outputs": [],
   "cell_type": "code",
   "source": [
    "n, n_f = 100, 1000\n",
    "states, model, report = solve_bl(nc = n)\n",
    "print_stats(report)"
   ],
   "metadata": {},
   "execution_count": null
  },
  {
   "cell_type": "markdown",
   "source": [
    "## Run refined version (1000 cells, 1000 steps)\n",
    "Using a grid with 100 cells will not yield a fully converged solution. We can\n",
    "increase the number of cells at the cost of increasing the runtime a bit. Note\n",
    "that most of the time is spent in the linear solver, which uses a direct\n",
    "sparse LU factorization by default. For larger problems it is recommended to\n",
    "use an iterative solver."
   ],
   "metadata": {}
  },
  {
   "outputs": [],
   "cell_type": "code",
   "source": [
    "states_refined, _, report_refined = solve_bl(nc = n_f);\n",
    "print_stats(report_refined)"
   ],
   "metadata": {},
   "execution_count": null
  },
  {
   "cell_type": "markdown",
   "source": [
    "## Plot results\n",
    "We plot the saturation front for the base case at different times together\n",
    "with the final solution for the refined model. In this case, refining the grid\n",
    "by a factor 10 gave us significantly less smearing of the trailing front."
   ],
   "metadata": {}
  },
  {
   "outputs": [],
   "cell_type": "code",
   "source": [
    "using GLMakie\n",
    "x = range(0, stop = 1, length = n)\n",
    "x_f = range(0, stop = 1, length = n_f)\n",
    "f = Figure()\n",
    "ax = Axis(f[1, 1], ylabel = \"Saturation\", title = \"Buckley-Leverett\")\n",
    "for i in 1:6:length(states)\n",
    "    lines!(ax, x, states[i][:Saturations][1, :], color = :darkgray)\n",
    "end\n",
    "lines!(ax, x_f, states_refined[end][:Saturations][1, :], color = :red)\n",
    "f"
   ],
   "metadata": {},
   "execution_count": null
  },
  {
   "cell_type": "markdown",
   "source": [
    "---\n",
    "\n",
    "*This notebook was generated using [Literate.jl](https://github.com/fredrikekre/Literate.jl).*"
   ],
   "metadata": {}
  }
 ],
 "nbformat_minor": 3,
 "metadata": {
  "language_info": {
   "file_extension": ".jl",
   "mimetype": "application/julia",
   "name": "julia",
   "version": "1.10.5"
  },
  "kernelspec": {
   "name": "julia-1.10",
   "display_name": "Julia 1.10.5",
   "language": "julia"
  }
 },
 "nbformat": 4
}
