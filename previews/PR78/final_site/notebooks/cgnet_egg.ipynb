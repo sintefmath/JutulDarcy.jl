{
 "cells": [
  {
   "cell_type": "markdown",
   "source": [
    "# History matching a coarse model - CGNet\n",
    "This example demonstrates how to calibrate a coarse model against results from\n",
    "a fine model. We do this by optimizing the parameters of the coarse model to\n",
    "match the well curves. This is a implementation of the method described in\n",
    "[cgnet1](@cite). This also serves as a demonstration of how to use the\n",
    "simulator for history matching, as the fine model results can stand in for\n",
    "real field observations.\n",
    "\n",
    "## Load and simulate Egg base case"
   ],
   "metadata": {}
  },
  {
   "outputs": [],
   "cell_type": "code",
   "source": [
    "using Jutul, JutulDarcy, HYPRE, GeoEnergyIO, GLMakie\n",
    "import LBFGSB as lb\n",
    "\n",
    "egg_dir = JutulDarcy.GeoEnergyIO.test_input_file_path(\"EGG\")\n",
    "data_pth = joinpath(egg_dir, \"EGG.DATA\")\n",
    "\n",
    "fine_case = setup_case_from_data_file(data_pth)\n",
    "simulated_fine = simulate_reservoir(fine_case)\n",
    "plot_reservoir(fine_case, simulated_fine.states, key = :Saturations, step = 100)"
   ],
   "metadata": {},
   "execution_count": null
  },
  {
   "cell_type": "markdown",
   "source": [
    "## Create initial coarse model and simulate"
   ],
   "metadata": {}
  },
  {
   "outputs": [],
   "cell_type": "code",
   "source": [
    "coarse_case = JutulDarcy.coarsen_reservoir_case(fine_case, (25, 25, 5), method = :ijk)\n",
    "simulated_coarse = simulate_reservoir(coarse_case, info_level = -1)\n",
    "plot_reservoir(coarse_case, simulated_coarse.states, key = :Saturations, step = 100)"
   ],
   "metadata": {},
   "execution_count": null
  },
  {
   "cell_type": "markdown",
   "source": [
    "## Setup optimization\n",
    "We set up the optimization problem by defining the objective function as a sum\n",
    "of squared mismatches for all well observations, for all time-steps. We also\n",
    "define limits for the parameters, and set up the optimization problem."
   ],
   "metadata": {}
  },
  {
   "outputs": [],
   "cell_type": "code",
   "source": [
    "function setup_optimization_cgnet(case_c, case_f, result_f)\n",
    "    states_f = result_f.result.states\n",
    "    wells_results, = result_f\n",
    "    model_c = case_c.model\n",
    "    state0_c = setup_state(model_c, case_c.state0);\n",
    "    param_c = setup_parameters(model_c)\n",
    "    forces_c = case_c.forces\n",
    "    dt = case_c.dt\n",
    "    model_f = case_f.model\n",
    "\n",
    "    bhp = JutulDarcy.BottomHolePressureTarget(1.0)\n",
    "    wells = collect(keys(JutulDarcy.get_model_wells(case_f)))\n",
    "\n",
    "    day = si_unit(:day)\n",
    "    wrat_scale = (1/150)*day\n",
    "    orat_scale = (1/80)*day\n",
    "    grat_scale = (1/1000)*day\n",
    "\n",
    "    w = []\n",
    "    matches = []\n",
    "    signs = []\n",
    "    sys = reservoir_model(model_f).system\n",
    "    wrat = SurfaceWaterRateTarget(-1.0)\n",
    "    orat = SurfaceOilRateTarget(-1.0)\n",
    "    grat = SurfaceGasRateTarget(-1.0)\n",
    "\n",
    "    push!(matches, bhp)\n",
    "    push!(w, 1.0/si_unit(:bar))\n",
    "    push!(signs, 1)\n",
    "\n",
    "    for phase in JutulDarcy.get_phases(sys)\n",
    "        if phase == LiquidPhase()\n",
    "            push!(matches, orat)\n",
    "            push!(w, orat_scale)\n",
    "            push!(signs, -1)\n",
    "\n",
    "        elseif phase == VaporPhase()\n",
    "            push!(matches, grat)\n",
    "            push!(w, grat_scale)\n",
    "            push!(signs, -1)\n",
    "        else\n",
    "            @assert phase == AqueousPhase()\n",
    "            push!(matches, wrat)\n",
    "            push!(w, wrat_scale)\n",
    "            push!(signs, -1)\n",
    "        end\n",
    "    end\n",
    "    signs = zeros(Int, length(signs))\n",
    "    o_scale = 1.0/(sum(dt)*length(wells))\n",
    "    G = (model_c, state_c, dt, step_no, forces) -> well_mismatch(\n",
    "        matches,\n",
    "        wells,\n",
    "        model_f,\n",
    "        states_f,\n",
    "        model_c,\n",
    "        state_c,\n",
    "        dt,\n",
    "        step_no,\n",
    "        forces,\n",
    "        weights = w,\n",
    "        scale = o_scale,\n",
    "        signs = signs\n",
    "    )\n",
    "\n",
    "    @assert Jutul.evaluate_objective(G, model_f, states_f, dt, case_f.forces) == 0.0\n",
    "    #\n",
    "    cfg = optimization_config(model_c, param_c,\n",
    "        use_scaling = true,\n",
    "        rel_min = 0.001,\n",
    "        rel_max = 1000\n",
    "    )\n",
    "    for (k, v) in cfg\n",
    "        for (ki, vi) in v\n",
    "            if ki == :FluidVolume\n",
    "                vi[:active] = k == :Reservoir\n",
    "            end\n",
    "            if ki == :ConnateWater\n",
    "                vi[:active] = false\n",
    "            end\n",
    "            if ki in [:TwoPointGravityDifference, :PhaseViscosities, :PerforationGravityDifference]\n",
    "                vi[:active] = false\n",
    "            end\n",
    "            if ki in [:WellIndices, :Transmissibilities]\n",
    "                vi[:active] = true\n",
    "                vi[:abs_min] = 0.0\n",
    "                vi[:abs_max] = 1e-6\n",
    "            end\n",
    "\n",
    "        end\n",
    "    end\n",
    "    opt_setup = setup_parameter_optimization(model_c, state0_c, param_c, dt, forces_c, G, cfg);\n",
    "    x0 = opt_setup.x0\n",
    "    F0 = opt_setup.F!(x0)\n",
    "    dF0 = opt_setup.dF!(similar(x0), x0)\n",
    "    println(\"Initial objective: $F0, gradient norm $(sum(abs, dF0))\")\n",
    "    return opt_setup\n",
    "end"
   ],
   "metadata": {},
   "execution_count": null
  },
  {
   "cell_type": "markdown",
   "source": [
    "## Define the optimization loop\n",
    "JutulDarcy can use any optimization package that can work with gradients and\n",
    "limits, here we use the `LBFGSB` package."
   ],
   "metadata": {}
  },
  {
   "outputs": [],
   "cell_type": "code",
   "source": [
    "function optimize_cgnet(opt_setup)\n",
    "    lower = opt_setup.limits.min\n",
    "    upper = opt_setup.limits.max\n",
    "    x0 = opt_setup.x0\n",
    "    n = length(x0)\n",
    "    setup = Dict(:lower => lower, :upper => upper, :x0 => copy(x0))\n",
    "\n",
    "    prt = 1\n",
    "    f! = (x) -> opt_setup.F_and_dF!(NaN, nothing, x)\n",
    "    g! = (dFdx, x) -> opt_setup.F_and_dF!(NaN, dFdx, x)\n",
    "    results, final_x = lb.lbfgsb(f!, g!, x0, lb=lower, ub=upper,\n",
    "        iprint = prt,\n",
    "        factr = 1e12,\n",
    "        maxfun = 50,\n",
    "        maxiter = 50,\n",
    "        m = 20\n",
    "    )\n",
    "    return (final_x, results, setup)\n",
    "end"
   ],
   "metadata": {},
   "execution_count": null
  },
  {
   "cell_type": "markdown",
   "source": [
    "## Run the optimization"
   ],
   "metadata": {}
  },
  {
   "outputs": [],
   "cell_type": "code",
   "source": [
    "opt_setup = setup_optimization_cgnet(coarse_case, fine_case, simulated_fine);\n",
    "final_x, results, setup = optimize_cgnet(opt_setup);"
   ],
   "metadata": {},
   "execution_count": null
  },
  {
   "cell_type": "markdown",
   "source": [
    "### Transfer the results back\n",
    "The optimization is generic and works on a single long vector that represents\n",
    "all our active parameters. We can devectorize this vector back into the nested\n",
    "representation used by the model itself and simulate."
   ],
   "metadata": {}
  },
  {
   "outputs": [],
   "cell_type": "code",
   "source": [
    "tuned_case = deepcopy(opt_setup.data[:case])\n",
    "model_c = coarse_case.model\n",
    "model_f = fine_case.model\n",
    "param_c = tuned_case.parameters\n",
    "data = opt_setup.data\n",
    "devectorize_variables!(param_c, model_c, final_x, data[:mapper], config = data[:config])\n",
    "\n",
    "\n",
    "simulated_tuned = simulate_reservoir(tuned_case, info_level = -1);"
   ],
   "metadata": {},
   "execution_count": null
  },
  {
   "cell_type": "markdown",
   "source": [
    "### Plot the results interactively"
   ],
   "metadata": {}
  },
  {
   "outputs": [],
   "cell_type": "code",
   "source": [
    "using GLMakie\n",
    "\n",
    "wells_f, = simulated_fine\n",
    "wells_c, = simulated_coarse\n",
    "wells_t, states_t, time = simulated_tuned\n",
    "\n",
    "plot_well_results([wells_f, wells_c, wells_t], time, names = [\"Fine\", \"CGNet-initial\", \"CGNet-tuned\"])"
   ],
   "metadata": {},
   "execution_count": null
  },
  {
   "cell_type": "markdown",
   "source": [
    "### Create a function to compare individual wells\n",
    "We next compare individual wells to see how the optimization has affected the\n",
    "match between the coarse scale and fine scale. As we can see, we have\n",
    "reasonably good match between the original model with about 18,000 cells and\n",
    "the coarse model with about 3000 cells. Even better match could be possible by\n",
    "adding more coarse blocks, or also optimizing for example the relative\n",
    "permeability parameters for the coarse model.\n",
    "\n",
    "We plot the water cut and total rate for the production wells, and the bottom\n",
    "hole pressure for the injection wells."
   ],
   "metadata": {}
  },
  {
   "outputs": [],
   "cell_type": "code",
   "source": [
    "function plot_tuned_well(k, kw; lposition = :lt)\n",
    "    fig = Figure()\n",
    "    ax = Axis(fig[1, 1], title = \"$k\", xlabel = \"days\", ylabel = \"$kw\")\n",
    "    t = wells_f.time./si_unit(:day)\n",
    "    if kw == :wcut\n",
    "        F = x -> x[k, :wrat]./x[k, :lrat]\n",
    "    else\n",
    "        F = x -> abs.(x[k, kw])\n",
    "    end\n",
    "\n",
    "    lines!(ax, t, F(wells_f), label = \"Fine-scale\")\n",
    "    lines!(ax, t, F(wells_c), label = \"Initial coarse\")\n",
    "    lines!(ax, t, F(wells_t), label = \"Tuned coarse\")\n",
    "    axislegend(position = lposition)\n",
    "    fig\n",
    "end"
   ],
   "metadata": {},
   "execution_count": null
  },
  {
   "cell_type": "markdown",
   "source": [
    "### Plot PROD1 water cut"
   ],
   "metadata": {}
  },
  {
   "outputs": [],
   "cell_type": "code",
   "source": [
    "plot_tuned_well(:PROD1, :wcut)"
   ],
   "metadata": {},
   "execution_count": null
  },
  {
   "cell_type": "markdown",
   "source": [
    "### Plot PROD2 water cut"
   ],
   "metadata": {}
  },
  {
   "outputs": [],
   "cell_type": "code",
   "source": [
    "plot_tuned_well(:PROD2, :wcut)"
   ],
   "metadata": {},
   "execution_count": null
  },
  {
   "cell_type": "markdown",
   "source": [
    "### Plot PROD4 water cut"
   ],
   "metadata": {}
  },
  {
   "outputs": [],
   "cell_type": "code",
   "source": [
    "plot_tuned_well(:PROD4, :wcut)"
   ],
   "metadata": {},
   "execution_count": null
  },
  {
   "cell_type": "markdown",
   "source": [
    "### Plot PROD1 total rate"
   ],
   "metadata": {}
  },
  {
   "outputs": [],
   "cell_type": "code",
   "source": [
    "plot_tuned_well(:PROD1, :rate)"
   ],
   "metadata": {},
   "execution_count": null
  },
  {
   "cell_type": "markdown",
   "source": [
    "### Plot PROD2 total rate"
   ],
   "metadata": {}
  },
  {
   "outputs": [],
   "cell_type": "code",
   "source": [
    "plot_tuned_well(:PROD2, :rate)"
   ],
   "metadata": {},
   "execution_count": null
  },
  {
   "cell_type": "markdown",
   "source": [
    "### Plot PROD4 total rate"
   ],
   "metadata": {}
  },
  {
   "outputs": [],
   "cell_type": "code",
   "source": [
    "plot_tuned_well(:PROD4, :rate)"
   ],
   "metadata": {},
   "execution_count": null
  },
  {
   "cell_type": "markdown",
   "source": [
    "### Plot INJECT1 bhp"
   ],
   "metadata": {}
  },
  {
   "outputs": [],
   "cell_type": "code",
   "source": [
    "plot_tuned_well(:INJECT1, :bhp, lposition = :rt)"
   ],
   "metadata": {},
   "execution_count": null
  },
  {
   "cell_type": "markdown",
   "source": [
    "### Plot INJECT4 bhp"
   ],
   "metadata": {}
  },
  {
   "outputs": [],
   "cell_type": "code",
   "source": [
    "plot_tuned_well(:INJECT4, :bhp, lposition = :rt)"
   ],
   "metadata": {},
   "execution_count": null
  },
  {
   "cell_type": "markdown",
   "source": [
    "## Plot the objective evaluations during optimization"
   ],
   "metadata": {}
  },
  {
   "outputs": [],
   "cell_type": "code",
   "source": [
    "fig = Figure()\n",
    "ys = log10\n",
    "is = x -> x\n",
    "ax1 = Axis(fig[1, 1], yscale = ys, title = \"Objective evaluations\", xlabel = \"Iterations\", ylabel = \"Objective\")\n",
    "plot!(ax1, opt_setup[:data][:obj_hist][2:end])\n",
    "fig"
   ],
   "metadata": {},
   "execution_count": null
  },
  {
   "cell_type": "markdown",
   "source": [
    "## Plot the evoluation of scaled parameters\n",
    "We show the difference between the initial and final values of the scaled\n",
    "parameters, as well as the lower bound.\n",
    "\n",
    "JutulDarcy maps the parameters to a single vector for optimization with values\n",
    "that are approximately in the box limit range (0, 1). This is convenient for\n",
    "optimizers, but can also be useful when plotting the parameters, even if the\n",
    "units are not preserved in this visualization, only the magnitude."
   ],
   "metadata": {}
  },
  {
   "outputs": [],
   "cell_type": "code",
   "source": [
    "fig = Figure(size = (800, 600))\n",
    "ax1 = Axis(fig[1, 1], title = \"Scaled parameters\", ylabel = \"Scaled value\")\n",
    "scatter!(ax1, setup[:x0], label = \"Initial X\")\n",
    "scatter!(ax1, final_x, label = \"Final X\", markersize = 5)\n",
    "lines!(ax1, setup[:lower], label = \"Lower bound\")\n",
    "axislegend()\n",
    "\n",
    "trans = data[:mapper][:Reservoir][:Transmissibilities]\n",
    "\n",
    "function plot_bracket(v, k)\n",
    "    start = v.offset+1\n",
    "    stop = v.offset+v.n\n",
    "    y0 = setup[:lower][start]\n",
    "    y1 = setup[:lower][stop]\n",
    "    bracket!(ax1, start, y0, stop, y1,\n",
    "    text = \"$k\", offset = 1, orientation = :down)\n",
    "end\n",
    "\n",
    "for (k, v) in pairs(data[:mapper][:Reservoir])\n",
    "    plot_bracket(v, k)\n",
    "end\n",
    "ylims!(ax1, (-0.2*maximum(final_x), nothing))\n",
    "fig"
   ],
   "metadata": {},
   "execution_count": null
  },
  {
   "cell_type": "markdown",
   "source": [
    "---\n",
    "\n",
    "*This notebook was generated using [Literate.jl](https://github.com/fredrikekre/Literate.jl).*"
   ],
   "metadata": {}
  }
 ],
 "nbformat_minor": 3,
 "metadata": {
  "language_info": {
   "file_extension": ".jl",
   "mimetype": "application/julia",
   "name": "julia",
   "version": "1.11.1"
  },
  "kernelspec": {
   "name": "julia-1.11",
   "display_name": "Julia 1.11.1",
   "language": "julia"
  }
 },
 "nbformat": 4
}
