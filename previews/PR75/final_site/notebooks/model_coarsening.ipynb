{
 "cells": [
  {
   "cell_type": "markdown",
   "source": [
    "# Model coarsening\n",
    "Running a model at full resolution can be computationally expensive. In many\n",
    "cases, it is possible to coarsen the model to reduce the computational cost.\n",
    "This example demonstrates how to coarsen a model using JutulDarcy.jl. The\n",
    "example uses the Egg model, which is a small oil-water model with\n",
    "heterogeneous permeability. The model is coarsened using different methods and\n",
    "partition sizes, and the results are compared to the fine-scale model. The\n",
    "example demonstrates how to coarsen a model and simulate it using\n",
    "JutulDarcy.jl. The example also demonstrates how to compare the results of the\n",
    "coarse-scale model to the fine-scale model.\n",
    "\n",
    "The example is intended to show the workflow of coarsening a model, and\n",
    "represents a starting point for more advanced techniques like upscaling,\n",
    "coarse-model calibration and history matching. The model is therefore\n",
    "intentionally simple and very coarse for quick simulations, and not\n",
    "necessarily accurate model responses."
   ],
   "metadata": {}
  },
  {
   "outputs": [],
   "cell_type": "code",
   "source": [
    "using Jutul, JutulDarcy, HYPRE\n",
    "using GLMakie\n",
    "using GeoEnergyIO\n",
    "data_dir = GeoEnergyIO.test_input_file_path(\"EGG\")\n",
    "data_pth = joinpath(data_dir, \"EGG.DATA\")\n",
    "fine_case = setup_case_from_data_file(data_pth);"
   ],
   "metadata": {},
   "execution_count": null
  },
  {
   "cell_type": "markdown",
   "source": [
    "## Simulate the base case\n",
    "We simulate the fine case to get a reference solution to compare against. We\n",
    "also extract the mesh and reservoir for plotting."
   ],
   "metadata": {}
  },
  {
   "outputs": [],
   "cell_type": "code",
   "source": [
    "fine_model = fine_case.model\n",
    "fine_reservoir = reservoir_domain(fine_model)\n",
    "fine_mesh = physical_representation(fine_reservoir)\n",
    "ws, states = simulate_reservoir(fine_case, info_level = 1);"
   ],
   "metadata": {},
   "execution_count": null
  },
  {
   "cell_type": "markdown",
   "source": [
    "## Coarsen the model and plot partition\n",
    "We coarsen the model using a partition size of 20x20x2 and the IJK method\n",
    "where the underlying structure of the mesh is used to subdivide the blocks.\n",
    "This function automatically handles inactive cells and disconnected blocks and\n",
    "can therefore also work on more complex models.\n",
    "\n",
    "We pass a triplet of integers to specify the partition size. This will give an\n",
    "essentially structured partition. Later on, we we will look at graph partitioners."
   ],
   "metadata": {}
  },
  {
   "outputs": [],
   "cell_type": "code",
   "source": [
    "coarse_case = coarsen_reservoir_case(fine_case, (20, 20, 2), method = :ijk)\n",
    "coarse_model = coarse_case.model\n",
    "coarse_reservoir = reservoir_domain(coarse_case)\n",
    "coarse_mesh = physical_representation(coarse_reservoir)\n",
    "\n",
    "p = coarse_mesh.partition\n",
    "\n",
    "fig, = plot_cell_data(fine_mesh, p, colormap = :lipariS)\n",
    "fig"
   ],
   "metadata": {},
   "execution_count": null
  },
  {
   "cell_type": "markdown",
   "source": [
    "### Compare fine-scale and coarse-scale permeability\n",
    "The fine-scale and coarse-scale permeability fields are compared visually. The\n",
    "coarsening uses a static upscaling, where the permeability is harmonically\n",
    "averaged per direction when coarsening. This is a simple method that can be\n",
    "effective enough for many cases.\n",
    "\n",
    "The fine-scale permeability is shown on the left, and the coarse-scale is\n",
    "shown on the right, with the same color axis."
   ],
   "metadata": {}
  },
  {
   "outputs": [],
   "cell_type": "code",
   "source": [
    "K_f = fine_reservoir[:permeability][1, :]\n",
    "K_c = coarse_reservoir[:permeability][1, :]\n",
    "\n",
    "kcaxis = extrema(K_f)\n",
    "\n",
    "fig = Figure(size = (1200, 500))\n",
    "axf = Axis3(fig[1, 1], title = \"Fine scale permeability\", zreversed = true)\n",
    "plot_cell_data!(axf, fine_mesh, K_f, colorrange = kcaxis, colormap = :turbo)\n",
    "\n",
    "axc = Axis3(fig[1, 2], title = \"Coarse scale permeability\", zreversed = true)\n",
    "plt = plot_cell_data!(axc, coarse_mesh, K_c, colorrange = kcaxis, colormap = :turbo)\n",
    "Colorbar(fig[1, 3], plt)\n",
    "fig"
   ],
   "metadata": {},
   "execution_count": null
  },
  {
   "cell_type": "markdown",
   "source": [
    "### Simulate the coarse-scale model\n",
    "The coarse scale model can be simulated just as the fine-scale model was, but\n",
    "the runtime should be significantly reduced down to around a second."
   ],
   "metadata": {}
  },
  {
   "outputs": [],
   "cell_type": "code",
   "source": [
    "@time ws_c, states_c = simulate_reservoir(coarse_case, info_level = -1);"
   ],
   "metadata": {},
   "execution_count": null
  },
  {
   "cell_type": "markdown",
   "source": [
    "### Plot and compare the coarse-scale and fine-scale solutions\n",
    "We plot the pressure field for the fine-scale and coarse-scale models. The\n",
    "model has little pressure variation, but we see that there are substantial\n",
    "differences between our very coarse model and the original fine-scale."
   ],
   "metadata": {}
  },
  {
   "outputs": [],
   "cell_type": "code",
   "source": [
    "using Statistics\n",
    "wells = JutulDarcy.get_model_wells(fine_model)\n",
    "\n",
    "p_c = states_c[end][:Pressure]\n",
    "p_f = states[end][:Pressure]\n",
    "\n",
    "caxis = extrema([extrema(p_c)..., extrema(p_f)...])\n",
    "\n",
    "fig = Figure(size = (1200, 500))\n",
    "axf = Axis3(fig[1, 1], title = \"Fine scale\", zreversed = true)\n",
    "plot_cell_data!(axf, fine_mesh, p_f, colorrange = caxis, colormap = :turbo)\n",
    "\n",
    "for (k, w) in wells\n",
    "    plot_well!(axf, fine_mesh, w, fontsize = 0)\n",
    "end\n",
    "\n",
    "axc = Axis3(fig[1, 2], title = \"Coarse scale\", zreversed = true)\n",
    "plt = plot_cell_data!(axc, coarse_mesh, p_c, colorrange = caxis, colormap = :turbo)\n",
    "\n",
    "for (k, w) in wells\n",
    "    plot_well!(axc, fine_mesh, w, fontsize = 0)\n",
    "end\n",
    "Colorbar(fig[1, 3], plt)\n",
    "fig"
   ],
   "metadata": {},
   "execution_count": null
  },
  {
   "cell_type": "markdown",
   "source": [
    "### Plot and compare the saturation fields\n",
    "We observe that the saturation fields are quite different between the\n",
    "coarse-scale and fine scale, with the coarse-scale model showing a more\n",
    "uniform saturation field as the leading shock is smeared away."
   ],
   "metadata": {}
  },
  {
   "outputs": [],
   "cell_type": "code",
   "source": [
    "s_c = states_c[end][:Saturations][1, :]\n",
    "s_f = states[end][:Saturations][1, :]\n",
    "\n",
    "scaxis = extrema([extrema(s_c)..., extrema(s_f)...])\n",
    "\n",
    "fig = Figure(size = (1200, 500))\n",
    "axf = Axis3(fig[1, 1], title = \"Fine scale\", zreversed = true)\n",
    "plot_cell_data!(axf, fine_mesh, s_f, colorrange = scaxis, colormap = :turbo)\n",
    "\n",
    "for (k, w) in wells\n",
    "    plot_well!(axf, fine_mesh, w, fontsize = 0)\n",
    "end\n",
    "\n",
    "axc = Axis3(fig[1, 2], title = \"Coarse scale\", zreversed = true)\n",
    "plt = plot_cell_data!(axc, coarse_mesh, s_c, colorrange = scaxis, colormap = :turbo)\n",
    "\n",
    "for (k, w) in wells\n",
    "    plot_well!(axc, fine_mesh, w, fontsize = 0)\n",
    "end\n",
    "Colorbar(fig[1, 3], plt)\n",
    "fig"
   ],
   "metadata": {},
   "execution_count": null
  },
  {
   "cell_type": "markdown",
   "source": [
    "### Plot the average field scale pressure evolution"
   ],
   "metadata": {}
  },
  {
   "outputs": [],
   "cell_type": "code",
   "source": [
    "fig = Figure()\n",
    "axf_p = Axis(fig[1, 1], ylabel = \"Avg. pressure / bar\")\n",
    "lines!(axf_p, map(x -> mean(x[:Pressure])/1e5, states), label = \"Fine\")\n",
    "lines!(axf_p, map(x -> mean(x[:Pressure])/1e5, states_c), label = \"Coarse\")\n",
    "axislegend()\n",
    "fig"
   ],
   "metadata": {},
   "execution_count": null
  },
  {
   "cell_type": "markdown",
   "source": [
    "### Plot the wells interactively\n",
    "We can plot the well results in the interactive viewer using the comparison\n",
    "feature that allows multiple results to be superimposed in the same figure."
   ],
   "metadata": {}
  },
  {
   "outputs": [],
   "cell_type": "code",
   "source": [
    "plot_well_results([ws, ws_c], names = [\"Fine\", \"Coarse\"], field = :orat, accumulated = true)"
   ],
   "metadata": {},
   "execution_count": null
  },
  {
   "cell_type": "markdown",
   "source": [
    "### Plot field scale measurables over time interactively\n",
    "The field-scale quantities match fairly well between the coarse-scale and\n",
    "fine-scale models. There is always a trade-off between accuracy and quality in\n",
    "numerical simulations, where the goal is to find the right balance between\n",
    "accuracy in quantities of interest and computational cost."
   ],
   "metadata": {}
  },
  {
   "outputs": [],
   "cell_type": "code",
   "source": [
    "fine_m = reservoir_measurables(fine_case, ws, states)\n",
    "coarse_m = reservoir_measurables(coarse_case, ws_c, states_c)\n",
    "m = copy(fine_m)\n",
    "for (k, v) in pairs(coarse_m)\n",
    "    if k != :time\n",
    "        m[Symbol(\"coarse_$k\")] = v\n",
    "    end\n",
    "end\n",
    "\n",
    "plot_reservoir_measurables(m, left = :fopr, right = :coarse_fopr, accumulated = true)"
   ],
   "metadata": {},
   "execution_count": null
  },
  {
   "cell_type": "markdown",
   "source": [
    "## Compare different partitioning methods\n",
    "We have only so far tested a single partitioning method. We can quickly\n",
    "generate a few other coarse models using different partitioning methods and\n",
    "coarsening values. We highlight that we can also use the centroids instead of\n",
    "the IJK indices to partition, for when the mesh may not have a structured\n",
    "background mesh. In addition, we can call different graph partitioners by\n",
    "passing the desired number of blocks. Here, we call a simple METIS-based\n",
    "transmissibility coarsening, but the code contains options to use other\n",
    "weights and partitioners."
   ],
   "metadata": {}
  },
  {
   "outputs": [],
   "cell_type": "code",
   "source": [
    "partition_variants = [\n",
    "    (:centroids, (3, 3, 2)),\n",
    "    (:ijk, (5, 5, 1)),\n",
    "    (:metis, 10),\n",
    "    (:metis, 50)\n",
    "]\n",
    "\n",
    "fig = Figure(size = (1200, 600))\n",
    "layout = GridLayout()\n",
    "fig[1, 1] = layout\n",
    "rowwidth = Int(floor(length(partition_variants)/2))\n",
    "for (no, variant) in enumerate(partition_variants)\n",
    "    if no > rowwidth\n",
    "        row = 2\n",
    "        pix = no - rowwidth\n",
    "    else\n",
    "        row = 1\n",
    "        pix = no\n",
    "    end\n",
    "    cmethod, cdim = variant\n",
    "    variant_case = coarsen_reservoir_case(fine_case, cdim, method = cmethod)\n",
    "    r = reservoir_domain(variant_case)\n",
    "    m = physical_representation(r)\n",
    "    p = m.partition\n",
    "\n",
    "    ax = Axis3(fig, title = \"$cmethod - $cdim\", azimuth = 0.3, elevation = 1.0, zreversed = true)\n",
    "    plot_cell_data!(ax, fine_mesh, p, colormap = :lipariS)\n",
    "    layout[row, 2*(pix-1) + 1] = ax\n",
    "\n",
    "    _, variant_states = simulate_reservoir(variant_case, info_level = -1)\n",
    "    pres = variant_states[end][:Pressure]\n",
    "    axp = Axis3(fig, title = \"Pressure\", azimuth = 0.3, elevation = 1.0, zreversed = true)\n",
    "    for (k, w) in wells\n",
    "        plot_well!(axp, fine_mesh, w, fontsize = 0)\n",
    "    end\n",
    "    plot_cell_data!(axp, m, pres, colorrange = caxis, colormap = :turbo)\n",
    "\n",
    "    layout[row, 2*(pix-1) + 2] = axp\n",
    "end\n",
    "fig"
   ],
   "metadata": {},
   "execution_count": null
  },
  {
   "cell_type": "markdown",
   "source": [
    "---\n",
    "\n",
    "*This notebook was generated using [Literate.jl](https://github.com/fredrikekre/Literate.jl).*"
   ],
   "metadata": {}
  }
 ],
 "nbformat_minor": 3,
 "metadata": {
  "language_info": {
   "file_extension": ".jl",
   "mimetype": "application/julia",
   "name": "julia",
   "version": "1.11.1"
  },
  "kernelspec": {
   "name": "julia-1.11",
   "display_name": "Julia 1.11.1",
   "language": "julia"
  }
 },
 "nbformat": 4
}
