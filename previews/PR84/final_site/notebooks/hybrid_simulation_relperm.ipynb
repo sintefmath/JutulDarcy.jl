{
 "cells": [
  {
   "cell_type": "markdown",
   "source": [
    "# Hybrid simulation with neural network for relative permeability"
   ],
   "metadata": {}
  },
  {
   "cell_type": "markdown",
   "source": [
    "This example demonstrates how to integrate a neural network into JutulDarcy.jl for relative permeability modeling in reservoir simulations.\n",
    "It includes the following steps:\n",
    "1. Set up a simple reference simulation with a Brooks-Corey relative permeability model\n",
    "2. Train a neural network to approximate the Brooks-Corey relative permeability model\n",
    "3. Incorporate the trained network into a simulation model\n",
    "4. Compare the results of the neural network-based simulation with the reference simulation\n",
    "\n",
    "This approach showcases the flexibility of JutulDarcy.jl in incorporating machine learning models\n",
    "into conventional reservoir simulation workflows, potentially enabling more accurate and\n",
    "efficient simulations of complex fluid behavior."
   ],
   "metadata": {}
  },
  {
   "cell_type": "markdown",
   "source": [
    "## Preliminaries"
   ],
   "metadata": {}
  },
  {
   "cell_type": "markdown",
   "source": [
    "First, let's import the necessary packages.\n",
    "We will use Lux for the neural network model, due to its explicit representation of the model and the ability to use different optimisers, ideal for integration with Jutul.\n",
    "However, Flux.jl would work just as well for this simple example."
   ],
   "metadata": {}
  },
  {
   "outputs": [],
   "cell_type": "code",
   "source": [
    "using JutulDarcy, Jutul, Lux, ADTypes, Zygote, Optimisers, Random, Statistics, GLMakie"
   ],
   "metadata": {},
   "execution_count": null
  },
  {
   "cell_type": "markdown",
   "source": [
    "## Set up the simulation case\n",
    "We set up a reference simulation case following the [Your first JutulDarcy.jl simulation](https://sintefmath.github.io/JutulDarcy.jl/dev/man/first_ex) example:\n",
    "- Create a simple Cartesian Mesh\n",
    "- Convert it to a reservoir domain with permeability and porosity\n",
    "- Set up two wells: a vertical injector and a single-perforation producer"
   ],
   "metadata": {}
  },
  {
   "cell_type": "markdown",
   "source": [
    "#### Fluid system and model setup\n",
    "- Use a two-phase immiscible system (liquid and vapor)\n",
    "- Set reference densities: 1000 kg/m³ for liquid, 100 kg/m³ for vapor"
   ],
   "metadata": {}
  },
  {
   "cell_type": "markdown",
   "source": [
    "#### Timesteps and well controls\n",
    "- Set reporting timesteps: every year for 25 years\n",
    "- Producer: fixed bottom-hole pressure\n",
    "- Injector: high gas injection rate (for dramatic visualization)"
   ],
   "metadata": {}
  },
  {
   "cell_type": "markdown",
   "source": [
    "These steps create a basic simulation setup that we'll use to compare against\n",
    "the neural network-based relative permeability model."
   ],
   "metadata": {}
  },
  {
   "outputs": [],
   "cell_type": "code",
   "source": [
    "Darcy, bar, kg, meter, day = si_units(:darcy, :bar, :kilogram, :meter, :day)\n",
    "\n",
    "function setup_simulation_case()\n",
    "    nx = ny = 25\n",
    "    nz = 10\n",
    "    cart_dims = (nx, ny, nz)\n",
    "    physical_dims = (1000.0, 1000.0, 100.0).*meter\n",
    "    g = CartesianMesh(cart_dims, physical_dims)\n",
    "    domain = reservoir_domain(g, permeability = 0.3Darcy, porosity = 0.2)\n",
    "    Injector = setup_vertical_well(domain, 1, 1, name = :Injector)\n",
    "    Producer = setup_well(domain, (nx, ny, 1), name = :Producer)\n",
    "\n",
    "    phases = (LiquidPhase(), VaporPhase())\n",
    "    rhoLS = 1000.0kg/meter^3\n",
    "    rhoGS = 100.0kg/meter^3\n",
    "    reference_densities = [rhoLS, rhoGS]\n",
    "    sys = ImmiscibleSystem(phases, reference_densities = reference_densities)\n",
    "\n",
    "    nstep = 25\n",
    "    dt = fill(365.0day, nstep)\n",
    "\n",
    "    pv = pore_volume(domain)\n",
    "    inj_rate = 1.5*sum(pv)/sum(dt)\n",
    "    rate_target = TotalRateTarget(inj_rate)\n",
    "    bhp_target = BottomHolePressureTarget(100bar)\n",
    "\n",
    "    I_ctrl = InjectorControl(rate_target, [0.0, 1.0], density = rhoGS)\n",
    "    P_ctrl = ProducerControl(bhp_target)\n",
    "    controls = Dict(:Injector => I_ctrl, :Producer => P_ctrl)\n",
    "\n",
    "    model, parameters = setup_reservoir_model(domain, sys, wells = [Injector, Producer])\n",
    "    forces = setup_reservoir_forces(model, control = controls);\n",
    "\n",
    "    return model, parameters, forces, sys, dt\n",
    "end\n",
    "\n",
    "ref_model, ref_parameters, ref_forces, ref_sys, ref_dt = setup_simulation_case();"
   ],
   "metadata": {},
   "execution_count": null
  },
  {
   "cell_type": "markdown",
   "source": [
    "The simulation model has a set of default secondary variables (properties) that are used to compute the flow equations. We can have a look at the reservoir model to see what the defaults are for the Darcy flow part of the domain:"
   ],
   "metadata": {}
  },
  {
   "outputs": [],
   "cell_type": "code",
   "source": [
    "reservoir_model(ref_model)"
   ],
   "metadata": {},
   "execution_count": null
  },
  {
   "cell_type": "markdown",
   "source": [
    "The secondary variables can be swapped out, replaced and new variables can be added with arbitrary functional dependencies thanks to Jutul's flexible setup for automatic differentiation. Let us adjust the defaults by replacing the relative permeabilities with Brooks-Corey functions:"
   ],
   "metadata": {}
  },
  {
   "cell_type": "markdown",
   "source": [
    "### Brooks-Corey\n",
    "The Brooks-Corey model is a simple model that can be used to generate relative\n",
    "permeabilities. The model is defined in the mobile region as:\n",
    "\n",
    "$k_{rw} = k_{max,w} \\bar{S}_w$\n",
    "\n",
    "$k_{rg} = k_{max,g} \\bar{S}_g$\n",
    "\n",
    "where $k_{max,w}$ is the maximum relative permeability, $\\bar{S}_w$\n",
    "is the normalized saturation for the water phase,\n",
    "\n",
    "$ \\bar{S}_w = \\frac{S_w - S_{wi}}{1 - S_{wi} - S_{rg}}$\n",
    "\n",
    "and, similarly, for the vapor phase:\n",
    "\n",
    "$\\bar{S}_g = \\frac{S_g - S_{rg}}{1 - S_{wi} - S_{rg}}$\n",
    "\n",
    "We use the Brooks Corey function available in JutulDarcy to evaluate the values for a given saturation range.\n",
    "For simplicity, we use the same exponent and residual saturation for both the liquid and vapour phase, such that we only need to train a single model"
   ],
   "metadata": {}
  },
  {
   "outputs": [],
   "cell_type": "code",
   "source": [
    "exponent = 2.0\n",
    "sr_g = sr_w = 0.2\n",
    "r_tot = sr_g + sr_w;\n",
    "\n",
    "kr = BrooksCoreyRelativePermeabilities(ref_sys, [exponent, exponent], [sr_w, sr_g])\n",
    "replace_variables!(ref_model, RelativePermeabilities = kr);"
   ],
   "metadata": {},
   "execution_count": null
  },
  {
   "cell_type": "markdown",
   "source": [
    "### Run the reference simulation"
   ],
   "metadata": {}
  },
  {
   "cell_type": "markdown",
   "source": [
    "We then set up the initial state with constant pressure and liquid-filled reservoir.\n",
    "The inputs (pressure and saturations) must match the model's primary variables.\n",
    "We can now run the simulation (where we first run a warmup step to avoid JIT compilation overhead)."
   ],
   "metadata": {}
  },
  {
   "outputs": [],
   "cell_type": "code",
   "source": [
    "ref_state0 = setup_reservoir_state(ref_model,\n",
    "    Pressure = 120bar,\n",
    "    Saturations = [1.0, 0.0]\n",
    ")\n",
    "\n",
    "simulate_reservoir(ref_state0, ref_model, ref_dt, parameters = ref_parameters, forces = ref_forces, info_level = -1);\n",
    "ref_wd, ref_states, ref_t = simulate_reservoir(ref_state0, ref_model, ref_dt, parameters = ref_parameters, forces = ref_forces, info_level = 1);"
   ],
   "metadata": {},
   "execution_count": null
  },
  {
   "cell_type": "markdown",
   "source": [
    "## Training a neural network to compute relative permeability\n",
    "The next step is to train a neural network to learn the Brooks-Corey relative permeability curve.\n",
    "While using a neural network to learn a simple analytical function is not typically practical, it serves as a\n",
    "good example for integrating machine learning with reservoir simulation."
   ],
   "metadata": {}
  },
  {
   "cell_type": "markdown",
   "source": [
    "First we must generate some data for training a model to represent the Brooks Corey function."
   ],
   "metadata": {}
  },
  {
   "outputs": [],
   "cell_type": "code",
   "source": [
    "train_samples = 1000\n",
    "test_samples = 1000\n",
    "\n",
    "training_sat = collect(range(Float64(0), stop=Float64(1), length=train_samples))\n",
    "training_sat = reshape(training_sat, 1, :)\n",
    "\n",
    "rel_perm_analytical = JutulDarcy.brooks_corey_relperm.(training_sat, n = exponent, residual = sr_g, residual_total = r_tot)\n",
    "fig = Figure()\n",
    "ax = Axis(fig[1,1],\n",
    "    xlabel = \"Saturation\",\n",
    "    ylabel = \"Relative Permeability\",\n",
    "    title = \"Saturation vs. Relative Permeability\",\n",
    "    xticks = 0:0.25:1,\n",
    "    yticks = 0:0.25:1\n",
    ")\n",
    "lines!(ax, vec(training_sat), vec(rel_perm_analytical), label=\"Brooks-Corey RelPerm\")\n",
    "axislegend(ax, position = :lt)\n",
    "fig"
   ],
   "metadata": {},
   "execution_count": null
  },
  {
   "cell_type": "markdown",
   "source": [
    "### Define the neural network architecture\n",
    "Next we define the neural network architecture. The model takes in a saturation value and outputs a relative permeability value.\n",
    "For a batched input, such as the number of cells in the model, the input and output\n",
    "shapes are (1xN_cells)."
   ],
   "metadata": {}
  },
  {
   "cell_type": "markdown",
   "source": [
    "We define our neural network architecture for relative permeability prediction\n",
    "using a multi-layer perceptron (MLP) with the following characteristics:\n",
    "- Input layer: 1 neuron (saturation value)\n",
    "- Three hidden layers: 16 neurons each, with tanh activation\n",
    "- Output layer: 1 neuron with sigmoid activation (relative permeability)\n",
    "\n",
    "Key design choices:\n",
    "- Use of tanh activation in hidden layers for smooth first derivatives\n",
    "- Sigmoid in the final layer to constrain output to [0, 1] range\n",
    "- Float64 precision to match JutulDarcy's numerical precision"
   ],
   "metadata": {}
  },
  {
   "outputs": [],
   "cell_type": "code",
   "source": [
    "BrooksCoreyMLModel = Chain(\n",
    "    Dense(1 => 16, tanh),\n",
    "    Dense(16 => 16, tanh),\n",
    "    Dense(16 => 16, tanh),\n",
    "    Dense(16 => 1, sigmoid)\n",
    ")"
   ],
   "metadata": {},
   "execution_count": null
  },
  {
   "cell_type": "markdown",
   "source": [
    "Define training parameters\n",
    "We train the model using the Adam optimizer with a learning rate of 0.0005. For a total of 20 000 epochs.\n",
    "The `optim` object will store the optimiser momentum, etc."
   ],
   "metadata": {}
  },
  {
   "outputs": [],
   "cell_type": "code",
   "source": [
    "epochs = 20000;\n",
    "lr = 0.0005;"
   ],
   "metadata": {},
   "execution_count": null
  },
  {
   "cell_type": "markdown",
   "source": [
    "Training loop, using the whole data set epochs number of times.\n",
    "We use Adam for the optimiser, set the random seed and initialise the parameters.\n",
    "Lux defaults to float32 precision, so we need to convert the parameters to float64.\n",
    "Lux uses a stateless, explicit representation of the model. It consists of four parts:\n",
    "- model - the model architecture\n",
    "- parameters - the learnable parameters of the model\n",
    "- states - the state of the model, e.g. the hidden states of the recurrent model\n",
    "- optimiser state - the state of the optimiser, e.g. the momentum"
   ],
   "metadata": {}
  },
  {
   "cell_type": "markdown",
   "source": [
    "In addition, we need to define a rule for automatic differentiation. Here we use Zygote."
   ],
   "metadata": {}
  },
  {
   "outputs": [],
   "cell_type": "code",
   "source": [
    "rng = Random.default_rng()\n",
    "Random.seed!(rng, 42)\n",
    "\n",
    "function train_model(ml_model, training_sat, rel_perm_analytical, epochs, lr)\n",
    "    opt = Optimisers.Adam(lr);\n",
    "    ps, st = Lux.setup(rng, ml_model);\n",
    "    ps = ps |> f64;\n",
    "    tstate = Lux.Training.TrainState(ml_model, ps, st, opt);\n",
    "    vjp_rule = ADTypes.AutoZygote();\n",
    "    loss_function = Lux.MSELoss();\n",
    "\n",
    "    warmup_data = rand(Float64, 1, 1);\n",
    "    Training.compute_gradients(vjp_rule, loss_function, (warmup_data, warmup_data), tstate)\n",
    "    @time begin\n",
    "        losses = []\n",
    "        for epoch in 1:epochs\n",
    "            epoch_losses = []\n",
    "            _, loss, _, tstate = Lux.Training.single_train_step!(vjp_rule, loss_function, (training_sat, rel_perm_analytical), tstate);\n",
    "            push!(epoch_losses, loss)\n",
    "            append!(losses, epoch_losses)\n",
    "            if epoch % 1000 == 0 || epoch == epochs\n",
    "                println(\"Epoch: $(lpad(epoch, 3)) \\t Loss: $(round(mean(epoch_losses), sigdigits=5))\")\n",
    "            end\n",
    "        end\n",
    "    end\n",
    "\n",
    "    return tstate, losses\n",
    "end\n",
    "\n",
    "tstate, losses = train_model(BrooksCoreyMLModel, training_sat, rel_perm_analytical, epochs, lr);"
   ],
   "metadata": {},
   "execution_count": null
  },
  {
   "cell_type": "markdown",
   "source": [
    "The loss function is plotted to show that the model is learning."
   ],
   "metadata": {}
  },
  {
   "outputs": [],
   "cell_type": "code",
   "source": [
    "fig = Figure()\n",
    "ax = Axis(fig[1,1],\n",
    "    xlabel = \"Iteration\",\n",
    "    ylabel = \"Loss\",\n",
    "    title = \"Training Loss\",\n",
    "    yscale = log10\n",
    ")\n",
    "lines!(ax, losses, label=\"per batch\")\n",
    "lines!(ax, epochs:epochs:length(losses),\n",
    "    mean.(Iterators.partition(losses, epochs)),\n",
    "    label=\"epoch mean\"\n",
    ")\n",
    "axislegend()\n",
    "fig"
   ],
   "metadata": {},
   "execution_count": null
  },
  {
   "cell_type": "markdown",
   "source": [
    "To test the trained model , we generate some test data, different to the training set"
   ],
   "metadata": {}
  },
  {
   "outputs": [],
   "cell_type": "code",
   "source": [
    "testing_sat = sort([0.0; rand(Float64, test_samples-2); 1.0])\n",
    "testing_sat = reshape(testing_sat, 1, :)"
   ],
   "metadata": {},
   "execution_count": null
  },
  {
   "cell_type": "markdown",
   "source": [
    "Next, we calculate the analytical solution and predicted values with the trained model."
   ],
   "metadata": {}
  },
  {
   "outputs": [],
   "cell_type": "code",
   "source": [
    "test_y = JutulDarcy.brooks_corey_relperm.(testing_sat, n = exponent, residual = sr_g, residual_total = r_tot)\n",
    "pred_y = Lux.apply(BrooksCoreyMLModel, testing_sat, tstate.parameters, tstate.states)[1]\n",
    "\n",
    "fig = Figure()\n",
    "ax = Axis(fig[1,1],\n",
    "    xlabel = \"Saturation\",\n",
    "    ylabel = \"Relative Permeability\",\n",
    "    title = \"Saturation vs. Relative Permeability\",\n",
    "    xticks = 0:0.25:1,\n",
    "    yticks = 0:0.25:1\n",
    ")\n",
    "lines!(ax, vec(testing_sat), vec(test_y), label=\"Brooks-Corey RelPerm\")\n",
    "lines!(ax, vec(testing_sat), vec(pred_y), label=\"ML model RelPerm\")\n",
    "axislegend(ax, position = :lt)\n",
    "fig"
   ],
   "metadata": {},
   "execution_count": null
  },
  {
   "cell_type": "markdown",
   "source": [
    "The plot demonstrates that our neural network has successfully learned to approximate the Brooks-Corey relative permeability curve.\n",
    "This close match between the analytical solution and the ML model's predictions indicates that we can use this trained neural network in our simulation model."
   ],
   "metadata": {}
  },
  {
   "cell_type": "markdown",
   "source": [
    "## Replacing the relative permeability function with our neural network"
   ],
   "metadata": {}
  },
  {
   "cell_type": "markdown",
   "source": [
    "Now we can replace the relative permeability function with our neural network.\n",
    "We define a new type `MLModelRelativePermeabilities` that wraps our neural network model and implements the `update_kr!` function.\n",
    "This function is called by the simulator to update the relative permeability values for the liquid and vapour phase.\n",
    "A potential benefit of using a neural network, is that we can compute all the cells in parallel, and access to highly optimised GPU acceleration is trivial."
   ],
   "metadata": {}
  },
  {
   "outputs": [],
   "cell_type": "code",
   "source": [
    "struct MLModelRelativePermeabilities{M, P, S} <: JutulDarcy.AbstractRelativePermeabilities\n",
    "    ML_model::M\n",
    "    parameters::P\n",
    "    states::S\n",
    "    function MLModelRelativePermeabilities(input_ML_model, parameters, states)\n",
    "        new{typeof(input_ML_model), typeof(parameters), typeof(states)}(input_ML_model, parameters, states)\n",
    "    end\n",
    "end\n",
    "\n",
    "Jutul.@jutul_secondary function update_kr!(kr, kr_def::MLModelRelativePermeabilities, model, Saturations, ix)\n",
    "    ML_model = kr_def.ML_model\n",
    "    ps = kr_def.parameters\n",
    "    st = kr_def.states\n",
    "    for ph in axes(kr, 1)\n",
    "        sat_batch = reshape(Saturations[ph, :], 1, length(Saturations[ph, :]))\n",
    "        kr_pred, st = Lux.apply(ML_model, sat_batch, ps, st)\n",
    "        @inbounds kr[ph, :] .= vec(kr_pred)\n",
    "    end\n",
    "end"
   ],
   "metadata": {},
   "execution_count": null
  },
  {
   "cell_type": "markdown",
   "source": [
    "Since JutulDarcy uses automatic differentiation, our new realtive permeability model needs to be differentiable.\n",
    "This is inherently satisfied by our neural network model, as differentiability is a core requirement for machine learning models.\n",
    "One thing to note, is that we are using Lux with Zygote.jl for automatic differentiation, while Jutul uses ForwardDiff.jl.\n",
    "This is not a problem, as the gradient of our simple neural network is fully compatible with ForwardDiff.jl, so no middleware is needed for this integration.\n",
    "We can now replace the default relative permeability model with our new neural network-based model."
   ],
   "metadata": {}
  },
  {
   "outputs": [],
   "cell_type": "code",
   "source": [
    "ml_model, ml_parameters, ml_forces, ml_sys, ml_dt = setup_simulation_case()\n",
    "\n",
    "ml_kr = MLModelRelativePermeabilities(BrooksCoreyMLModel, tstate.parameters, tstate.states)\n",
    "replace_variables!(ml_model, RelativePermeabilities = ml_kr);"
   ],
   "metadata": {},
   "execution_count": null
  },
  {
   "cell_type": "markdown",
   "source": [
    "We can now inspect the model to see that the relative permeability model has been replaced."
   ],
   "metadata": {}
  },
  {
   "outputs": [],
   "cell_type": "code",
   "source": [
    "reservoir_model(ml_model)"
   ],
   "metadata": {},
   "execution_count": null
  },
  {
   "cell_type": "markdown",
   "source": [
    "### Run the simulation"
   ],
   "metadata": {}
  },
  {
   "outputs": [],
   "cell_type": "code",
   "source": [
    "ml_state0 = setup_reservoir_state(ml_model,\n",
    "    Pressure = 120bar,\n",
    "    Saturations = [1.0, 0.0]\n",
    ")\n",
    "\n",
    "simulate_reservoir(ml_state0, ml_model, ml_dt, parameters = ml_parameters, forces = ml_forces, info_level = -1);\n",
    "ml_wd, ml_states, ml_t = simulate_reservoir(ml_state0, ml_model, ml_dt, parameters = ml_parameters, forces = ml_forces, info_level = 1);"
   ],
   "metadata": {},
   "execution_count": null
  },
  {
   "cell_type": "markdown",
   "source": [
    "### Compare results"
   ],
   "metadata": {}
  },
  {
   "cell_type": "markdown",
   "source": [
    "We can now compare the results of the reference simulation and the simulation with the neural network-based relative permeability model."
   ],
   "metadata": {}
  },
  {
   "outputs": [],
   "cell_type": "code",
   "source": [
    "function plot_comparison(ref_wd, ml_wd, ref_t, ml_t)\n",
    "    fig = Figure(size = (1200, 800))\n",
    "\n",
    "    ax1 = Axis(fig[1, 1], title = \"Injector BHP\", xlabel = \"Time (days)\", ylabel = \"Pressure (bar)\")\n",
    "    lines!(ax1, ref_t/day, ref_wd[:Injector, :bhp]./bar, label = \"Brooks-Corey\")\n",
    "    lines!(ax1, ml_t/day, ml_wd[:Injector, :bhp]./bar, label = \"ML Model\")\n",
    "    axislegend(ax1)\n",
    "\n",
    "    ax2 = Axis(fig[1, 2], title = \"Producer BHP\", xlabel = \"Time (days)\", ylabel = \"Pressure (bar)\")\n",
    "    lines!(ax2, ref_t/day, ref_wd[:Producer, :bhp]./bar, label = \"Brooks-Corey\")\n",
    "    lines!(ax2, ml_t/day, ml_wd[:Producer, :bhp]./bar, label = \"ML Model\")\n",
    "    axislegend(ax2)\n",
    "\n",
    "    ax3 = Axis(fig[2, 1], title = \"Producer Liquid Rate\", xlabel = \"Time (days)\", ylabel = \"Rate (m³/day)\")\n",
    "    lines!(ax3, ref_t/day, abs.(ref_wd[:Producer, :lrat]).*day, label = \"Brooks-Corey\")\n",
    "    lines!(ax3, ml_t/day, abs.(ml_wd[:Producer, :lrat]).*day, label = \"ML Model\")\n",
    "    axislegend(ax3)\n",
    "\n",
    "    ax4 = Axis(fig[2, 2], title = \"Producer Gas Rate\", xlabel = \"Time (days)\", ylabel = \"Rate (m³/day)\")\n",
    "    lines!(ax4, ref_t/day, abs.(ref_wd[:Producer, :grat]).*day, label = \"Brooks-Corey\")\n",
    "    lines!(ax4, ml_t/day, abs.(ml_wd[:Producer, :grat]).*day, label = \"ML Model\")\n",
    "    axislegend(ax4)\n",
    "\n",
    "    return fig\n",
    "end\n",
    "\n",
    "plot_comparison(ref_wd, ml_wd, ref_t, ml_t)"
   ],
   "metadata": {},
   "execution_count": null
  },
  {
   "cell_type": "markdown",
   "source": [
    "From the plot, we can see that the neural network-based relative permeability model is able to match the reference simulation to an acceptable level."
   ],
   "metadata": {}
  },
  {
   "cell_type": "markdown",
   "source": [
    "Interactive visualization of the 3D results is also possible if GLMakie is loaded:"
   ],
   "metadata": {}
  },
  {
   "outputs": [],
   "cell_type": "code",
   "source": [
    "plot_reservoir(ml_model, ml_states, key = :Saturations, step = 3)"
   ],
   "metadata": {},
   "execution_count": null
  },
  {
   "cell_type": "markdown",
   "source": [
    "This example demonstrates how to integrate a neural network model for relative\n",
    "permeability into a reservoir simulation using JutulDarcy.jl. While we used a\n",
    "simple Brooks-Corey model for demonstration, this approach can be extended to\n",
    "more complex scenarios where analytical models may not be sufficient."
   ],
   "metadata": {}
  },
  {
   "cell_type": "markdown",
   "source": [
    "## Bonus: Improving performance with SimpleChains.jl\n",
    "\n",
    "When inspecting the simulation results, we observe that using the ML model is slower than the analytical model.\n",
    "This is not surprising, since we are comparing a 593 parameters neural network on a CPU with a simple analytical function."
   ],
   "metadata": {}
  },
  {
   "cell_type": "markdown",
   "source": [
    "Many popular machine learning libraries prioritize optimization for large neural networks and GPU processing,\n",
    "often at the expense of performance for smaller models and CPU-based computations.\n",
    "For instance, these libraries might use memory allocations to achieve more efficient matrix multiplications,\n",
    "which is beneficial when matrix operations dominate the computation time."
   ],
   "metadata": {}
  },
  {
   "cell_type": "markdown",
   "source": [
    "However, in our scenario with a relatively small network running on a CPU, we can leverage a specialised library\n",
    "to improve performance. SimpleChains.jl is designed specifically for optimising small neural networks on CPUs.\n",
    "It offers significant performance improvements over traditional deep learning frameworks in such scenarios."
   ],
   "metadata": {}
  },
  {
   "cell_type": "markdown",
   "source": [
    "Advantages of SimpleChains.jl include:\n",
    "1. Efficient utilisation of CPU resources, including SIMD vectorisation.\n",
    "2. Minimal memory allocations during forward and backward passes.\n",
    "3. Compile-time optimisations specifically for small, fixed-size networks."
   ],
   "metadata": {}
  },
  {
   "cell_type": "markdown",
   "source": [
    "By using SimpleChains.jl, we can potentially reduce the training time and achieve performance closer to that of the analytical model."
   ],
   "metadata": {}
  },
  {
   "cell_type": "markdown",
   "source": [
    "Fortunately, Lux.jl makes it straightforward to use SimpleChains as a backend. We simply need to convert\n",
    "our model to a SimpleChains model using the `ToSimpleChainsAdaptor`. This allows us to utilise the\n",
    "SimpleChains backend while still using the Lux training API."
   ],
   "metadata": {}
  },
  {
   "cell_type": "markdown",
   "source": [
    "(Note: Lux also supports Flux.jl models through a similar adaptor approach.)"
   ],
   "metadata": {}
  },
  {
   "outputs": [],
   "cell_type": "code",
   "source": [
    "using SimpleChains\n",
    "adaptor = ToSimpleChainsAdaptor(static(1));\n",
    "\n",
    "BrooksCoreyMLModel_sc = adaptor(BrooksCoreyMLModel);"
   ],
   "metadata": {},
   "execution_count": null
  },
  {
   "cell_type": "markdown",
   "source": [
    "We can now train the model using the SimpleChains backend, with the Lux training API."
   ],
   "metadata": {}
  },
  {
   "outputs": [],
   "cell_type": "code",
   "source": [
    "tstate_sc, losses_sc = train_model(BrooksCoreyMLModel_sc, training_sat, rel_perm_analytical, epochs, lr);"
   ],
   "metadata": {},
   "execution_count": null
  },
  {
   "cell_type": "markdown",
   "source": [
    "The training time should be significantly reduced, since SimpleChains is optimised for small networks.\n",
    "With the trained model, we can now replace the relative permeability model in the simulation case, and run the simulation."
   ],
   "metadata": {}
  },
  {
   "outputs": [],
   "cell_type": "code",
   "source": [
    "ml_sc_model, ml_sc_parameters, ml_sc_forces, ml_sc_sys, ml_sc_dt = setup_simulation_case()\n",
    "\n",
    "ml_sc_kr = MLModelRelativePermeabilities(BrooksCoreyMLModel_sc, tstate_sc.parameters, tstate_sc.states)\n",
    "replace_variables!(ml_sc_model, RelativePermeabilities = ml_sc_kr);\n",
    "\n",
    "ml_sc_state0 = setup_reservoir_state(ml_sc_model,\n",
    "    Pressure = 120bar,\n",
    "    Saturations = [1.0, 0.0]\n",
    ")\n",
    "\n",
    "simulate_reservoir(ml_sc_state0, ml_sc_model, ml_sc_dt, parameters = ml_sc_parameters, forces = ml_sc_forces, info_level = -1);\n",
    "ml_sc_wd, ml_sc_states, ml_sc_t = simulate_reservoir(ml_sc_state0, ml_sc_model, ml_sc_dt, parameters = ml_sc_parameters, forces = ml_sc_forces, info_level = 1);"
   ],
   "metadata": {},
   "execution_count": null
  },
  {
   "cell_type": "markdown",
   "source": [
    "From the simulation results, we should observe a performance improvement when using the SimpleChains model."
   ],
   "metadata": {}
  },
  {
   "cell_type": "markdown",
   "source": [
    "---\n",
    "\n",
    "*This notebook was generated using [Literate.jl](https://github.com/fredrikekre/Literate.jl).*"
   ],
   "metadata": {}
  }
 ],
 "nbformat_minor": 3,
 "metadata": {
  "language_info": {
   "file_extension": ".jl",
   "mimetype": "application/julia",
   "name": "julia",
   "version": "1.11.2"
  },
  "kernelspec": {
   "name": "julia-1.11",
   "display_name": "Julia 1.11.2",
   "language": "julia"
  }
 },
 "nbformat": 4
}
