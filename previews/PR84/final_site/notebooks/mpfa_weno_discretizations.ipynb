{
 "cells": [
  {
   "cell_type": "markdown",
   "source": [
    "# Alternative discretizations: WENO, NTPFA and AvgMPFA\n",
    "The following example demonstrates how to set up a reservoir model with\n",
    "different discretizations for flow and transport for a skewed grid. The model\n",
    "setup is taken from 6.1.2 in the MRST book [mrst-book-i](@cite).\n",
    "\n",
    "The example is a two-dimensional model with a single layer. The domain itself\n",
    "is completely symmetric, with producer in either lower corner and a single\n",
    "injector in the middle of the domain. From a flow perspective, the model is\n",
    "completely symmetric, and exactly the same results should be obtained for both\n",
    "producer wells. The grid is intentionally distorted to be skewed towards one\n",
    "producer, which will lead to consistency issues for the standard two-point\n",
    "flux approximation used by the solvers.\n",
    "\n",
    "The fluid model is also quite simple, with two immiscible phases that have\n",
    "linear relative permeability functions. A consequence of this is that the\n",
    "fluid fronts are not self-sharpening and are expected to be smeared out due to\n",
    "the numerical diffusion of the standard first-point upwind scheme."
   ],
   "metadata": {}
  },
  {
   "outputs": [],
   "cell_type": "code",
   "source": [
    "using Jutul, JutulDarcy, GLMakie\n",
    "Darcy, kg, meter, day, bar = si_units(:darcy, :kg, :meter, :day, :bar)\n",
    "ny = 20\n",
    "nx = 2*ny + 1\n",
    "nz = 1\n",
    "\n",
    "gcart = CartesianMesh((nx, ny, nz), (2.0, 1.0, 1.0))\n",
    "g = UnstructuredMesh(gcart)\n",
    "\n",
    "for (i, pt) in enumerate(g.node_points)\n",
    "    x, y, z = pt\n",
    "    pt += [0.4*(1.0-(x-1.0)^2)*(1.0-y), 0, 0]\n",
    "    g.node_points[i] = pt .* [1000.0, 1000.0, 1.0]\n",
    "end\n",
    "\n",
    "c_i = cell_index(g, (nx÷2+1, ny, 1))\n",
    "c_p1 = cell_index(g, (1, 1, 1))\n",
    "c_p2 = cell_index(g, (nx, 1, 1))\n",
    "\n",
    "fig = Figure()\n",
    "ax = Axis(fig[1, 1])\n",
    "Jutul.plot_mesh_edges!(ax, g)\n",
    "plot_mesh!(ax, g, cells = c_i, color = :red)\n",
    "plot_mesh!(ax, g, cells = [c_p1, c_p2], color = :blue)\n",
    "fig"
   ],
   "metadata": {},
   "execution_count": null
  },
  {
   "cell_type": "markdown",
   "source": [
    "## Define wells, fluid system and controls"
   ],
   "metadata": {}
  },
  {
   "outputs": [],
   "cell_type": "code",
   "source": [
    "reservoir = reservoir_domain(g, permeability = 0.1Darcy, porosity = 0.1)\n",
    "\n",
    "c_i1 = cell_index(g, (nx÷2+1, ny, 1))\n",
    "\n",
    "I1 = setup_vertical_well(reservoir, nx÷2+1, ny, name = :I1, simple_well = true)\n",
    "P1 = setup_vertical_well(reservoir, 1, 1, name = :P1, simple_well = true)\n",
    "P2 = setup_vertical_well(reservoir, nx, 1, name = :P2, simple_well = true)\n",
    "\n",
    "phases = (AqueousPhase(), LiquidPhase())\n",
    "rhoWS = rhoLS = 1000.0\n",
    "rhoS = [rhoWS, rhoLS] .* kg/meter^3\n",
    "sys = ImmiscibleSystem(phases, reference_densities = rhoS)\n",
    "\n",
    "dt = repeat([30.0]*day, 100)\n",
    "pv = pore_volume(reservoir)\n",
    "inj_rate = sum(pv)/sum(dt)\n",
    "\n",
    "rate_target = TotalRateTarget(inj_rate)\n",
    "I_ctrl = InjectorControl(rate_target, [1.0, 0.0], density = rhoWS)\n",
    "bhp_target = BottomHolePressureTarget(50*bar)\n",
    "P_ctrl = ProducerControl(bhp_target)\n",
    "controls = Dict()\n",
    "controls[:I1] = I_ctrl\n",
    "controls[:P1] = P_ctrl\n",
    "controls[:P2] = P_ctrl"
   ],
   "metadata": {},
   "execution_count": null
  },
  {
   "cell_type": "markdown",
   "source": [
    "## Define functions to perform the simulations\n",
    "We are going to perform a number of simulations with different discretizations\n",
    "and it is therefore convenient to setup functions that can be called with the\n",
    "desired discretizations as arguments. The results are stored in a dictionary\n",
    "for easy retrieval after the simulations are done."
   ],
   "metadata": {}
  },
  {
   "outputs": [],
   "cell_type": "code",
   "source": [
    "all_results = Dict()"
   ],
   "metadata": {},
   "execution_count": null
  },
  {
   "cell_type": "markdown",
   "source": [
    "### Function to perform simulation\n",
    "The function `simulate_with_discretizations` sets up the reservoir model with\n",
    "the requested discretizations. The default behavior mirrors the default\n",
    "behavior of JutulDarcy by using the industry standard single-point upwind,\n",
    "two-point flux approximation."
   ],
   "metadata": {}
  },
  {
   "outputs": [],
   "cell_type": "code",
   "source": [
    "function simulate_with_discretizations(upwind = :spu, kgrad = :tpfa)\n",
    "    model, parameters = setup_reservoir_model(reservoir, sys,\n",
    "        kgrad = kgrad,\n",
    "        upwind = upwind,\n",
    "        wells = [P1, P2, I1]\n",
    "    )\n",
    "    kr = BrooksCoreyRelativePermeabilities(sys, 1.0, 0.0, 1.0)\n",
    "    replace_variables!(model, RelativePermeabilities = kr)\n",
    "    forces = setup_reservoir_forces(model, control = controls)\n",
    "    state0 = setup_reservoir_state(model, Pressure = 100*bar, Saturations = [0.0, 1.0])\n",
    "    result = simulate_reservoir(state0, model, dt, info_level = 0, parameters = parameters, forces = forces);\n",
    "end"
   ],
   "metadata": {},
   "execution_count": null
  },
  {
   "cell_type": "markdown",
   "source": [
    "### Function to plot the results\n",
    "We create a function `plot_discretization_result` that takes the result from a\n",
    "simultation and plots the saturation field after 75 steps."
   ],
   "metadata": {}
  },
  {
   "outputs": [],
   "cell_type": "code",
   "source": [
    "function plot_discretization_result(result, name)\n",
    "    ws, states = result\n",
    "    sg = states[75][:Saturations][1, :]\n",
    "    fig = Figure()\n",
    "    ax = Axis(fig[1, 1], title = name)\n",
    "    plot_cell_data!(ax, g, sg, colormap = :seaborn_icefire_gradient)\n",
    "    Jutul.plot_mesh_edges!(ax, g)\n",
    "    return fig\n",
    "end"
   ],
   "metadata": {},
   "execution_count": null
  },
  {
   "cell_type": "markdown",
   "source": [
    "### Function to simulate and plot discretizations\n",
    "The function `simulate_and_plot_discretizations` is a convenience function\n",
    "that calls the `simulate_with_discretizations` function and then plots the result."
   ],
   "metadata": {}
  },
  {
   "outputs": [],
   "cell_type": "code",
   "source": [
    "function simulate_and_plot_discretizations(upwind, kgrad)\n",
    "    result = simulate_with_discretizations(upwind, kgrad)\n",
    "    ustr = uppercase(\"$upwind\")\n",
    "    if kgrad == :avgmpfa\n",
    "        kgstr = \"AverageMPFA\"\n",
    "    else\n",
    "        kgstr = uppercase(\"$kgrad\")\n",
    "    end\n",
    "    descr = \"$ustr with $kgstr\"\n",
    "    all_results[descr] = result\n",
    "    plot_discretization_result(result, descr)\n",
    "end"
   ],
   "metadata": {},
   "execution_count": null
  },
  {
   "cell_type": "markdown",
   "source": [
    "### Simulate SPU-TPFA\n",
    "We start by simulating the model with the standard single-point upwind and the\n",
    "two-point flux approximation. This is the default discretization used by\n",
    "JutulDarcy. The schemes are robust (easy to implement and obtain nonlinear\n",
    "convergence) but suffer for consistency issues on skewed and non-K-orthogonal\n",
    "grids. We can observe both significant smearing (the fluid front is not sharp)\n",
    "and a significant bias towards the producer in the lower right corner."
   ],
   "metadata": {}
  },
  {
   "outputs": [],
   "cell_type": "code",
   "source": [
    "simulate_and_plot_discretizations(:spu, :tpfa)"
   ],
   "metadata": {},
   "execution_count": null
  },
  {
   "cell_type": "markdown",
   "source": [
    "### Simulate SPU-AvgMPFA\n",
    "The next simulation uses a type of multi-point flux approximation (AverageMPFA\n",
    "or AvgMPFA), which is one class of consistent discretizations. As the scheme\n",
    "is consistent, the effect of the skewed grid is significantly reduced, with\n",
    "the remaining error being due to the coarse mesh chosen for illustrative\n",
    "purposes. Using AverageMPFA does not alleviate the smearing of the fluid\n",
    "front, however."
   ],
   "metadata": {}
  },
  {
   "outputs": [],
   "cell_type": "code",
   "source": [
    "simulate_and_plot_discretizations(:spu, :avgmpfa)"
   ],
   "metadata": {},
   "execution_count": null
  },
  {
   "cell_type": "markdown",
   "source": [
    "### Simulate SPU-TPFA\n",
    "The next simulation uses a nonlinear two-point flux approximation (NTPFA).\n",
    "This scheme is consistent and monotone, and can be derived from the\n",
    "AverageMPFA scheme by allowing the ratio between the two half-face fluxes at\n",
    "each interface to vary based on pressure."
   ],
   "metadata": {}
  },
  {
   "outputs": [],
   "cell_type": "code",
   "source": [
    "simulate_and_plot_discretizations(:spu, :ntpfa)"
   ],
   "metadata": {},
   "execution_count": null
  },
  {
   "cell_type": "markdown",
   "source": [
    "### Simulate WENO-TPFA\n",
    "The penultimate simulation uses a high-resolution scheme (WENO) for the flow,\n",
    "but reverts back to the inconsistent TPFA scheme for the pressure gradient. We\n",
    "now see significantly sharper fronts, but the bias towards the producer in the\n",
    "lower right corner is now back."
   ],
   "metadata": {}
  },
  {
   "outputs": [],
   "cell_type": "code",
   "source": [
    "simulate_and_plot_discretizations(:weno, :tpfa)"
   ],
   "metadata": {},
   "execution_count": null
  },
  {
   "cell_type": "markdown",
   "source": [
    "### Simulate WENO-AvgMPFA\n",
    "The final simulation combines the high-resolution WENO scheme with the\n",
    "consistent AverageMPFA scheme. The result is a sharp fluid front with no bias\n",
    "towards either producer. This is the most accurate simulation of the four for\n",
    "this intentionally badly gridded problem."
   ],
   "metadata": {}
  },
  {
   "outputs": [],
   "cell_type": "code",
   "source": [
    "simulate_and_plot_discretizations(:weno, :avgmpfa)"
   ],
   "metadata": {},
   "execution_count": null
  },
  {
   "cell_type": "markdown",
   "source": [
    "## Compare the results\n",
    "We can now compare the results of the different discretizations. We start by\n",
    "plotting the well curves in the two producers. Recall that the model is, from\n",
    "a flow perspective, completely symmetric, and the water cut in the two\n",
    "producers should be identical if the problem is fully resolved. We observe\n",
    "this for the consistent schemes, and delayed breakthrough for the SPU solves."
   ],
   "metadata": {}
  },
  {
   "outputs": [],
   "cell_type": "code",
   "source": [
    "fig = Figure()\n",
    "ax1 = Axis(fig[1, 1], title = \"P1 water cut\")\n",
    "ax2 = Axis(fig[2, 1], title = \"P2 water cut\")\n",
    "colors = Makie.wong_colors()\n",
    "for (i, pr) in enumerate(all_results)\n",
    "    name, result = pr\n",
    "    ws, states = result\n",
    "    wcut1 = ws[:P1][:wcut]\n",
    "    wcut2 = ws[:P2][:wcut]\n",
    "    lines!(ax1, wcut1, label = \"$name\", color = colors[i])\n",
    "    lines!(ax2, wcut2, label = \"$name\", color = colors[i])\n",
    "end\n",
    "axislegend(ax1, position = :lt)\n",
    "fig"
   ],
   "metadata": {},
   "execution_count": null
  },
  {
   "cell_type": "markdown",
   "source": [
    "## Compare the saturation fields as contours\n",
    "We can also compare the saturation fields for the different discretizations to\n",
    "see the spatial differences. To make life a bit easier, we make a function to\n",
    "do the comparison plots for us."
   ],
   "metadata": {}
  },
  {
   "outputs": [],
   "cell_type": "code",
   "source": [
    "function compare_contours(name1, name2, title)\n",
    "    cmp = :seaborn_icefire_gradient\n",
    "    r1 = all_results[name1]\n",
    "    r2 = all_results[name2]\n",
    "    fig = Figure(size = (1200, 800))\n",
    "    ax = Axis(fig[1, 1], title = title)\n",
    "    s1 = reshape(r1.states[75][:Saturations][1, :], nx, ny)\n",
    "    s2 = reshape(r2.states[75][:Saturations][1, :], nx, ny)\n",
    "\n",
    "    contourf!(ax, s2, colormap = cmp, label = name2)\n",
    "    contour!(ax, s1, color = :white, linewidth = 5)\n",
    "    contour!(ax, s1, colormap = cmp, linewidth = 3, label = name1)\n",
    "    axislegend(position = :ct)\n",
    "\n",
    "    axd = Axis(fig[1, 2], title = \"Difference\")\n",
    "    plt = contourf!(axd, s1-s2,\n",
    "        colormap = :seismic,\n",
    "        label = name2,\n",
    "        levels = range(-1, 1, length = 10),\n",
    "        colorscale = (-1.0, 1.0)\n",
    "    )\n",
    "    Colorbar(fig[1, 3], limits = (-1, 1), colormap = :seismic)\n",
    "    Colorbar(fig[2, 1:3], limits = (-1, 1), colormap = cmp, vertical = false)\n",
    "\n",
    "    ax1 = Axis(fig[3, 1], title = name1)\n",
    "    contourf!(ax1, s1, colormap = cmp)\n",
    "\n",
    "    ax2 = Axis(fig[3, 2], title = name2)\n",
    "    contourf!(ax2, s2, colormap = cmp)\n",
    "    fig\n",
    "end"
   ],
   "metadata": {},
   "execution_count": null
  },
  {
   "cell_type": "markdown",
   "source": [
    "### Compare SPU-TPFA and SPU-AvgMPFA"
   ],
   "metadata": {}
  },
  {
   "outputs": [],
   "cell_type": "code",
   "source": [
    "compare_contours(\"SPU with AverageMPFA\", \"SPU with TPFA\", \"Consistent (AvgMPFA) vs inconsistent (TPFA)\")"
   ],
   "metadata": {},
   "execution_count": null
  },
  {
   "cell_type": "markdown",
   "source": [
    "### Compare WENO-TPFA and SPU-TPFA"
   ],
   "metadata": {}
  },
  {
   "outputs": [],
   "cell_type": "code",
   "source": [
    "compare_contours(\"WENO with TPFA\", \"SPU with TPFA\", \"High resolution (WENO) vs first order (SPU)\")"
   ],
   "metadata": {},
   "execution_count": null
  },
  {
   "cell_type": "markdown",
   "source": [
    "### Compare WENO-AvgMPFA and SPU-TPFA"
   ],
   "metadata": {}
  },
  {
   "outputs": [],
   "cell_type": "code",
   "source": [
    "compare_contours(\"WENO with AverageMPFA\", \"SPU with TPFA\", \"High resolution + consistent vs first order + inconsistent\")"
   ],
   "metadata": {},
   "execution_count": null
  },
  {
   "cell_type": "markdown",
   "source": [
    "## Conclusion\n",
    "The example demonstrates how different discretizations can affect the results\n",
    "of a simulation. The example is intentionally set up to show the differences\n",
    "in the discretizations. The results show that the consistent discretizations\n",
    "(AvgMPFA and NTPFA) can reduce the bias from grid orientation, and, while not\n",
    "present here, permeability tensor effects. The high-resolution WENO scheme can\n",
    "be employed to reduce smearing of the fluid fronts, which is important for\n",
    "problems that are not self-sharpening (e.g. compositional flow and miscible\n",
    "displacements).\n",
    "\n",
    "These schemes are not a pancea, however, as they require more computational\n",
    "effort to linearize and can have robustness issues where nonlinear convergence\n",
    "rates deteriorate and shorter timesteps may be required. They are accessible\n",
    "in JutulDarcy through the high-level interface and can be applied to any mesh\n",
    "and physics combination supported by the rest of the solvers.\n",
    "\n",
    "We plot a summary of the saturation fields for all combinations of a pair of\n",
    "consistent and a pair of inconsistent discretizations to demonstrate the key\n",
    "differences."
   ],
   "metadata": {}
  },
  {
   "outputs": [],
   "cell_type": "code",
   "source": [
    "fig = Figure(size = (1200, 800))\n",
    "function plot_sat!(i, j, name)\n",
    "    sg = all_results[name].states[75][:Saturations][1, :]\n",
    "    ax = Axis(fig[i,j])\n",
    "    hidespines!(ax)\n",
    "    hidedecorations!(ax)\n",
    "    plt = plot_cell_data!(ax, g, sg, colormap = :seaborn_icefire_gradient, colorrange = (0.0, 1.0))\n",
    "    Jutul.plot_mesh_edges!(ax, g)\n",
    "    return plt\n",
    "end\n",
    "Label(fig[0, 1], \"Single-point upwind\", fontsize = 30, tellheight = true, tellwidth = false)\n",
    "Label(fig[0, 2], \"High resolution\", fontsize = 30, tellheight = true, tellwidth = false)\n",
    "\n",
    "Label(fig[1, 0], \"TPFA\", fontsize = 30, rotation = pi/2, tellheight = false, tellwidth = true)\n",
    "Label(fig[2, 0], \"AverageMPFA\", fontsize = 30, rotation = pi/2, tellheight = false, tellwidth = true)\n",
    "\n",
    "plot_sat!(1, 1, \"SPU with TPFA\")\n",
    "plot_sat!(2, 1, \"SPU with AverageMPFA\")\n",
    "plot_sat!(1, 2, \"WENO with TPFA\")\n",
    "plt = plot_sat!(2, 2, \"WENO with AverageMPFA\")\n",
    "Colorbar(fig[:, 3], plt)\n",
    "fig"
   ],
   "metadata": {},
   "execution_count": null
  },
  {
   "cell_type": "markdown",
   "source": [
    "---\n",
    "\n",
    "*This notebook was generated using [Literate.jl](https://github.com/fredrikekre/Literate.jl).*"
   ],
   "metadata": {}
  }
 ],
 "nbformat_minor": 3,
 "metadata": {
  "language_info": {
   "file_extension": ".jl",
   "mimetype": "application/julia",
   "name": "julia",
   "version": "1.11.2"
  },
  "kernelspec": {
   "name": "julia-1.11",
   "display_name": "Julia 1.11.2",
   "language": "julia"
  }
 },
 "nbformat": 4
}
