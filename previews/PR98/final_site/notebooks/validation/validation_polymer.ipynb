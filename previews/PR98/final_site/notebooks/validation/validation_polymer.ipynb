{
 "cells": [
  {
   "cell_type": "markdown",
   "source": [
    "# Polymer injection in a 2D black-oil reservoir model\n",
    "This example validates a small polymer model taken from the OPM-tests\n",
    "repository. The model is a 2D black-oil reservoir model with polymer\n",
    "injection. Adding polymer to the water phase increases the viscosity of the\n",
    "water and helps with mobility control. This is implemented in JutulDarcy as a\n",
    "tracer that can alter the properties of the system.\n",
    "\n",
    "At present, the JutulDarcy polymer model supports the following features:\n",
    "- Polymer injection in the water phase\n",
    "- Varying degree of mixing between polymer and water\n",
    "- Adsorption of polymer to the rock\n",
    "- Polymer viscosity changes\n",
    "- Permeability reduction from polymer\n",
    "- Dead pore space for polymer part of water phase\n",
    "\n",
    "Note that non-Newtonian / shear effectsare not yet implemented in the polymer\n",
    "model."
   ],
   "metadata": {}
  },
  {
   "outputs": [],
   "cell_type": "code",
   "source": [
    "using GeoEnergyIO, Jutul, JutulDarcy, GLMakie, DelimitedFiles\n",
    "pth = JutulDarcy.GeoEnergyIO.test_input_file_path(\"BOPOLYMER_NOSHEAR\", \"BOPOLYMER_NOSHEAR.DATA\")\n",
    "data = parse_data_file(pth)\n",
    "case = setup_case_from_data_file(data)\n",
    "push!(case.model[:Reservoir].output_variables, :PolymerConcentration)\n",
    "push!(case.model[:Reservoir].output_variables, :PhaseViscosities)\n",
    "push!(case.model[:Reservoir].output_variables, :AdsorbedPolymerConcentration)\n",
    "\n",
    "ws, states, time = simulate_reservoir(case, info_level = -1)"
   ],
   "metadata": {},
   "execution_count": null
  },
  {
   "cell_type": "markdown",
   "source": [
    "## Load the reference solution and set up plotting"
   ],
   "metadata": {}
  },
  {
   "outputs": [],
   "cell_type": "code",
   "source": [
    "ref_pth = JutulDarcy.GeoEnergyIO.test_input_file_path(\"BOPOLYMER_NOSHEAR\", \"result.txt\")\n",
    "tab, header = DelimitedFiles.readdlm(ref_pth, header = true)\n",
    "header = vec(header)\n",
    "units = tab[1, :]\n",
    "tab = Float64.(tab[2:end, :])\n",
    "getcol(x) = tab[:, findfirst(isequal(x), header)]\n",
    "time_ref = getcol(\"TIME\")\n",
    "\n",
    "function plot_comparison(jutul, ref, label; pos = :rt)\n",
    "    fig = Figure()\n",
    "    ax = Axis(fig[1, 1]; xlabel = \"Time / days\", ylabel = label)\n",
    "    lines!(ax, time_ref, ref, label = \"Reference\", color = :black)\n",
    "    lines!(ax, time./si_unit(:day), jutul, label = \"JutulDarcy\", linestyle = :dash, linewidth = 2, color = :black)\n",
    "    lines!(ax, [1285.0, 1285.0], [minimum([jutul; ref]), maximum([jutul; ref])], label = \"Polymer injection start\", color = :red)\n",
    "    lines!(ax, [2960.0, 2960.0], [minimum([jutul; ref]), maximum([jutul; ref])], label = \"Polymer injection stops\", color = :blue)\n",
    "    axislegend(position = pos)\n",
    "    fig\n",
    "end"
   ],
   "metadata": {},
   "execution_count": null
  },
  {
   "cell_type": "markdown",
   "source": [
    "## Plot oil production rate"
   ],
   "metadata": {}
  },
  {
   "outputs": [],
   "cell_type": "code",
   "source": [
    "wopr_ref = getcol(\"WOPR:PROD01\")\n",
    "wopr = -ws[:PROD01, :orat]*si_unit(:day)\n",
    "plot_comparison(wopr, wopr_ref, \"Oil production rate / sm³/day\")"
   ],
   "metadata": {},
   "execution_count": null
  },
  {
   "cell_type": "markdown",
   "source": [
    "## Plot bottom hole pressure\n",
    "The pressure required to inject water significantly increases as polymer is\n",
    "added. This is due to the increased viscosity of the water phase when polymer\n",
    "is part of the mixture."
   ],
   "metadata": {}
  },
  {
   "outputs": [],
   "cell_type": "code",
   "source": [
    "wbhp_ref = getcol(\"WBHP:INJE01\")\n",
    "wbhp = ws[:INJE01, :bhp]./si_unit(:bar)\n",
    "plot_comparison(wbhp, wbhp_ref, \"Injector bottom hole pressure / bar\", pos = :rb)"
   ],
   "metadata": {},
   "execution_count": null
  },
  {
   "cell_type": "markdown",
   "source": [
    "## Plot the water front after polymer injection"
   ],
   "metadata": {}
  },
  {
   "outputs": [],
   "cell_type": "code",
   "source": [
    "reservoir = reservoir_domain(case.model)\n",
    "g = physical_representation(reservoir)"
   ],
   "metadata": {},
   "execution_count": null
  },
  {
   "cell_type": "markdown",
   "source": [
    "## Plot the water saturation front"
   ],
   "metadata": {}
  },
  {
   "outputs": [],
   "cell_type": "code",
   "source": [
    "fig, ax, plt = plot_cell_data(g, states[148][:Saturations][1, :])\n",
    "ax.azimuth = 1.5π\n",
    "ax.elevation = 0\n",
    "hidedecorations!(ax)\n",
    "fig"
   ],
   "metadata": {},
   "execution_count": null
  },
  {
   "cell_type": "markdown",
   "source": [
    "## Plot the polymer concentration"
   ],
   "metadata": {}
  },
  {
   "outputs": [],
   "cell_type": "code",
   "source": [
    "fig, ax, plt = plot_cell_data(g, states[148][:PolymerConcentration])\n",
    "ax.azimuth = 1.5π\n",
    "ax.elevation = 0\n",
    "hidedecorations!(ax)\n",
    "fig"
   ],
   "metadata": {},
   "execution_count": null
  },
  {
   "cell_type": "markdown",
   "source": [
    "## Plot the adsorbed polymer concentration\n",
    "The polymer is adsorbed to the rock surface. This is a key part of the polymer\n",
    "model -- the polymer is not only in the water phase but also adsorbed to the\n",
    "rock."
   ],
   "metadata": {}
  },
  {
   "outputs": [],
   "cell_type": "code",
   "source": [
    "fig, ax, plt = plot_cell_data(g, states[148][:AdsorbedPolymerConcentration])\n",
    "ax.azimuth = 1.5π\n",
    "ax.elevation = 0\n",
    "hidedecorations!(ax)\n",
    "fig"
   ],
   "metadata": {},
   "execution_count": null
  },
  {
   "cell_type": "markdown",
   "source": [
    "---\n",
    "\n",
    "*This notebook was generated using [Literate.jl](https://github.com/fredrikekre/Literate.jl).*"
   ],
   "metadata": {}
  }
 ],
 "nbformat_minor": 3,
 "metadata": {
  "language_info": {
   "file_extension": ".jl",
   "mimetype": "application/julia",
   "name": "julia",
   "version": "1.11.3"
  },
  "kernelspec": {
   "name": "julia-1.11",
   "display_name": "Julia 1.11.3",
   "language": "julia"
  }
 },
 "nbformat": 4
}
