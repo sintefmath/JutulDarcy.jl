{
 "cells": [
  {
   "cell_type": "markdown",
   "source": [
    "# High-temperature Aquifer Thermal Energy Storage (HT-ATES)\n",
    "This example demonstrates how to simulate high-temperature aquifer thermal\n",
    "energy storage. We set up a simple case describing a vertical slice of a\n",
    "reservoir with an a main (hot) well near the left boundary, and a supporting\n",
    "(cold) well near the right boundary. The reservoir has boundarys condition\n",
    "that provides a constant pressure and temperature. We set up a yearly cycle\n",
    "where energy is stored from June to September, and discharged from December to\n",
    "March. The rest of the year is a rest period where no energy is stored or\n",
    "produced."
   ],
   "metadata": {}
  },
  {
   "outputs": [],
   "cell_type": "code",
   "source": [
    "using JutulDarcy, Jutul, HYPRE\n",
    "import Dates: monthname\n",
    "darcy, litre, year, second = si_units(:darcy, :litre, :year, :second)\n",
    "\n",
    "nx = 100\n",
    "nz = 100\n",
    "\n",
    "temperature_top = convert_to_si(40.0, :Celsius)\n",
    "pressure_top = convert_to_si(120.0, :bar)\n",
    "temperature_surface = convert_to_si(10.0, :Celsius)\n",
    "\n",
    "grad_p = 1000*9.81\n",
    "grad_T = 0.3"
   ],
   "metadata": {},
   "execution_count": null
  },
  {
   "cell_type": "markdown",
   "source": [
    "## Set up the reservoir"
   ],
   "metadata": {}
  },
  {
   "outputs": [],
   "cell_type": "code",
   "source": [
    "g = CartesianMesh((nx, 1, nz), (250.0, 250.0, 75.0))\n",
    "reservoir = reservoir_domain(g,\n",
    "    permeability = [0.3, 0.3, 0.1].*darcy,\n",
    "    porosity = 0.3,\n",
    "    rock_thermal_conductivity = 2.0,\n",
    "    fluid_thermal_conductivity = 0.6\n",
    ")\n",
    "\n",
    "depth = reservoir[:cell_centroids][3, :];"
   ],
   "metadata": {},
   "execution_count": null
  },
  {
   "cell_type": "markdown",
   "source": [
    "## Define wells and model"
   ],
   "metadata": {}
  },
  {
   "outputs": [],
   "cell_type": "code",
   "source": [
    "di = Int(ceil(nx/4))\n",
    "k = Int(ceil(nz/2))\n",
    "Whot = setup_vertical_well(reservoir, 0+di   , 1, toe = k, name = :Hot)\n",
    "Wcold = setup_vertical_well(reservoir, nx-di+1, 1, toe = k, name = :Cold)\n",
    "\n",
    "model, parameters = setup_reservoir_model(reservoir, :geothermal, wells = [Whot, Wcold]);"
   ],
   "metadata": {},
   "execution_count": null
  },
  {
   "cell_type": "markdown",
   "source": [
    "## Set up boundary and initial conditions"
   ],
   "metadata": {}
  },
  {
   "outputs": [],
   "cell_type": "code",
   "source": [
    "bcells = Int[]\n",
    "pressure_res = Float64[]\n",
    "temperature_res = Float64[]\n",
    "for cell in 1:number_of_cells(g)\n",
    "    d = depth[cell]\n",
    "    push!(pressure_res, pressure_top + grad_p*d)\n",
    "    push!(temperature_res, temperature_top + grad_T*d)\n",
    "\n",
    "    I, J, K = cell_ijk(g, cell)\n",
    "    if I == 1 || I == nx\n",
    "        push!(bcells, cell)\n",
    "    end\n",
    "end\n",
    "\n",
    "bc = flow_boundary_condition(bcells, reservoir, pressure_res[bcells], temperature_res[bcells]);"
   ],
   "metadata": {},
   "execution_count": null
  },
  {
   "cell_type": "markdown",
   "source": [
    "## Set up the schedule"
   ],
   "metadata": {}
  },
  {
   "cell_type": "markdown",
   "source": [
    "### Set up forces"
   ],
   "metadata": {}
  },
  {
   "cell_type": "markdown",
   "source": [
    "We assume we have a supply amounting to 90°C. at 25 l/s for storage. During\n",
    "the discharge period, we assume the same discharge rate and a temperature of\n",
    "10°C."
   ],
   "metadata": {}
  },
  {
   "outputs": [],
   "cell_type": "code",
   "source": [
    "charge_rate = 25litre/second\n",
    "discharge_rate = charge_rate\n",
    "temperature_charge = temperature_top + 50.0\n",
    "temperature_discharge = temperature_top - 30.0"
   ],
   "metadata": {},
   "execution_count": null
  },
  {
   "cell_type": "markdown",
   "source": [
    "Set up forces for charging"
   ],
   "metadata": {}
  },
  {
   "outputs": [],
   "cell_type": "code",
   "source": [
    "rate_target = TotalRateTarget(charge_rate)\n",
    "ctrl_hot  = InjectorControl(rate_target, [1.0], density = 1000.0, temperature = temperature_charge)\n",
    "rate_target = TotalRateTarget(-charge_rate)\n",
    "ctrl_cold = ProducerControl(rate_target)\n",
    "forces_charge = setup_reservoir_forces(model, control = Dict(:Hot => ctrl_hot, :Cold => ctrl_cold), bc = bc)"
   ],
   "metadata": {},
   "execution_count": null
  },
  {
   "cell_type": "markdown",
   "source": [
    "Set up forces for discharging"
   ],
   "metadata": {}
  },
  {
   "outputs": [],
   "cell_type": "code",
   "source": [
    "rate_target = TotalRateTarget(discharge_rate)\n",
    "ctrl_cold = InjectorControl(rate_target, [1.0], density = 1000.0, temperature = temperature_discharge)\n",
    "rate_target = TotalRateTarget(-discharge_rate)\n",
    "ctrl_hot = ProducerControl(rate_target)\n",
    "forces_discharge = setup_reservoir_forces(model, control = Dict(:Hot => ctrl_hot, :Cold => ctrl_cold), bc = bc)"
   ],
   "metadata": {},
   "execution_count": null
  },
  {
   "cell_type": "markdown",
   "source": [
    "### Set up forces for rest period"
   ],
   "metadata": {}
  },
  {
   "outputs": [],
   "cell_type": "code",
   "source": [
    "forces_rest = setup_reservoir_forces(model, bc = bc)"
   ],
   "metadata": {},
   "execution_count": null
  },
  {
   "cell_type": "markdown",
   "source": [
    "### Set up timesteps and assign forces to each timestep"
   ],
   "metadata": {}
  },
  {
   "outputs": [],
   "cell_type": "code",
   "source": [
    "num_years = 25\n",
    "dt = Float64[]\n",
    "forces = []\n",
    "month = year/12\n",
    "for year in 1:num_years\n",
    "    for mno in vcat(6:12, 1:5)\n",
    "        mname = monthname(mno)\n",
    "        if mname in (\"January\", \"February\", \"March\", \"December\")\n",
    "            push!(dt, month)\n",
    "            push!(forces, forces_discharge)\n",
    "        elseif mname in (\"June\", \"July\", \"August\", \"September\")\n",
    "            push!(dt, month)\n",
    "            push!(forces, forces_charge)\n",
    "        else\n",
    "            @assert mname in (\"April\", \"May\", \"October\", \"November\")\n",
    "            push!(dt, month)\n",
    "            push!(forces, forces_rest)\n",
    "        end\n",
    "    end\n",
    "end"
   ],
   "metadata": {},
   "execution_count": null
  },
  {
   "cell_type": "markdown",
   "source": [
    "## Set up initial state"
   ],
   "metadata": {}
  },
  {
   "outputs": [],
   "cell_type": "code",
   "source": [
    "state0 = setup_reservoir_state(model, Pressure = pressure_res, Temperature = temperature_res);"
   ],
   "metadata": {},
   "execution_count": null
  },
  {
   "cell_type": "markdown",
   "source": [
    "## Simulate the case"
   ],
   "metadata": {}
  },
  {
   "outputs": [],
   "cell_type": "code",
   "source": [
    "ws, states = simulate_reservoir(state0, model, dt,\n",
    "    forces = forces,\n",
    "    parameters = parameters\n",
    ");"
   ],
   "metadata": {},
   "execution_count": null
  },
  {
   "cell_type": "markdown",
   "source": [
    "## Plot the reservoir states in the interactive viewer"
   ],
   "metadata": {}
  },
  {
   "outputs": [],
   "cell_type": "code",
   "source": [
    "using GLMakie\n",
    "plot_reservoir(model, states, key = :Temperature, step = num_years*12)"
   ],
   "metadata": {},
   "execution_count": null
  },
  {
   "cell_type": "markdown",
   "source": [
    "## Plot wells interactively"
   ],
   "metadata": {}
  },
  {
   "outputs": [],
   "cell_type": "code",
   "source": [
    "plot_well_results(ws)"
   ],
   "metadata": {},
   "execution_count": null
  },
  {
   "cell_type": "markdown",
   "source": [
    "## Plot energy recovery factor\n",
    "The energy recovery factor η is defined as the amount of stored to produced\n",
    "energy. We plot this both cumulatively and for each of the 25 yearly cycles"
   ],
   "metadata": {}
  },
  {
   "outputs": [],
   "cell_type": "code",
   "source": [
    "wd = ws.wells[:Hot]\n",
    "c_p_water = 4.186 # kJ/kgK\n",
    "\n",
    "well_temp = wd[:temperature]\n",
    "q = wd[:mass_rate]\n",
    "\n",
    "storage = q .> 0\n",
    "q_store = q.*storage\n",
    "q_prod = q.*(.!storage)\n",
    "stored_energy = well_temp.*q_store.*c_p_water.*dt\n",
    "produced_energy = -well_temp.*q_prod.*c_p_water.*dt\n",
    "η_cumulative = cumsum(produced_energy)./cumsum(stored_energy)\n",
    "t = cumsum(dt)./si_unit(:day)\n",
    "\n",
    "η, T = zeros(num_years), zeros(num_years)\n",
    "for i = 1:num_years\n",
    "    ix = (1:12) .+ 12*(i-1)\n",
    "    se = sum(stored_energy[ix])\n",
    "    pe = sum(produced_energy[ix])\n",
    "    η[i] = pe/se\n",
    "    T[i] = t[ix[end]]\n",
    "end\n",
    "\n",
    "fig = Figure()\n",
    "ax = Axis(fig[1, 1], title = \"Produced energy [kJ]\")\n",
    "barplot!(ax, T, η, label = \"Yearly\")\n",
    "lines!(ax, t, η_cumulative, color = :black, label = \"Cumulative\")\n",
    "axislegend(ax, position = :rb)\n",
    "fig"
   ],
   "metadata": {},
   "execution_count": null
  },
  {
   "cell_type": "markdown",
   "source": [
    "---\n",
    "\n",
    "*This notebook was generated using [Literate.jl](https://github.com/fredrikekre/Literate.jl).*"
   ],
   "metadata": {}
  }
 ],
 "nbformat_minor": 3,
 "metadata": {
  "language_info": {
   "file_extension": ".jl",
   "mimetype": "application/julia",
   "name": "julia",
   "version": "1.11.3"
  },
  "kernelspec": {
   "name": "julia-1.11",
   "display_name": "Julia 1.11.3",
   "language": "julia"
  }
 },
 "nbformat": 4
}
