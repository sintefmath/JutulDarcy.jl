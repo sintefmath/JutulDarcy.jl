{
 "cells": [
  {
   "cell_type": "markdown",
   "source": [
    "# Validation of Jutul against existing reservoir simulators\n",
    "This example contains validation of Jutul against [MRST](https://www.mrst.no).\n",
    "In general, minor differences are observed. These can be traced back to a\n",
    "combination of different internal timestepping done by the simulators and that\n",
    "JutulDarcy by default uses a multisegment well formulation while MRST uses a\n",
    "standard instantaneous equilibrium model without well bore storage terms.\n",
    "These differences are most evident when simulators start up.\n",
    "\n",
    "These cases have been exported using the MRST `jutul` module which can export\n",
    "MRST or Eclipse-type of cases to a JutulDarcy-compatible input format. They\n",
    "can then be simulated using `simulate_mrst_case`."
   ],
   "metadata": {}
  },
  {
   "outputs": [],
   "cell_type": "code",
   "source": [
    "using JutulDarcy, Jutul\n",
    "using GLMakie"
   ],
   "metadata": {},
   "execution_count": null
  },
  {
   "cell_type": "markdown",
   "source": [
    "## Define a few utilities for plotting the MRST results\n",
    "We are going to compare well responses against pre-computed results stored\n",
    "inside the JutulDarcy module."
   ],
   "metadata": {}
  },
  {
   "outputs": [],
   "cell_type": "code",
   "source": [
    "function mrst_case_path(name)\n",
    "    base_path, = splitdir(pathof(JutulDarcy))\n",
    "    joinpath(base_path, \"..\", \"test\", \"mrst\", \"$(name).mat\")\n",
    "end\n",
    "\n",
    "function mrst_solution(result)\n",
    "    return result.extra[:mrst][\"extra\"][1][\"mrst_solution\"]\n",
    "end\n",
    "\n",
    "function mrst_well_index(mrst_result, k)\n",
    "    return findfirst(isequal(\"$k\"), vec(mrst_result[\"names\"]))\n",
    "end\n",
    "\n",
    "function get_mrst_comparison(wdata, ref, wname, t = :bhp)\n",
    "    yscale = \"m³/s\"\n",
    "    if t == :bhp\n",
    "        tname = :bhp\n",
    "        mname = \"bhp\"\n",
    "        yscale = \"Pa\"\n",
    "    elseif t == :qos\n",
    "        tname = :orat\n",
    "        mname = \"qOs\"\n",
    "    elseif t == :qws\n",
    "        tname = :wrat\n",
    "        mname = \"qWs\"\n",
    "    elseif t == :qgs\n",
    "        tname = :grat\n",
    "        mname = \"qGs\"\n",
    "    else\n",
    "        error(\"Not supported: $t\")\n",
    "    end\n",
    "    jutul = wdata[tname]\n",
    "    mrst = ref[mname][:, mrst_well_index(ref, wname)]\n",
    "\n",
    "    return (jutul, mrst, tname, yscale)\n",
    "end\n",
    "\n",
    "function plot_comparison(wsol, ref, rep_t, t, wells_keys = keys(wsol.wells))\n",
    "    fig = Figure()\n",
    "    ax = Axis(fig[1, 1], xlabel = \"time (days)\")\n",
    "    l = \"\"\n",
    "    yscale = \"\"\n",
    "    T = rep_t./(3600*24.0)\n",
    "    for (w, d) in wsol.wells\n",
    "        if !(w in wells_keys)\n",
    "            continue\n",
    "        end\n",
    "        jutul, mrst, l, yscale = get_mrst_comparison(d, ref, w, t)\n",
    "        lines!(ax, T, abs.(jutul), label = \"$w\")\n",
    "        scatter!(ax, T, abs.(mrst), markersize = 8)\n",
    "    end\n",
    "    axislegend()\n",
    "    ax.ylabel[] = \"$l ($yscale)\"\n",
    "    fig\n",
    "end"
   ],
   "metadata": {},
   "execution_count": null
  },
  {
   "cell_type": "markdown",
   "source": [
    "## The Egg model (oil-water compressible)\n",
    "A two-phase model that is taken from the first member of the EGG ensemble. For\n",
    "more details, see the paper where the ensemble is introduced:\n",
    "\n",
    "[Jansen, Jan-Dirk, et al. \"The egg model–a geological ensemble for reservoir\n",
    "simulation.\" Geoscience Data Journal 1.2 (2014): 192-195.](https://doi.org/10.1002/gdj3.21)"
   ],
   "metadata": {}
  },
  {
   "cell_type": "markdown",
   "source": [
    "### Simulate model"
   ],
   "metadata": {}
  },
  {
   "outputs": [],
   "cell_type": "code",
   "source": [
    "egg = simulate_mrst_case(mrst_case_path(\"egg\"), info_level = -1)\n",
    "wells = egg.wells\n",
    "rep_t = egg.time\n",
    "ref = mrst_solution(egg);"
   ],
   "metadata": {},
   "execution_count": null
  },
  {
   "cell_type": "markdown",
   "source": [
    "### Compare well responses"
   ],
   "metadata": {}
  },
  {
   "outputs": [],
   "cell_type": "code",
   "source": [
    "injectors = [:INJECT1, :INJECT2, :INJECT3, :INJECT4, :INJECT5, :INJECT6, :INJECT7]\n",
    "producers = [:PROD1, :PROD2, :PROD3, :PROD4]"
   ],
   "metadata": {},
   "execution_count": null
  },
  {
   "cell_type": "markdown",
   "source": [
    "#### Bottom hole pressures"
   ],
   "metadata": {}
  },
  {
   "outputs": [],
   "cell_type": "code",
   "source": [
    "plot_comparison(wells, ref, rep_t, :bhp, injectors)"
   ],
   "metadata": {},
   "execution_count": null
  },
  {
   "cell_type": "markdown",
   "source": [
    "#### Oil rates"
   ],
   "metadata": {}
  },
  {
   "outputs": [],
   "cell_type": "code",
   "source": [
    "plot_comparison(wells, ref, rep_t, :qos, producers)"
   ],
   "metadata": {},
   "execution_count": null
  },
  {
   "cell_type": "markdown",
   "source": [
    "#### Water rates"
   ],
   "metadata": {}
  },
  {
   "outputs": [],
   "cell_type": "code",
   "source": [
    "plot_comparison(wells, ref, rep_t, :qws, producers)"
   ],
   "metadata": {},
   "execution_count": null
  },
  {
   "cell_type": "markdown",
   "source": [
    "## SPE1 (black oil, disgas)\n",
    "A shortened version of the SPE1 benchmark case.\n",
    "\n",
    "[Odeh, A.S. 1981. Comparison of Solutions to a Three-Dimensional Black-Oil\n",
    "Reservoir Simulation Problem. J Pet Technol 33 (1): 13–25.\n",
    "SPE-9723-PA](http://dx.doi.org/10.2118/9723-PA)\n",
    "\n",
    "For comparison against other simulators, see the equivialent JutulSPE1 example\n",
    "in the Jutul module for [MRST](https://www.mrst.no)\n",
    "### Simulate model"
   ],
   "metadata": {}
  },
  {
   "outputs": [],
   "cell_type": "code",
   "source": [
    "spe1 = simulate_mrst_case(mrst_case_path(\"spe1\"), info_level = -1)\n",
    "wells = spe1.wells\n",
    "rep_t = spe1.time\n",
    "ref = mrst_solution(spe1);"
   ],
   "metadata": {},
   "execution_count": null
  },
  {
   "cell_type": "markdown",
   "source": [
    "### Compare well responses\n",
    "#### Bottom hole pressures"
   ],
   "metadata": {}
  },
  {
   "outputs": [],
   "cell_type": "code",
   "source": [
    "plot_comparison(wells, ref, rep_t, :bhp)"
   ],
   "metadata": {},
   "execution_count": null
  },
  {
   "cell_type": "markdown",
   "source": [
    "#### Gas rates"
   ],
   "metadata": {}
  },
  {
   "outputs": [],
   "cell_type": "code",
   "source": [
    "plot_comparison(wells, ref, rep_t, :qgs, [:PRODUCER])"
   ],
   "metadata": {},
   "execution_count": null
  },
  {
   "cell_type": "markdown",
   "source": [
    "## SPE3 (black oil, vapoil)\n",
    "A black-oil variant of the SPE3 benchmark case.\n",
    "\n",
    "[Kenyon, D. \"Third SPE comparative solution project: gas cycling of retrograde\n",
    "condensate reservoirs.\" Journal of Petroleum Technology 39.08 (1987):\n",
    "981-997](http://dx.doi.org/10.2118/12278-PA)"
   ],
   "metadata": {}
  },
  {
   "cell_type": "markdown",
   "source": [
    "### Simulate model"
   ],
   "metadata": {}
  },
  {
   "outputs": [],
   "cell_type": "code",
   "source": [
    "spe3 = simulate_mrst_case(mrst_case_path(\"spe3\"), info_level = -1)\n",
    "wells = spe3.wells\n",
    "rep_t = spe3.time\n",
    "ref = mrst_solution(spe3);"
   ],
   "metadata": {},
   "execution_count": null
  },
  {
   "cell_type": "markdown",
   "source": [
    "### Compare well responses\n",
    "#### Bottom hole pressures"
   ],
   "metadata": {}
  },
  {
   "outputs": [],
   "cell_type": "code",
   "source": [
    "plot_comparison(wells, ref, rep_t, :bhp, [:PRODUCER])"
   ],
   "metadata": {},
   "execution_count": null
  },
  {
   "cell_type": "markdown",
   "source": [
    "#### Gas rates"
   ],
   "metadata": {}
  },
  {
   "outputs": [],
   "cell_type": "code",
   "source": [
    "plot_comparison(wells, ref, rep_t, :qgs, [:PRODUCER])"
   ],
   "metadata": {},
   "execution_count": null
  },
  {
   "cell_type": "markdown",
   "source": [
    "#### Oil rates"
   ],
   "metadata": {}
  },
  {
   "outputs": [],
   "cell_type": "code",
   "source": [
    "plot_comparison(wells, ref, rep_t, :qos, [:PRODUCER])"
   ],
   "metadata": {},
   "execution_count": null
  },
  {
   "cell_type": "markdown",
   "source": [
    "## SPE9 (black oil, disgas)\n",
    "Example of the SPE9 model exported from MRST running in JutulDarcy.\n",
    "\n",
    "  [Killough, J. E. 1995. Ninth SPE comparative solution project: A\n",
    "  reexamination of black-oil simulation. In SPE Reservoir Simulation\n",
    "  Symposium,  12-15 February 1995, San Antonio, Texas. SPE 29110-MS]\n",
    "  (http://dx.doi.org/10.2118/29110-MS)\n",
    "\n",
    "For comparison against other simulators, see the equivialent JutulSPE9 example\n",
    "in the Jutul module for [MRST](https://www.mrst.no)"
   ],
   "metadata": {}
  },
  {
   "cell_type": "markdown",
   "source": [
    "### Simulate model"
   ],
   "metadata": {}
  },
  {
   "outputs": [],
   "cell_type": "code",
   "source": [
    "spe9 = simulate_mrst_case(mrst_case_path(\"spe9\"), info_level = -1)\n",
    "wells = spe9.wells\n",
    "rep_t = spe9.time\n",
    "ref = mrst_solution(spe9);"
   ],
   "metadata": {},
   "execution_count": null
  },
  {
   "cell_type": "markdown",
   "source": [
    "### Compare well responses"
   ],
   "metadata": {}
  },
  {
   "outputs": [],
   "cell_type": "code",
   "source": [
    "injectors = [:INJE1]\n",
    "producers = [Symbol(\"PROD$i\") for i in 1:25]"
   ],
   "metadata": {},
   "execution_count": null
  },
  {
   "cell_type": "markdown",
   "source": [
    "#### Injector water rate"
   ],
   "metadata": {}
  },
  {
   "outputs": [],
   "cell_type": "code",
   "source": [
    "plot_comparison(wells, ref, rep_t, :qws, injectors)"
   ],
   "metadata": {},
   "execution_count": null
  },
  {
   "cell_type": "markdown",
   "source": [
    "#### Oil rates"
   ],
   "metadata": {}
  },
  {
   "outputs": [],
   "cell_type": "code",
   "source": [
    "plot_comparison(wells, ref, rep_t, :qos, producers)"
   ],
   "metadata": {},
   "execution_count": null
  },
  {
   "cell_type": "markdown",
   "source": [
    "#### Water rates"
   ],
   "metadata": {}
  },
  {
   "outputs": [],
   "cell_type": "code",
   "source": [
    "plot_comparison(wells, ref, rep_t, :qws, producers)"
   ],
   "metadata": {},
   "execution_count": null
  },
  {
   "cell_type": "markdown",
   "source": [
    "#### Bottom hole pressures"
   ],
   "metadata": {}
  },
  {
   "outputs": [],
   "cell_type": "code",
   "source": [
    "plot_comparison(wells, ref, rep_t, :bhp, producers)"
   ],
   "metadata": {},
   "execution_count": null
  },
  {
   "cell_type": "markdown",
   "source": [
    "---\n",
    "\n",
    "*This notebook was generated using [Literate.jl](https://github.com/fredrikekre/Literate.jl).*"
   ],
   "metadata": {}
  }
 ],
 "nbformat_minor": 3,
 "metadata": {
  "language_info": {
   "file_extension": ".jl",
   "mimetype": "application/julia",
   "name": "julia",
   "version": "1.10.5"
  },
  "kernelspec": {
   "name": "julia-1.10",
   "display_name": "Julia 1.10.5",
   "language": "julia"
  }
 },
 "nbformat": 4
}
