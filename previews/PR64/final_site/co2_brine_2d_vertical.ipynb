{
 "cells": [
  {
   "cell_type": "markdown",
   "source": [
    "# Example demonstrating compositional flow\n",
    "This is a simple conceptual example demonstrating how to solve compositional\n",
    "flow. This example uses a two-component water-CO2 system. Note that the\n",
    "default Peng-Robinson is not accurate for this system without adjustments to\n",
    "the parameters. However, the example demonstrates the conceptual workflow for\n",
    "getting started with compositional simulation.\n",
    "## Set up mixture\n",
    "We load the external flash package and define a two-component H2O-CO2 system.\n",
    "The constructor for each species takes in molecular weight, critical pressure,\n",
    "critical temperature, critical volume, acentric factor given as strict SI.\n",
    "This means, for instance, that molar masses are given in kg/mole and not\n",
    "g/mole or kg/kmol."
   ],
   "metadata": {}
  },
  {
   "outputs": [],
   "cell_type": "code",
   "source": [
    "using MultiComponentFlash\n",
    "h2o = MolecularProperty(0.018015268, 22.064e6, 647.096, 5.595e-05, 0.3442920843)\n",
    "co2 = MolecularProperty(0.0440098, 7.3773e6, 304.1282, 9.412e-05, 0.22394)\n",
    "\n",
    "bic = zeros(2, 2)\n",
    "\n",
    "mixture = MultiComponentMixture([h2o, co2], A_ij = bic, names = [\"H2O\", \"CO2\"])\n",
    "eos = GenericCubicEOS(mixture, PengRobinson())"
   ],
   "metadata": {},
   "execution_count": null
  },
  {
   "cell_type": "markdown",
   "source": [
    "## Set up domain and wells"
   ],
   "metadata": {}
  },
  {
   "outputs": [],
   "cell_type": "code",
   "source": [
    "using Jutul, JutulDarcy, GLMakie\n",
    "nx = 50\n",
    "ny = 1\n",
    "nz = 20\n",
    "dims = (nx, ny, nz)\n",
    "g = CartesianMesh(dims, (100.0, 10.0, 10.0))\n",
    "nc = number_of_cells(g)\n",
    "Darcy, bar, kg, meter, Kelvin, day, sec = si_units(:darcy, :bar, :kilogram, :meter, :Kelvin, :day, :second)\n",
    "K = repeat([0.1, 0.1, 0.001]*Darcy, 1, nc)\n",
    "res = reservoir_domain(g, porosity = 0.3, permeability = K)"
   ],
   "metadata": {},
   "execution_count": null
  },
  {
   "cell_type": "markdown",
   "source": [
    "Set up a vertical well in the first corner, perforated in top layer"
   ],
   "metadata": {}
  },
  {
   "outputs": [],
   "cell_type": "code",
   "source": [
    "prod = setup_well(g, K, [(nx, ny, 1)], name = :Producer)"
   ],
   "metadata": {},
   "execution_count": null
  },
  {
   "cell_type": "markdown",
   "source": [
    "Set up an injector in the opposite corner, perforated in bottom layer"
   ],
   "metadata": {}
  },
  {
   "outputs": [],
   "cell_type": "code",
   "source": [
    "inj = setup_well(g, K, [(1, 1, nz)], name = :Injector)"
   ],
   "metadata": {},
   "execution_count": null
  },
  {
   "cell_type": "markdown",
   "source": [
    "## Define system and realize on grid"
   ],
   "metadata": {}
  },
  {
   "outputs": [],
   "cell_type": "code",
   "source": [
    "rhoLS = 844.23*kg/meter^3\n",
    "rhoVS = 126.97*kg/meter^3\n",
    "rhoS = [rhoLS, rhoVS]\n",
    "L, V = LiquidPhase(), VaporPhase()\n",
    "sys = MultiPhaseCompositionalSystemLV(eos, (L, V))\n",
    "model, parameters = setup_reservoir_model(res, sys, wells = [inj, prod]);\n",
    "push!(model[:Reservoir].output_variables, :Saturations)\n",
    "kr = BrooksCoreyRelativePermeabilities(sys, 2.0, 0.0, 1.0)\n",
    "model = replace_variables!(model, RelativePermeabilities = kr)\n",
    "T0 = fill(303.15*Kelvin, nc)\n",
    "parameters[:Reservoir][:Temperature] = T0\n",
    "state0 = setup_reservoir_state(model, Pressure = 50*bar, OverallMoleFractions = [1.0, 0.0]);"
   ],
   "metadata": {},
   "execution_count": null
  },
  {
   "cell_type": "markdown",
   "source": [
    "## Define schedule\n",
    "5 year (5*365.24 days) simulation period"
   ],
   "metadata": {}
  },
  {
   "outputs": [],
   "cell_type": "code",
   "source": [
    "dt0 = fill(1*day, 26)\n",
    "dt1 = fill(10.0*day, 180)\n",
    "dt = cat(dt0, dt1, dims = 1)\n",
    "rate_target = TotalRateTarget(9.5066e-06*meter^3/sec)\n",
    "I_ctrl = InjectorControl(rate_target, [0, 1], density = rhoVS)\n",
    "bhp_target = BottomHolePressureTarget(50*bar)\n",
    "P_ctrl = ProducerControl(bhp_target)\n",
    "\n",
    "controls = Dict()\n",
    "controls[:Injector] = I_ctrl\n",
    "controls[:Producer] = P_ctrl\n",
    "forces = setup_reservoir_forces(model, control = controls)\n",
    "ws, states = simulate_reservoir(state0, model, dt, parameters = parameters, forces = forces)"
   ],
   "metadata": {},
   "execution_count": null
  },
  {
   "cell_type": "markdown",
   "source": [
    "## Once the simulation is done, we can plot the states\n",
    "Note that this example is intended for static publication in the\n",
    "documentation. For interactive visualization you can use functions like\n",
    "`plot_interactive` to interactively visualize the states."
   ],
   "metadata": {}
  },
  {
   "outputs": [],
   "cell_type": "code",
   "source": [
    "z = states[end][:OverallMoleFractions][2, :]\n",
    "function plot_vertical(x, t)\n",
    "    data = reshape(x, (nx, nz))\n",
    "    data = data[:, end:-1:1]\n",
    "    fig, ax, plot = heatmap(data)\n",
    "    ax.title = t\n",
    "    Colorbar(fig[1, 2], plot)\n",
    "    fig\n",
    "end"
   ],
   "metadata": {},
   "execution_count": null
  },
  {
   "cell_type": "markdown",
   "source": [
    "### Plot final CO2 mole fraction"
   ],
   "metadata": {}
  },
  {
   "outputs": [],
   "cell_type": "code",
   "source": [
    "plot_vertical(z, \"CO2\")"
   ],
   "metadata": {},
   "execution_count": null
  },
  {
   "cell_type": "markdown",
   "source": [
    "### Plot final vapor saturation"
   ],
   "metadata": {}
  },
  {
   "outputs": [],
   "cell_type": "code",
   "source": [
    "sg = states[end][:Saturations][2, :]\n",
    "plot_vertical(sg, \"Vapor saturation\")"
   ],
   "metadata": {},
   "execution_count": null
  },
  {
   "cell_type": "markdown",
   "source": [
    "### Plot final pressure"
   ],
   "metadata": {}
  },
  {
   "outputs": [],
   "cell_type": "code",
   "source": [
    "p = states[end][:Pressure]\n",
    "plot_vertical(p./bar, \"Pressure [bar]\")"
   ],
   "metadata": {},
   "execution_count": null
  },
  {
   "cell_type": "markdown",
   "source": [
    "### Plot in interactive viewer"
   ],
   "metadata": {}
  },
  {
   "outputs": [],
   "cell_type": "code",
   "source": [
    "plot_reservoir(model, states, step = length(dt), key = :Saturations)"
   ],
   "metadata": {},
   "execution_count": null
  },
  {
   "cell_type": "markdown",
   "source": [
    "---\n",
    "\n",
    "*This notebook was generated using [Literate.jl](https://github.com/fredrikekre/Literate.jl).*"
   ],
   "metadata": {}
  }
 ],
 "nbformat_minor": 3,
 "metadata": {
  "language_info": {
   "file_extension": ".jl",
   "mimetype": "application/julia",
   "name": "julia",
   "version": "1.10.5"
  },
  "kernelspec": {
   "name": "julia-1.10",
   "display_name": "Julia 1.10.5",
   "language": "julia"
  }
 },
 "nbformat": 4
}
