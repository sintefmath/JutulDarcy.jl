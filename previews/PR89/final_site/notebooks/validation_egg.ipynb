{
 "cells": [
  {
   "cell_type": "markdown",
   "source": [
    "# Validation: The Egg model (oil-water compressible)\n",
    "A two-phase model that is taken from the first member of the EGG ensemble. The\n",
    "model is a synthetic case with channelized permeability and water injection\n",
    "with fixed controls. For more details, see the paper where the ensemble is\n",
    "introduced:\n",
    "\n",
    "[Jansen, Jan-Dirk, et al. \"The egg model–a geological ensemble for reservoir\n",
    "simulation.\" Geoscience Data Journal 1.2 (2014): 192-195.](https://doi.org/10.1002/gdj3.21)"
   ],
   "metadata": {}
  },
  {
   "outputs": [],
   "cell_type": "code",
   "source": [
    "using Jutul, JutulDarcy, GLMakie, DelimitedFiles, HYPRE\n",
    "egg_dir = JutulDarcy.GeoEnergyIO.test_input_file_path(\"EGG\")\n",
    "case = setup_case_from_data_file(joinpath(egg_dir, \"EGG.DATA\"))\n",
    "ws, states = simulate_reservoir(case, output_substates = true)"
   ],
   "metadata": {},
   "execution_count": null
  },
  {
   "cell_type": "markdown",
   "source": [
    "## Plot the reservoir solution"
   ],
   "metadata": {}
  },
  {
   "outputs": [],
   "cell_type": "code",
   "source": [
    "plot_reservoir(case.model, states, step = 135, key = :Saturations)"
   ],
   "metadata": {},
   "execution_count": null
  },
  {
   "cell_type": "markdown",
   "source": [
    "## Load reference solution (OPM Flow)\n",
    "We load a CSV file with the reference solution and set up plotting"
   ],
   "metadata": {}
  },
  {
   "outputs": [],
   "cell_type": "code",
   "source": [
    "csv_path = joinpath(egg_dir, \"REFERENCE.CSV\")\n",
    "data, header = readdlm(csv_path, ',', header = true)\n",
    "time_ref = data[:, 1]\n",
    "time_jutul = deepcopy(ws.time)\n",
    "wells = deepcopy(ws.wells)\n",
    "wnames = collect(keys(wells))\n",
    "nw = length(wnames)\n",
    "day = si_unit(:day)\n",
    "cmap = :tableau_hue_circle\n",
    "\n",
    "inj = Symbol[]\n",
    "prod = Symbol[]\n",
    "for (wellname, well) in pairs(wells)\n",
    "    qts = well[:wrat] + well[:orat]\n",
    "    if sum(qts) > 0\n",
    "        push!(inj, wellname)\n",
    "    else\n",
    "        push!(prod, wellname)\n",
    "    end\n",
    "end\n",
    "\n",
    "function plot_well_comparison(response, well_names, reponse_name = \"$response\")\n",
    "    fig = Figure(size = (1000, 400))\n",
    "    if response == :bhp\n",
    "        ys = 1/si_unit(:bar)\n",
    "        yl = \"Bottom hole pressure / Bar\"\n",
    "    elseif response == :wrat\n",
    "        ys = si_unit(:day)\n",
    "        yl = \"Surface water rate / m³/day\"\n",
    "    elseif response == :orat\n",
    "        ys = si_unit(:day)/(1000*si_unit(:stb))\n",
    "        yl = \"Surface oil rate / 10³ stb/day\"\n",
    "    else\n",
    "        error(\"$response not ready.\")\n",
    "    end\n",
    "    welltypes = []\n",
    "    ax = Axis(fig[1:4, 1], xlabel = \"Time / days\", ylabel = yl)\n",
    "    i = 1\n",
    "    linehandles = []\n",
    "    linelabels = []\n",
    "    for well_name in well_names\n",
    "        well = wells[well_name]\n",
    "        label_in_csv = \"$well_name:$response\"\n",
    "        ref_pos = findfirst(x -> x == label_in_csv, vec(header))\n",
    "        qoi = copy(well[response]).*ys\n",
    "        qoi_ref = data[:, ref_pos].*ys\n",
    "        tot_rate = copy(well[:rate])\n",
    "        @. qoi[tot_rate == 0] = NaN\n",
    "        orat_ref = data[:, findfirst(x -> x == \"$well_name:orat\", vec(header))]\n",
    "        wrat_ref = data[:, findfirst(x -> x == \"$well_name:wrat\", vec(header))]\n",
    "        tot_rate_ref = orat_ref + wrat_ref\n",
    "        @. qoi_ref[tot_rate_ref == 0] = NaN\n",
    "        crange = (1, max(length(well_names), 2))\n",
    "        lh = lines!(ax, time_jutul./day, abs.(qoi),\n",
    "            color = i,\n",
    "            colorrange = crange,\n",
    "            label = \"$well_name\", colormap = cmap\n",
    "        )\n",
    "        push!(linehandles, lh)\n",
    "        push!(linelabels, \"$well_name\")\n",
    "        lines!(ax, time_ref./day, abs.(qoi_ref),\n",
    "            color = i,\n",
    "            colorrange = crange,\n",
    "            linestyle = :dash,\n",
    "            colormap = cmap\n",
    "        )\n",
    "        i += 1\n",
    "    end\n",
    "    l1 = LineElement(color = :black, linestyle = nothing)\n",
    "    l2 = LineElement(color = :black, linestyle = :dash)\n",
    "\n",
    "    Legend(fig[1:3, 2], linehandles, linelabels, nbanks = 3)\n",
    "    Legend(fig[4, 2], [l1, l2], [\"JutulDarcy.jl\", \"E100\"])\n",
    "    fig\n",
    "end"
   ],
   "metadata": {},
   "execution_count": null
  },
  {
   "cell_type": "markdown",
   "source": [
    "## Well responses and comparison\n",
    "As the case is a two-phase model with water injection, we limit the results to\n",
    "plots of the producer water and oil rates."
   ],
   "metadata": {}
  },
  {
   "cell_type": "markdown",
   "source": [
    "### Water production rates"
   ],
   "metadata": {}
  },
  {
   "outputs": [],
   "cell_type": "code",
   "source": [
    "plot_well_comparison(:wrat, prod, \"Producer water surface rate\")"
   ],
   "metadata": {},
   "execution_count": null
  },
  {
   "cell_type": "markdown",
   "source": [
    "### Oil production rates"
   ],
   "metadata": {}
  },
  {
   "outputs": [],
   "cell_type": "code",
   "source": [
    "plot_well_comparison(:orat, prod, \"Producer oil surface rate\")"
   ],
   "metadata": {},
   "execution_count": null
  },
  {
   "cell_type": "markdown",
   "source": [
    "---\n",
    "\n",
    "*This notebook was generated using [Literate.jl](https://github.com/fredrikekre/Literate.jl).*"
   ],
   "metadata": {}
  }
 ],
 "nbformat_minor": 3,
 "metadata": {
  "language_info": {
   "file_extension": ".jl",
   "mimetype": "application/julia",
   "name": "julia",
   "version": "1.11.2"
  },
  "kernelspec": {
   "name": "julia-1.11",
   "display_name": "Julia 1.11.2",
   "language": "julia"
  }
 },
 "nbformat": 4
}
