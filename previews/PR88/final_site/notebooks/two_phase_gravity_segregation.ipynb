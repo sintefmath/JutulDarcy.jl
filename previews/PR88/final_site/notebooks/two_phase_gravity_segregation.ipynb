{
 "cells": [
  {
   "cell_type": "markdown",
   "source": [
    "# Gravity segregation example\n",
    "The simplest type of porous media simulation problem to set up that is not\n",
    "trivial is the transition to equilibrium from an unstable initial condition.\n",
    "Placing a heavy fluid on top of a lighter fluid will lead to the heavy fluid\n",
    "moving down while the lighter fluid moves up.\n",
    "\n",
    "## Problem set up\n",
    "We define a simple 1D gravity column with an approximate 10-1 ratio in density\n",
    "between the two compressible phases and let it simulate until equilibrium is\n",
    "reached. We begin by defining the reservoir domain itself."
   ],
   "metadata": {}
  },
  {
   "outputs": [],
   "cell_type": "code",
   "source": [
    "using JutulDarcy, Jutul\n",
    "nc = 100\n",
    "Darcy, bar, kg, meter, day = si_units(:darcy, :bar, :kilogram, :meter, :day)\n",
    "\n",
    "g = CartesianMesh((1, 1, nc), (1.0, 1.0, 10.0))\n",
    "domain = reservoir_domain(g, permeability = 1.0*Darcy);"
   ],
   "metadata": {},
   "execution_count": null
  },
  {
   "cell_type": "markdown",
   "source": [
    "## Fluid properties\n",
    "Define two phases liquid and vapor with a 10-1 ratio reference densities and\n",
    "set up the simulation model."
   ],
   "metadata": {}
  },
  {
   "outputs": [],
   "cell_type": "code",
   "source": [
    "p0 = 100*bar\n",
    "\n",
    "rhoLS = 1000.0*kg/meter^3\n",
    "rhoVS = 100.0*kg/meter^3\n",
    "cl, cv = 1e-5/bar, 1e-4/bar\n",
    "L, V = LiquidPhase(), VaporPhase()\n",
    "sys = ImmiscibleSystem([L, V])\n",
    "model = SimulationModel(domain, sys);"
   ],
   "metadata": {},
   "execution_count": null
  },
  {
   "cell_type": "markdown",
   "source": [
    "### Definition for phase mass densities\n",
    "Replace default density with a constant compressibility function that uses the\n",
    "reference values at the initial pressure."
   ],
   "metadata": {}
  },
  {
   "outputs": [],
   "cell_type": "code",
   "source": [
    "density = ConstantCompressibilityDensities(sys, p0, [rhoLS, rhoVS], [cl, cv])\n",
    "set_secondary_variables!(model, PhaseMassDensities = density);"
   ],
   "metadata": {},
   "execution_count": null
  },
  {
   "cell_type": "markdown",
   "source": [
    "### Set up initial state\n",
    "Put heavy phase on top and light phase on bottom. Saturations have one value\n",
    "per phase, per cell and consequently a per-cell instantiation will require a\n",
    "two by number of cells matrix as input. We also set up time-steps for the\n",
    "simulation, using the provided conversion factor to convert days into seconds."
   ],
   "metadata": {}
  },
  {
   "outputs": [],
   "cell_type": "code",
   "source": [
    "nl = nc ÷ 2\n",
    "sL = vcat(ones(nl), zeros(nc - nl))'\n",
    "s0 = vcat(sL, 1 .- sL)\n",
    "state0 = setup_state(model, Pressure = p0, Saturations = s0)\n",
    "timesteps = repeat([0.02]*day, 150);"
   ],
   "metadata": {},
   "execution_count": null
  },
  {
   "cell_type": "markdown",
   "source": [
    "## Perform simulation\n",
    "We simulate the system using the default linear solver and otherwise default\n",
    "options. Using `simulate` with the default options means that no dynamic\n",
    "timestepping will be used, and the simulation will report on the exact 150\n",
    "steps defined above."
   ],
   "metadata": {}
  },
  {
   "outputs": [],
   "cell_type": "code",
   "source": [
    "states, report = simulate(state0, model, timesteps, info_level = -1);"
   ],
   "metadata": {},
   "execution_count": null
  },
  {
   "cell_type": "markdown",
   "source": [
    "## Plot results\n",
    "The 1D nature of the problem allows us to plot all timesteps simultaneously in\n",
    "2D. We see that the heavy fluid, colored blue, is initially at the top of the\n",
    "domain and the lighter fluid is at the bottom. These gradually switch places\n",
    "until all the heavy fluid is at the lower part of the column."
   ],
   "metadata": {}
  },
  {
   "outputs": [],
   "cell_type": "code",
   "source": [
    "using GLMakie\n",
    "tmp = vcat(map((x) -> x[:Saturations][1, :]', states)...)\n",
    "f = Figure()\n",
    "ax = Axis(f[1, 1], xlabel = \"Time\", ylabel = \"Depth\", title = \"Gravity segregation\")\n",
    "hm = heatmap!(ax, tmp, colormap = :seismic)\n",
    "Colorbar(f[1, 2], hm)\n",
    "f"
   ],
   "metadata": {},
   "execution_count": null
  },
  {
   "cell_type": "markdown",
   "source": [
    "---\n",
    "\n",
    "*This notebook was generated using [Literate.jl](https://github.com/fredrikekre/Literate.jl).*"
   ],
   "metadata": {}
  }
 ],
 "nbformat_minor": 3,
 "metadata": {
  "language_info": {
   "file_extension": ".jl",
   "mimetype": "application/julia",
   "name": "julia",
   "version": "1.11.2"
  },
  "kernelspec": {
   "name": "julia-1.11",
   "display_name": "Julia 1.11.2",
   "language": "julia"
  }
 },
 "nbformat": 4
}
