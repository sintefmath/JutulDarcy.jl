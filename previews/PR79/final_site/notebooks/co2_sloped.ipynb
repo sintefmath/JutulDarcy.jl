{
 "cells": [
  {
   "cell_type": "markdown",
   "source": [
    "# Carbon dioxoide injection in aquifer\n",
    "This example demonstrates a custom K-value compositional model for the\n",
    "injection of CO2 into a saline aquifer. The physical model for flow of CO2 is\n",
    "a realization of the description in [11th SPE Comparative Solutions\n",
    "Project](https://spe.org/en/csp/). Simulation of CO2 can be challenging, and\n",
    "we load the HYPRE package to improve performance.\n",
    "\n",
    "The model also has an option to run immiscible simulations with otherwise\n",
    "identical PVT behavior. This is often faster to run, but lacks the dissolution\n",
    "model present in the compositional version (i.e. no solubility of CO2 in\n",
    "brine, and no vaporization of water in the vapor phase)."
   ],
   "metadata": {}
  },
  {
   "outputs": [],
   "cell_type": "code",
   "source": [
    "use_immiscible = false\n",
    "using Jutul, JutulDarcy\n",
    "using HYPRE\n",
    "using GLMakie\n",
    "nx = 100\n",
    "nz = 50\n",
    "Darcy, bar, kg, meter, day, yr = si_units(:darcy, :bar, :kilogram, :meter, :day, :year)"
   ],
   "metadata": {},
   "execution_count": null
  },
  {
   "cell_type": "markdown",
   "source": [
    "## Set up a 2D aquifer model\n",
    "We set up a Cartesian mesh that is then transformed into an unstructured mesh.\n",
    "We can then modify the coordinates to create a domain with a undulating top\n",
    "surface. CO2 will flow along the top surface and the topography of the top\n",
    "surface has a large impact on where the CO2 migrates."
   ],
   "metadata": {}
  },
  {
   "outputs": [],
   "cell_type": "code",
   "source": [
    "cart_dims = (nx, 1, nz)\n",
    "physical_dims = (1000.0, 1.0, 50.0)\n",
    "cart_mesh = CartesianMesh(cart_dims, physical_dims)\n",
    "mesh = UnstructuredMesh(cart_mesh, z_is_depth = true)\n",
    "\n",
    "points = mesh.node_points\n",
    "for (i, pt) in enumerate(points)\n",
    "    x, y, z = pt\n",
    "    x_u = 2*π*x/1000.0\n",
    "    w = 0.2\n",
    "    dz = 0.05*x + 0.05*abs(x - 500.0)+ w*(30*sin(2.0*x_u) + 20*sin(5.0*x_u))\n",
    "    points[i] = pt + [0, 0, dz]\n",
    "end;"
   ],
   "metadata": {},
   "execution_count": null
  },
  {
   "cell_type": "markdown",
   "source": [
    "## Find and plot cells intersected by a deviated injector well\n",
    "We place a single injector well. This well was unfortunately not drilled\n",
    "completely straight, so we cannot directly use `add_vertical_well` based on\n",
    "logical indices. We instead define a matrix with three columns x, y, z that\n",
    "lie on the well trajectory and use utilities from `Jutul` to find the cells\n",
    "intersected by the trajectory."
   ],
   "metadata": {}
  },
  {
   "outputs": [],
   "cell_type": "code",
   "source": [
    "import Jutul: find_enclosing_cells, plot_mesh_edges\n",
    "trajectory = [\n",
    "    645.0 0.5 75;    # First point\n",
    "    660.0 0.5 85;    # Second point\n",
    "    710.0 0.5 100.0  # Third point\n",
    "]\n",
    "\n",
    "wc = find_enclosing_cells(mesh, trajectory)\n",
    "\n",
    "fig, ax, plt = plot_mesh_edges(mesh)\n",
    "plot_mesh!(ax, mesh, cells = wc, transparency = true, alpha = 0.4)"
   ],
   "metadata": {},
   "execution_count": null
  },
  {
   "cell_type": "markdown",
   "source": [
    "View from the side"
   ],
   "metadata": {}
  },
  {
   "outputs": [],
   "cell_type": "code",
   "source": [
    "ax.azimuth[] = 1.5*π\n",
    "ax.elevation[] = 0.0\n",
    "lines!(ax, trajectory', color = :red)\n",
    "fig"
   ],
   "metadata": {},
   "execution_count": null
  },
  {
   "cell_type": "markdown",
   "source": [
    "## Define permeability and porosity\n",
    "We loop over all cells and define three layered regions by the K index of each\n",
    "cell. We can then set a corresponding diagonal permeability tensor (3 values)\n",
    "and porosity (scalar) to introduce variation between the layers."
   ],
   "metadata": {}
  },
  {
   "outputs": [],
   "cell_type": "code",
   "source": [
    "nc = number_of_cells(mesh)\n",
    "perm = zeros(3, nc)\n",
    "poro = fill(0.3, nc)\n",
    "region = zeros(Int, nc)\n",
    "for cell in 1:nc\n",
    "    I, J, K = cell_ijk(mesh, cell)\n",
    "    if K < 0.3*nz\n",
    "        reg = 1\n",
    "        permxy = 0.3*Darcy\n",
    "        phi = 0.2\n",
    "    elseif K < 0.7*nz\n",
    "        reg = 2\n",
    "        permxy = 1.2*Darcy\n",
    "        phi = 0.35\n",
    "    else\n",
    "        reg = 3\n",
    "        permxy = 0.1*Darcy\n",
    "        phi = 0.1\n",
    "    end\n",
    "    permz = 0.5*permxy\n",
    "    perm[1, cell] = perm[2, cell] = permxy\n",
    "    perm[3, cell] = permz\n",
    "    poro[cell] = phi\n",
    "    region[cell] = reg\n",
    "end\n",
    "\n",
    "fig, ax, plt = plot_cell_data(mesh, poro)\n",
    "fig"
   ],
   "metadata": {},
   "execution_count": null
  },
  {
   "cell_type": "markdown",
   "source": [
    "## Set up simulation model\n",
    "We set up a domain and a single injector. We pass the special :co2brine\n",
    "argument in place of the system to the reservoir model setup routine. This\n",
    "will automatically set up a compositional two-component CO2-H2O model with the\n",
    "appropriate functions for density, viscosity and miscibility.\n",
    "\n",
    "Note that this model by default is isothermal, but we still need to specify a\n",
    "temperature when setting up the model. This is because the properties of CO2\n",
    "strongly depend on temperature, even when thermal transport is not solved.\n",
    "\n",
    "The model also accounts for a constant, reservoir-wide salinity. We input mole\n",
    "fractions of salts in the brine so that the solubilities, densities and\n",
    "viscosities for brine cells are corrected in the property model."
   ],
   "metadata": {}
  },
  {
   "outputs": [],
   "cell_type": "code",
   "source": [
    "domain = reservoir_domain(mesh, permeability = perm, porosity = poro, temperature = convert_to_si(60.0, :Celsius))\n",
    "Injector = setup_well(domain, wc, name = :Injector, simple_well = true)\n",
    "\n",
    "if use_immiscible\n",
    "    physics = :immiscible\n",
    "else\n",
    "    physics = :kvalue\n",
    "end\n",
    "model = setup_reservoir_model(domain, :co2brine,\n",
    "    wells = Injector,\n",
    "    extra_out = false,\n",
    "    salt_names = [\"NaCl\", \"KCl\", \"CaSO4\", \"CaCl2\", \"MgSO4\", \"MgCl2\"],\n",
    "    salt_mole_fractions = [0.01, 0.005, 0.005, 0.001, 0.0002, 1e-5],\n",
    "    co2_physics = physics\n",
    ");"
   ],
   "metadata": {},
   "execution_count": null
  },
  {
   "cell_type": "markdown",
   "source": [
    "## Customize model by adding relative permeability with hysteresis\n",
    "We define three relative permeability functions: kro(so) for the brine/liquid\n",
    "phase and krg(g) for both drainage and imbibition. Here we limit the\n",
    "hysteresis to only the non-wetting gas phase, but either combination of\n",
    "wetting or non-wetting hysteresis is supported.\n",
    "\n",
    "Note that we import a few utilities from JutulDarcy that are not exported by\n",
    "default since hysteresis falls under advanced functionality."
   ],
   "metadata": {}
  },
  {
   "outputs": [],
   "cell_type": "code",
   "source": [
    "import JutulDarcy: table_to_relperm, add_relperm_parameters!, brooks_corey_relperm\n",
    "so = range(0, 1, 10)\n",
    "krog_t = so.^2\n",
    "krog = PhaseRelativePermeability(so, krog_t, label = :og)"
   ],
   "metadata": {},
   "execution_count": null
  },
  {
   "cell_type": "markdown",
   "source": [
    "Higher resolution for second table:"
   ],
   "metadata": {}
  },
  {
   "outputs": [],
   "cell_type": "code",
   "source": [
    "sg = range(0, 1, 50);"
   ],
   "metadata": {},
   "execution_count": null
  },
  {
   "cell_type": "markdown",
   "source": [
    "Evaluate Brooks-Corey to generate tables:"
   ],
   "metadata": {}
  },
  {
   "outputs": [],
   "cell_type": "code",
   "source": [
    "tab_krg_drain = brooks_corey_relperm.(sg, n = 2, residual = 0.1)\n",
    "tab_krg_imb = brooks_corey_relperm.(sg, n = 3, residual = 0.25)\n",
    "\n",
    "krg_drain  = PhaseRelativePermeability(sg, tab_krg_drain, label = :g)\n",
    "krg_imb  = PhaseRelativePermeability(sg, tab_krg_imb, label = :g)\n",
    "\n",
    "fig, ax, plt = lines(sg, tab_krg_drain, label = \"krg drainage\")\n",
    "lines!(ax, sg, tab_krg_imb, label = \"krg imbibition\")\n",
    "lines!(ax, 1 .- so, krog_t, label = \"kro\")\n",
    "axislegend()\n",
    "fig\n",
    "# Define a relative permeability variable"
   ],
   "metadata": {},
   "execution_count": null
  },
  {
   "cell_type": "markdown",
   "source": [
    "JutulDarcy uses type instances to define how different variables inside the\n",
    "simulation are evaluated. The `ReservoirRelativePermeabilities` type has\n",
    "support for up to three phases with w, ow, og and g relative permeabilities\n",
    "specified as a function of their respective phases. It also supports\n",
    "saturation regions.\n",
    "\n",
    "Note: If regions are used, all drainage curves come first followed by equal\n",
    "number of imbibition curves. Since we only have a single (implicit) saturation\n",
    "region, the krg input should have two entries: One for drainage, and one for\n",
    "imbibition.\n",
    "\n",
    "We also call `add_relperm_parameters` to the model. This makes sure that when\n",
    "hysteresis is enabled, we track maximum saturation for hysteresis in each\n",
    "reservoir cell."
   ],
   "metadata": {}
  },
  {
   "outputs": [],
   "cell_type": "code",
   "source": [
    "import JutulDarcy: KilloughHysteresis, ReservoirRelativePermeabilities\n",
    "krg = (krg_drain, krg_imb)\n",
    "H_g = KilloughHysteresis() # Other options: CarlsonHysteresis, JargonHysteresis\n",
    "relperm = ReservoirRelativePermeabilities(g = krg, og = krog, hysteresis_g = H_g)\n",
    "replace_variables!(model, RelativePermeabilities = relperm)\n",
    "add_relperm_parameters!(model);"
   ],
   "metadata": {},
   "execution_count": null
  },
  {
   "cell_type": "markdown",
   "source": [
    "## Define approximate hydrostatic pressure and set up initial state\n",
    "The initial pressure of the water-filled domain is assumed to be at\n",
    "hydrostatic equilibrium. If we use an immiscible model, we must provide the\n",
    "initial saturations. If we are using a compositional model, we should instead\n",
    "provide the overall mole fractions. Note that since both are fractions, and\n",
    "the CO2 model has correspondence between phase ordering and component ordering\n",
    "(i.e. solves for liquid and vapor, and H2O and CO2), we can use the same input\n",
    "value."
   ],
   "metadata": {}
  },
  {
   "outputs": [],
   "cell_type": "code",
   "source": [
    "nc = number_of_cells(mesh)\n",
    "p0 = zeros(nc)\n",
    "depth = domain[:cell_centroids][3, :]\n",
    "g = Jutul.gravity_constant\n",
    "@. p0 = 160bar + depth*g*1000.0\n",
    "fig, ax, plt = plot_cell_data(mesh, p0)\n",
    "fig"
   ],
   "metadata": {},
   "execution_count": null
  },
  {
   "cell_type": "markdown",
   "source": [
    "Set up initial state and parameters"
   ],
   "metadata": {}
  },
  {
   "outputs": [],
   "cell_type": "code",
   "source": [
    "if use_immiscible\n",
    "    state0 = setup_reservoir_state(model,\n",
    "        Pressure = p0,\n",
    "        Saturations = [1.0, 0.0],\n",
    "    )\n",
    "else\n",
    "    state0 = setup_reservoir_state(model,\n",
    "        Pressure = p0,\n",
    "        OverallMoleFractions = [1.0, 0.0],\n",
    "    )\n",
    "end\n",
    "parameters = setup_parameters(model)"
   ],
   "metadata": {},
   "execution_count": null
  },
  {
   "cell_type": "markdown",
   "source": [
    "## Find the boundary and apply a constant pressureboundary condition\n",
    "We find cells on the left and right boundary of the model and set a constant\n",
    "pressure boundary condition to represent a bounding aquifer that retains the\n",
    "initial pressure far away from injection."
   ],
   "metadata": {}
  },
  {
   "outputs": [],
   "cell_type": "code",
   "source": [
    "boundary = Int[]\n",
    "for cell in 1:nc\n",
    "    I, J, K = cell_ijk(mesh, cell)\n",
    "    if I == 1 || I == nx\n",
    "        push!(boundary, cell)\n",
    "    end\n",
    "end\n",
    "bc = flow_boundary_condition(boundary, domain, p0[boundary], fractional_flow = [1.0, 0.0])\n",
    "println(\"Boundary condition added to $(length(bc)) cells.\")"
   ],
   "metadata": {},
   "execution_count": null
  },
  {
   "cell_type": "markdown",
   "source": [
    "## Plot the model"
   ],
   "metadata": {}
  },
  {
   "outputs": [],
   "cell_type": "code",
   "source": [
    "plot_reservoir(model)"
   ],
   "metadata": {},
   "execution_count": null
  },
  {
   "cell_type": "markdown",
   "source": [
    "## Set up schedule\n",
    "We set up 25 years of injection and 475 years of migration where the well is\n",
    "shut. The density of the injector is set to 630 kg/m^3, which is roughly the\n",
    "density of CO2 at the in-situ conditions."
   ],
   "metadata": {}
  },
  {
   "outputs": [],
   "cell_type": "code",
   "source": [
    "nstep = 25\n",
    "nstep_shut = 475\n",
    "dt_inject = fill(365.0day, nstep)\n",
    "pv = pore_volume(model, parameters)\n",
    "inj_rate = 0.075*sum(pv)/sum(dt_inject)\n",
    "\n",
    "rate_target = TotalRateTarget(inj_rate)\n",
    "I_ctrl = InjectorControl(rate_target, [0.0, 1.0],\n",
    "    density = 630.0,\n",
    ")"
   ],
   "metadata": {},
   "execution_count": null
  },
  {
   "cell_type": "markdown",
   "source": [
    "Set up forces for use in injection"
   ],
   "metadata": {}
  },
  {
   "outputs": [],
   "cell_type": "code",
   "source": [
    "controls = Dict(:Injector => I_ctrl)\n",
    "forces_inject = setup_reservoir_forces(model, control = controls, bc = bc)"
   ],
   "metadata": {},
   "execution_count": null
  },
  {
   "cell_type": "markdown",
   "source": [
    "Forces with shut wells"
   ],
   "metadata": {}
  },
  {
   "outputs": [],
   "cell_type": "code",
   "source": [
    "forces_shut = setup_reservoir_forces(model, bc = bc)\n",
    "dt_shut = fill(365.0day, nstep_shut);"
   ],
   "metadata": {},
   "execution_count": null
  },
  {
   "cell_type": "markdown",
   "source": [
    "Combine the report steps and forces into vectors of equal length"
   ],
   "metadata": {}
  },
  {
   "outputs": [],
   "cell_type": "code",
   "source": [
    "dt = vcat(dt_inject, dt_shut)\n",
    "forces = vcat(\n",
    "    fill(forces_inject, nstep),\n",
    "    fill(forces_shut, nstep_shut)\n",
    ")\n",
    "println(\"$nstep report steps with injection, $nstep_shut report steps with migration.\")"
   ],
   "metadata": {},
   "execution_count": null
  },
  {
   "cell_type": "markdown",
   "source": [
    "## Add some more outputs for plotting"
   ],
   "metadata": {}
  },
  {
   "outputs": [],
   "cell_type": "code",
   "source": [
    "rmodel = reservoir_model(model)\n",
    "push!(rmodel.output_variables, :RelativePermeabilities)\n",
    "push!(rmodel.output_variables, :PhaseViscosities)"
   ],
   "metadata": {},
   "execution_count": null
  },
  {
   "cell_type": "markdown",
   "source": [
    "## Simulate the schedule\n",
    "We set a maximum internal time-step of 30 days to ensure smooth convergence\n",
    "and reduce numerical diffusion."
   ],
   "metadata": {}
  },
  {
   "outputs": [],
   "cell_type": "code",
   "source": [
    "wd, states, t = simulate_reservoir(state0, model, dt,\n",
    "    parameters = parameters,\n",
    "    forces = forces,\n",
    "    max_timestep = 90day\n",
    ");"
   ],
   "metadata": {},
   "execution_count": null
  },
  {
   "cell_type": "markdown",
   "source": [
    "## Plot the CO2 mole fraction\n",
    "We plot the overall CO2 mole fraction. We scale the color range to log10 to\n",
    "account for the fact that the mole fraction in cells made up of only the\n",
    "aqueous phase is much smaller than that of cells with only the gaseous phase,\n",
    "where there is almost just CO2.\n",
    "\n",
    "The aquifer gives some degree of passive flow through the domain, ensuring\n",
    "that much of the dissolved CO2 will leave the reservoir by the end of the\n",
    "injection period."
   ],
   "metadata": {}
  },
  {
   "outputs": [],
   "cell_type": "code",
   "source": [
    "using GLMakie\n",
    "function plot_co2!(fig, ix, x, title = \"\")\n",
    "    ax = Axis3(fig[ix, 1],\n",
    "        zreversed = true,\n",
    "        azimuth = -0.51π,\n",
    "        elevation = 0.05,\n",
    "        aspect = (1.0, 1.0, 0.3),\n",
    "        title = title)\n",
    "    plt = plot_cell_data!(ax, mesh, x, colormap = :seaborn_icefire_gradient)\n",
    "    Colorbar(fig[ix, 2], plt)\n",
    "end\n",
    "fig = Figure(size = (900, 1200))\n",
    "for (i, step) in enumerate([5, nstep, nstep + Int(floor(nstep_shut/2)), nstep+nstep_shut])\n",
    "    if use_immiscible\n",
    "        plot_co2!(fig, i, states[step][:Saturations][2, :], \"CO2 plume saturation at report step $step/$(nstep+nstep_shut)\")\n",
    "    else\n",
    "        plot_co2!(fig, i, log10.(states[step][:OverallMoleFractions][2, :]), \"log10 of CO2 mole fraction at report step $step/$(nstep+nstep_shut)\")\n",
    "    end\n",
    "end\n",
    "fig"
   ],
   "metadata": {},
   "execution_count": null
  },
  {
   "cell_type": "markdown",
   "source": [
    "## Plot all relative permeabilities for all time-steps\n",
    "We can plot all relative permeability evaluations. This both verifies that the\n",
    "hysteresis model is active, but also gives an indication to how many cells are\n",
    "exhibiting imbibition during the simulation."
   ],
   "metadata": {}
  },
  {
   "outputs": [],
   "cell_type": "code",
   "source": [
    "kro_val = Float64[]\n",
    "krg_val = Float64[]\n",
    "sg_val = Float64[]\n",
    "for state in states\n",
    "    kr_state = state[:RelativePermeabilities]\n",
    "    s_state = state[:Saturations]\n",
    "    for c in 1:nc\n",
    "        push!(kro_val, kr_state[1, c])\n",
    "        push!(krg_val, kr_state[2, c])\n",
    "        push!(sg_val, s_state[2, c])\n",
    "    end\n",
    "end\n",
    "\n",
    "fig = Figure()\n",
    "ax = Axis(fig[1, 1], title = \"Relative permeability during simulation\")\n",
    "fig, ax, plt = scatter(sg_val, kro_val, label = \"kro\", alpha = 0.3)\n",
    "scatter!(ax, sg_val, krg_val, label = \"krg\", alpha = 0.3)\n",
    "axislegend()\n",
    "fig"
   ],
   "metadata": {},
   "execution_count": null
  },
  {
   "cell_type": "markdown",
   "source": [
    "## Plot result in interactive viewer\n",
    "If you have interactive plotting available, you can explore the results\n",
    "yourself."
   ],
   "metadata": {}
  },
  {
   "outputs": [],
   "cell_type": "code",
   "source": [
    "plot_reservoir(model, states)\n",
    "# Calculate and display inventory of CO2"
   ],
   "metadata": {},
   "execution_count": null
  },
  {
   "cell_type": "markdown",
   "source": [
    "We can classify and plot the status of the CO2 in the reservoir. We use a\n",
    "fairly standard classification where CO2 is divided into:\n",
    "\n",
    "- dissolved CO2 (dissolution trapping)\n",
    "- residual CO2 (immobile due to zero relative permeability, residual trapping)\n",
    "- mobile CO2 (mobile but still inside domain)\n",
    "- outside domain (left the simulation model and migrated outside model)\n",
    "\n",
    "We also note that some of the mobile CO2 could be considered to be\n",
    "structurally trapped, but this is not classified in our inventory."
   ],
   "metadata": {}
  },
  {
   "outputs": [],
   "cell_type": "code",
   "source": [
    "inventory = co2_inventory(model, wd, states, t)\n",
    "JutulDarcy.plot_co2_inventory(t, inventory)"
   ],
   "metadata": {},
   "execution_count": null
  },
  {
   "cell_type": "markdown",
   "source": [
    "## Pick a region to investigate the CO2\n",
    "We can also specify a region to the CO2 inventory. This will introduce\n",
    "additional categories to distinguish between outside and inside the region of\n",
    "interest."
   ],
   "metadata": {}
  },
  {
   "outputs": [],
   "cell_type": "code",
   "source": [
    "cells = findall(region .== 2)\n",
    "inventory = co2_inventory(model, wd, states, t, cells = cells)\n",
    "JutulDarcy.plot_co2_inventory(t, inventory)"
   ],
   "metadata": {},
   "execution_count": null
  },
  {
   "cell_type": "markdown",
   "source": [
    "## Define a region of interest using geometry\n",
    "Another alternative to determine a region of interest is to use geometry. We\n",
    "pick all cells within an ellipsoid a bit away from the injection point."
   ],
   "metadata": {}
  },
  {
   "outputs": [],
   "cell_type": "code",
   "source": [
    "is_inside = fill(false, nc)\n",
    "centers = domain[:cell_centroids]\n",
    "for cell in 1:nc\n",
    "    x, y, z = centers[:, cell]\n",
    "    is_inside[cell] = sqrt((x - 720.0)^2 + 20*(z-70.0)^2) < 75\n",
    "end\n",
    "fig, ax, plt = plot_cell_data(mesh, is_inside)\n",
    "fig"
   ],
   "metadata": {},
   "execution_count": null
  },
  {
   "cell_type": "markdown",
   "source": [
    "## Plot inventory in ellipsoid\n",
    "Note that a small mobile dip can be seen when free CO2 passes through this region."
   ],
   "metadata": {}
  },
  {
   "outputs": [],
   "cell_type": "code",
   "source": [
    "inventory = co2_inventory(model, wd, states, t, cells = findall(is_inside))\n",
    "JutulDarcy.plot_co2_inventory(t, inventory)"
   ],
   "metadata": {},
   "execution_count": null
  },
  {
   "cell_type": "markdown",
   "source": [
    "## Plot the average pressure in the ellipsoid region\n",
    "Now that we know what cells are within the region of interest, we can easily\n",
    "apply a function over all time-steps to figure out what the average pressure\n",
    "value was."
   ],
   "metadata": {}
  },
  {
   "outputs": [],
   "cell_type": "code",
   "source": [
    "using Statistics\n",
    "p_avg = map(\n",
    "    state -> mean(state[:Pressure][is_inside])./bar,\n",
    "    states\n",
    ")\n",
    "lines(t./yr, p_avg,\n",
    "    axis = (\n",
    "        title = \"Average pressure in region\",\n",
    "        xlabel = \"Years\", ylabel = \"Pressure (bar)\"\n",
    "    )\n",
    ")"
   ],
   "metadata": {},
   "execution_count": null
  },
  {
   "cell_type": "markdown",
   "source": [
    "## Make a composite plot to correlate CO2 mass in region with spatial distribution\n",
    "We create a pair of plots that combine both 2D and 3D plots to simultaneously\n",
    "show the ellipsoid, the mass of CO2 in that region for a specific step, and\n",
    "the time series of the CO2 in the same region."
   ],
   "metadata": {}
  },
  {
   "outputs": [],
   "cell_type": "code",
   "source": [
    "stepno = 30\n",
    "co2_mass_in_region = map(\n",
    "    state -> sum(state[:TotalMasses][2, is_inside])/1e3,\n",
    "    states\n",
    ")\n",
    "fig = Figure(size = (1200, 600))\n",
    "ax1 = Axis(fig[1, 1],\n",
    "    title = \"Mass of CO2 in region\",\n",
    "    xlabel = \"Years\",\n",
    "    ylabel = \"Tonnes CO2\"\n",
    ")\n",
    "lines!(ax1, t./yr, co2_mass_in_region)\n",
    "scatter!(ax1, t[stepno]./yr, co2_mass_in_region[stepno], markersize = 12, color = :red)\n",
    "ax2 = Axis3(fig[1, 2], zreversed = true)\n",
    "plot_cell_data!(ax2, mesh, states[stepno][:TotalMasses][2, :])\n",
    "plot_mesh!(ax2, mesh, cells = findall(is_inside), alpha = 0.5)\n",
    "ax2.azimuth[] = 1.5*π\n",
    "ax2.elevation[] = 0.0\n",
    "fig"
   ],
   "metadata": {},
   "execution_count": null
  },
  {
   "cell_type": "markdown",
   "source": [
    "---\n",
    "\n",
    "*This notebook was generated using [Literate.jl](https://github.com/fredrikekre/Literate.jl).*"
   ],
   "metadata": {}
  }
 ],
 "nbformat_minor": 3,
 "metadata": {
  "language_info": {
   "file_extension": ".jl",
   "mimetype": "application/julia",
   "name": "julia",
   "version": "1.11.1"
  },
  "kernelspec": {
   "name": "julia-1.11",
   "display_name": "Julia 1.11.1",
   "language": "julia"
  }
 },
 "nbformat": 4
}
