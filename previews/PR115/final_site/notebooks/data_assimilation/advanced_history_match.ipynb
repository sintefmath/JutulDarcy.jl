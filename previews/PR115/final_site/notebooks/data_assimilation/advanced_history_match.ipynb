{
 "cells": [
  {
   "cell_type": "markdown",
   "source": [
    "# Advanced history matching: Regions, blending and parametric models\n",
    "In this example we will explore a few advanced topics of gradient-based\n",
    "history matching, including how to treat regions and match parametric relative\n",
    "permeability functions. It is recommended that you first read the basic\n",
    "examples on both JutulDarcy simulation models with wells, and the examples on\n",
    "history matching before continuing with this example.\n",
    "\n",
    "To keep the optimization process speedy, the model used in this example is\n",
    "fairly simple, with three producer wells and a small rectangular domain. We\n",
    "define two rock types that will be given different properties and relative\n",
    "permeability curves, and then we will look at how different prior assumptions\n",
    "will impact the quality of the history match."
   ],
   "metadata": {}
  },
  {
   "outputs": [],
   "cell_type": "code",
   "source": [
    "using Jutul, JutulDarcy, GLMakie\n",
    "import LBFGSB as lb\n",
    "\n",
    "nx = 20\n",
    "g = CartesianMesh((nx, nx, 1), (100.0, 100.0, 10.0))\n",
    "nc = number_of_cells(g)\n",
    "reservoir = reservoir_domain(g);"
   ],
   "metadata": {},
   "execution_count": null
  },
  {
   "cell_type": "markdown",
   "source": [
    "## Define the rock types\n",
    "We define a model with two rock types, with the middle of the domain\n",
    "containing the second rock type. We also set up a simple plotting function to\n",
    "visualize the results in 2D."
   ],
   "metadata": {}
  },
  {
   "outputs": [],
   "cell_type": "code",
   "source": [
    "Darcy, day, kg, meter, barsa = si_units(:darcy, :day, :kg, :meter, :bar)\n",
    "X = reservoir[:cell_centroids][1, :]\n",
    "Y = reservoir[:cell_centroids][2, :]\n",
    "rocktype = zeros(Int, nc)\n",
    "for i in 1:nc\n",
    "    if abs(Y[i] - 50.0) < 20\n",
    "        rocktype[i] = 2\n",
    "    else\n",
    "        rocktype[i] = 1\n",
    "    end\n",
    "end\n",
    "\n",
    "perm = fill(0.1Darcy, nc)\n",
    "perm[rocktype .== 2] .= 1.0Darcy\n",
    "\n",
    "function plot_2d(v, title = \"\")\n",
    "    fig = Figure()\n",
    "    ax = Axis(fig[1, 1], title = title)\n",
    "    plt = heatmap!(ax, reshape(v, nx, nx))\n",
    "    Colorbar(fig[1, 2], plt)\n",
    "    fig\n",
    "end\n",
    "\n",
    "plot_2d(perm./Darcy, \"Permeability / Darcy\")"
   ],
   "metadata": {},
   "execution_count": null
  },
  {
   "cell_type": "markdown",
   "source": [
    "## Set up wells\n",
    "We have a single injector (placed in rock type 2) and three producers where\n",
    "two are placed in rock type 1, and one in rock type 2."
   ],
   "metadata": {}
  },
  {
   "outputs": [],
   "cell_type": "code",
   "source": [
    "I = setup_vertical_well(reservoir, 1, ceil(nx/2), name = :I)\n",
    "P1 = setup_vertical_well(reservoir, nx, 1, name = :P1)\n",
    "P2 = setup_vertical_well(reservoir, nx, ceil(nx/2), name = :P2)\n",
    "P3 = setup_vertical_well(reservoir, nx, nx, name = :P3)\n",
    "\n",
    "wells = [I, P1, P2, P3]\n",
    "\n",
    "fig = Figure()\n",
    "ax = Axis3(fig[1, 1], title = \"Reservoir model with two regions\", zreversed = true)\n",
    "plot_cell_data!(ax, g, perm)\n",
    "for w in wells\n",
    "    plot_well!(ax, reservoir, w)\n",
    "end\n",
    "fig"
   ],
   "metadata": {},
   "execution_count": null
  },
  {
   "cell_type": "markdown",
   "source": [
    "## Set up a simulation model\n",
    "We are going to set up several different models, starting with the base case.\n",
    "All models use the same PVT description, but will have different variations of\n",
    "the relative permeability parameters that significantly impact the behavior of\n",
    "the system."
   ],
   "metadata": {}
  },
  {
   "outputs": [],
   "cell_type": "code",
   "source": [
    "phases = (AqueousPhase(), LiquidPhase())\n",
    "rhoWS = 1000.0\n",
    "rhoLS = 780.0\n",
    "rhoS = [rhoWS, rhoLS] .* kg/meter^3\n",
    "sys = ImmiscibleSystem(phases, reference_densities = rhoS)\n",
    "\n",
    "function setup_model_with_relperm(kr)\n",
    "    model = setup_reservoir_model(reservoir, sys, extra_out = false, wells = wells)\n",
    "    rmodel = reservoir_model(model)\n",
    "    set_secondary_variables!(rmodel, RelativePermeabilities = kr)\n",
    "    JutulDarcy.add_relperm_parameters!(rmodel)\n",
    "    prm = setup_parameters(model)\n",
    "    return (model, prm)\n",
    "end"
   ],
   "metadata": {},
   "execution_count": null
  },
  {
   "cell_type": "markdown",
   "source": [
    "### Set up the parametric relative permeability model\n",
    "The base case uses a parametric Brooks-Corey model with different coefficients\n",
    "for each rock type. The parametric relative permeability function exposes\n",
    "parameters in the simulator that can be used in gradient-based optimization\n",
    "with the adjoint method. This is a very powerful concept when combined with\n",
    "Jutul's flexible functionality for chaining together differentiable models.\n",
    "For a Brooks-Corey model the parameters are the exponents, the critical\n",
    "saturation and the maximum relative permeability for both the wetting and\n",
    "non-wetting phases. The parametric version allows you to set these values\n",
    "cell-by-cell, but we set them according to the rock type."
   ],
   "metadata": {}
  },
  {
   "outputs": [],
   "cell_type": "code",
   "source": [
    "kr = JutulDarcy.ParametricCoreyRelativePermeabilities()\n",
    "model_base, prm_base = setup_model_with_relperm(kr);\n",
    "\n",
    "prm_res = prm_base[:Reservoir]\n",
    "\n",
    "is1 = findall(rocktype .== 1)\n",
    "is2 = findall(rocktype .== 2)\n",
    "\n",
    "prm_res[:NonWettingKrExponent][is1] .= 1.8\n",
    "prm_res[:NonWettingKrExponent][is2] .= 3.0\n",
    "\n",
    "prm_res[:WettingKrExponent][is1] .= 1.0\n",
    "prm_res[:WettingKrExponent][is2] .= 1.0\n",
    "\n",
    "prm_res[:WettingCritical][is1] .= 0.3\n",
    "prm_res[:WettingCritical][is2] .= 0.1\n",
    "\n",
    "prm_res[:NonWettingCritical][is1] .= 0.1\n",
    "prm_res[:NonWettingCritical][is2] .= 0.1\n",
    "\n",
    "prm_res[:WettingKrMax][is1] .= 0.7\n",
    "prm_res[:WettingKrMax][is2] .= 1.0\n",
    "\n",
    "prm_res[:NonWettingKrMax][is1] .= 0.8\n",
    "prm_res[:NonWettingKrMax][is2] .= 1.0\n",
    "\n",
    "prm_res"
   ],
   "metadata": {},
   "execution_count": null
  },
  {
   "cell_type": "markdown",
   "source": [
    "### Simulate the base case\n",
    "We set up a simple constant rate injection and bottom hole pressure control\n",
    "for the producers. The injection rate is set to a value that will more or less\n",
    "completely flood the domain. The effect of the different relative permeability\n",
    "parameters in the different rock types is clearly visible when the final water\n",
    "saturation is plotted."
   ],
   "metadata": {}
  },
  {
   "outputs": [],
   "cell_type": "code",
   "source": [
    "dt = fill(30day, 50)\n",
    "total_time = sum(dt)\n",
    "irate = sum(pore_volume(reservoir)) / total_time\n",
    "\n",
    "i_ctrl = InjectorControl(TotalRateTarget(irate), [1.0, 0.0], density = rhoWS)\n",
    "p_ctrl = ProducerControl(BottomHolePressureTarget(50barsa))\n",
    "\n",
    "ctrls = Dict(\n",
    "    :I => i_ctrl,\n",
    "    :P1 => p_ctrl,\n",
    "    :P2 => p_ctrl,\n",
    "    :P3 => p_ctrl,\n",
    ")\n",
    "forces = setup_reservoir_forces(model_base, control = ctrls)\n",
    "state0 = setup_reservoir_state(model_base, Pressure = 90barsa, Saturations = [0.0, 1.0])\n",
    "\n",
    "simulated_base = simulate_reservoir(state0, model_base, dt,\n",
    "    forces = forces, parameters = prm_base,\n",
    "    output_substates = true,\n",
    "    info_level = -1\n",
    ")\n",
    "ws, states = simulated_base\n",
    "step_to_plot = 34\n",
    "plot_2d(states[step_to_plot][:Saturations][1, :], \"Water saturation at the end of the simulation\")"
   ],
   "metadata": {},
   "execution_count": null
  },
  {
   "cell_type": "markdown",
   "source": [
    "## Set up the history matching problem\n",
    "We set up an objective function that, for a given result, produces the sum of\n",
    "squares in mismatch for the wells: Bottom hole pressures and phase rates with\n",
    "approprioate weights. As a sanity check, we make sure that the objective is\n",
    "zero when the truth case is passed."
   ],
   "metadata": {}
  },
  {
   "outputs": [],
   "cell_type": "code",
   "source": [
    "states_base = simulated_base.result.states\n",
    "w = Float64[]\n",
    "matches = []\n",
    "wrat = SurfaceWaterRateTarget(1.0)\n",
    "orat = SurfaceOilRateTarget(1.0)\n",
    "bhp = BottomHolePressureTarget(50barsa)\n",
    "\n",
    "push!(matches, bhp)\n",
    "push!(w, 1.0/(20*si_unit(:bar)))\n",
    "push!(matches, wrat)\n",
    "push!(w, (1/80)*day)\n",
    "push!(matches, orat)\n",
    "push!(w, (1/50)*day)\n",
    "\n",
    "wnames = map(x -> x.name, wells)\n",
    "o_scale = 1.0/(sum(dt)*length(wnames))\n",
    "mismatch_objective = (model, state, dt, step_no, forces) -> well_mismatch(\n",
    "    matches,\n",
    "    wnames,\n",
    "    model_base,\n",
    "    states_base,\n",
    "    model,\n",
    "    state,\n",
    "    dt,\n",
    "    step_no,\n",
    "    forces,\n",
    "    weights = w,\n",
    "    scale = o_scale,\n",
    ")\n",
    "@assert Jutul.evaluate_objective(mismatch_objective, model_base, states_base, dt, forces) == 0.0"
   ],
   "metadata": {},
   "execution_count": null
  },
  {
   "cell_type": "markdown",
   "source": [
    "## Check the objective function for the base case\n",
    "We set up a new case with the same model and parameter definitions, but with\n",
    "defaulted parameter values for the Brooks-Corey model. This will obviously\n",
    "give a fairly different set of well curves, but we can quickly verify that the\n",
    "simulation produces a different saturation front and objective."
   ],
   "metadata": {}
  },
  {
   "outputs": [],
   "cell_type": "code",
   "source": [
    "prm_untuned = setup_parameters(model_base)\n",
    "case_untuned = JutulCase(model_base, dt, forces, state0 = state0, parameters = prm_untuned)\n",
    "simulated_untuned = simulate_reservoir(case_untuned, output_substates = true, info_level = -1)\n",
    "ws_untuned, states_untuned = simulated_untuned\n",
    "\n",
    "obj0 = Jutul.evaluate_objective(mismatch_objective, model_base, simulated_untuned.result.states, dt, forces)\n",
    "@assert obj0 > 0.0\n",
    "println(\"Objective function value for untuned model: \", obj0)"
   ],
   "metadata": {},
   "execution_count": null
  },
  {
   "cell_type": "markdown",
   "source": [
    "### Set up a plotting function for the saturation match"
   ],
   "metadata": {}
  },
  {
   "outputs": [],
   "cell_type": "code",
   "source": [
    "function plot_sat_match(vals, name = \"\")\n",
    "    sref = reshape(states[step_to_plot][:Saturations][1, :], nx, nx)\n",
    "    sbase = reshape(vals[step_to_plot][:Saturations][1, :], nx, nx)\n",
    "    fig = Figure(size = (1800, 600))\n",
    "    ax = Axis(fig[1, 1], title = name)\n",
    "    plt = heatmap!(ax, sbase, colorrange = (0.0, 1.0))\n",
    "    ax = Axis(fig[1, 2], title = \"Truth case\")\n",
    "    plt = heatmap!(ax, sref, colorrange = (0.0, 1.0))\n",
    "    Colorbar(fig[1, 3], plt)\n",
    "    ax = Axis(fig[1, 4], title = \"Difference\")\n",
    "    plt = heatmap!(ax, sbase - sref, colorrange = (-1.0, 1.0), colormap = :seismic)\n",
    "    Colorbar(fig[1, 5], plt)\n",
    "    fig\n",
    "end\n",
    "\n",
    "plot_sat_match(states_untuned, \"Defaulted parameters\")"
   ],
   "metadata": {},
   "execution_count": null
  },
  {
   "cell_type": "markdown",
   "source": [
    "## Set up the first optimization configuration\n",
    "We start off this study by doing a straightforward gradient-based optimization\n",
    "of the model where we start from the defaulted parameter values and do not\n",
    "make any assumptions about the number of rock types/facies. In other words,\n",
    "every cell can in principle be assigned a different set of relative\n",
    "permeability parameters if it improves the match against the reference.\n",
    "\n",
    "We set up some wide bounds for the parameters and set up an optimization\n",
    "configuration. The configuration defines what parameters are to be tuned and\n",
    "the range of values they are allowed to take. As we will see later, there are\n",
    "additional settings that can be used to narrow down the problem definition\n",
    "further, but at the moment we make the following assumptions:\n",
    "- We only tune the relative permeabilities, not other reservoir parameters\n",
    "  like volumes or transmissibilities.\n",
    "- Wells are not tuned.\n",
    "- The bounds for the Brooks-Corey parameters are given."
   ],
   "metadata": {}
  },
  {
   "outputs": [],
   "cell_type": "code",
   "source": [
    "cfg = optimization_config(model_base, prm_untuned)\n",
    "kr_exp_bnds = (1.0, 3.0)\n",
    "kr_crit_bnds = (0.0, 0.45)\n",
    "kr_max_bnds = (0.2, 1.0)\n",
    "for (mkey, mcfg) in pairs(cfg)\n",
    "    for (k, v) in pairs(mcfg)\n",
    "        if mkey != :Reservoir\n",
    "            v[:active] = false\n",
    "        elseif k == :NonWettingKrExponent || k == :WettingKrExponent\n",
    "            v[:active] = true\n",
    "            v[:abs_min], v[:abs_max] = kr_exp_bnds\n",
    "        elseif k == :WettingCritical || k == :NonWettingCritical\n",
    "            v[:active] = true\n",
    "            v[:abs_min], v[:abs_max] = kr_crit_bnds\n",
    "        elseif k == :WettingKrMax || k == :NonWettingKrMax\n",
    "            v[:active] = true\n",
    "            v[:abs_min], v[:abs_max] = kr_max_bnds\n",
    "        else\n",
    "            v[:active] = false\n",
    "        end\n",
    "    end\n",
    "end\n",
    "\n",
    "opt_setup = JutulDarcy.setup_reservoir_parameter_optimization(case_untuned, mismatch_objective, cfg, print = 10);"
   ],
   "metadata": {},
   "execution_count": null
  },
  {
   "cell_type": "markdown",
   "source": [
    "## Set up optimization solver and solve the first set of parameters\n",
    "We use the LBFGSB solver to solve the optimization problem. We set up a fairly\n",
    "long optimization with 100 function evaluations since we know that the model\n",
    "is tiny and fast to solve. The optimization function returns the optimized\n",
    "parameters and prints the progress to screen."
   ],
   "metadata": {}
  },
  {
   "outputs": [],
   "cell_type": "code",
   "source": [
    "function solve_optimization(setup)\n",
    "    f! = (x) -> setup.F_and_dF!(NaN, nothing, x)\n",
    "    g! = (dFdx, x) ->  setup.F_and_dF!(NaN, dFdx, x)\n",
    "    lower = setup.limits.min\n",
    "    upper = setup.limits.max\n",
    "    x0 = setup.x0\n",
    "    results, final_x = lb.lbfgsb(f!, g!, x0, lb=lower, ub=upper,\n",
    "        iprint = 0,\n",
    "        factr = 1e7,\n",
    "        pgtol = 1e-10,\n",
    "        maxfun = 100,\n",
    "        maxiter = 60,\n",
    "        m = 10\n",
    "    )\n",
    "    m = setup.data[:case].model\n",
    "    prm_tuned = deepcopy(setup.data[:case].parameters)\n",
    "    devectorize_variables!(prm_tuned, m, final_x, setup.data[:mapper], config = setup.data[:config])\n",
    "    return prm_tuned\n",
    "end\n",
    "\n",
    "prm_tune1 = solve_optimization(opt_setup)\n",
    "ws_tune1, states_tune1 = simulate_reservoir(state0, model_base, dt, forces = forces, parameters = prm_tune1, info_level = -1);"
   ],
   "metadata": {},
   "execution_count": null
  },
  {
   "cell_type": "markdown",
   "source": [
    "### Setup plotting for the results\n",
    "We set up a simple plotting function that will plot the results for the three\n",
    "producers. This is a good way to verify that our objective function is\n",
    "actually measuring the match we want to see."
   ],
   "metadata": {}
  },
  {
   "outputs": [],
   "cell_type": "code",
   "source": [
    "function plot_match(new_ws, new_name)\n",
    "    fig = Figure(size = (1350, 850))\n",
    "    for (i, name) in enumerate([:P1, :P2, :P3])\n",
    "        ax = Axis(fig[1, i], title = \"WRAT\", ylabel = \"m^3/day\", xlabel = \"days\")\n",
    "        lines!(ax, ws.time./day, -ws[name, :wrat].*day, label = \"Truth $name\")\n",
    "        lines!(ax, ws_untuned.time./day, -ws_untuned[name, :wrat].*day, label = \"Initial $name\")\n",
    "        lines!(ax, new_ws.time./day, -new_ws[name, :wrat].*day, label = \"$new_name $name\", linestyle = :dash, linewidth = 3)\n",
    "        axislegend(position = :lt)\n",
    "\n",
    "        ax = Axis(fig[2, i], title = \"ORAT\", ylabel = \"m^3/day\", xlabel = \"days\")\n",
    "        lines!(ax, ws.time./day, -ws[name, :orat].*day, label = \"Truth $name\")\n",
    "        lines!(ax, ws_untuned.time./day, -ws_untuned[name, :orat].*day, label = \"Initial $name\")\n",
    "        lines!(ax, new_ws.time./day, -new_ws[name, :orat].*day, label = \"$new_name $name\", linestyle = :dash, linewidth = 3)\n",
    "        axislegend()\n",
    "    end\n",
    "    fig\n",
    "end\n",
    "\n",
    "plot_match(ws_tune1, \"Gradient-based match\")"
   ],
   "metadata": {},
   "execution_count": null
  },
  {
   "cell_type": "markdown",
   "source": [
    "### Plot the saturation front\n",
    "If we look at the saturation front, we can see that the tuned model is quite\n",
    "different than both the truth case and the untuned case. This is a natural\n",
    "consequence of the history matching problem being ill-posed even for simple\n",
    "models, where multiple solutions will match a sparse set of observations like\n",
    "the ones we have from the wells. The tuned model is not a perfect match to the\n",
    "truth case, but it is an improvement over the base case."
   ],
   "metadata": {}
  },
  {
   "outputs": [],
   "cell_type": "code",
   "source": [
    "plot_sat_match(states_tune1, \"Gradient-based match 1\")"
   ],
   "metadata": {},
   "execution_count": null
  },
  {
   "cell_type": "markdown",
   "source": [
    "### Plot one of the tuned parameters\n",
    "We can also plot the tuned parameters to see how they look. The tuned\n",
    "parameters vary more or less continously, even though the truth case has\n",
    "distinct regions in place. When the optimization process is conditioned on\n",
    "data from the wells, the optimizer will tend to make the most drastic changes\n",
    "in the near-well region, as these values often have the highest initial\n",
    "gradient."
   ],
   "metadata": {}
  },
  {
   "outputs": [],
   "cell_type": "code",
   "source": [
    "plot_2d(prm_tune1[:Reservoir][:NonWettingKrExponent], \"Tuned Wetting Kr exponent\")"
   ],
   "metadata": {},
   "execution_count": null
  },
  {
   "cell_type": "markdown",
   "source": [
    "## Set up a second optimization\n",
    "Let us set up a second optimization problem where we instead of letting the\n",
    "cells vary independently, we assume that the cells are lumped into the two\n",
    "rock types and that we know the distribution of the rock types. This is a more\n",
    "constrained optimization problem, and we can expect that there are fewer\n",
    "solutions to this problem than the previous version."
   ],
   "metadata": {}
  },
  {
   "outputs": [],
   "cell_type": "code",
   "source": [
    "cfg2 = optimization_config(model_base, prm_untuned)\n",
    "\n",
    "for (mkey, mcfg) in pairs(cfg2)\n",
    "    for (k, v) in pairs(mcfg)\n",
    "        if mkey != :Reservoir\n",
    "            v[:active] = false\n",
    "        elseif k == :NonWettingKrExponent || k == :WettingKrExponent\n",
    "            v[:active] = true\n",
    "            v[:abs_min], v[:abs_max] = kr_exp_bnds\n",
    "            v[:lumping] = rocktype\n",
    "        elseif k == :WettingCritical || k == :NonWettingCritical\n",
    "            v[:active] = true\n",
    "            v[:abs_min], v[:abs_max] = kr_crit_bnds\n",
    "            v[:lumping] = rocktype\n",
    "        elseif k == :WettingKrMax || k == :NonWettingKrMax\n",
    "            v[:lumping] = rocktype\n",
    "            v[:active] = true\n",
    "            v[:abs_min], v[:abs_max] = kr_max_bnds\n",
    "            v[:lumping] = rocktype\n",
    "        else\n",
    "            v[:active] = false\n",
    "        end\n",
    "    end\n",
    "end\n",
    "opt_setup_lump = JutulDarcy.setup_reservoir_parameter_optimization(case_untuned, mismatch_objective, cfg2)\n",
    "prm_tune2 = solve_optimization(opt_setup_lump)"
   ],
   "metadata": {},
   "execution_count": null
  },
  {
   "cell_type": "markdown",
   "source": [
    "### Plot the results\n",
    "We again see excellent match against the reference well solutions."
   ],
   "metadata": {}
  },
  {
   "outputs": [],
   "cell_type": "code",
   "source": [
    "ws_tune2, states_tune2 = simulate_reservoir(state0, model_base, dt, forces = forces, parameters = prm_tune2, info_level = -1);\n",
    "plot_match(ws_tune2, \"Gradient-based match (regions as prior)\")"
   ],
   "metadata": {},
   "execution_count": null
  },
  {
   "cell_type": "markdown",
   "source": [
    "### Plot the saturation front\n",
    "The saturation front is also a good match to the truth case as the prior\n",
    "information about the rock types constrained the optimization problem\n",
    "substantially."
   ],
   "metadata": {}
  },
  {
   "outputs": [],
   "cell_type": "code",
   "source": [
    "plot_sat_match(states_tune2, \"Gradient-based match 2\")"
   ],
   "metadata": {},
   "execution_count": null
  },
  {
   "cell_type": "markdown",
   "source": [
    "### Print the parameters\n",
    "We can also print the tuned parameters to see how they look. The tuned\n",
    "parameters are for the most part fairly close to the truth case, but there are\n",
    "still substantial differences as some parameters may not actually impact the\n",
    "objective much, or can be compensated by other parameters. The problem is\n",
    "still not quite unique -- but it is much more constrained than the previous case."
   ],
   "metadata": {}
  },
  {
   "outputs": [],
   "cell_type": "code",
   "source": [
    "function print_match(prm)\n",
    "    rprm = prm[:Reservoir]\n",
    "    for k in [:NonWettingKrExponent, :WettingKrExponent, :WettingCritical, :NonWettingCritical, :WettingKrMax, :NonWettingKrMax]\n",
    "        println(\"Parameter $k\")\n",
    "        for (regno, cell) in enumerate((is1[1], is2[1]))\n",
    "            ref = prm_base[:Reservoir][k][cell]\n",
    "            tuned = rprm[k][cell]\n",
    "            println(\"Truth: $ref, Tuned: $tuned\")\n",
    "        end\n",
    "    end\n",
    "end\n",
    "print_match(prm_tune2)"
   ],
   "metadata": {},
   "execution_count": null
  },
  {
   "cell_type": "markdown",
   "source": [
    "### Set up a blending variable\n",
    "Let us flip the problem: What if we know that there are two rock types with\n",
    "corresponding relative permeabilities, but we do not exactly know their\n",
    "distribution? Determining what cells have what rock type is a difficult\n",
    "problem and is in principle discrete (a cell is either rock type 1 or rock\n",
    "type 2). We can use a trick from machine learning to make the problem amenable\n",
    "to gradient based optimization, however, by introducing blending functions\n",
    "that continuously vary between the two rock types. This is a common approach in\n",
    "machine learning and is often referred to as \"soft\" or \"fuzzy\" clustering.\n",
    "\n",
    "We can show the sigmoid function that we will use to blend between the two\n",
    "rock types. The function is defined as: $f(x) = \\frac{1}{1 + e^{-αx}}$ where\n",
    "the α parameter adjusts how steeply the function changes between the two\n",
    "regions at x=1."
   ],
   "metadata": {}
  },
  {
   "outputs": [],
   "cell_type": "code",
   "source": [
    "function sigmoid(x, α = 1.0)\n",
    "    return 1.0 / (1.0 + exp(-α*x))\n",
    "end\n",
    "\n",
    "x = range(-1, 1, length = 1000)\n",
    "y1 = sigmoid.(x, 1.0)\n",
    "y2 = sigmoid.(x, 2.0)\n",
    "y5 = sigmoid.(x, 5.0)\n",
    "y10 = sigmoid.(x, 10.0)\n",
    "y20 = sigmoid.(x, 20.0)\n",
    "\n",
    "fig = Figure()\n",
    "ax = Axis(fig[1, 1], title = \"Sigmoid Function\", xlabel = \"x\", ylabel = \"sigmoid(x)\")\n",
    "lines!(ax, x, y1, linewidth = 2, label = \"sigmoid(x) α=1.0\")\n",
    "lines!(ax, x, y2, linewidth = 2, label = \"sigmoid(x) α=2.0\")\n",
    "lines!(ax, x, y5, linewidth = 2, label = \"sigmoid(x) α=5.0\")\n",
    "lines!(ax, x, y10, linewidth = 2, label = \"sigmoid(x) α=10.0\")\n",
    "lines!(ax, x, y20, linewidth = 2, label = \"sigmoid(x) α=20.0\")\n",
    "axislegend(position = :lt)\n",
    "fig"
   ],
   "metadata": {},
   "execution_count": null
  },
  {
   "cell_type": "markdown",
   "source": [
    "## Plot the blending function for a few regions\n",
    "We can plot the blending function for a few regions. The blending function\n",
    "transitions smoothly between the different regions as the variable goes from\n",
    "region 1 (value 1) to region 5 (value 5). This choice of function is\n",
    "particularly attractive since it is differentiable everywhere and forms a\n",
    "partition of unity, so that a smooth function can be constructed by combining\n",
    "the weights with the corresponding functions:\n",
    "\n",
    " $f(x) = \\sum_{i=1}^n w_i(x) f_i(x)$"
   ],
   "metadata": {}
  },
  {
   "outputs": [],
   "cell_type": "code",
   "source": [
    "function myblend(x, low_bnd, n_max, α = 20.0)\n",
    "    w1 = sigmoid(x - low_bnd - 0.5, α)\n",
    "    w2 = sigmoid(x - low_bnd + 0.5, α)\n",
    "    if low_bnd == 1\n",
    "        w = 1.0 - w1\n",
    "    elseif low_bnd == n_max\n",
    "        w = w2\n",
    "    else\n",
    "        w = w2 - w1\n",
    "    end\n",
    "    return w\n",
    "end\n",
    "\n",
    "nmax = 5\n",
    "x = range(1, nmax, length = 1000)\n",
    "\n",
    "fig = Figure(size = (800, 400))\n",
    "ax = Axis(fig[1, 1], title = \"Blending Function\", xlabel = \"x\", ylabel = \"blend(x)\")\n",
    "for i in 1:nmax\n",
    "    v = myblend.(x, i, nmax)\n",
    "    lines!(ax, x, v, linewidth = 2, label = \"Region $i\")\n",
    "end\n",
    "ylims!(ax, (0, 1.2))\n",
    "ax.xticks = 0:nmax+1\n",
    "axislegend(position = :lt, nbanks = 5)\n",
    "fig"
   ],
   "metadata": {},
   "execution_count": null
  },
  {
   "cell_type": "markdown",
   "source": [
    "## Set up blending problem\n",
    "In our example, if we know that there are two relative permeabilities, the\n",
    "above discussion can be simplified to the case:\n",
    "\n",
    "$k_r = k_{r1}(p) w_1 + k_{r2} w_2(p)$\n",
    "\n",
    "Here, $k_{r1}$ and $k_{r2}$ are the two relative permeabilities, and\n",
    "$w_1$ and $w_2$ are the weights of the blending function with respect to\n",
    "regions 1 and 2 that depends on the continuous parameter $p$.\n",
    "\n",
    "The goal, in terms of programming, is then the following:\n",
    "1. Set up two relative permeability functions with names 1 and 2 that are\n",
    "   distinct and uniform throughout the domain (corresponding to parameter sets\n",
    "   1 and 2 in the truth case).\n",
    "2. Set up a blending parameter together with a new relative permeability\n",
    "   function that combines the two relative permeabilities according to the\n",
    "   blending rule described above.\n",
    "3. Optimize this case for the blending variable itself, leaving all other\n",
    "   variables untouched.\n",
    "\n",
    "Fortunately for us, the blending functionality is already implemented in\n",
    "Jutul. The setup below is primarily verbose because we need to add another\n",
    "relative permeability function with renamed parameters (adding the suffix 2 to\n",
    "the default names) and letting the blending function know that it is supposed\n",
    "to blend the two named fields RelativePermeabilities1 and\n",
    "RelativePermeabilities2 together with one value per phase in each cell based\n",
    "on the added blending parameter."
   ],
   "metadata": {}
  },
  {
   "outputs": [],
   "cell_type": "code",
   "source": [
    "model_blend, = setup_model_with_relperm(kr);\n",
    "rmodel_blend = reservoir_model(model_blend)\n",
    "\n",
    "kr2 = JutulDarcy.ParametricCoreyRelativePermeabilities(\n",
    "    wetting_exponent = :WettingKrExponent2,\n",
    "    nonwetting_exponent = :NonWettingKrExponent2,\n",
    "    wetting_critical = :WettingCritical2,\n",
    "    nonwetting_critical = :NonWettingCritical2,\n",
    "    wetting_krmax = :WettingKrMax2,\n",
    "    nonwetting_krmax = :NonWettingKrMax2\n",
    ")\n",
    "\n",
    "nph = number_of_phases(sys)\n",
    "blend_var = Jutul.BlendingVariable((:RelativePermeabilities1, :RelativePermeabilities2), nph)\n",
    "blend_par = Jutul.BlendingParameter(nph)\n",
    "\n",
    "set_secondary_variables!(rmodel_blend,\n",
    "    RelativePermeabilities1 = kr,\n",
    "    RelativePermeabilities2 = kr2,\n",
    "    RelativePermeabilities = blend_var\n",
    ")\n",
    "\n",
    "set_parameters!(rmodel_blend,\n",
    "    BlendingParameter = blend_par,\n",
    ")\n",
    "\n",
    "JutulDarcy.add_relperm_parameters!(rmodel_blend.parameters, kr2)"
   ],
   "metadata": {},
   "execution_count": null
  },
  {
   "cell_type": "markdown",
   "source": [
    "### Set parameters for the two regions\n",
    "Since we now have two separate relative permeability functions, each with\n",
    "their own parameters, we set one of them to use the truth parameters for the\n",
    "first region and the other to use the truth parameters for the second region.\n",
    "\n",
    "The tuning is then done by only tuning the blending parameter."
   ],
   "metadata": {}
  },
  {
   "outputs": [],
   "cell_type": "code",
   "source": [
    "prm_blend_outer = setup_parameters(model_blend)\n",
    "prm_blend = prm_blend_outer[:Reservoir]\n",
    "\n",
    "prm_blend[:NonWettingKrExponent] .= 1.8\n",
    "prm_blend[:NonWettingKrExponent2] .= 3.0\n",
    "\n",
    "prm_blend[:WettingKrExponent] .= 1.0\n",
    "prm_blend[:WettingKrExponent2] .= 1.0\n",
    "\n",
    "prm_blend[:WettingCritical] .= 0.3\n",
    "prm_blend[:WettingCritical2] .= 0.1\n",
    "\n",
    "prm_blend[:NonWettingCritical] .= 0.1\n",
    "prm_blend[:NonWettingCritical2] .= 0.1\n",
    "\n",
    "prm_blend[:WettingKrMax] .= 0.7\n",
    "prm_blend[:WettingKrMax2] .= 1.0\n",
    "\n",
    "prm_blend[:NonWettingKrMax] .= 0.8\n",
    "prm_blend[:NonWettingKrMax2] .= 1.0\n",
    "\n",
    "\n",
    "cfg3 = optimization_config(model_blend, prm_blend_outer)\n",
    "\n",
    "for (mkey, mcfg) in pairs(cfg3)\n",
    "    for (k, v) in pairs(mcfg)\n",
    "        if mkey != :Reservoir\n",
    "            v[:active] = false\n",
    "        elseif k == :BlendingParameter\n",
    "            v[:active] = true\n",
    "            v[:abs_min], v[:abs_max] = (1.0, 2.0)\n",
    "        else\n",
    "            v[:active] = false\n",
    "        end\n",
    "    end\n",
    "end\n",
    "state0_blend = setup_reservoir_state(model_blend, Pressure = 90barsa, Saturations = [0.0, 1.0])\n",
    "case_lump = JutulCase(model_blend, dt, forces, state0 = state0_blend, parameters = prm_blend_outer)\n",
    "\n",
    "opt_setup_lump = JutulDarcy.setup_reservoir_parameter_optimization(case_lump, mismatch_objective, cfg3)\n",
    "prm_tune3 = solve_optimization(opt_setup_lump)"
   ],
   "metadata": {},
   "execution_count": null
  },
  {
   "cell_type": "markdown",
   "source": [
    "### Plot the results\n",
    "We plot the blending parameter both as a smooth parameter (what the optimizer\n",
    "works with) and the parameter when rounded (which could be input to a\n",
    "conventional simulator after the fact)."
   ],
   "metadata": {}
  },
  {
   "outputs": [],
   "cell_type": "code",
   "source": [
    "function plot_blending(vals)\n",
    "    vals = reshape(vals, nx, nx)\n",
    "    fig = Figure(size = (1800, 600))\n",
    "    ax = Axis(fig[1, 1], title = \"Tuned parameter\")\n",
    "    plt = heatmap!(ax, vals, colorrange = (1.0, 2.0), colormap = :vik)\n",
    "    Colorbar(fig[1, 2], plt)\n",
    "    ax = Axis(fig[1, 3], title = \"Effective region\")\n",
    "    heatmap!(ax, round.(vals), colorrange = (1.0, 2.0), colormap = :vik)\n",
    "    ax = Axis(fig[1, 4], title = \"Truth region\")\n",
    "    plt = heatmap!(ax, reshape(rocktype, nx, nx), colorrange = (1.0, 2.0), colormap = Categorical(:vik))\n",
    "    Colorbar(fig[1, 5], plt)\n",
    "    fig\n",
    "end\n",
    "plot_blending(prm_tune3[:Reservoir][:BlendingParameter])"
   ],
   "metadata": {},
   "execution_count": null
  },
  {
   "cell_type": "markdown",
   "source": [
    "### Verify match\n",
    "We again see good match against the truth case."
   ],
   "metadata": {}
  },
  {
   "outputs": [],
   "cell_type": "code",
   "source": [
    "ws_tune3, states_tune3 = simulate_reservoir(state0_blend, model_blend, dt, forces = forces, parameters = prm_tune3, info_level = -1);\n",
    "plot_match(ws_tune3, \"Gradient-based match (blended regions)\")"
   ],
   "metadata": {},
   "execution_count": null
  },
  {
   "cell_type": "markdown",
   "source": [
    "### Plot the saturation front"
   ],
   "metadata": {}
  },
  {
   "outputs": [],
   "cell_type": "code",
   "source": [
    "plot_sat_match(states_tune3, \"Gradient-based match 3 (blended regions)\")"
   ],
   "metadata": {},
   "execution_count": null
  },
  {
   "cell_type": "markdown",
   "source": [
    "### Run simulation with truncated blending parameter\n",
    "We can also turn the region into a discrete region by rounding the blending\n",
    "function and check if the match is substantially different. As most cells are\n",
    "firmly in one region or the other, we can expect that the match remains good."
   ],
   "metadata": {}
  },
  {
   "outputs": [],
   "cell_type": "code",
   "source": [
    "prm_tune3_trunc = deepcopy(prm_tune3)\n",
    "prm_tune3_trunc[:Reservoir][:BlendingParameter] = round.(prm_tune3[:Reservoir][:BlendingParameter])\n",
    "ws_tune3_trunc, = simulate_reservoir(state0_blend, model_blend, dt, forces = forces, parameters = prm_tune3_trunc, info_level = -1);\n",
    "plot_match(ws_tune3_trunc, \"Gradient-based match (blended, truncated)\")"
   ],
   "metadata": {},
   "execution_count": null
  },
  {
   "cell_type": "markdown",
   "source": [
    "## Optimize regions and parameters at the same time\n",
    "Finally, we can also optimize the regions and the parameters at the same time.\n",
    "This is a weaker assumption than the two preceeding cases, as the only prior\n",
    "information for the relative permeabilities are the bounds for the parameters\n",
    "and the fact that there are two regions. Consequently, we expect a worse match\n",
    "than in the previous case when looking at saturations and regions."
   ],
   "metadata": {}
  },
  {
   "outputs": [],
   "cell_type": "code",
   "source": [
    "cfg4 = optimization_config(model_blend, prm_blend_outer)\n",
    "\n",
    "equal_lumping = ones(Int, nc)\n",
    "for (mkey, mcfg) in pairs(cfg4)\n",
    "    for (k, v) in pairs(mcfg)\n",
    "        if mkey != :Reservoir\n",
    "            v[:active] = false\n",
    "        elseif k == :NonWettingKrExponent || k == :WettingKrExponent || k == :NonWettingKrExponent2 || k == :WettingKrExponent2\n",
    "            v[:active] = true\n",
    "            v[:abs_min], v[:abs_max] = kr_exp_bnds\n",
    "            v[:lumping] = equal_lumping\n",
    "        elseif k == :WettingCritical || k == :NonWettingCritical || k == :WettingCritical2 || k == :NonWettingCritical2\n",
    "            v[:active] = true\n",
    "            v[:abs_min], v[:abs_max] = kr_crit_bnds\n",
    "            v[:lumping] = equal_lumping\n",
    "        elseif k == :WettingKrMax || k == :NonWettingKrMax || k == :WettingKrMax2 || k == :NonWettingKrMax2\n",
    "            v[:active] = true\n",
    "            v[:abs_min], v[:abs_max] = kr_max_bnds\n",
    "            v[:lumping] = equal_lumping\n",
    "        elseif k == :BlendingParameter\n",
    "            v[:active] = true\n",
    "            v[:abs_min], v[:abs_max] = (1.0, 2.0)\n",
    "        else\n",
    "            v[:active] = false\n",
    "        end\n",
    "    end\n",
    "end\n",
    "opt_setup_lump2 = JutulDarcy.setup_reservoir_parameter_optimization(case_lump, mismatch_objective, cfg4)\n",
    "prm_tune4 = solve_optimization(opt_setup_lump2)"
   ],
   "metadata": {},
   "execution_count": null
  },
  {
   "cell_type": "markdown",
   "source": [
    "### Plot the match"
   ],
   "metadata": {}
  },
  {
   "outputs": [],
   "cell_type": "code",
   "source": [
    "ws_tune4, states_tune4 = simulate_reservoir(state0_blend, model_blend, dt, forces = forces, parameters = prm_tune4, info_level = -1);\n",
    "plot_match(ws_tune4, \"Gradient-based match\")"
   ],
   "metadata": {},
   "execution_count": null
  },
  {
   "cell_type": "markdown",
   "source": [
    "### Plot the saturations"
   ],
   "metadata": {}
  },
  {
   "outputs": [],
   "cell_type": "code",
   "source": [
    "plot_sat_match(states_tune4, \"Gradient-based match 4\")"
   ],
   "metadata": {},
   "execution_count": null
  },
  {
   "cell_type": "markdown",
   "source": [
    "### Plot the blending parameter\n",
    "We recover a reasonable two-region distribution even when simultaneously\n",
    "optimizing both the blending parameter and the relative permeability\n",
    "parameters."
   ],
   "metadata": {}
  },
  {
   "outputs": [],
   "cell_type": "code",
   "source": [
    "plot_blending(prm_tune4[:Reservoir][:BlendingParameter])"
   ],
   "metadata": {},
   "execution_count": null
  },
  {
   "cell_type": "markdown",
   "source": [
    "## Conclusion\n",
    "History matching is a fundamentally ill-posed problem and prior assumptions is\n",
    "a large part of narrowing down the problem. In this example we have seen a few\n",
    "different ways of looking at the same matching problem depending on the prior\n",
    "modeling assumptions. Gradient-based optimization is a powerful tool for\n",
    "history matching when you have access to a differentiable simulator. The\n",
    "flexibility to allow on-the-fly setup of new functional relationships and\n",
    "corresponding parameters in JutulDarcy nicely complements the gradients,\n",
    "allowing us to reframe the problem to match our prior assumptions."
   ],
   "metadata": {}
  },
  {
   "cell_type": "markdown",
   "source": [
    "---\n",
    "\n",
    "*This notebook was generated using [Literate.jl](https://github.com/fredrikekre/Literate.jl).*"
   ],
   "metadata": {}
  }
 ],
 "nbformat_minor": 3,
 "metadata": {
  "language_info": {
   "file_extension": ".jl",
   "mimetype": "application/julia",
   "name": "julia",
   "version": "1.11.4"
  },
  "kernelspec": {
   "name": "julia-1.11",
   "display_name": "Julia 1.11.4",
   "language": "julia"
  }
 },
 "nbformat": 4
}
