{
 "cells": [
  {
   "cell_type": "markdown",
   "source": [
    "# Borehole Thermal Energy Storage (BTES)\n",
    "This script demonstrates how to model a borehole thermal energy storage (BTES)\n",
    "system using JutulDarcy. We will set up a BTES system with 50 wells, and\n",
    "simulate five year of operation with 6 months of charging followed by 6 months\n",
    "of discharging."
   ],
   "metadata": {}
  },
  {
   "outputs": [],
   "cell_type": "code",
   "source": [
    "using Jutul, JutulDarcy\n",
    "using LinearAlgebra\n",
    "using HYPRE\n",
    "using GLMakie\n",
    "import Gmsh: gmsh\n",
    "import Dates: monthname\n",
    "\n",
    "atm, kilogram, meter, Kelvin, joule, watt, litre, year, second, darcy =\n",
    "    si_units(:atm, :kilogram, :meter, :Kelvin, :joule, :watt, :litre, :year, :second, :darcy)"
   ],
   "metadata": {},
   "execution_count": null
  },
  {
   "cell_type": "markdown",
   "source": [
    "## Define BTES well coordinates\n",
    "We place the BTES wells in a pattern inspired by sunflower seeds, ensuring\n",
    "that they are uniformy distributed over the domain."
   ],
   "metadata": {}
  },
  {
   "outputs": [],
   "cell_type": "code",
   "source": [
    "num_wells = 50\n",
    "radius = 15.0meter\n",
    "φ = (1 + sqrt(5))/2 # Golden ratio\n",
    "Δθ = 2*π/φ^2\n",
    "p = (k) -> radius .* sqrt(k/num_wells) .* (cos(k*Δθ), sin(k*Δθ))\n",
    "well_coords = [p(k) for k = 0:num_wells-1];"
   ],
   "metadata": {},
   "execution_count": null
  },
  {
   "cell_type": "markdown",
   "source": [
    "Plot well coordinates in horizontal plane"
   ],
   "metadata": {}
  },
  {
   "outputs": [],
   "cell_type": "code",
   "source": [
    "fig = Figure()\n",
    "ax = Axis(fig[1, 1], title = \"BTES well coordinates\", aspect = 1.0)\n",
    "scatter!(ax, well_coords, markersize=10)\n",
    "fig"
   ],
   "metadata": {},
   "execution_count": null
  },
  {
   "cell_type": "markdown",
   "source": [
    "## Set up mesh function\n",
    "We create a mesh for the BTES system using Gmsh. The mesh is first created in\n",
    "2D with refinement around the wells, and then extruded to create a 3D mesh."
   ],
   "metadata": {}
  },
  {
   "outputs": [],
   "cell_type": "code",
   "source": [
    "function create_btes_mesh(xw, radius, depth, h_min, h_max, h_z)\n",
    "\n",
    "    radius_outer = radius*5\n",
    "\n",
    "    gmsh.initialize()\n",
    "    gmsh.clear()\n",
    "    gmsh.model.add(\"btes_mesh\")\n",
    "\n",
    "    perimeter = 2*π*radius_outer\n",
    "    n = Int(ceil(perimeter / h_max))\n",
    "    Δθ = 2*π/n\n",
    "    for i = 1:n\n",
    "        x, y = radius_outer*cos(i*Δθ), radius_outer*sin(i*Δθ)\n",
    "        gmsh.model.geo.addPoint(x, y, 0.0, h_max, i)\n",
    "    end\n",
    "    for i = 1:n\n",
    "        gmsh.model.geo.addLine(i, mod(i, n) + 1, i)\n",
    "    end\n",
    "    gmsh.model.geo.addCurveLoop(collect(1:n), 1)\n",
    "    gmsh.model.geo.addPlaneSurface([1], 1)\n",
    "\n",
    "    for (i, x) in enumerate(xw)\n",
    "        gmsh.model.geo.addPoint(x[1], x[2], 0.0, h_min, n + i)\n",
    "    end\n",
    "    nw = length(xw)\n",
    "    gmsh.model.geo.synchronize()\n",
    "    gmsh.model.mesh.embed(0, collect(n+1:n+length(xw)), 2, 1)\n",
    "    gmsh.model.geo.addPoint(0.0, 0.0, 0.0, h_min, n + nw + 1)\n",
    "\n",
    "    gmsh.model.mesh.field.add(\"Distance\", 1)\n",
    "    gmsh.model.mesh.field.setNumbers(1, \"PointsList\", [n + nw + 1])\n",
    "    gmsh.model.mesh.field.add(\"Threshold\", 2)\n",
    "    gmsh.model.mesh.field.setNumber(2, \"InField\", 1)\n",
    "    gmsh.model.mesh.field.setNumber(2, \"SizeMin\", h_min)\n",
    "    gmsh.model.mesh.field.setNumber(2, \"SizeMax\", h_max)\n",
    "    gmsh.model.mesh.field.setNumber(2, \"DistMin\", 1.1*radius)\n",
    "    gmsh.model.mesh.field.setNumber(2, \"DistMax\", 1.5*radius)\n",
    "    gmsh.model.mesh.field.setAsBackgroundMesh(2)\n",
    "\n",
    "    gmsh.model.geo.mesh.setRecombine(2, 1)\n",
    "\n",
    "    num_elements = Int(ceil(depth/h_z))\n",
    "    gmsh.model.geo.extrude([(2, 1)], 0, 0, depth, [num_elements], [1.0], true)\n",
    "    gmsh.model.geo.synchronize()\n",
    "\n",
    "    gmsh.model.mesh.generate(3)\n",
    "\n",
    "    mesh = Jutul.mesh_from_gmsh(z_is_depth=true)\n",
    "    gmsh.finalize()\n",
    "    return mesh\n",
    "\n",
    "end"
   ],
   "metadata": {},
   "execution_count": null
  },
  {
   "cell_type": "markdown",
   "source": [
    "## Create BTES mesh\n",
    "The following mesh size parameters will give a mesh with approximately 15k\n",
    "cells, and can be adjusted to make the mesh coarser or finer.\n",
    "NB: Note that not all mesh sizes will give a valid mesh."
   ],
   "metadata": {}
  },
  {
   "outputs": [],
   "cell_type": "code",
   "source": [
    "depth = 50.0meter; # Depth of the BTES system"
   ],
   "metadata": {},
   "execution_count": null
  },
  {
   "cell_type": "markdown",
   "source": [
    "Horizontal minimum/maximum and vertical mesh size"
   ],
   "metadata": {}
  },
  {
   "outputs": [],
   "cell_type": "code",
   "source": [
    "h_min, h_max, h_z = 1.0meter, 25.0meter, 5.0meter\n",
    "mesh = create_btes_mesh(well_coords, radius, depth, h_min, h_max, h_z)"
   ],
   "metadata": {},
   "execution_count": null
  },
  {
   "cell_type": "markdown",
   "source": [
    "## Create reservoir model\n",
    "We construct a simulation model with shallow bedrock posed on the mesh we just\n",
    "created and add the BTES wells."
   ],
   "metadata": {}
  },
  {
   "cell_type": "markdown",
   "source": [
    "### Reservoir domain\n",
    "The eservoir domain is populated with rock properties similar to that of\n",
    "granite"
   ],
   "metadata": {}
  },
  {
   "outputs": [],
   "cell_type": "code",
   "source": [
    "domain = reservoir_domain(mesh,\n",
    "    permeability = 1e-6darcy,\n",
    "    porosity = 0.011,\n",
    "    rock_density = 2650kilogram/meter^3,\n",
    "    rock_heat_capacity = 790joule/kilogram/Kelvin,\n",
    "    rock_thermal_conductivity = 3.0watt/meter/Kelvin,\n",
    "    component_heat_capacity = 4.278e3joule/kilogram/Kelvin\n",
    ");"
   ],
   "metadata": {},
   "execution_count": null
  },
  {
   "cell_type": "markdown",
   "source": [
    "### Set up BTES wells\n",
    "The BTES well have a U-tube configuration, where the supply and return pipes\n",
    "run parallel inside a larger borehole filled with grout. We model this using\n",
    "two mutlisegment wells, one for the supply and one for the return. Pipe\n",
    "dimensions and material thermal properties have reasonable defaults, and can\n",
    "be adjusted as needed -- see `setup_btes_well` for detail."
   ],
   "metadata": {}
  },
  {
   "outputs": [],
   "cell_type": "code",
   "source": [
    "grid = physical_representation(domain)\n",
    "well_models = []\n",
    "for (wno, xw) in enumerate(well_coords)\n",
    "    d = max(norm(xw, 2))\n",
    "    v = (d > 0) ? xw ./ d : (1.0, 0.0)\n",
    "    xw = xw .+ (h_min / 2) .* v\n",
    "    trajectory = [xw[1] xw[2] 0.0; xw[1] xw[2] depth]\n",
    "    cells = Jutul.find_enclosing_cells(grid, trajectory)\n",
    "    name = Symbol(\"B$wno\")\n",
    "    w_sup, w_ret = setup_btes_well(domain, cells, name=name, btes_type=:u1)\n",
    "    push!(well_models, w_sup, w_ret)\n",
    "end"
   ],
   "metadata": {},
   "execution_count": null
  },
  {
   "cell_type": "markdown",
   "source": [
    "### Make the model"
   ],
   "metadata": {}
  },
  {
   "outputs": [],
   "cell_type": "code",
   "source": [
    "model, parameters = setup_reservoir_model(\n",
    "    domain, :geothermal,\n",
    "    wells=well_models\n",
    ");"
   ],
   "metadata": {},
   "execution_count": null
  },
  {
   "cell_type": "markdown",
   "source": [
    "Inspect"
   ],
   "metadata": {}
  },
  {
   "outputs": [],
   "cell_type": "code",
   "source": [
    "plot_reservoir(model)"
   ],
   "metadata": {},
   "execution_count": null
  },
  {
   "cell_type": "markdown",
   "source": [
    "## Initial state and boundary conditions\n",
    "The model is initialized at 1 atm and 10°C."
   ],
   "metadata": {}
  },
  {
   "outputs": [],
   "cell_type": "code",
   "source": [
    "state0 = setup_reservoir_state(model,\n",
    "    Pressure=1atm,\n",
    "    Temperature=convert_to_si(10.0, :Celsius)\n",
    ");"
   ],
   "metadata": {},
   "execution_count": null
  },
  {
   "cell_type": "markdown",
   "source": [
    "We impose fixed boundary conditions at the top surface, enforcing a constant\n",
    "pressure of 1 atm and a temperature of 10°C."
   ],
   "metadata": {}
  },
  {
   "outputs": [],
   "cell_type": "code",
   "source": [
    "geo = tpfv_geometry(mesh)\n",
    "z_f = geo.boundary_centroids[3, :]\n",
    "top_f = findall(v -> isapprox(v, minimum(z_f)), z_f)\n",
    "top = mesh.boundary_faces.neighbors[top_f]\n",
    "bc = FlowBoundaryCondition.(top, 1atm, convert_to_si(10.0, :Celsius));"
   ],
   "metadata": {},
   "execution_count": null
  },
  {
   "cell_type": "markdown",
   "source": [
    "## Controls\n",
    "The supply well of each BTES is controlled by a rate target, while the return\n",
    "well is controlled by a BHP target. The supply and return wells communicate\n",
    "through their bottom cell."
   ],
   "metadata": {}
  },
  {
   "cell_type": "markdown",
   "source": [
    "Rate control for supply side:"
   ],
   "metadata": {}
  },
  {
   "outputs": [],
   "cell_type": "code",
   "source": [
    "rate = 0.5litre/second\n",
    "temperature_charge = convert_to_si(80.0, :Celsius)\n",
    "temperature_discharge = convert_to_si(10.0, :Celsius)\n",
    "rate_target = TotalRateTarget(rate)\n",
    "ctrl_charge = InjectorControl(rate_target, [1.0], density=1000.0, temperature=temperature_charge)\n",
    "ctrl_discharge = InjectorControl(rate_target, [1.0], density=1000.0, temperature=temperature_discharge);"
   ],
   "metadata": {},
   "execution_count": null
  },
  {
   "cell_type": "markdown",
   "source": [
    "BHP control for return side:"
   ],
   "metadata": {}
  },
  {
   "outputs": [],
   "cell_type": "code",
   "source": [
    "bhp_target = BottomHolePressureTarget(1atm)\n",
    "ctrl_prod = ProducerControl(bhp_target);"
   ],
   "metadata": {},
   "execution_count": null
  },
  {
   "cell_type": "markdown",
   "source": [
    "Set up forces"
   ],
   "metadata": {}
  },
  {
   "outputs": [],
   "cell_type": "code",
   "source": [
    "control_charge = Dict()\n",
    "control_discharge = Dict()\n",
    "for well in well_models\n",
    "    if contains(String(well.name), \"_supply\")\n",
    "        control_charge[well.name] = ctrl_charge\n",
    "        control_discharge[well.name] = ctrl_discharge\n",
    "    else\n",
    "        control_charge[well.name] = ctrl_prod\n",
    "        control_discharge[well.name] = ctrl_prod\n",
    "    end\n",
    "end\n",
    "forces_charge = setup_reservoir_forces(model, control=control_charge, bc=bc)\n",
    "forces_discharge = setup_reservoir_forces(model, control=control_discharge, bc=bc);"
   ],
   "metadata": {},
   "execution_count": null
  },
  {
   "cell_type": "markdown",
   "source": [
    "### Assemble schedule\n",
    "The BTES system is fist charged for an entire year, after which it is operated\n",
    "cyclically with 6 months of charging followed by 6 months of discharging.\n",
    "\n",
    "Swictching from charging to discharging is challenging introduces complicated\n",
    "dynamics in the BTES wells which are challenging to resolve for the nonlinear\n",
    "solver. To help the nonlinear solution process, we start each charge/discharge\n",
    "switch using a very small timstep that is gradually increased"
   ],
   "metadata": {}
  },
  {
   "outputs": [],
   "cell_type": "code",
   "source": [
    "num_years = 5\n",
    "dt_vec, forces = Float64[], []\n",
    "month = year/12\n",
    "dt = 1.0month\n",
    "α, n_ramp = 3.0, 10\n",
    "dt0 = 2*dt/(α^n_ramp-1)\n",
    "dt_ramp = [dt0*α^k for k in 0:n_ramp-1]\n",
    "\n",
    "push!(dt_vec, dt_ramp..., fill(dt, 11)...)\n",
    "push!(forces, fill(forces_charge, n_ramp + 11)...);"
   ],
   "metadata": {},
   "execution_count": null
  },
  {
   "cell_type": "markdown",
   "source": [
    "The system is charged from April to September, and discharged from October to\n",
    "March"
   ],
   "metadata": {}
  },
  {
   "outputs": [],
   "cell_type": "code",
   "source": [
    "for year in 1:num_years\n",
    "    for mno in vcat(10:12, 1:9)\n",
    "        mname = monthname(mno)\n",
    "        if mname == \"October\"\n",
    "            push!(dt_vec, dt_ramp...)\n",
    "            push!(forces, fill(forces_discharge, n_ramp)...)\n",
    "        elseif mname in (\"November\", \"December\", \"January\", \"February\", \"March\")\n",
    "            push!(dt_vec, dt)\n",
    "            push!(forces, forces_discharge)\n",
    "        elseif mname == \"April\"\n",
    "            push!(dt_vec, dt_ramp...)\n",
    "            push!(forces, fill(forces_charge, n_ramp)...)\n",
    "        elseif mname in (\"May\", \"June\", \"July\", \"August\", \"September\")\n",
    "            push!(dt_vec, dt)\n",
    "            push!(forces, forces_charge)\n",
    "        end\n",
    "    end\n",
    "end"
   ],
   "metadata": {},
   "execution_count": null
  },
  {
   "cell_type": "markdown",
   "source": [
    "## Set simulator and run\n",
    "Pack simulation case"
   ],
   "metadata": {}
  },
  {
   "outputs": [],
   "cell_type": "code",
   "source": [
    "case = JutulCase(model, dt_vec, forces, state0=state0, parameters=parameters);"
   ],
   "metadata": {},
   "execution_count": null
  },
  {
   "cell_type": "markdown",
   "source": [
    "We set somewhat relaxed tolerances and use relaxation of the Newton updates to\n",
    "speed up the simulation"
   ],
   "metadata": {}
  },
  {
   "outputs": [],
   "cell_type": "code",
   "source": [
    "simulator, config = setup_reservoir_simulator(case;\n",
    "    tol_cnv = 1e-2,\n",
    "    tol_mb = 1e-6,\n",
    "    timesteps = :auto,\n",
    "    target_its = 5,\n",
    "    max_nonlinear_iterations = 8,\n",
    "    relaxation = true\n",
    ")\n",
    "results = simulate_reservoir(case, simulator=simulator, config=config);"
   ],
   "metadata": {},
   "execution_count": null
  },
  {
   "cell_type": "markdown",
   "source": [
    "## Inspect reservoir states"
   ],
   "metadata": {}
  },
  {
   "outputs": [],
   "cell_type": "code",
   "source": [
    "plot_reservoir(model, results.states, key = :Temperature, step = length(results.states))"
   ],
   "metadata": {},
   "execution_count": null
  },
  {
   "cell_type": "markdown",
   "source": [
    "## Inspect well solutions\n",
    "Interactive plot:"
   ],
   "metadata": {}
  },
  {
   "outputs": [],
   "cell_type": "code",
   "source": [
    "plot_well_results(results.wells, field = :temperature)"
   ],
   "metadata": {},
   "execution_count": null
  },
  {
   "cell_type": "markdown",
   "source": [
    "Return temperatures of center well vs time"
   ],
   "metadata": {}
  },
  {
   "outputs": [],
   "cell_type": "code",
   "source": [
    "temp = convert_from_si.(results.wells[:B1_return][:temperature], :Celsius)\n",
    "time = cumsum(case.dt)/month\n",
    "fig = Figure()\n",
    "ax = Axis(fig[1, 1], title = \"Center BTES temperature\", xlabel = \"Time (months)\")\n",
    "lines!(ax, time, temp)\n",
    "fig"
   ],
   "metadata": {},
   "execution_count": null
  },
  {
   "cell_type": "markdown",
   "source": [
    "---\n",
    "\n",
    "*This notebook was generated using [Literate.jl](https://github.com/fredrikekre/Literate.jl).*"
   ],
   "metadata": {}
  }
 ],
 "nbformat_minor": 3,
 "metadata": {
  "language_info": {
   "file_extension": ".jl",
   "mimetype": "application/julia",
   "name": "julia",
   "version": "1.11.4"
  },
  "kernelspec": {
   "name": "julia-1.11",
   "display_name": "Julia 1.11.4",
   "language": "julia"
  }
 },
 "nbformat": 4
}
