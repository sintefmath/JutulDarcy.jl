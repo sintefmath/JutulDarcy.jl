{
 "cells": [
  {
   "cell_type": "markdown",
   "source": [
    "# Relative Permeabilities in JutulDarcy\n",
    "We will show a few of the functions for evaluating relative permeabilities,\n",
    "show how these can be fitted to data and finally how they can be used in\n",
    "simulation."
   ],
   "metadata": {}
  },
  {
   "outputs": [],
   "cell_type": "code",
   "source": [
    "using GLMakie\n",
    "using JutulDarcy, Jutul\n",
    "import JutulDarcy: table_to_relperm, PhaseRelativePermeability, brooks_corey_relperm, let_relperm, ReservoirRelativePermeabilities"
   ],
   "metadata": {},
   "execution_count": null
  },
  {
   "cell_type": "markdown",
   "source": [
    "## Define helper functions\n",
    "The following functions are used to set up a simple reservoir model with a\n",
    "linear displacement for a given relative permeability function. The function\n",
    "also takes in the viscosity ratio as an optional parameter.\n",
    "\n",
    "### Simulation helpers"
   ],
   "metadata": {}
  },
  {
   "outputs": [],
   "cell_type": "code",
   "source": [
    "function setup_model_with_relperm(kr; mu_ratio = 1.0)\n",
    "    mesh = CartesianMesh(1000, 1000.0)\n",
    "    domain = reservoir_domain(mesh)\n",
    "    nc = number_of_cells(domain)\n",
    "    sys = ImmiscibleSystem((LiquidPhase(), VaporPhase()), reference_densities = [1000.0, 700.0])\n",
    "    model,  = setup_reservoir_model(domain, sys)\n",
    "    rmodel = reservoir_model(model)\n",
    "    replace_variables!(rmodel, RelativePermeabilities = kr)\n",
    "    JutulDarcy.add_relperm_parameters!(rmodel)\n",
    "    parameters = setup_parameters(model)\n",
    "    parameters[:Reservoir][:PhaseViscosities] = repeat([mu_ratio*1e-3, 1e-3], 1, nc)\n",
    "    return (model, parameters)\n",
    "end\n",
    "\n",
    "function simulate_bl(model, parameters; pvi = 0.75)\n",
    "    domain = reservoir_domain(model)\n",
    "    nc = number_of_cells(domain)\n",
    "    nstep = nc\n",
    "    timesteps = fill(3600*24/nstep, nstep)\n",
    "    p0 = 100*si_unit(:bar)\n",
    "    tot_time = sum(timesteps)\n",
    "    pv = pore_volume(domain)\n",
    "    irate = pvi*sum(pv)/tot_time\n",
    "    src  = SourceTerm(1, irate, fractional_flow = [1.0, 0.0])\n",
    "    bc = FlowBoundaryCondition(nc, p0/2)\n",
    "    forces = setup_reservoir_forces(model, sources = src, bc = bc)\n",
    "    state0 = setup_reservoir_state(model, Pressure = p0, Saturations = [0.0, 1.0])\n",
    "    ws, states = simulate_reservoir(state0, model, timesteps,\n",
    "        forces = forces, parameters = parameters, info_level = -1)\n",
    "    return states[end][:Saturations][1, :]\n",
    "end\n",
    "\n",
    "function define_relperm_single_region(krw_t, krow_t, sw_t)\n",
    "    krow = PhaseRelativePermeability(reverse(1.0 .- sw), reverse(krow_t), label = :ow)\n",
    "    krw = PhaseRelativePermeability(sw, krw_t, label = :ow)\n",
    "    return ReservoirRelativePermeabilities(w = krw, ow = krow)\n",
    "end"
   ],
   "metadata": {},
   "execution_count": null
  },
  {
   "cell_type": "markdown",
   "source": [
    "### Single region table plotting functions"
   ],
   "metadata": {}
  },
  {
   "outputs": [],
   "cell_type": "code",
   "source": [
    "function simulate_and_plot(sw, krw, krow, name)\n",
    "    fig = Figure(size = (1200, 800))\n",
    "    ax = Axis(fig[1, 1], title = name)\n",
    "    colors = Makie.wong_colors()\n",
    "    lines!(ax, sw, krw, label = L\"K_{rw}\", color = colors[1], linewidth = 2)\n",
    "    lines!(ax, sw, krow, label = L\"K_{row}\", color = colors[1], linestyle = :dash, linewidth = 2)\n",
    "\n",
    "    axislegend(position = :ct)\n",
    "\n",
    "    krdef = define_relperm_single_region(krw, krow, sw)\n",
    "    ax = Axis(fig[2, 1], title = L\"\\text{Injection front at 0.75 PVI}\")\n",
    "\n",
    "    for mu_ratio in [10, 5, 1, 0.2, 0.1]\n",
    "        println(\"Simulating with mu_ratio = $mu_ratio\")\n",
    "        model, parameters = setup_model_with_relperm(krdef, mu_ratio = mu_ratio)\n",
    "        water_front = simulate_bl(model, parameters)\n",
    "        lines!(ax, water_front, label = L\"\\mu_w/\\mu_o=%$mu_ratio\")\n",
    "    end\n",
    "    axislegend()\n",
    "    return fig\n",
    "end"
   ],
   "metadata": {},
   "execution_count": null
  },
  {
   "cell_type": "markdown",
   "source": [
    "## Brooks-Corey and LET relative permeabilities\n",
    "We will now show how to use the `brooks_corey_relperm` and `let_relperm` to\n",
    "generate relative permeability tables. These tables can in principle be used\n",
    "in any simulator that supports relative permeability tables.\n",
    "\n",
    "We define a saturation range and calculate the relative permeabilities for two\n",
    "phases. We then simulate a simple 1D displacement and plot the water front.\n",
    "\n",
    "### Brooks-Corey\n",
    "The Brooks-Corey model is a simple model that can be used to generate relative\n",
    "permeabilities. The model is defined in the mobile region as:\n",
    "\n",
    "$k_{rw} = k_{max,w} \\bar{S}_w$\n",
    "\n",
    "$k_{ro} = k_{max,o} \\bar{S}_o$\n",
    "\n",
    "where $k_{max,w}$ is the maximum relative permeability, $\\bar{S}_w$\n",
    "is the normalized saturation for the water phase,\n",
    "\n",
    "$ \\bar{S}_w = \\frac{S_w - S_{wi}}{1 - S_{wi} - S_{ro}}$\n",
    "\n",
    "and, similarly, for the oil phase:\n",
    "\n",
    "$\\bar{S}_o = \\frac{S_o - S_{ro}}{1 - S_{wi} - S_{ro}}$\n",
    "\n",
    "JutulDarcy contains a function `brooks_corey_relperm` that can be used to\n",
    "evaluate the values for a given saturation range:"
   ],
   "metadata": {}
  },
  {
   "outputs": [],
   "cell_type": "code",
   "source": [
    "sw = range(0, 1, 100)\n",
    "so = 1.0 .- sw\n",
    "\n",
    "swi = 0.1\n",
    "srow = 0.15\n",
    "r_tot = swi + srow\n",
    "\n",
    "krw = brooks_corey_relperm.(sw, n = 2, residual = swi, residual_total = r_tot)\n",
    "krow = brooks_corey_relperm.(so, n = 2, residual = srow, residual_total = r_tot)\n",
    "\n",
    "simulate_and_plot(sw, krw, krow, L\"\\text{Brooks-Corey} (N_w = N_{ow} = 2)\")"
   ],
   "metadata": {},
   "execution_count": null
  },
  {
   "cell_type": "markdown",
   "source": [
    "### Brooks-Corey: Different exponents\n",
    "We can also use different exponents for the water and oil phases. Here we pick\n",
    "other values for the exponents:"
   ],
   "metadata": {}
  },
  {
   "outputs": [],
   "cell_type": "code",
   "source": [
    "krw = brooks_corey_relperm.(sw, n = 4, residual = swi, residual_total = r_tot)\n",
    "krow = brooks_corey_relperm.(so, n = 1.5, residual = srow, residual_total = r_tot)\n",
    "\n",
    "simulate_and_plot(sw, krw, krow, L\"\\text{Brooks-Corey} (N_w = 4, N_{ow} = 1.5)\")"
   ],
   "metadata": {},
   "execution_count": null
  },
  {
   "cell_type": "markdown",
   "source": [
    "### LET relative permeabilities\n",
    "The LET model is a generalization of the Brooks-Corey model that introduces\n",
    "additional parameters to more easily control the shape of the curve. It is\n",
    "defined as:\n",
    "\n",
    "$k_{rw} = k_{max,w} \\frac{\\bar{S}_w^{L_w}}{\\bar{S}_w^{L_w} + E_w(1 - \\bar{S}_w)^{T_w}}$\n",
    "\n",
    "The oil phase is defined analogously. The LET model has three exponents $L$,\n",
    "$E$, and $T$ that together define the shape of the curve."
   ],
   "metadata": {}
  },
  {
   "cell_type": "markdown",
   "source": [
    "### LET table as fully linear\n",
    "We can use the `let_relperm` function to generate a fully linear relative\n",
    "permeability curve, i.e. $k_{rw} = S_w$ and $k_{ro} = S_o$. This is\n",
    "overkill for the LET model, but it is a good way to verify that the function\n",
    "works as expected and that the linear model can be captured by LET functions."
   ],
   "metadata": {}
  },
  {
   "outputs": [],
   "cell_type": "code",
   "source": [
    "krw = let_relperm.(sw, L = 1.0, E = 1.0, T = 1.0, residual = swi, residual_total = r_tot)\n",
    "krow = let_relperm.(so, L = 1.0, E = 1.0, T = 1.0, residual = srow, residual_total = r_tot)\n",
    "\n",
    "simulate_and_plot(sw, krw, krow, L\"\\text{LET relperm (linear)}\")"
   ],
   "metadata": {},
   "execution_count": null
  },
  {
   "cell_type": "markdown",
   "source": [
    "### LET table, nonlinear exponents\n",
    "The functions are immediately more interesting if we use nonlinear exponents."
   ],
   "metadata": {}
  },
  {
   "outputs": [],
   "cell_type": "code",
   "source": [
    "krw = let_relperm.(sw, L = 3.0, E = 2.0, T = 1.0, residual = swi, residual_total = r_tot)\n",
    "krow = let_relperm.(so, L = 2.0, E = 1.0, T = 2.0, residual = srow, residual_total = r_tot)\n",
    "\n",
    "simulate_and_plot(sw, krw, krow, L\"\\text{LET relperm (nonlinear)}\")"
   ],
   "metadata": {},
   "execution_count": null
  },
  {
   "cell_type": "markdown",
   "source": [
    "## Fitting relative permeabilities to data\n",
    "We can use either the Brooks-Corey or LET models to fit relative\n",
    "permeabilities to data. We generate some synthetic data and define a function\n",
    "that gives the sum of squares mismatch function between the data and the\n",
    "chosen LET model. As these functions are relatively simple Julia functions, we\n",
    "can use the `Optim` package to perform optimization to find the best fit.\n",
    "\n",
    "We do this by setting up an objective function that takes the current LET\n",
    "parameters as a flat vector with length five and returns the sum of squares.\n",
    "As Julia is a pretty fast programming language, performing a thousand\n",
    "gradient-free evaluations should only take a few milliseconds, but we could\n",
    "also have used a differentiable optimizer if we wanted to.\n",
    "\n",
    "The optimizer is provided lower limits for the parameters to avoid numerical\n",
    "issues. The initial guess is a completely linear LET function."
   ],
   "metadata": {}
  },
  {
   "outputs": [],
   "cell_type": "code",
   "source": [
    "using Optim\n",
    "\n",
    "s_to_match  = [0.1, 0.15, 0.2, 0.3, 0.4, 0.5, 0.6, 0.7, 0.8, 0.9, 1.0]\n",
    "kr_to_match = [0.0, 0.0, 0.015, 0.025, 0.1, 0.2, 0.4, 0.6, 0.90, 0.90, 0.90]\n",
    "\n",
    "function relperm_mismatch(x)\n",
    "    L, E, T, r, kr_max = x\n",
    "    kr = let_relperm.(s_to_match, L = L, E = E, T = T, residual = r, kr_max = kr_max)\n",
    "    return sum((kr .- kr_to_match).^2)\n",
    "end\n",
    "\n",
    "x0 = [1.0, 1.0, 1.0, 0.0, 1.0]\n",
    "lower = [0.0, 0.0, 0.0, 0.0, 0.1]\n",
    "upper = [20, 20, 20, 0.5, 1.0]\n",
    "res = optimize(relperm_mismatch, lower, upper, x0, NelderMead(), Optim.Options(iterations = 100000))\n",
    "L, E, T, r, kr_max = Optim.minimizer(res)\n",
    "res"
   ],
   "metadata": {},
   "execution_count": null
  },
  {
   "cell_type": "markdown",
   "source": [
    "### Plot the matched function\n",
    "We get a pretty good match - the optimization is able to find reasonable\n",
    "parameters without sign of overfitting. This is because the LET functions are\n",
    "designed to always give a physically reasonable relative permeability curve."
   ],
   "metadata": {}
  },
  {
   "outputs": [],
   "cell_type": "code",
   "source": [
    "fmt = x -> round(x, digits = 2)\n",
    "println(\"Optimized parameters:\\n\\tL = $(fmt(L))\\n\\tE = $(fmt(E))\\n\\tT = $(fmt(T))\\n\\tr = $(fmt(r))\\n\\tkr_max = $(fmt(kr_max))\")\n",
    "fig = Figure(size = (800, 600))\n",
    "ax = Axis(fig[1, 1], title = \"Optimized LET Relative Permeability\")\n",
    "\n",
    "s_fine = range(0, 1, 1000)\n",
    "initial_kr = let_relperm.(s_fine, L = x0[1], E = x0[2], T = x0[3], residual = x0[4], kr_max = x0[5])\n",
    "optimized_kr = let_relperm.(s_fine, L = L, E = E, T = T, residual = r, kr_max = kr_max)\n",
    "scatter!(ax, s_to_match, kr_to_match, label = \"Data\")\n",
    "lines!(ax, s_fine, optimized_kr, label = \"Optimized LET\")\n",
    "lines!(ax, s_fine, initial_kr, label = \"Initial LET\")\n",
    "axislegend(position = :ct)\n",
    "fig"
   ],
   "metadata": {},
   "execution_count": null
  },
  {
   "cell_type": "markdown",
   "source": [
    "## Multiple regions in JutulDarcy\n",
    "Relative permeabilities are typically associated with the rock type of the\n",
    "reservoir. If multiple rock types are present, they should be given different\n",
    "relative permeability functions. This can be done by defining a region vector\n",
    "that indices the rock type of each cell. We also define the relative\n",
    "permeability of each phase to be a `Tuple` of two relative permeability\n",
    "functions, one for each region.\n",
    "\n",
    "We set up utility functions for setting up a two-region relative permeability\n",
    "and then demonstrate this with a simple example that uses Brooks-Corey."
   ],
   "metadata": {}
  },
  {
   "outputs": [],
   "cell_type": "code",
   "source": [
    "function define_relperm_two_regions(krw_t1, krow_t1, krw_t2, krow_t2, sw_t, reg)\n",
    "    krow1 = PhaseRelativePermeability(reverse(1.0 .- sw), reverse(krow_t1), label = :ow)\n",
    "    krw1 = PhaseRelativePermeability(sw, krw_t1, label = :ow)\n",
    "    krow2 = PhaseRelativePermeability(reverse(1.0 .- sw), reverse(krow_t2), label = :ow)\n",
    "    krw2 = PhaseRelativePermeability(sw, krw_t2, label = :ow)\n",
    "\n",
    "    return ReservoirRelativePermeabilities(w = (krw1, krw2), ow = (krow1, krow2), regions = reg)\n",
    "end\n",
    "\n",
    "function simulate_and_plot_two_regions(sw, krw1, krow1, krw2, krow2, name)\n",
    "    fig = Figure(size = (1200, 800))\n",
    "    ax = Axis(fig[1, 1], title = name)\n",
    "    colors = Makie.wong_colors()\n",
    "    lines!(ax, sw, krw1, label = L\"K_{rw}^1\", color = colors[1], linewidth = 2)\n",
    "    lines!(ax, sw, krow1, label = L\"K_{row}^1\", color = colors[1], linestyle = :dash, linewidth = 2)\n",
    "\n",
    "    lines!(ax, sw, krw2, label = L\"K_{rw}^2\", color = colors[2], linewidth = 2)\n",
    "    lines!(ax, sw, krow2, label = L\"K_{row}^2\", color = colors[2], linestyle = :dash, linewidth = 2)\n",
    "\n",
    "    axislegend(position = :ct)\n",
    "\n",
    "    reg = ones(Int, 1000)\n",
    "    reg[250:end] .= 2\n",
    "    krdef = define_relperm_two_regions(krw1, krow1, krw2, krow2, sw, reg)\n",
    "    ax = Axis(fig[2, 1], title = L\"\\text{Injection front at 0.75 PVI}\")\n",
    "\n",
    "    for mu_ratio in [10, 5, 1, 0.2, 0.1]\n",
    "        println(\"Simulating with mu_ratio = $mu_ratio\")\n",
    "        model, parameters = setup_model_with_relperm(krdef, mu_ratio = mu_ratio)\n",
    "        water_front = simulate_bl(model, parameters)\n",
    "        lines!(ax, water_front, label = L\"\\mu_w/\\mu_o=%$mu_ratio\")\n",
    "    end\n",
    "    vspan!(ax, 0, 250, color = (:red, 0.1), label = \"Region 1\")\n",
    "    vspan!(ax, 250, 1000, color = (:green, 0.1), label = \"Region 2\")\n",
    "    axislegend()\n",
    "    fig\n",
    "end\n",
    "\n",
    "swi = 0.1\n",
    "srow = 0.15\n",
    "r_tot = swi + srow\n",
    "\n",
    "krw1 = brooks_corey_relperm.(sw, n = 2, residual = swi, residual_total = r_tot)\n",
    "krow1 = brooks_corey_relperm.(so, n = 3, residual = srow, residual_total = r_tot)\n",
    "\n",
    "swi2 = 0.05\n",
    "srow2 = 0.2\n",
    "r_tot2 = swi2 + srow2\n",
    "\n",
    "krw2 = brooks_corey_relperm.(sw, n = 1.5, residual = swi2, residual_total = r_tot2)\n",
    "krow2 = brooks_corey_relperm.(so, n = 2.2, residual = srow2, residual_total = r_tot2)\n",
    "\n",
    "simulate_and_plot_two_regions(sw, krw1, krow1, krw2, krow2, L\"\\text{Two regions}\")"
   ],
   "metadata": {},
   "execution_count": null
  },
  {
   "cell_type": "markdown",
   "source": [
    "## SWOF/SGOF-type tables\n",
    "The `table_to_relperm` function can be used to convert SWOF/SGOF tables to the\n",
    "JutulDarcy format. The function takes in a table and a saturation range and\n",
    "returns a tuple of two relative permeability functions.\n",
    "\n",
    "We demonstrate this by using a simple SWOF table and then feed this to the\n",
    "converter before simulating a bit.\n",
    "\n",
    "Note that JutulDarcy automatically sets up these functions when reading DATA\n",
    "files, so this is only necessary if you want to use the functions in a custom\n",
    "workflow."
   ],
   "metadata": {}
  },
  {
   "outputs": [],
   "cell_type": "code",
   "source": [
    "swof = hcat(\n",
    "    range(0, 1, length=10),\n",
    "    [0.0, 0.1, 0.15, 0.25, 0.35, 0.45, 0.55, 0.7, 0.85, 1.0],\n",
    "    reverse(range(0, 1, length=10)),\n",
    "    zeros(10)\n",
    ")"
   ],
   "metadata": {},
   "execution_count": null
  },
  {
   "cell_type": "markdown",
   "source": [
    "### Convert to relperm objects and show"
   ],
   "metadata": {}
  },
  {
   "outputs": [],
   "cell_type": "code",
   "source": [
    "krw, krow = table_to_relperm(swof)\n",
    "krw"
   ],
   "metadata": {},
   "execution_count": null
  },
  {
   "cell_type": "markdown",
   "source": [
    "### Feed SWOF table to simulation"
   ],
   "metadata": {}
  },
  {
   "outputs": [],
   "cell_type": "code",
   "source": [
    "krdef = ReservoirRelativePermeabilities(w = krw, ow = krow)\n",
    "\n",
    "model, prm = setup_model_with_relperm(krdef)\n",
    "lines(simulate_bl(model, prm), axis = (title = \"SWOF simulation\",))"
   ],
   "metadata": {},
   "execution_count": null
  },
  {
   "cell_type": "markdown",
   "source": [
    "## Parametric relative permeabilities\n",
    "So far, we have been using tabulated relative permeabilities. JutulDarcy is\n",
    "not limited to only working with tables and we can demonstrate this by making\n",
    "use of parametric relative permeabilities instead.\n",
    "\n",
    "Parametric functions expose parameters such as L, E, T, and residual\n",
    "saturations on a cell-by-cell basis and evaluates the relative permeabilities\n",
    "during simulation with the same functions we used to generate tables in the\n",
    "preceeding section.\n",
    "\n",
    "Using parametric functions has a few advantages:\n",
    " 1. The relative permeability functions are analytical, which can be more\n",
    "    favorable for numerical convergence when compared to standard tables.\n",
    " 2. Exposing the parameters through Jutul's parameter system makes it possible\n",
    "    to perform gradient-based history matching.\n",
    " 3. The parameters can vary from cell to cell, which can be useful for\n",
    "    reduced-order modelling where the link between relative permeabilities and\n",
    "    rock types is disregarded."
   ],
   "metadata": {}
  },
  {
   "outputs": [],
   "cell_type": "code",
   "source": [
    "kr_let = JutulDarcy.ParametricLETRelativePermeabilities()\n",
    "model, prm = setup_model_with_relperm(kr_let)\n",
    "\n",
    "lines(simulate_bl(model, prm), axis = (title = \"Parametric LET function simulation\",))"
   ],
   "metadata": {},
   "execution_count": null
  },
  {
   "cell_type": "markdown",
   "source": [
    "### Check out the parameters\n",
    "The LET parameters are now numerical parameters in the reservoir:"
   ],
   "metadata": {}
  },
  {
   "outputs": [],
   "cell_type": "code",
   "source": [
    "rmodel = reservoir_model(model)"
   ],
   "metadata": {},
   "execution_count": null
  },
  {
   "cell_type": "markdown",
   "source": [
    "## Conclusion\n",
    "We have explored a few aspects of relative permeabilities in JutulDarcy. There\n",
    "are a number of advanced topics that we did not cover, such as the use of\n",
    "end-point scaling in the more conventional reservoir simulation sense or the\n",
    "use of hysteresis. We still hope that this example has given you a good\n",
    "starting point for working with relative permeabilities in JutulDarcy."
   ],
   "metadata": {}
  },
  {
   "cell_type": "markdown",
   "source": [
    "---\n",
    "\n",
    "*This notebook was generated using [Literate.jl](https://github.com/fredrikekre/Literate.jl).*"
   ],
   "metadata": {}
  }
 ],
 "nbformat_minor": 3,
 "metadata": {
  "language_info": {
   "file_extension": ".jl",
   "mimetype": "application/julia",
   "name": "julia",
   "version": "1.11.2"
  },
  "kernelspec": {
   "name": "julia-1.11",
   "display_name": "Julia 1.11.2",
   "language": "julia"
  }
 },
 "nbformat": 4
}
