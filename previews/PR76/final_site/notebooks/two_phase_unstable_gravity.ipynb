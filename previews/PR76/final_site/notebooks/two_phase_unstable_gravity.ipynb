{
 "cells": [
  {
   "cell_type": "markdown",
   "source": [
    "# Gravity circulation with CPR preconditioner\n",
    "This example demonstrates a more complex gravity driven instability. The\n",
    "problem is a bit larger than the Gravity segregation example, and is\n",
    "therefore set up using the high level API that automatically sets up an\n",
    "iterative linear solver with a constrained pressure residual (CPR)\n",
    "preconditioner and automatic timestepping.\n",
    "\n",
    "The high level API uses the more low level `Jutul` API seen in the other\n",
    "examples under the hood and makes more complex problems easy to set up. The\n",
    "same data structures and functions are used, allowing for deep customization\n",
    "if the defaults are not appropriate."
   ],
   "metadata": {}
  },
  {
   "outputs": [],
   "cell_type": "code",
   "source": [
    "using JutulDarcy\n",
    "using Jutul\n",
    "using GLMakie\n",
    "cmap = :seismic\n",
    "nx = nz = 100;"
   ],
   "metadata": {},
   "execution_count": null
  },
  {
   "cell_type": "markdown",
   "source": [
    "## Define the domain"
   ],
   "metadata": {}
  },
  {
   "outputs": [],
   "cell_type": "code",
   "source": [
    "D = 10.0\n",
    "g = CartesianMesh((nx, 1, nz), (D, 1.0, D))\n",
    "domain = reservoir_domain(g)"
   ],
   "metadata": {},
   "execution_count": null
  },
  {
   "cell_type": "markdown",
   "source": [
    "## Set up model and properties"
   ],
   "metadata": {}
  },
  {
   "outputs": [],
   "cell_type": "code",
   "source": [
    "Darcy, bar, kg, meter, day = si_units(:darcy, :bar, :kilogram, :meter, :day)\n",
    "p0 = 100*bar\n",
    "rhoLS = 1000.0*kg/meter^3 # Definition of fluid phases\n",
    "rhoVS = 500.0*kg/meter^3\n",
    "cl, cv = 1e-5/bar, 1e-4/bar\n",
    "L, V = LiquidPhase(), VaporPhase()\n",
    "sys = ImmiscibleSystem([L, V])\n",
    "model, parameters = setup_reservoir_model(domain, sys)\n",
    "density = ConstantCompressibilityDensities(sys, p0, [rhoLS, rhoVS], [cl, cv]) # Replace density with a lighter pair\n",
    "replace_variables!(model, PhaseMassDensities = density);\n",
    "kr = BrooksCoreyRelativePermeabilities(sys, [2.0, 3.0])\n",
    "replace_variables!(model, RelativePermeabilities = kr)"
   ],
   "metadata": {},
   "execution_count": null
  },
  {
   "cell_type": "markdown",
   "source": [
    "### Define initial saturation\n",
    "Set the left part of the domain to be filled by the vapor phase and the heavy\n",
    "liquid phase in the remainder. To do this, we grab the cell centroids in the x\n",
    "direction from the domain, reshape them to the structured mesh we are working\n",
    "on and define the liquid saturation from there."
   ],
   "metadata": {}
  },
  {
   "outputs": [],
   "cell_type": "code",
   "source": [
    "c = domain[:cell_centroids]\n",
    "x = reshape(c[1, :], nx, nz)\n",
    "\n",
    "sL = zeros(nx, nz)\n",
    "plane = D/2.0\n",
    "for i in 1:nx\n",
    "    for j = 1:nz\n",
    "        X = x[i, j]\n",
    "        sL[i, j] = clamp(Float64(X > plane), 0, 1)\n",
    "    end\n",
    "end\n",
    "heatmap(sL, colormap = cmap, axis = (title = \"Initial saturation\",))"
   ],
   "metadata": {},
   "execution_count": null
  },
  {
   "cell_type": "markdown",
   "source": [
    "### Set up initial state"
   ],
   "metadata": {}
  },
  {
   "outputs": [],
   "cell_type": "code",
   "source": [
    "sL = vec(sL)'\n",
    "sV = 1 .- sL\n",
    "s0 = vcat(sV, sL)\n",
    "state0 = setup_reservoir_state(model, Pressure = p0, Saturations = s0)"
   ],
   "metadata": {},
   "execution_count": null
  },
  {
   "cell_type": "markdown",
   "source": [
    "### Set the viscosity of the phases\n",
    "By default, viscosity is a parameter and can be set per-phase and per cell."
   ],
   "metadata": {}
  },
  {
   "outputs": [],
   "cell_type": "code",
   "source": [
    "μ = parameters[:Reservoir][:PhaseViscosities]\n",
    "@. μ[1, :] = 1e-3\n",
    "@. μ[2, :] = 5e-3"
   ],
   "metadata": {},
   "execution_count": null
  },
  {
   "cell_type": "markdown",
   "source": [
    "Convert time-steps from days to seconds"
   ],
   "metadata": {}
  },
  {
   "outputs": [],
   "cell_type": "code",
   "source": [
    "timesteps = repeat([10.0*3600*24], 20)\n",
    "_, states, = simulate_reservoir(state0, model, timesteps, parameters = parameters, info_level = -1);"
   ],
   "metadata": {},
   "execution_count": null
  },
  {
   "cell_type": "markdown",
   "source": [
    "## Plot results\n",
    "Plot initial saturation"
   ],
   "metadata": {}
  },
  {
   "outputs": [],
   "cell_type": "code",
   "source": [
    "tmp = reshape(state0[:Reservoir][:Saturations][1, :], nx, nz)\n",
    "f = Figure()\n",
    "ax = Axis(f[1, 1], title = \"Before\")\n",
    "heatmap!(ax, tmp, colormap = cmap)"
   ],
   "metadata": {},
   "execution_count": null
  },
  {
   "cell_type": "markdown",
   "source": [
    "Plot intermediate saturation"
   ],
   "metadata": {}
  },
  {
   "outputs": [],
   "cell_type": "code",
   "source": [
    "tmp = reshape(states[length(states) ÷ 2][:Saturations][1, :], nx, nz)\n",
    "ax = Axis(f[1, 2], title = \"Half way\")\n",
    "hm = heatmap!(ax, tmp, colormap = cmap)"
   ],
   "metadata": {},
   "execution_count": null
  },
  {
   "cell_type": "markdown",
   "source": [
    "Plot final saturation"
   ],
   "metadata": {}
  },
  {
   "outputs": [],
   "cell_type": "code",
   "source": [
    "tmp = reshape(states[end][:Saturations][1, :], nx, nz)\n",
    "ax = Axis(f[1, 3], title = \"After\")\n",
    "hm = heatmap!(ax, tmp, colormap = cmap)\n",
    "Colorbar(f[1, 4], hm)\n",
    "f"
   ],
   "metadata": {},
   "execution_count": null
  },
  {
   "cell_type": "markdown",
   "source": [
    "---\n",
    "\n",
    "*This notebook was generated using [Literate.jl](https://github.com/fredrikekre/Literate.jl).*"
   ],
   "metadata": {}
  }
 ],
 "nbformat_minor": 3,
 "metadata": {
  "language_info": {
   "file_extension": ".jl",
   "mimetype": "application/julia",
   "name": "julia",
   "version": "1.11.1"
  },
  "kernelspec": {
   "name": "julia-1.11",
   "display_name": "Julia 1.11.1",
   "language": "julia"
  }
 },
 "nbformat": 4
}
