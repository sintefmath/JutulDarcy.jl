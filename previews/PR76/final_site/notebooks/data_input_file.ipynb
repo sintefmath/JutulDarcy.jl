{
 "cells": [
  {
   "cell_type": "markdown",
   "source": [
    "# Simulating Eclipse/DATA input files\n",
    "The DATA format is commonly used in reservoir simulation. JutulDarcy can set\n",
    "up cases on this format and includes a fully featured grid builder for\n",
    "corner-point grids. Once a case has been set up, it uses the same types as a\n",
    "regular JutulDarcy simulation, allowing modification and use of the case in\n",
    "differentiable workflows.\n",
    "\n",
    "We begin by loading the SPE9 dataset via the GeoEnergyIO package."
   ],
   "metadata": {}
  },
  {
   "outputs": [],
   "cell_type": "code",
   "source": [
    "using JutulDarcy, GeoEnergyIO\n",
    "pth = GeoEnergyIO.test_input_file_path(\"SPE9\", \"SPE9.DATA\")"
   ],
   "metadata": {},
   "execution_count": null
  },
  {
   "cell_type": "markdown",
   "source": [
    "## Set up and run a simulation\n",
    "If we do not need the case, we could also have done:\n",
    "ws, states = simulate_data_file(pth)"
   ],
   "metadata": {}
  },
  {
   "outputs": [],
   "cell_type": "code",
   "source": [
    "case = setup_case_from_data_file(pth)\n",
    "ws, states = simulate_reservoir(case)"
   ],
   "metadata": {},
   "execution_count": null
  },
  {
   "cell_type": "markdown",
   "source": [
    "## Show the input data\n",
    "The input data takes the form of a Dict:"
   ],
   "metadata": {}
  },
  {
   "outputs": [],
   "cell_type": "code",
   "source": [
    "case.input_data"
   ],
   "metadata": {},
   "execution_count": null
  },
  {
   "cell_type": "markdown",
   "source": [
    "We can also examine the for example RUNSPEC section, which is also represented\n",
    "as a Dict."
   ],
   "metadata": {}
  },
  {
   "outputs": [],
   "cell_type": "code",
   "source": [
    "case.input_data[\"RUNSPEC\"]"
   ],
   "metadata": {},
   "execution_count": null
  },
  {
   "cell_type": "markdown",
   "source": [
    "## Plot the simulation model\n",
    "These plot are interactive when run outside of the documentations."
   ],
   "metadata": {}
  },
  {
   "outputs": [],
   "cell_type": "code",
   "source": [
    "using GLMakie\n",
    "plot_reservoir(case.model, states)"
   ],
   "metadata": {},
   "execution_count": null
  },
  {
   "cell_type": "markdown",
   "source": [
    "## Plot the well responses\n",
    "We can plot the well responses (rates and pressures) in an interactive viewer."
   ],
   "metadata": {}
  },
  {
   "outputs": [],
   "cell_type": "code",
   "source": [
    "plot_well_results(ws)"
   ],
   "metadata": {},
   "execution_count": null
  },
  {
   "cell_type": "markdown",
   "source": [
    "## Plot the field responses\n",
    "Similar to the wells, we can also plot field-wide measurables. We plot the\n",
    "field gas production rate and the average pressure as the initial selection."
   ],
   "metadata": {}
  },
  {
   "outputs": [],
   "cell_type": "code",
   "source": [
    "plot_reservoir_measurables(case, ws, states, left = :fgpr, right = :pres)"
   ],
   "metadata": {},
   "execution_count": null
  },
  {
   "cell_type": "markdown",
   "source": [
    "---\n",
    "\n",
    "*This notebook was generated using [Literate.jl](https://github.com/fredrikekre/Literate.jl).*"
   ],
   "metadata": {}
  }
 ],
 "nbformat_minor": 3,
 "metadata": {
  "language_info": {
   "file_extension": ".jl",
   "mimetype": "application/julia",
   "name": "julia",
   "version": "1.11.1"
  },
  "kernelspec": {
   "name": "julia-1.11",
   "display_name": "Julia 1.11.1",
   "language": "julia"
  }
 },
 "nbformat": 4
}
