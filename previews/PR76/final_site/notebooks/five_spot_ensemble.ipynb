{
 "cells": [
  {
   "cell_type": "markdown",
   "source": [
    "# Quarter-five-spot example\n",
    "The quarter-five-spot is a standard test problem that simulates 1/4 of the\n",
    "five spot well pattern by assuming axial symmetry. The problem contains an\n",
    "injector in one corner and the producer in the opposing corner, with a\n",
    "significant volume of fluids injected into the domain."
   ],
   "metadata": {}
  },
  {
   "outputs": [],
   "cell_type": "code",
   "source": [
    "using JutulDarcy, Jutul\n",
    "nx = 50"
   ],
   "metadata": {},
   "execution_count": null
  },
  {
   "cell_type": "markdown",
   "source": [
    "## Setup\n",
    "We define a function that, for a given porosity field, computes a solution\n",
    "with an estimated permeability field. For assumptions and derivation of the\n",
    "specific form of the Kozeny-Carman relation used in this example, see [Lie,\n",
    "Knut-Andreas. An introduction to reservoir simulation using MATLAB/GNU Octave:\n",
    "User guide for the MATLAB Reservoir Simulation Toolbox (MRST). Cambridge\n",
    "University Press, 2019, Section 2.5.2](https://doi.org/10.1017/9781108591416)"
   ],
   "metadata": {}
  },
  {
   "outputs": [],
   "cell_type": "code",
   "source": [
    "function perm_kozeny_carman(Φ)\n",
    "    return ((Φ^3)*(1e-5)^2)/(0.81*72*(1-Φ)^2);\n",
    "end\n",
    "\n",
    "function simulate_qfs(porosity = 0.2)\n",
    "    Dx = 1000.0\n",
    "    Dz = 10.0\n",
    "    Darcy = 9.869232667160130e-13\n",
    "    Darcy, bar, kg, meter, Kelvin, day, sec = si_units(:darcy, :bar, :kilogram, :meter, :Kelvin, :day, :second)\n",
    "\n",
    "    mesh = CartesianMesh((nx, nx, 1), (Dx, Dx, Dz))\n",
    "    K = perm_kozeny_carman.(porosity)\n",
    "    domain = reservoir_domain(mesh, permeability = K, porosity = porosity)\n",
    "    Inj = setup_vertical_well(domain, 1, 1, name = :Injector);\n",
    "    Prod = setup_vertical_well(domain, nx, nx, name = :Producer);\n",
    "    phases = (LiquidPhase(), VaporPhase())\n",
    "    rhoLS = 1000.0*kg/meter^3\n",
    "    rhoGS = 700.0*kg/meter^3\n",
    "    rhoS = [rhoLS, rhoGS]\n",
    "    sys = ImmiscibleSystem(phases, reference_densities = rhoS)\n",
    "    model, parameters = setup_reservoir_model(domain, sys, wells = [Inj, Prod])\n",
    "    c = [1e-6/bar, 1e-6/bar]\n",
    "    ρ = ConstantCompressibilityDensities(p_ref = 150*bar, density_ref = rhoS, compressibility = c)\n",
    "    kr = BrooksCoreyRelativePermeabilities(sys, [2.0, 2.0])\n",
    "    replace_variables!(model, PhaseMassDensities = ρ, RelativePermeabilities = kr);\n",
    "\n",
    "    state0 = setup_reservoir_state(model, Pressure = 150*bar, Saturations = [1.0, 0.0])\n",
    "    dt = repeat([30.0]*day, 12*10)\n",
    "    dt = vcat([0.1, 1.0, 10.0], dt)\n",
    "    inj_rate = Dx*Dx*Dz*0.2/sum(dt) # 1 PVI if average porosity is 0.2\n",
    "\n",
    "    rate_target = TotalRateTarget(inj_rate)\n",
    "    I_ctrl = InjectorControl(rate_target, [0.0, 1.0], density = rhoGS)\n",
    "    bhp_target = BottomHolePressureTarget(50*bar)\n",
    "    P_ctrl = ProducerControl(bhp_target)\n",
    "    controls = Dict()\n",
    "    controls[:Injector] = I_ctrl\n",
    "    controls[:Producer] = P_ctrl\n",
    "    forces = setup_reservoir_forces(model, control = controls)\n",
    "    return simulate_reservoir(state0, model, dt, parameters = parameters, forces = forces, info_level = -1)\n",
    "end"
   ],
   "metadata": {},
   "execution_count": null
  },
  {
   "cell_type": "markdown",
   "source": [
    "## Simulate base case\n",
    "This will give the solution with uniform porosity of 0.2."
   ],
   "metadata": {}
  },
  {
   "outputs": [],
   "cell_type": "code",
   "source": [
    "ws, states, report_time = simulate_qfs()"
   ],
   "metadata": {},
   "execution_count": null
  },
  {
   "cell_type": "markdown",
   "source": [
    "### Plot the solution of the base case\n",
    "We observe a radial flow pattern initially, before coning occurs near the\n",
    "producer well once the fluid has reached the opposite corner. The uniform\n",
    "permeability and porosity gives axial symmetry at $x=y$."
   ],
   "metadata": {}
  },
  {
   "outputs": [],
   "cell_type": "code",
   "source": [
    "using GLMakie\n",
    "to_2d(x) = reshape(vec(x), nx, nx)\n",
    "get_sat(state) = to_2d(state[:Saturations][2, :])\n",
    "nt = length(report_time)\n",
    "fig = Figure()\n",
    "h = nothing\n",
    "ax = Axis(fig[1, 1])\n",
    "h = contourf!(ax, get_sat(states[nt÷3]))\n",
    "ax = Axis(fig[1, 2])\n",
    "h = contourf!(ax, get_sat(states[nt]))\n",
    "Colorbar(fig[1, end+1], h)\n",
    "fig"
   ],
   "metadata": {},
   "execution_count": null
  },
  {
   "cell_type": "markdown",
   "source": [
    "## Create 10 realizations\n",
    "We create a small set of realizations of the same model, with porosity that is\n",
    "uniformly varying between 0.05 and 0.3. This is not especially sophisticated\n",
    "geostatistics - for a more realistic approach, take a look at\n",
    "[GeoStats.jl](https://juliaearth.github.io/GeoStats.jl). The main idea is to\n",
    "get significantly different flow patterns as the porosity and permeability\n",
    "changes."
   ],
   "metadata": {}
  },
  {
   "outputs": [],
   "cell_type": "code",
   "source": [
    "N = 10\n",
    "saturations = []\n",
    "wells = []\n",
    "report_step = nt\n",
    "for i = 1:N\n",
    "    poro = 0.05 .+ 0.25*rand(Float64, (nx*nx))\n",
    "    ws, states, rt = simulate_qfs(poro)\n",
    "    push!(wells, ws)\n",
    "    push!(saturations, get_sat(states[report_step]))\n",
    "end"
   ],
   "metadata": {},
   "execution_count": null
  },
  {
   "cell_type": "markdown",
   "source": [
    "### Plot the oil rate at the producer over the ensemble"
   ],
   "metadata": {}
  },
  {
   "outputs": [],
   "cell_type": "code",
   "source": [
    "using Statistics\n",
    "fig = Figure()\n",
    "ax = Axis(fig[1, 1])\n",
    "for i = 1:N\n",
    "    ws = wells[i]\n",
    "    q = -ws[:Producer][:orat]\n",
    "    lines!(ax, report_time, q)\n",
    "end\n",
    "xlims!(ax, [mean(report_time), report_time[end]])\n",
    "ylims!(ax, 0, 0.0075)\n",
    "fig"
   ],
   "metadata": {},
   "execution_count": null
  },
  {
   "cell_type": "markdown",
   "source": [
    "### Plot the average saturation over the ensemble"
   ],
   "metadata": {}
  },
  {
   "outputs": [],
   "cell_type": "code",
   "source": [
    "avg = mean(saturations)\n",
    "fig = Figure()\n",
    "h = nothing\n",
    "ax = Axis(fig[1, 1])\n",
    "h = contourf!(ax, avg)\n",
    "fig"
   ],
   "metadata": {},
   "execution_count": null
  },
  {
   "cell_type": "markdown",
   "source": [
    "### Plot the isocontour lines over the ensemble"
   ],
   "metadata": {}
  },
  {
   "outputs": [],
   "cell_type": "code",
   "source": [
    "fig = Figure()\n",
    "h = nothing\n",
    "ax = Axis(fig[1, 1])\n",
    "for s in saturations\n",
    "    contour!(ax, s, levels = 0:0.1:1)\n",
    "end\n",
    "fig"
   ],
   "metadata": {},
   "execution_count": null
  },
  {
   "cell_type": "markdown",
   "source": [
    "---\n",
    "\n",
    "*This notebook was generated using [Literate.jl](https://github.com/fredrikekre/Literate.jl).*"
   ],
   "metadata": {}
  }
 ],
 "nbformat_minor": 3,
 "metadata": {
  "language_info": {
   "file_extension": ".jl",
   "mimetype": "application/julia",
   "name": "julia",
   "version": "1.11.1"
  },
  "kernelspec": {
   "name": "julia-1.11",
   "display_name": "Julia 1.11.1",
   "language": "julia"
  }
 },
 "nbformat": 4
}
