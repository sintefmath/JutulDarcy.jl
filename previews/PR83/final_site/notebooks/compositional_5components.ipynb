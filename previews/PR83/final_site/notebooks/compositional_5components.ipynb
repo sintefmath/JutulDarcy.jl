{
 "cells": [
  {
   "cell_type": "markdown",
   "source": [
    "# A more complex compositional model\n",
    "This example sets up a more complex compositional simulation with five\n",
    "different components. Other than that, the example is similar to the others\n",
    "that include wells and is therefore not commented in great detail."
   ],
   "metadata": {}
  },
  {
   "outputs": [],
   "cell_type": "code",
   "source": [
    "using MultiComponentFlash\n",
    "\n",
    "n2_ch4 = MolecularProperty(0.0161594, 4.58e6, 189.515, 9.9701e-05, 0.00854)\n",
    "co2 = MolecularProperty(0.04401, 7.3866e6, 304.200, 9.2634e-05, 0.228)\n",
    "c2_5 = MolecularProperty(0.0455725, 4.0955e6, 387.607, 2.1708e-04, 0.16733)\n",
    "c6_13 = MolecularProperty(0.117740, 3.345e6, 597.497, 3.8116e-04, 0.38609)\n",
    "c14_24 = MolecularProperty(0.248827, 1.768e6, 698.515, 7.2141e-04, 0.80784)\n",
    "\n",
    "bic = [0.11883 0.00070981 0.00077754 0.01 0.011;\n",
    "       0.00070981 0.15 0.15 0.15 0.15;\n",
    "       0.00077754 0.15 0 0 0;\n",
    "       0.01 0.15 0 0 0;\n",
    "       0.011 0.15 0 0 0]\n",
    "\n",
    "mixture = MultiComponentMixture([n2_ch4, co2, c2_5, c6_13, c14_24], A_ij = bic, names = [\"N2-CH4\", \"CO2\", \"C2-5\", \"C6-13\", \"C14-24\"])\n",
    "eos = GenericCubicEOS(mixture, PengRobinson())\n",
    "\n",
    "using Jutul, JutulDarcy, GLMakie\n",
    "Darcy, bar, kg, meter, Kelvin, day = si_units(:darcy, :bar, :kilogram, :meter, :Kelvin, :day)\n",
    "nx = ny = 20\n",
    "nz = 2\n",
    "\n",
    "dims = (nx, ny, nz)\n",
    "g = CartesianMesh(dims, (1000.0, 1000.0, 1.0))\n",
    "nc = number_of_cells(g)\n",
    "K = repeat([0.05*Darcy], 1, nc)\n",
    "res = reservoir_domain(g, porosity = 0.25, permeability = K, temperature = 387.45*Kelvin)"
   ],
   "metadata": {},
   "execution_count": null
  },
  {
   "cell_type": "markdown",
   "source": [
    "Set up a vertical well in the first corner, perforated in all layers"
   ],
   "metadata": {}
  },
  {
   "outputs": [],
   "cell_type": "code",
   "source": [
    "prod = setup_vertical_well(g, K, nx, ny, name = :Producer)"
   ],
   "metadata": {},
   "execution_count": null
  },
  {
   "cell_type": "markdown",
   "source": [
    "Set up an injector in the opposite corner, perforated in all layers"
   ],
   "metadata": {}
  },
  {
   "outputs": [],
   "cell_type": "code",
   "source": [
    "inj = setup_vertical_well(g, K, 1, 1, name = :Injector)\n",
    "\n",
    "rhoLS = 1000.0*kg/meter^3\n",
    "rhoVS = 100.0*kg/meter^3\n",
    "\n",
    "rhoS = [rhoLS, rhoVS]\n",
    "L, V = LiquidPhase(), VaporPhase()"
   ],
   "metadata": {},
   "execution_count": null
  },
  {
   "cell_type": "markdown",
   "source": [
    "Define system and realize on grid"
   ],
   "metadata": {}
  },
  {
   "outputs": [],
   "cell_type": "code",
   "source": [
    "sys = MultiPhaseCompositionalSystemLV(eos, (L, V))\n",
    "model, parameters = setup_reservoir_model(res, sys, wells = [inj, prod], block_backend = true);\n",
    "kr = BrooksCoreyRelativePermeabilities(sys, 2.0, 0.0, 1.0)\n",
    "model = replace_variables!(model, RelativePermeabilities = kr)\n",
    "\n",
    "push!(model[:Reservoir].output_variables, :Saturations)\n",
    "\n",
    "state0 = setup_reservoir_state(model, Pressure = 225*bar, OverallMoleFractions = [0.463, 0.01640, 0.20520, 0.19108, 0.12432]);\n",
    "\n",
    "dt = repeat([2.0]*day, 365)\n",
    "rate_target = TotalRateTarget(0.0015)\n",
    "I_ctrl = InjectorControl(rate_target, [0, 1, 0, 0, 0], density = rhoVS)\n",
    "bhp_target = BottomHolePressureTarget(100*bar)\n",
    "P_ctrl = ProducerControl(bhp_target)\n",
    "\n",
    "controls = Dict()\n",
    "controls[:Injector] = I_ctrl\n",
    "controls[:Producer] = P_ctrl\n",
    "forces = setup_reservoir_forces(model, control = controls)\n",
    "ws, states = simulate_reservoir(state0, model, dt, parameters = parameters, forces = forces)"
   ],
   "metadata": {},
   "execution_count": null
  },
  {
   "cell_type": "markdown",
   "source": [
    "## Once the simulation is done, we can plot the states\n",
    "### CO2 mole fraction"
   ],
   "metadata": {}
  },
  {
   "outputs": [],
   "cell_type": "code",
   "source": [
    "sg = states[end][:OverallMoleFractions][2, :]\n",
    "fig, ax, p = plot_cell_data(g, sg)\n",
    "fig"
   ],
   "metadata": {},
   "execution_count": null
  },
  {
   "cell_type": "markdown",
   "source": [
    "### Gas saturation"
   ],
   "metadata": {}
  },
  {
   "outputs": [],
   "cell_type": "code",
   "source": [
    "sg = states[end][:Saturations][2, :]\n",
    "fig, ax, p = plot_cell_data(g, sg)\n",
    "fig"
   ],
   "metadata": {},
   "execution_count": null
  },
  {
   "cell_type": "markdown",
   "source": [
    "### Pressure"
   ],
   "metadata": {}
  },
  {
   "outputs": [],
   "cell_type": "code",
   "source": [
    "p = states[end][:Pressure]\n",
    "fig, ax, p = plot_cell_data(g, p)\n",
    "fig"
   ],
   "metadata": {},
   "execution_count": null
  },
  {
   "cell_type": "markdown",
   "source": [
    "---\n",
    "\n",
    "*This notebook was generated using [Literate.jl](https://github.com/fredrikekre/Literate.jl).*"
   ],
   "metadata": {}
  }
 ],
 "nbformat_minor": 3,
 "metadata": {
  "language_info": {
   "file_extension": ".jl",
   "mimetype": "application/julia",
   "name": "julia",
   "version": "1.11.2"
  },
  "kernelspec": {
   "name": "julia-1.11",
   "display_name": "Julia 1.11.2",
   "language": "julia"
  }
 },
 "nbformat": 4
}
