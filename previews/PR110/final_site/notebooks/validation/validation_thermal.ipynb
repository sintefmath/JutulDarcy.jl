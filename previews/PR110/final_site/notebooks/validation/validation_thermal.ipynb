{
 "cells": [
  {
   "cell_type": "markdown",
   "source": [
    "# Aquifer thermal energy storage (ATES) validation\n",
    "This example validates JutulDarcy's thermal solver against results from a\n",
    "commercial simulator. The test case is a simple ATES model with a single pair\n",
    "of wells (hot / cold) where the cold well is used for pressure support with a\n",
    "mirrored injection rate. Towards the later part of the schedule, the cold well\n",
    "reinjects water that is a higher temperature than the background.\n",
    "\n",
    "This case is completely specified in the `ATES_TEST.DATA` file which was\n",
    "provided by TNO. The model is a structured mesh with 472 500 active cells."
   ],
   "metadata": {}
  },
  {
   "outputs": [],
   "cell_type": "code",
   "source": [
    "using Jutul, JutulDarcy, GeoEnergyIO, DelimitedFiles, HYPRE, GLMakie\n",
    "basepth = GeoEnergyIO.test_input_file_path(\"ATES_TEST\")\n",
    "data = parse_data_file(joinpath(basepth, \"ATES_TEST.DATA\"))\n",
    "\n",
    "wdata, wheader = readdlm(joinpath(basepth, \"wells.txt\"), ',', header = true)\n",
    "cdata, cheader = readdlm(joinpath(basepth, \"cells.txt\"), ',', header = true)\n",
    "case = setup_case_from_data_file(data)\n",
    "ws, states, t_seconds = simulate_reservoir(case, info_level = 1);"
   ],
   "metadata": {},
   "execution_count": null
  },
  {
   "cell_type": "markdown",
   "source": [
    "## Plot the reservoir and monitor points\n",
    "We will monitor points close to the warm and cold wells for comparsion with a\n",
    "commercial simulator. These can be identified by their IJK triplets, and we\n",
    "plot these in orange and blue."
   ],
   "metadata": {}
  },
  {
   "outputs": [],
   "cell_type": "code",
   "source": [
    "reservoir = reservoir_domain(case)\n",
    "G = physical_representation(reservoir)\n",
    "\n",
    "cell_warm1 = cell_index(G, (105,75,6))\n",
    "cell_warm2 = cell_index(G, (106,75,6))\n",
    "\n",
    "cell_cold1 = cell_index(G, (50,75,6))\n",
    "cell_cold2 = cell_index(G, (51,75,6))\n",
    "\n",
    "fig = Figure(size = (800, 800))\n",
    "ax = Axis3(fig[1, 1], zreversed = true, azimuth = 4.55, elevation = 0.2)\n",
    "for (wname, w) in get_model_wells(case)\n",
    "    plot_well!(ax, G, w)\n",
    "end\n",
    "Jutul.plot_mesh_edges!(ax, G, alpha = 0.1)\n",
    "plot_mesh!(ax, G, color = :orange, cells = [cell_warm1, cell_warm2])\n",
    "plot_mesh!(ax, G, color = :blue, cells = [cell_cold1, cell_cold2])\n",
    "fig"
   ],
   "metadata": {},
   "execution_count": null
  },
  {
   "cell_type": "markdown",
   "source": [
    "## Plot the permeability\n",
    "The model contains a high permeable aquifer layer in the middle of the model.\n",
    "The high permeable layer conducts the flow between the wells, and the low\n",
    "permeable layers above and below the aquifer layer conduct heat."
   ],
   "metadata": {}
  },
  {
   "outputs": [],
   "cell_type": "code",
   "source": [
    "fig = Figure(size = (800, 800))\n",
    "ax = Axis3(fig[1, 1], zreversed = true, azimuth = 4.55, elevation = 0.2)\n",
    "for (wname, w) in get_model_wells(case)\n",
    "    plot_well!(ax, G, w)\n",
    "end\n",
    "plt = plot_cell_data!(ax, G, reservoir[:permeability][1, :]./si_unit(:darcy),\n",
    "    shading = NoShading,\n",
    "    colormap = :thermal\n",
    ")\n",
    "Colorbar(fig[2, 1], plt, label = \"Horizontal permeability (darcy)\", vertical = false)\n",
    "fig"
   ],
   "metadata": {},
   "execution_count": null
  },
  {
   "cell_type": "markdown",
   "source": [
    "## Plot the water rate in the wells\n",
    "The water rate in the wells is shown below. The well rates are mirrored in\n",
    "that the cold well injects the same amount of water as the warm well produces\n",
    "and vice versa. Initially, the warm well injects water and the cold well\n",
    "produces to maintain aquifer pressure. Later on, the warm well produces warm\n",
    "water and the cold well injects utilized cold water at a slightly higher\n",
    "temperature than that of the reservoir to balance the pressure."
   ],
   "metadata": {}
  },
  {
   "outputs": [],
   "cell_type": "code",
   "source": [
    "day = si_unit(:day)\n",
    "t_jutul = t_seconds./day\n",
    "wrat_cold = ws[:COLD][:wrat]*day\n",
    "wrat_warm = ws[:WARM][:wrat]*day\n",
    "fig = Figure()\n",
    "ax = Axis(fig[1, 1], xlabel = \"Time elapsed (days)\", ylabel = \"Water rate (m³/day)\", title = \"Water rate in wells (positive = injection)\")\n",
    "lines!(ax, t_jutul, wrat_cold, label = \"COLD well\", color = :blue)\n",
    "lines!(ax, t_jutul, wrat_warm, label = \"WARM well\", color = :orange)\n",
    "axislegend(position = :ct)\n",
    "fig"
   ],
   "metadata": {},
   "execution_count": null
  },
  {
   "cell_type": "markdown",
   "source": [
    "## Plot the final temperature in the reservoir\n",
    "We see the final temperature distribution in the reservoir. The regions near\n",
    "both wells are warmer than the rest of the reservoir, with the hot well being\n",
    "the warmest."
   ],
   "metadata": {}
  },
  {
   "outputs": [],
   "cell_type": "code",
   "source": [
    "fig = Figure(size = (800, 800))\n",
    "ax = Axis3(fig[1, 1], zreversed = true, azimuth = 4.55, elevation = 0.2)\n",
    "for (wname, w) in get_model_wells(case)\n",
    "    plot_well!(ax, G, w)\n",
    "end\n",
    "Jutul.plot_mesh_edges!(ax, G, alpha = 0.1)\n",
    "temp = states[end][:Temperature] .- 273.15\n",
    "plt = plot_cell_data!(ax, G, temp,\n",
    "    colormap = :thermal,\n",
    "    cells = findall(x -> x > 18, temp),\n",
    "    transparency = true,\n",
    "    shading = NoShading\n",
    ")\n",
    "Colorbar(fig[2, 1], plt, label = \"Temperature (°C)\", vertical = false)\n",
    "fig"
   ],
   "metadata": {},
   "execution_count": null
  },
  {
   "cell_type": "markdown",
   "source": [
    "## Plot the temperature near the warm well and compare to E300\n",
    "We compare the temperature in cells close to the warm well in JutulDarcy and\n",
    "the same case simulated in E300, demonstrating excellent agreement."
   ],
   "metadata": {}
  },
  {
   "outputs": [],
   "cell_type": "code",
   "source": [
    "warm1 = map(x -> x[:Temperature][cell_warm1] - 273.15, states)\n",
    "warm2 = map(x -> x[:Temperature][cell_warm2] - 273.15, states)\n",
    "\n",
    "t_e300 = cdata[:, 1]\n",
    "warm1_e300 = cdata[:, 2]\n",
    "warm2_e300 = cdata[:, 3]\n",
    "\n",
    "fig = Figure()\n",
    "ax = Axis(fig[1, 1], xlabel = \"Time elapsed (days)\", ylabel = \"Temperature\", title = \"Temperature in cells close to warm well\")\n",
    "lines!(ax, t_jutul, warm1, label = \"JutulDarcy, cell (105,75,6)\", color = :orange)\n",
    "lines!(ax, t_e300, warm1_e300, label = \"E300, cell (105,75,6)\", linestyle = :dash, linewidth = 3, color = :orange)\n",
    "\n",
    "lines!(ax, t_jutul, warm2, label = \"JutulDarcy, cell (106,75,6)\", color = :blue)\n",
    "lines!(ax, t_e300, warm2_e300, label = \"E300, cell (106,75,6)\", linestyle = :dash, linewidth = 3, color = :blue)\n",
    "axislegend(position = :cb)\n",
    "fig"
   ],
   "metadata": {},
   "execution_count": null
  },
  {
   "cell_type": "markdown",
   "source": [
    "## Plot the temperature near the cold well and compare\n",
    "We note a similar match between the solvers near the cold well."
   ],
   "metadata": {}
  },
  {
   "outputs": [],
   "cell_type": "code",
   "source": [
    "cold1 = map(x -> x[:Temperature][cell_cold1] - 273.15, states)\n",
    "cold2 = map(x -> x[:Temperature][cell_cold2] - 273.15, states)\n",
    "\n",
    "t_e300 = cdata[:, 1]\n",
    "cold1_e300 = cdata[:, 4]\n",
    "cold2_e300 = cdata[:, 5]\n",
    "\n",
    "fig = Figure()\n",
    "ax = Axis(fig[1, 1], xlabel = \"Time elapsed (days)\", ylabel = \"Temperature\", title = \"Temperature in cells close to warm well\")\n",
    "lines!(ax, t_jutul, cold1, label = \"JutulDarcy, cell (50,75,6)\", color = :orange)\n",
    "lines!(ax, t_e300, cold1_e300, label = \"E300, cell (50,75,6)\", linestyle = :dash, linewidth = 3, color = :orange)\n",
    "lines!(ax, t_jutul, cold2, label = \"JutulDarcy, cell (51,75,6)\", color = :blue)\n",
    "lines!(ax, t_e300, cold2_e300, label = \"E300, cell (51,75,6)\", linestyle = :dash, linewidth = 3, color = :blue)\n",
    "axislegend(position = :ct)\n",
    "fig"
   ],
   "metadata": {},
   "execution_count": null
  },
  {
   "cell_type": "markdown",
   "source": [
    "## Plot the well temperatures\n",
    "Finally, we compare the reported temperatures in the wells between JutulDarcy\n",
    "and E300. These values are a mix of prescribed conditions (during injection)\n",
    "and the solution values (during production)."
   ],
   "metadata": {}
  },
  {
   "outputs": [],
   "cell_type": "code",
   "source": [
    "t_well_e300 = wdata[:, 1]\n",
    "warm_e300 = wdata[:, 2]\n",
    "warm_jutul = ws[:WARM][:temperature] .- 273.15\n",
    "cold_e300 = wdata[:, 3]\n",
    "cold_jutul = ws[:COLD][:temperature] .- 273.15\n",
    "\n",
    "fig = Figure()\n",
    "ax = Axis(fig[1, 1], xlabel = \"Time elapsed (days)\", ylabel = \"Temperature (°C)\", title = \"Well temperatures\")\n",
    "lines!(ax, t_jutul, warm_jutul, label = \"JutulDarcy, WARM\", color = :orange)\n",
    "lines!(ax, t_well_e300, warm_e300, label = \"E300, WARM\", linestyle = :dash, linewidth = 3, color = :orange)\n",
    "lines!(ax, t_jutul, cold_jutul, label = \"JutulDarcy, COLD\", color = :blue)\n",
    "lines!(ax, t_well_e300, cold_e300, label = \"E300, COLD\", linestyle = :dash, linewidth = 3, color = :blue)\n",
    "axislegend(position = :cb)\n",
    "fig"
   ],
   "metadata": {},
   "execution_count": null
  },
  {
   "cell_type": "markdown",
   "source": [
    "## Plot the total energy in the reservoir\n",
    "We plot the total energy in the reservoir relative to the initial condition by\n",
    "summing up the thermal energy in all cells at the initial state and using this\n",
    "as the baseline. The total energy in the reservoir matches the injected and\n",
    "produced energy, as there are no open boundary conditions."
   ],
   "metadata": {}
  },
  {
   "outputs": [],
   "cell_type": "code",
   "source": [
    "E0 = sum(states[1][:TotalThermalEnergy])\n",
    "energy = map(x -> sum(x[:TotalThermalEnergy]) - E0, states)\n",
    "lines(t_jutul, energy, axis = (xlabel = \"Time elapsed (days)\", ylabel = \"Total energy (J)\", title = \"Total energy in reservoir relative to initial condition\"))"
   ],
   "metadata": {},
   "execution_count": null
  },
  {
   "cell_type": "markdown",
   "source": [
    "## Plot the reservoir in the interactive viewer\n",
    "If you are running this example yourself, you can launch an interactive viewer\n",
    "and explore the evolution of the model."
   ],
   "metadata": {}
  },
  {
   "outputs": [],
   "cell_type": "code",
   "source": [
    "plot_reservoir(case, states, key = :Pressure, step = 100)"
   ],
   "metadata": {},
   "execution_count": null
  },
  {
   "cell_type": "markdown",
   "source": [
    "---\n",
    "\n",
    "*This notebook was generated using [Literate.jl](https://github.com/fredrikekre/Literate.jl).*"
   ],
   "metadata": {}
  }
 ],
 "nbformat_minor": 3,
 "metadata": {
  "language_info": {
   "file_extension": ".jl",
   "mimetype": "application/julia",
   "name": "julia",
   "version": "1.11.4"
  },
  "kernelspec": {
   "name": "julia-1.11",
   "display_name": "Julia 1.11.4",
   "language": "julia"
  }
 },
 "nbformat": 4
}
