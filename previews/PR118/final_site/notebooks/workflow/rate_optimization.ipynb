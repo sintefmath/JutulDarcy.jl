{
 "cells": [
  {
   "cell_type": "markdown",
   "source": [
    "# Gradient-based optimization of net present value (NPV)\n",
    "One usage of a differentiable simulator is control optimization. A counterpart\n",
    "to history matching, control optimization is the process of finding the\n",
    "optimal controls for a given objective and simulation model. In this example,\n",
    "we will optimize the injection rates for a simplified version of the EGG model\n",
    "to maximize the net present value (NPV) of the reservoir."
   ],
   "metadata": {}
  },
  {
   "cell_type": "markdown",
   "source": [
    "## Setting up a coarse model\n",
    "We start off by loading the Egg model and coarsening it to a 20x20x3 grid. We\n",
    "limit the optimization to the first 50 timesteps to speed up the optimization\n",
    "process. If you want to run the optimization for all timesteps on the fine\n",
    "model directly, you can remove the slicing of the case and replace the coarse\n",
    "case with the fine case."
   ],
   "metadata": {}
  },
  {
   "outputs": [],
   "cell_type": "code",
   "source": [
    "using Jutul, JutulDarcy, GLMakie, GeoEnergyIO, HYPRE, LBFGSB\n",
    "data_dir = GeoEnergyIO.test_input_file_path(\"EGG\")\n",
    "data_pth = joinpath(data_dir, \"EGG.DATA\")\n",
    "fine_case = setup_case_from_data_file(data_pth)\n",
    "fine_case = fine_case[1:50];\n",
    "coarse_case = coarsen_reservoir_case(fine_case, (20, 20, 3), method = :ijk);"
   ],
   "metadata": {},
   "execution_count": null
  },
  {
   "cell_type": "markdown",
   "source": [
    "## Set up the rate optimization\n",
    "We use an utility to set up the rate optimization problem. The utility sets up\n",
    "the objective function, constraints, and initial guess for the optimization.\n",
    "The optimization is set up to maximize the NPV of the reservoir. The\n",
    "contribution to the NPV for a given time $t_i$ given in years is defined as:\n",
    "$\\text{NPV}_i = \\Delta t_i C_i(q_o, q_w)(1 + r)^{-t_i}$\n",
    "\n",
    "Here, $r$ is the discount rate and $C_i(q_o, q_w)$ is the cash flow for\n",
    "the current rates. The cash flow is defined as the price of producing each\n",
    "phase (oil and water, with oil having a positive price and water a negative\n",
    "price) minus the cost of injecting water.\n",
    "\n",
    "We set the prices and costs (per barrel) as well as a discount rate of 5% per\n",
    "year. The base rate will be used for all injectors initially, which matches\n",
    "the base case for the Egg model. The utility function takes in a `steps`\n",
    "argument that can be used to set how often the rates are allowed to change.\n",
    "\n",
    "The values used here are arbitrary for the purposes of the example. You are\n",
    "encouraged to play around with the values to see how the outcome changes in\n",
    "the optimization. Generally higher discount rates prioritze immediate income,\n",
    "while lower or zero discount rates prioritize maximizing the oil production\n",
    "over the entire simulation period."
   ],
   "metadata": {}
  },
  {
   "outputs": [],
   "cell_type": "code",
   "source": [
    "ctrl = coarse_case.forces[1][:Facility].control\n",
    "base_rate = ctrl[:INJECT1].target.value\n",
    "function optimize_rates(steps; use_box_bfgs = true)\n",
    "    setup = JutulDarcy.setup_rate_optimization_objective(coarse_case, base_rate,\n",
    "        max_rate_factor = 10,\n",
    "        oil_price = 100.0,\n",
    "        water_price = -10.0,\n",
    "        water_cost = 5.0,\n",
    "        discount_rate = 0.05,\n",
    "        maximize = use_box_bfgs,\n",
    "        sim_arg = (\n",
    "            rtol = 1e-5,\n",
    "            tol_cnv = 1e-5\n",
    "        ),\n",
    "        steps = steps\n",
    "    )\n",
    "    if use_box_bfgs\n",
    "        obj_best, x_best, hist = Jutul.unit_box_bfgs(setup.x0,\n",
    "        setup.obj,\n",
    "            maximize = true,\n",
    "            lin_eq = setup.lin_eq\n",
    "        )\n",
    "        H = hist.val\n",
    "    else\n",
    "        lower = zeros(length(setup.x0))\n",
    "        upper = ones(length(setup.x0))\n",
    "        results, x_best = lbfgsb(setup.F!, setup.dF!, setup.x0,\n",
    "            lb=lower,\n",
    "            ub=upper,\n",
    "            iprint = 1,\n",
    "            factr = 1e12,\n",
    "            maxfun = 20,\n",
    "            maxiter = 20,\n",
    "            m = 20\n",
    "        )\n",
    "        H = results\n",
    "    end\n",
    "    return (setup.case, H, x_best)\n",
    "end"
   ],
   "metadata": {},
   "execution_count": null
  },
  {
   "cell_type": "markdown",
   "source": [
    "## Optimize the rates\n",
    "We optimize the rates for two different strategies. The first strategy is to\n",
    "optimize constant rates for the entire period. The second strategy is to\n",
    "optimize the rates for each report step."
   ],
   "metadata": {}
  },
  {
   "cell_type": "markdown",
   "source": [
    "### Optimize with a single set of rates"
   ],
   "metadata": {}
  },
  {
   "outputs": [],
   "cell_type": "code",
   "source": [
    "case1, hist1, x1 = optimize_rates(:first);"
   ],
   "metadata": {},
   "execution_count": null
  },
  {
   "cell_type": "markdown",
   "source": [
    "### Plot rate allocation for the constant case"
   ],
   "metadata": {}
  },
  {
   "outputs": [],
   "cell_type": "code",
   "source": [
    "fig = Figure()\n",
    "ax = Axis(fig[1, 1], xlabel = \"Injector number\", ylabel = \"Rate fraction (of max injection rate)\")\n",
    "barplot!(ax, x1)\n",
    "ax.xticks = eachindex(x1)\n",
    "fig"
   ],
   "metadata": {},
   "execution_count": null
  },
  {
   "cell_type": "markdown",
   "source": [
    "### Optimize with varying rates per time-step"
   ],
   "metadata": {}
  },
  {
   "outputs": [],
   "cell_type": "code",
   "source": [
    "case2, hist2, x2 = optimize_rates(:each);"
   ],
   "metadata": {},
   "execution_count": null
  },
  {
   "cell_type": "markdown",
   "source": [
    "### Plot rate allocation per well"
   ],
   "metadata": {}
  },
  {
   "outputs": [],
   "cell_type": "code",
   "source": [
    "allocs = reshape(x2, length(x1), :)\n",
    "fig = Figure()\n",
    "ax = Axis(fig[1, 1], xlabel = \"Report step\", ylabel = \"Rate fraction (of max injection rate)\")\n",
    "for i in axes(allocs, 1)\n",
    "    lines!(ax, allocs[i, :], label = \"Injector #$i\")\n",
    "end\n",
    "axislegend()\n",
    "fig"
   ],
   "metadata": {},
   "execution_count": null
  },
  {
   "cell_type": "markdown",
   "source": [
    "## Plot the evolution of the NPV\n",
    "We plot the evolution of the NPV for the two strategies to compare the\n",
    "results. Note that the optimization produces a higher NPV for the varying\n",
    "rates. This is expected, as the optimization can adjust the rates to the\n",
    "changes in the mobility field during the progress of the simulation."
   ],
   "metadata": {}
  },
  {
   "outputs": [],
   "cell_type": "code",
   "source": [
    "fig = Figure()\n",
    "ax = Axis(fig[1, 1], xlabel = \"LBFGS iteration\", ylabel = \"Net present value (million USD)\")\n",
    "scatter!(ax, 1:length(hist1), hist1./1e6, label = \"Constant rates\")\n",
    "scatter!(ax, 1:length(hist2), hist2./1e6, marker = :x, label = \"Varying rates\")\n",
    "axislegend(position = :rb)\n",
    "fig"
   ],
   "metadata": {},
   "execution_count": null
  },
  {
   "cell_type": "markdown",
   "source": [
    "## Simulate the results\n",
    "We finally simulate all the cases to compare the results."
   ],
   "metadata": {}
  },
  {
   "outputs": [],
   "cell_type": "code",
   "source": [
    "ws0, states0 = simulate_reservoir(coarse_case, info_level = -1)\n",
    "ws1, states1 = simulate_reservoir(case1, info_level = -1)\n",
    "ws2, states2 = simulate_reservoir(case2, info_level = -1)"
   ],
   "metadata": {},
   "execution_count": null
  },
  {
   "cell_type": "markdown",
   "source": [
    "### Compute measurables and compare\n",
    "NPV favors early production, as later income/costs have less relative value.\n",
    "We compute the field measurables to be able to compare the oil and water\n",
    "production."
   ],
   "metadata": {}
  },
  {
   "outputs": [],
   "cell_type": "code",
   "source": [
    "f0 = reservoir_measurables(coarse_case.model, ws0)\n",
    "f1 = reservoir_measurables(case1.model, ws1)\n",
    "f2 = reservoir_measurables(case2.model, ws2)"
   ],
   "metadata": {},
   "execution_count": null
  },
  {
   "cell_type": "markdown",
   "source": [
    "### Plot the cumulative field oil production\n",
    "The optimized cases produce more oil than the base case."
   ],
   "metadata": {}
  },
  {
   "outputs": [],
   "cell_type": "code",
   "source": [
    "bbl = si_unit(:stb)\n",
    "fig = Figure()\n",
    "ax = Axis(fig[1, 1], xlabel = \"Time / days\", ylabel = \"Field oil production (accumulated, barrels)\", title = \"Base case\")\n",
    "t = ws0.time./si_unit(:day)\n",
    "lines!(ax, t, f0[:fopt].values./bbl, label = \"Base case\")\n",
    "lines!(ax, t, f1[:fopt].values./bbl, label = \"Constant rates\")\n",
    "lines!(ax, t, f2[:fopt].values./bbl, label = \"Varying rates\")\n",
    "axislegend(position = :rb)\n",
    "fig"
   ],
   "metadata": {},
   "execution_count": null
  },
  {
   "cell_type": "markdown",
   "source": [
    "### Plot the cumulative field water production\n",
    "The optimized cases produce less water than the base case."
   ],
   "metadata": {}
  },
  {
   "outputs": [],
   "cell_type": "code",
   "source": [
    "fig = Figure()\n",
    "ax = Axis(fig[1, 1], xlabel = \"Time / days\", ylabel = \"Field water production (accumulated, barrels)\", title = \"Base case\")\n",
    "t = ws0.time./si_unit(:day)\n",
    "lines!(ax, t, f0[:fwpt].values./bbl, label = \"Base case\")\n",
    "lines!(ax, t, f1[:fwpt].values./bbl, label = \"Constant rates\")\n",
    "lines!(ax, t, f2[:fwpt].values./bbl, label = \"Varying rates\")\n",
    "axislegend(position = :rb)\n",
    "fig"
   ],
   "metadata": {},
   "execution_count": null
  },
  {
   "cell_type": "markdown",
   "source": [
    "### Plot the differences in water saturation\n",
    "The optimized cases have a different water saturation distribution compared to the base case."
   ],
   "metadata": {}
  },
  {
   "outputs": [],
   "cell_type": "code",
   "source": [
    "reservoir = reservoir_domain(coarse_case.model)\n",
    "g = physical_representation(reservoir)\n",
    "function plot_diff!(ax, s)\n",
    "    plt = plot_cell_data!(ax, g, s0 - s1, colorrange = (-0.5, 0.5), colormap = :balance)\n",
    "    for (w, wd) in get_model_wells(coarse_case.model)\n",
    "        plot_well!(ax, g, wd, top_factor = 0.8, fontsize = 10)\n",
    "    end\n",
    "    ax.elevation[] = 1.03\n",
    "    ax.azimuth[] = 3.75\n",
    "    return plt\n",
    "end\n",
    "\n",
    "s0 = states0[end][:Saturations][1, :]\n",
    "s1 = states1[end][:Saturations][1, :]\n",
    "s2 = states2[end][:Saturations][1, :]\n",
    "fig = Figure(size = (1600, 800))\n",
    "ax = Axis3(fig[1, 1], zreversed = true, title = \"Water saturation difference, constant rates\")\n",
    "plt = plot_diff!(ax, s1)\n",
    "ax = Axis3(fig[1, 2], zreversed = true, title = \"Water saturation difference, varying rates\")\n",
    "plot_diff!(ax, s2)\n",
    "Colorbar(fig[2, :], plt, vertical = false)\n",
    "fig"
   ],
   "metadata": {},
   "execution_count": null
  },
  {
   "cell_type": "markdown",
   "source": [
    "---\n",
    "\n",
    "*This notebook was generated using [Literate.jl](https://github.com/fredrikekre/Literate.jl).*"
   ],
   "metadata": {}
  }
 ],
 "nbformat_minor": 3,
 "metadata": {
  "language_info": {
   "file_extension": ".jl",
   "mimetype": "application/julia",
   "name": "julia",
   "version": "1.11.5"
  },
  "kernelspec": {
   "name": "julia-1.11",
   "display_name": "Julia 1.11.5",
   "language": "julia"
  }
 },
 "nbformat": 4
}
