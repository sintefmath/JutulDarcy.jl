{
 "cells": [
  {
   "cell_type": "markdown",
   "source": [
    "# Hydrostatic equilibriation of models\n",
    "Initializing a reservoir model is an important part of reservoir simulation.\n",
    "For simple, conceptual models it may be sufficient to prescribe a single\n",
    "uniform pressure value as the initial condition, but for more realistic cases\n",
    "the problem of equilibriation becomes very important.\n",
    "\n",
    "This example gives an overview of how to set up the initial state of a\n",
    "reservoir model using the `setup_reservoir_state` function. To set up a\n",
    "reservoir model, values for all primary variables must be provided for every\n",
    "cell of the domain. The wells are automatically initialized from the cell\n",
    "values. There are two main ways the initial state can be set up:\n",
    "\n",
    "1. Direct assignment, where the initial values are provided directly as either\n",
    "   values for one cell, or values for all cells in the domain. This has the\n",
    "   advantage of being very easy to set up, and gives you full control over the\n",
    "   initial conditions, but it can be difficult to set up realistic initial\n",
    "   that correspond to hydrostatic equilibrium. This means that the model can\n",
    "   have significant mass transfer between cells starting from the initial\n",
    "   conditions even without wells or boundary conditions.\n",
    "2. Equilibriation, where the initial values are computed from a set of\n",
    "   ordinary differential equations that makes sure the initial state is in\n",
    "   hydrostatic equilibrium. This is the most realistic way to set up the\n",
    "   initial conditions, but requires additional inputs.\n",
    "\n",
    "We will go over both of these approaches in this example. The corresponding\n",
    "terminology from typical input files would be keywords like EQUIL (for\n",
    "hydrostatic equilibriation) and PRES, SGAS, SOIL and so on (for direct\n",
    "assignment). If an input file is used, the initial state will set up\n",
    "automatically from these keywords."
   ],
   "metadata": {}
  },
  {
   "outputs": [],
   "cell_type": "code",
   "source": [
    "using Jutul, JutulDarcy, MultiComponentFlash, GLMakie, GeoEnergyIO"
   ],
   "metadata": {},
   "execution_count": null
  },
  {
   "cell_type": "markdown",
   "source": [
    "## Set up a reservoir with depth for the examples\n",
    "We will use a simple Cartesian mesh with 2 cells in the x-direction and 1000\n",
    "cells in the z-direction. The domain is 20 m wide, 10 m high and 1000 m deep.\n",
    "Note that we set `z_is_depth = true` to make sure the z coordinate is treated\n",
    "as depth, which is customary for resrvoir models, and assumed by the functions\n",
    "that set up the initial state based on hydrostatic equilibrium. We also shift\n",
    "the mesh so that the top of the domain is at 800 m depth."
   ],
   "metadata": {}
  },
  {
   "outputs": [],
   "cell_type": "code",
   "source": [
    "nx = 2\n",
    "nz = 1000\n",
    "Darcy, bar, yr, Kelvin = si_units(:darcy, :bar, :year, :Kelvin)\n",
    "cmesh = CartesianMesh((nx, 1, nz), (20.0, 10.0, 1000.0))\n",
    "cmesh = UnstructuredMesh(cmesh, z_is_depth = true)\n",
    "for (i, pt) in enumerate(cmesh.node_points)\n",
    "    cmesh.node_points[i] = pt .+ [0.0, 0.0, 800.0]\n",
    "end\n",
    "reservoir = reservoir_domain(cmesh, porosity = 0.25, permeability = 0.1*Darcy)\n",
    "ncells = number_of_cells(cmesh)"
   ],
   "metadata": {},
   "execution_count": null
  },
  {
   "cell_type": "markdown",
   "source": [
    "## Set up a three-phase model with simple initial conditions\n",
    "We will start by setting up a three-phase model with simple initial\n",
    "conditions. We let the initial conditions be uniform throughout the domain.\n",
    "This is done by passing a scalar for the pressure (which will be repeated for\n",
    "all cells) and a vector with one entry per hphase for the saturations (which\n",
    "will be repeated for all cells into a 3 by ncells matrix).\n",
    "\n",
    "We also set a typical density function. The density function is important, as\n",
    "it determines the pressure distribution for the equilibrium state."
   ],
   "metadata": {}
  },
  {
   "outputs": [],
   "cell_type": "code",
   "source": [
    "W = AqueousPhase()\n",
    "O = LiquidPhase()\n",
    "G = VaporPhase()\n",
    "\n",
    "rhoS = [1000.0, 700.0, 100.0]\n",
    "sys_3ph = ImmiscibleSystem((W, O, G), reference_densities = rhoS)\n",
    "rho = ConstantCompressibilityDensities(sys_3ph, 1.5bar, rhoS, 1e-5/bar)\n",
    "model_3ph, prm_3ph = setup_reservoir_model(reservoir, sys_3ph)\n",
    "set_secondary_variables!(model_3ph[:Reservoir], PhaseMassDensities = rho)\n",
    "state0_3ph_1 = setup_reservoir_state(model_3ph, Saturations = [0.0, 1.0, 0.0], Pressure = 200*bar)"
   ],
   "metadata": {},
   "execution_count": null
  },
  {
   "cell_type": "markdown",
   "source": [
    "### Simulate the model and plot the change in pressure\n",
    "We will now simulate the model for 100 years and plot the change in pressure.\n",
    "This could be thought of as the poor man's way of setting up the initial\n",
    "state, as it will give a pressure distribution that is close to hydrostatic\n",
    "equilibrium at the cost of solving many time-steps. For a small model, this\n",
    "cost is negligble, but for larger models it can be significant.\n",
    "\n",
    "We observe that the initially constant pressure becomes a nearly  linear function of\n",
    "depth after 100 years. This is the expected result for a model with constant\n",
    "and no driving forces other than gravity."
   ],
   "metadata": {}
  },
  {
   "outputs": [],
   "cell_type": "code",
   "source": [
    "dt = [convert_to_si(100, :year)]\n",
    "_, states_3ph_1 = simulate_reservoir(state0_3ph_1, model_3ph, dt)\n",
    "\n",
    "function plot_comparison(v1, v2, t)\n",
    "    clim = extrema([v1..., v2...])\n",
    "    fig = Figure(size = (1000, 500))\n",
    "    to_mesh(x) = reshape(x, nx, nz)[:, end:-1:1]\n",
    "    ax1 = Axis(fig[1, 1], title = \"$t initial condition\")\n",
    "    heatmap!(ax1, to_mesh(v1), colorrange = clim, colormap = :coolwarm)\n",
    "    ax2 = Axis(fig[1, 2], title = \"$t after 100 years\")\n",
    "    plt = heatmap!(ax2, to_mesh(v2), colorrange = clim, colormap = :coolwarm)\n",
    "    Colorbar(fig[1, 3], plt)\n",
    "    fig\n",
    "end\n",
    "plot_comparison(state0_3ph_1[:Reservoir][:Pressure]./bar, states_3ph_1[1][:Pressure]./bar, \"Pressure [bar]\")"
   ],
   "metadata": {},
   "execution_count": null
  },
  {
   "cell_type": "markdown",
   "source": [
    "### Confirm that the pressure distribution is approximately linear\n",
    "The pressure should follow the hydrostatic pressure distribution, i.e. for a\n",
    "single-phase initial state it would be the solution of the ODE:\n",
    "\n",
    "$\\frac{dp}{dz} = \\rho (p) g$\n",
    "\n",
    "Note that as when the variation of the density with respect to pressure is\n",
    "small, this is essentially saying that:\n",
    "$p = \\rho g z$"
   ],
   "metadata": {}
  },
  {
   "outputs": [],
   "cell_type": "code",
   "source": [
    "function pressure_vs_depth_plot(state)\n",
    "    if haskey(state, :Reservoir)\n",
    "        state = state[:Reservoir]\n",
    "    end\n",
    "    p = state[:Pressure]./bar\n",
    "    z = reservoir[:cell_centroids][3, :]\n",
    "    fig = Figure(size = (300, 600))\n",
    "    ax = Axis(fig[1, 1], title = \"Pressure vs depth\", ylabel = \"Depth [m]\", xlabel = \"Pressure [bar]\")\n",
    "    plt = scatter!(ax, p, z, color = p, markersize = 2, colormap = :coolwarm)\n",
    "    Colorbar(fig[1, 2], plt)\n",
    "    fig\n",
    "end\n",
    "pressure_vs_depth_plot(states_3ph_1[end])"
   ],
   "metadata": {},
   "execution_count": null
  },
  {
   "cell_type": "markdown",
   "source": [
    "### Initialize the model with random initial conditions\n",
    "We will now set up the model with random initial conditions by providing\n",
    "values per cell. This is done by providing a vector with one entry per cell\n",
    "for pressure, taking care to avoid zero or negative pressures. Similarily, the\n",
    "saturations can be provided as a 3 by ncells matrix, taking care to ensure\n",
    "that the sum of the saturations is equal to one in each cell (i.e. each column\n",
    "of the matrix). This will also return to a hydrostatic distribution, but the\n",
    "saturations make the results more interesting."
   ],
   "metadata": {}
  },
  {
   "outputs": [],
   "cell_type": "code",
   "source": [
    "s0 = 0.2 .+ rand(3, ncells)\n",
    "s0 = s0 ./ sum(s0, dims = 1)\n",
    "p0 = 100 .* (0.1 .+ rand(ncells)).*bar\n",
    "state0_3ph_rand = setup_reservoir_state(model_3ph, Saturations = s0, Pressure = p0)\n",
    "_, states_3ph_rand = simulate_reservoir(state0_3ph_rand, model_3ph, dt)\n",
    "plot_comparison(p0./bar, states_3ph_rand[1][:Pressure]./bar, \"Pressure [bar]\")"
   ],
   "metadata": {},
   "execution_count": null
  },
  {
   "cell_type": "markdown",
   "source": [
    "### Plot the water saturation\n",
    "We will now plot the water saturation for the initial condition and the state\n",
    "after 100 years. We observe that the initially random water saturation\n",
    "migrates to the bottom of the model. This is expected, as the water is the\n",
    "heaviest phase. A similar observation could be made for the other two phases."
   ],
   "metadata": {}
  },
  {
   "outputs": [],
   "cell_type": "code",
   "source": [
    "plot_comparison(s0[1, :], states_3ph_rand[1][:Saturations][1, :], \"Water saturation\")"
   ],
   "metadata": {},
   "execution_count": null
  },
  {
   "cell_type": "markdown",
   "source": [
    "### Plot the pressure distribution for the random initial condition\n",
    "We now observe a bit more interesting pressure distribution. The slope of the\n",
    "pressure gradient is still linear, but the slope varies in three different\n",
    "regions: One for the top region where gas/vapor migrates, one for the middle region\n",
    "where oil/liquid migrates and one for the bottom region where water migrates."
   ],
   "metadata": {}
  },
  {
   "outputs": [],
   "cell_type": "code",
   "source": [
    "pressure_vs_depth_plot(states_3ph_rand[end])"
   ],
   "metadata": {},
   "execution_count": null
  },
  {
   "cell_type": "markdown",
   "source": [
    "## Equilibriate the model\n",
    "We will now set up the model with a more realistic initial condition by\n",
    "equilibriating the model. This is done by providing a set of parameters that\n",
    "describe the equilibrium state. The most important parameter is the pressure\n",
    "at a given depth (datum depth and pressure) which fixes the pressure range in\n",
    "the model. In addition, we provide the depths of the fluid contacts where\n",
    "pairs of phases are in contact with each other at hydrostatic equilibrium."
   ],
   "metadata": {}
  },
  {
   "outputs": [],
   "cell_type": "code",
   "source": [
    "eql = EquilibriumRegion(model_3ph, 100*bar, 1000.0, woc = 1600.0, goc = 1100.0)"
   ],
   "metadata": {},
   "execution_count": null
  },
  {
   "cell_type": "markdown",
   "source": [
    "### Perform equilibriation\n",
    "We simply pass the equilibrium region to the `setup_reservoir_state` function\n",
    "as a second positional argument."
   ],
   "metadata": {}
  },
  {
   "outputs": [],
   "cell_type": "code",
   "source": [
    "state0_3_ph_eql = setup_reservoir_state(model_3ph, eql)"
   ],
   "metadata": {},
   "execution_count": null
  },
  {
   "cell_type": "markdown",
   "source": [
    "### Plot the results\n",
    "We plot the initial condition of the pressure (left) and the saturations (right)."
   ],
   "metadata": {}
  },
  {
   "outputs": [],
   "cell_type": "code",
   "source": [
    "function plot_state0(state, phases = :wog)\n",
    "    has_sat = haskey(state[:Reservoir], :Saturations)\n",
    "    has_comp = haskey(state[:Reservoir], :OverallMoleFractions)\n",
    "    fig = Figure(size = ((1 + has_sat + has_comp)*300, 500))\n",
    "    to_mesh(x) = reshape(x, nx, nz)[:, end:-1:1]\n",
    "    ax1 = Axis(fig[1, 1], title = \"Pressure\")\n",
    "    p = state[:Reservoir][:Pressure]./si_unit(:bar)\n",
    "    plt_pres = heatmap!(ax1, to_mesh(p), colormap = :coolwarm)\n",
    "    Colorbar(fig[1, 2], plt_pres)\n",
    "\n",
    "    if has_sat\n",
    "        sat = state[:Reservoir][:Saturations]\n",
    "        function to_rgb(i)\n",
    "            if phases == :wog\n",
    "                return Makie.RGB(sat[2, i], sat[3, i], sat[1, i])\n",
    "            elseif phases == :og\n",
    "                return Makie.RGB(sat[1, i], sat[2, i], 0.0)\n",
    "            elseif phases == :wg\n",
    "                return Makie.RGB(0.0, sat[2, i], sat[1, i])\n",
    "            end\n",
    "        end\n",
    "        sat_rgb = map(to_rgb, axes(sat, 2))\n",
    "        ax2 = Axis(fig[1, 3], title = \"Saturation\")\n",
    "        plt = heatmap!(ax2, to_mesh(sat_rgb), colormap = :coolwarm)\n",
    "\n",
    "        e_wat = PolyElement(color = Makie.RGB(0.0, 0.0, 1.0), strokecolor = :black, strokewidth = 1)\n",
    "        e_oil = PolyElement(color = Makie.RGB(1.0, 0.0, 0.0), strokecolor = :black, strokewidth = 1)\n",
    "        e_gas = PolyElement(color = Makie.RGB(0.0, 1.0, 0.0), strokecolor = :black, strokewidth = 1)\n",
    "\n",
    "        Legend(fig[1, 4],\n",
    "        [e_wat, e_oil, e_gas],\n",
    "        [\"Aqeous (W)\", \"Liquid (O)\", \"Vapor (G)\"],\n",
    "        patchsize = (35, 35), rowgap = 10)\n",
    "        if has_comp\n",
    "            comp = state[:Reservoir][:OverallMoleFractions]\n",
    "            ax3 = Axis(fig[1, 5], title = \"Mole fraction, component 1\")\n",
    "            plt_comp = heatmap!(ax3, to_mesh(comp[1, :]), colorrange = (0.0, 1.0))\n",
    "            Colorbar(fig[1, 6], plt_comp)\n",
    "        end\n",
    "    end\n",
    "    fig\n",
    "end\n",
    "plot_state0(state0_3_ph_eql)"
   ],
   "metadata": {},
   "execution_count": null
  },
  {
   "cell_type": "markdown",
   "source": [
    "### Plot the pressure distribution by depth"
   ],
   "metadata": {}
  },
  {
   "outputs": [],
   "cell_type": "code",
   "source": [
    "pressure_vs_depth_plot(state0_3_ph_eql)"
   ],
   "metadata": {},
   "execution_count": null
  },
  {
   "cell_type": "markdown",
   "source": [
    "## Set up a two-region model\n",
    "We can also easily set up two different regions in the model. This is done by\n",
    "providing a vector of cell indices for each region, and then passing the\n",
    "vector if regions to the `setup_reservoir_state`. Each region can also be\n",
    "associated with a separate PVT or saturation region.\n",
    "\n",
    "Note that if the regions are in pressure contact (i.e. there is no flow\n",
    "barrier between them), this state will not be a true equilibrium state and the\n",
    "fluids will move between the regions when simulation starts. The primary\n",
    "utility of setting up multiple regions is to simulate compartments that have\n",
    "different contacts in the same model, for example because a well passes\n",
    "through both compartments."
   ],
   "metadata": {}
  },
  {
   "outputs": [],
   "cell_type": "code",
   "source": [
    "A = Int[]\n",
    "B = Int[]\n",
    "for c in 1:ncells\n",
    "    I, J, K = cell_ijk(cmesh, c)\n",
    "    if I == 1\n",
    "        push!(A, c)\n",
    "    else\n",
    "        push!(B, c)\n",
    "    end\n",
    "end\n",
    "eql_A = EquilibriumRegion(model_3ph, 100*bar, 1000.0, woc = 1600.0, goc = 1100.0, cells = A)\n",
    "eql_B = EquilibriumRegion(model_3ph, 120*bar, 1000.0, woc = 1500.0, goc = 1200.0, cells = B)\n",
    "state0_two_reg = setup_reservoir_state(model_3ph, [eql_A, eql_B])\n",
    "plot_state0(state0_two_reg)"
   ],
   "metadata": {},
   "execution_count": null
  },
  {
   "cell_type": "markdown",
   "source": [
    "## The two regions are easy to see in a scatter plot"
   ],
   "metadata": {}
  },
  {
   "outputs": [],
   "cell_type": "code",
   "source": [
    "pressure_vs_depth_plot(state0_two_reg)"
   ],
   "metadata": {},
   "execution_count": null
  },
  {
   "cell_type": "markdown",
   "source": [
    "## Load a black-oil model with capillary pressure\n",
    "We load the SPE9 model and transfer the fluid system over to our small\n",
    "reservoir model to see how equilibrium can be computed for a black-oil model."
   ],
   "metadata": {}
  },
  {
   "outputs": [],
   "cell_type": "code",
   "source": [
    "spe9 = GeoEnergyIO.test_input_file_path(\"SPE9\", \"SPE9.DATA\");\n",
    "case = setup_case_from_data_file(spe9)\n",
    "model_bo, = setup_reservoir_model(reservoir, case.model);"
   ],
   "metadata": {},
   "execution_count": null
  },
  {
   "cell_type": "markdown",
   "source": [
    "### Equilibriate the model\n",
    "We will now equilibriate the black-oil model. Note that we can specify the Rs\n",
    "value by depth. The density of the liquid phase in this model depends on the\n",
    "dissolved gas. Changing the Rs value will change the density of the liquid\n",
    "phase, which will in turn change the pressure distribution. Rs can be\n",
    "specified using either rs (constant value) or rs_vs_depth (function of depth).\n",
    "For models with vaporized oil, a similar pair of options is present for Rv.\n",
    "\n",
    "Note that the oil saturation is not uniform in the oil region, as there is a\n",
    "capillary fringe present. This is a common feature in black-oil models, where\n",
    "significant capillary pressure between the oil and water phases can lead to\n",
    "significant water being \"pulled up\" into the oil region against the force of\n",
    "gravity until the two effects balance out."
   ],
   "metadata": {}
  },
  {
   "outputs": [],
   "cell_type": "code",
   "source": [
    "eql_bo = EquilibriumRegion(model_bo, 100*bar, 1000.0, woc = 1600.0, goc = 1100.0, rs = 15.0)\n",
    "state0_bo = setup_reservoir_state(model_bo, eql_bo)\n",
    "plot_state0(state0_bo)"
   ],
   "metadata": {},
   "execution_count": null
  },
  {
   "cell_type": "markdown",
   "source": [
    "## See the effect of capillary pressure on the pressure distribution\n",
    "The capillary equilibrium will be accounted. We can see this effect in detail\n",
    "by plotting the capillary pressure and the water saturation by depth. Note\n",
    "that there is connate water in the oil and gas regions, and variation within\n",
    "the oil zone."
   ],
   "metadata": {}
  },
  {
   "outputs": [],
   "cell_type": "code",
   "source": [
    "pc = model_bo[:Reservoir][:CapillaryPressure].pc[1][1] # WO pc, first region\n",
    "krw = model_bo[:Reservoir][:RelativePermeabilities].krw[1] # WO pc, first region\n",
    "sw = state0_bo[:Reservoir][:Saturations][1, :]\n",
    "fig = Figure(size = (1000, 500))\n",
    "ax1 = Axis(fig[1, 1], title = \"Water-Oil capillary pressure\", ylabel = \"Capillary pressure [bar]\")\n",
    "plt_pc = lines!(ax1, pc.X, pc.F./bar)\n",
    "ax2 = Axis(fig[1, 2], title = \"Water saturation by depth\", ylabel = \"Depth [m]\", xlabel = \"Saturation\")\n",
    "plt_sw = lines!(ax2, sw, reservoir[:cell_centroids][3, :])\n",
    "ax3 = Axis(fig[1, 3], title = \"Water-Oil relative permeability\", ylabel = \"Kr\", xlabel = \"Water saturation\")\n",
    "plt_krw = lines!(ax3, krw.k.X, krw.k.F)\n",
    "fig"
   ],
   "metadata": {},
   "execution_count": null
  },
  {
   "cell_type": "markdown",
   "source": [
    "## Set up a compositional model\n",
    "We will now set up a compositional model with two components. The components\n",
    "are methane (will mostly form a gas) and n-decane (will mostly be liquid)."
   ],
   "metadata": {}
  },
  {
   "outputs": [],
   "cell_type": "code",
   "source": [
    "c_light = MolecularProperty(\"Methane\")\n",
    "c_heavy = MolecularProperty(\"n-Decane\")\n",
    "mixture = MultiComponentMixture([c_light, c_heavy])\n",
    "eos = GenericCubicEOS(mixture, PengRobinson())\n",
    "sys_c = MultiPhaseCompositionalSystemLV(eos, (LiquidPhase(), VaporPhase()))\n",
    "model_comp, = setup_reservoir_model(reservoir, sys_c);"
   ],
   "metadata": {},
   "execution_count": null
  },
  {
   "cell_type": "markdown",
   "source": [
    "### Equilibriate the model\n",
    "We will now equilibriate the compositional model. The compositional model can\n",
    "be equilibrated in much the same manner, but unlike the previous model two\n",
    "models, there are additional requirements on the inputs. Compositional models\n",
    "predict the density and phase saturations based on the composition and\n",
    "temperature and thus specifying composition and temperature as a function of depth is\n",
    "mandatory.\n",
    "\n",
    "It is important that the compositions are consistent with the phase behavior,\n",
    "i.e. specifying a composition that will end up as a gas for the liquid phase\n",
    "may lead to poor initialization of the model.\n",
    "\n",
    "Here, we specify the liquid composition as constant and let the vapor\n",
    "composition and temperature be functions of depth."
   ],
   "metadata": {}
  },
  {
   "outputs": [],
   "cell_type": "code",
   "source": [
    "eql_comp = EquilibriumRegion(model_comp, 100*bar, 1000.0,\n",
    "    goc = 1100.0,\n",
    "    liquid_composition_vs_depth = z -> [0.0 + 1e-6*z, 1.0 - 1e-6*z],\n",
    "    vapor_composition = [0.9, 0.1],\n",
    "    temperature_vs_depth = z -> (300.0 + 30*(z-800.0)/1000.0)*Kelvin\n",
    ")\n",
    "state0_comp = setup_reservoir_state(model_comp, eql_comp)\n",
    "plot_state0(state0_comp, :og)"
   ],
   "metadata": {},
   "execution_count": null
  },
  {
   "cell_type": "markdown",
   "source": [
    "## Set up a single-phase water model\n",
    "We can also initialize single-phase models, which are entirely parametrized by\n",
    "the contact depth and pressure."
   ],
   "metadata": {}
  },
  {
   "outputs": [],
   "cell_type": "code",
   "source": [
    "sys_1ph = SinglePhaseSystem(reference_density = 1000.0)\n",
    "model_1ph, = setup_reservoir_model(reservoir, sys_1ph)\n",
    "eql_1ph = EquilibriumRegion(model_1ph, 100*bar, 1000.0)\n",
    "state0_1ph = setup_reservoir_state(model_1ph, eql_1ph)\n",
    "plot_state0(state0_1ph)"
   ],
   "metadata": {},
   "execution_count": null
  },
  {
   "cell_type": "markdown",
   "source": [
    "## Set up two-phase water gas\n",
    "A special case occurs for water-gas systems, where we have to specify the wgc\n",
    "instead of woc/goc. Otherwise, the equilibration is performed in much the same\n",
    "manner."
   ],
   "metadata": {}
  },
  {
   "outputs": [],
   "cell_type": "code",
   "source": [
    "rhoS = [1000.0, 100.0]\n",
    "sys_wg = ImmiscibleSystem((W, G), reference_densities = rhoS)\n",
    "rho = ConstantCompressibilityDensities(sys_wg, 1.5bar, rhoS, 1e-5/bar)\n",
    "model_wg, prm_wg = setup_reservoir_model(reservoir, sys_wg)\n",
    "set_secondary_variables!(model_wg[:Reservoir], PhaseMassDensities = rho)\n",
    "\n",
    "eql = EquilibriumRegion(model_wg, 100*bar, 1000.0, wgc = 1300.0)\n",
    "state0_wg_eql = setup_reservoir_state(model_wg, eql)\n",
    "plot_state0(state0_wg_eql, :wg)"
   ],
   "metadata": {},
   "execution_count": null
  },
  {
   "cell_type": "markdown",
   "source": [
    "## Conclusion\n",
    "We have seen how to set up the initial state of a reservoir model using both\n",
    "direct assignment and hydrostatic equilibrium. Even a simple model can have\n",
    "surprising complexity in how the initial state should be set up. We have not\n",
    "covered all the options available (e.g. specifying capillary pressure\n",
    "interfaces), but the examples should give a good idea of how to set up your\n",
    "own model."
   ],
   "metadata": {}
  },
  {
   "cell_type": "markdown",
   "source": [
    "---\n",
    "\n",
    "*This notebook was generated using [Literate.jl](https://github.com/fredrikekre/Literate.jl).*"
   ],
   "metadata": {}
  }
 ],
 "nbformat_minor": 3,
 "metadata": {
  "language_info": {
   "file_extension": ".jl",
   "mimetype": "application/julia",
   "name": "julia",
   "version": "1.11.5"
  },
  "kernelspec": {
   "name": "julia-1.11",
   "display_name": "Julia 1.11.5",
   "language": "julia"
  }
 },
 "nbformat": 4
}
