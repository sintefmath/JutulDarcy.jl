{
 "cells": [
  {
   "cell_type": "markdown",
   "source": [
    "# Geothermal doublet\n",
    "This example demonstrates how to set up a geothermal doublet simulation using\n",
    "JutulDarcy. We will use two different PVT functions--one simple and one\n",
    "realistic--to highlight the importance of accurate fluid physics in geothermal\n",
    "simulations."
   ],
   "metadata": {}
  },
  {
   "outputs": [],
   "cell_type": "code",
   "source": [
    "using Jutul, JutulDarcy, HYPRE, GeoEnergyIO, GLMakie\n",
    "meter, kilogram, bar, year = si_units(:meter, :kilogram, :bar, :year)"
   ],
   "metadata": {},
   "execution_count": null
  },
  {
   "cell_type": "markdown",
   "source": [
    "## Make setup function\n",
    "We use the synthethic EGG model [egg_model](@cite) to emulate realistic\n",
    "geology. Instead of using the original wells, we set up a simple\n",
    "injector-producer doublet, placed so that injected fluids will sweep a large\n",
    "part of the reservoir."
   ],
   "metadata": {}
  },
  {
   "cell_type": "markdown",
   "source": [
    "Set up EGG model"
   ],
   "metadata": {}
  },
  {
   "outputs": [],
   "cell_type": "code",
   "source": [
    "egg_dir = JutulDarcy.GeoEnergyIO.test_input_file_path(\"EGG\")\n",
    "data_pth = joinpath(egg_dir, \"EGG.DATA\")\n",
    "case0 = setup_case_from_data_file(data_pth)\n",
    "domain = reservoir_model(case0.model).data_domain;"
   ],
   "metadata": {},
   "execution_count": null
  },
  {
   "cell_type": "markdown",
   "source": [
    "Make setup function"
   ],
   "metadata": {}
  },
  {
   "outputs": [],
   "cell_type": "code",
   "source": [
    "function setup_doublet(sys)\n",
    "\n",
    "    inj_well = setup_vertical_well(domain, 45, 15, name = :Injector, simple_well = false)\n",
    "    prod_well = setup_vertical_well(domain, 15, 45, name = :Producer, simple_well = false)\n",
    "\n",
    "    model, _ = setup_reservoir_model(\n",
    "        domain, sys,\n",
    "        thermal = true,\n",
    "        wells = [inj_well, prod_well],\n",
    "    );\n",
    "    rmodel = reservoir_model(model)\n",
    "    push!(rmodel.output_variables, :PhaseMassDensities, :PhaseViscosities)\n",
    "\n",
    "    state0 = setup_reservoir_state(model,\n",
    "        Pressure = 50bar,\n",
    "        Temperature = convert_to_si(90, :Celsius)\n",
    "    )\n",
    "\n",
    "    time = 50year\n",
    "    pv_tot = sum(pore_volume(reservoir_model(model).data_domain))\n",
    "    rate = 2*pv_tot/time\n",
    "    rate_target = TotalRateTarget(rate)\n",
    "    ctrl_inj  = InjectorControl(rate_target, [1.0],\n",
    "        density = 1000.0, temperature = convert_to_si(10.0, :Celsius))\n",
    "\n",
    "    bhp_target = BottomHolePressureTarget(25bar)\n",
    "    ctrl_prod = ProducerControl(bhp_target)\n",
    "\n",
    "    control = Dict(:Injector => ctrl_inj, :Producer => ctrl_prod)\n",
    "\n",
    "    dt = 4year/12\n",
    "    dt = fill(dt, Int(time/dt))\n",
    "\n",
    "    forces = setup_reservoir_forces(model, control = control)\n",
    "\n",
    "    return JutulCase(model, dt, forces, state0 = state0)\n",
    "\n",
    "end"
   ],
   "metadata": {},
   "execution_count": null
  },
  {
   "cell_type": "markdown",
   "source": [
    "## Simple fluid physics\n",
    "We start by setting up a simple fluid physics where water is slightly\n",
    "compressible, but with no influence of temperature. Viscosity is constant."
   ],
   "metadata": {}
  },
  {
   "outputs": [],
   "cell_type": "code",
   "source": [
    "rhoWS = 1000.0kilogram/meter^3\n",
    "sys = SinglePhaseSystem(AqueousPhase(), reference_density = rhoWS)\n",
    "case_simple = setup_doublet(sys)\n",
    "results_simple = simulate_reservoir(case_simple);"
   ],
   "metadata": {},
   "execution_count": null
  },
  {
   "cell_type": "markdown",
   "source": [
    "Interactive plot of the reservoir state"
   ],
   "metadata": {}
  },
  {
   "outputs": [],
   "cell_type": "code",
   "source": [
    "plot_reservoir(case_simple.model, results_simple.states)"
   ],
   "metadata": {},
   "execution_count": null
  },
  {
   "cell_type": "markdown",
   "source": [
    "## Realistic fluid physics\n",
    "Next, we repeat the simulation with more realistic fluid physics. We use a\n",
    "formulation from [NIST](https://webbook.nist.gov/chemistry/fluid/) where\n",
    "density, viscosity and heat capacity depend on pressure and temperature."
   ],
   "metadata": {}
  },
  {
   "outputs": [],
   "cell_type": "code",
   "source": [
    "case_real = setup_doublet(:geothermal)\n",
    "results_real = simulate_reservoir(case_real);"
   ],
   "metadata": {},
   "execution_count": null
  },
  {
   "cell_type": "markdown",
   "source": [
    "Interactive plot of the reservoir state"
   ],
   "metadata": {}
  },
  {
   "outputs": [],
   "cell_type": "code",
   "source": [
    "plot_reservoir(case_real.model, results_real.states)"
   ],
   "metadata": {},
   "execution_count": null
  },
  {
   "cell_type": "markdown",
   "source": [
    "## Compare results\n",
    "A key performace metric for geothermal doublets is the time it takes before\n",
    "the cold water injected to uphold pressure reaches the producer. At this\n",
    "point, production temperature will rapidly decline, so that the breakthrough\n",
    "time effectivelt defines the lifespan of the doublet. We plot the well results\n",
    "for the two simulations to compare the two different PVT formulations. Since\n",
    "water viscosty is not affected by temperature in the simple PVT model, water\n",
    "movement is much faster in this scenario, thereby grossly underestimating the\n",
    "lifespan of the doublet compared to the realistic PVT. This effect is further\n",
    "amplified by the thermal shrinkage due to colling present in the realistic PVT\n",
    "model."
   ],
   "metadata": {}
  },
  {
   "outputs": [],
   "cell_type": "code",
   "source": [
    "plot_well_results([results_simple.wells, results_real.wells]; names = [\"Simple\", \"Realistic\"])"
   ],
   "metadata": {},
   "execution_count": null
  },
  {
   "cell_type": "markdown",
   "source": [
    "Finally, we plot the density to see how the two simulations differ. As density\n",
    "in the the simple PVT is only dependent on pressure, it is largely constant\n",
    "except from in the vicinity of the wells, where pressure gradients are larger.\n",
    "In the realistic PVT, where density is a function of both pressure and\n",
    "temperature, we see that it is affected in all regions swept by the injected\n",
    "cold water."
   ],
   "metadata": {}
  },
  {
   "outputs": [],
   "cell_type": "code",
   "source": [
    "ρ_simple = map(s -> s[:PhaseMassDensities], results_simple.states)\n",
    "ρ_real = map(s -> s[:PhaseMassDensities], results_real.states)\n",
    "Δρ = map(Δρ -> Dict(:DensityDifference => Δρ), ρ_simple .- ρ_real)\n",
    "plot_reservoir(case_real.model, Δρ; step = length(Δρ))"
   ],
   "metadata": {},
   "execution_count": null
  },
  {
   "cell_type": "markdown",
   "source": [
    "---\n",
    "\n",
    "*This notebook was generated using [Literate.jl](https://github.com/fredrikekre/Literate.jl).*"
   ],
   "metadata": {}
  }
 ],
 "nbformat_minor": 3,
 "metadata": {
  "language_info": {
   "file_extension": ".jl",
   "mimetype": "application/julia",
   "name": "julia",
   "version": "1.11.5"
  },
  "kernelspec": {
   "name": "julia-1.11",
   "display_name": "Julia 1.11.5",
   "language": "julia"
  }
 },
 "nbformat": 4
}
