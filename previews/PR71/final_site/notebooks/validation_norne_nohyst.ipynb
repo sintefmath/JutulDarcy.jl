{
 "cells": [
  {
   "cell_type": "markdown",
   "source": [
    "# Norne: Real field black-oil model\n",
    "The Norne model is a real field model. The model has been adapted so that the\n",
    "input file only contains features present in JutulDarcy, with the most notable\n",
    "omissions being removal of hysteresis and threshold pressures between\n",
    "equilibriation reqgions. For more details, see the [OPM data\n",
    "webpage](https://opm-project.org/?page_id=559)"
   ],
   "metadata": {}
  },
  {
   "outputs": [],
   "cell_type": "code",
   "source": [
    "using Jutul, JutulDarcy, GLMakie, DelimitedFiles, HYPRE, GeoEnergyIO\n",
    "norne_dir = GeoEnergyIO.test_input_file_path(\"NORNE_NOHYST\")\n",
    "data_pth = joinpath(norne_dir, \"NORNE_NOHYST.DATA\")\n",
    "data = parse_data_file(data_pth)\n",
    "case = setup_case_from_data_file(data);"
   ],
   "metadata": {},
   "execution_count": null
  },
  {
   "cell_type": "markdown",
   "source": [
    "## Unpack the case to see basic data structures"
   ],
   "metadata": {}
  },
  {
   "outputs": [],
   "cell_type": "code",
   "source": [
    "model = case.model\n",
    "parameters = case.parameters\n",
    "forces = case.forces\n",
    "dt = case.dt;"
   ],
   "metadata": {},
   "execution_count": null
  },
  {
   "cell_type": "markdown",
   "source": [
    "## Plot the reservoir mesh, wells and faults\n",
    "We compose a few different plotting calls together to make a plot that shows\n",
    "the outline of the mesh, the fault structures and the well trajectories."
   ],
   "metadata": {}
  },
  {
   "outputs": [],
   "cell_type": "code",
   "source": [
    "import Jutul: plot_mesh_edges!\n",
    "reservoir = reservoir_domain(model)\n",
    "mesh = physical_representation(reservoir)\n",
    "wells = get_model_wells(model)\n",
    "fig = Figure(size = (1200, 800))\n",
    "ax = Axis3(fig[1, 1], zreversed = true)\n",
    "plot_mesh_edges!(ax, mesh, alpha = 0.5)\n",
    "for (k, w) in wells\n",
    "    plot_well!(ax, mesh, w)\n",
    "end\n",
    "plot_faults!(ax, mesh, alpha = 0.5)\n",
    "ax.azimuth[] = -3.0\n",
    "ax.elevation[] = 0.5\n",
    "fig"
   ],
   "metadata": {},
   "execution_count": null
  },
  {
   "cell_type": "markdown",
   "source": [
    "## Plot the reservoir static properties in interactive viewer"
   ],
   "metadata": {}
  },
  {
   "outputs": [],
   "cell_type": "code",
   "source": [
    "fig = plot_reservoir(model, key = :porosity)\n",
    "ax = fig.current_axis[]\n",
    "plot_faults!(ax, mesh, alpha = 0.5)\n",
    "ax.azimuth[] = -3.0\n",
    "ax.elevation[] = 0.5\n",
    "fig"
   ],
   "metadata": {},
   "execution_count": null
  },
  {
   "cell_type": "markdown",
   "source": [
    "## Simulate the model"
   ],
   "metadata": {}
  },
  {
   "outputs": [],
   "cell_type": "code",
   "source": [
    "ws, states = simulate_reservoir(case, output_substates = true)"
   ],
   "metadata": {},
   "execution_count": null
  },
  {
   "cell_type": "markdown",
   "source": [
    "## Plot the reservoir solution"
   ],
   "metadata": {}
  },
  {
   "outputs": [],
   "cell_type": "code",
   "source": [
    "fig = plot_reservoir(model, states, step = 247, key = :Saturations)\n",
    "ax = fig.current_axis[]\n",
    "ax.azimuth[] = -3.0\n",
    "ax.elevation[] = 0.5\n",
    "fig"
   ],
   "metadata": {},
   "execution_count": null
  },
  {
   "cell_type": "markdown",
   "source": [
    "## Load reference and set up plotting"
   ],
   "metadata": {}
  },
  {
   "outputs": [],
   "cell_type": "code",
   "source": [
    "csv_path = joinpath(norne_dir, \"REFERENCE.CSV\")\n",
    "data, header = readdlm(csv_path, ',', header = true)\n",
    "time_ref = data[:, 1]\n",
    "time_jutul = deepcopy(ws.time)\n",
    "wells = deepcopy(ws.wells)\n",
    "wnames = collect(keys(wells))\n",
    "nw = length(wnames)\n",
    "day = si_unit(:day)\n",
    "cmap = :tableau_hue_circle\n",
    "\n",
    "inj = Symbol[]\n",
    "prod = Symbol[]\n",
    "for (wellname, well) in pairs(wells)\n",
    "    qts = well[:wrat] + well[:orat] + well[:grat]\n",
    "    if sum(qts) > 0\n",
    "        push!(inj, wellname)\n",
    "    else\n",
    "        push!(prod, wellname)\n",
    "    end\n",
    "end\n",
    "\n",
    "function plot_well_comparison(response, well_names, reponse_name = \"$response\")\n",
    "    fig = Figure(size = (1000, 400))\n",
    "    if response == :bhp\n",
    "        ys = 1/si_unit(:bar)\n",
    "        yl = \"Bottom hole pressure / Bar\"\n",
    "    elseif response == :wrat\n",
    "        ys = si_unit(:day)\n",
    "        yl = \"Surface water rate / m³/day\"\n",
    "    elseif response == :grat\n",
    "        ys = si_unit(:day)/1e6\n",
    "        yl = \"Surface gas rate / 10⁶ m³/day\"\n",
    "    elseif response == :orat\n",
    "        ys = si_unit(:day)/(1000*si_unit(:stb))\n",
    "        yl = \"Surface oil rate / 10³ stb/day\"\n",
    "    else\n",
    "        error(\"$response not ready.\")\n",
    "    end\n",
    "    welltypes = []\n",
    "    ax = Axis(fig[1:4, 1], xlabel = \"Time / days\", ylabel = yl)\n",
    "    i = 1\n",
    "    linehandles = []\n",
    "    linelabels = []\n",
    "    for well_name in well_names\n",
    "        well = wells[well_name]\n",
    "        label_in_csv = \"$well_name:$response\"\n",
    "        ref_pos = findfirst(x -> x == label_in_csv, vec(header))\n",
    "        qoi = copy(well[response]).*ys\n",
    "        qoi_ref = data[:, ref_pos].*ys\n",
    "        tot_rate = copy(well[:rate])\n",
    "        @. qoi[tot_rate == 0] = NaN\n",
    "        grat_ref = data[:, findfirst(x -> x == \"$well_name:grat\", vec(header))]\n",
    "        orat_ref = data[:, findfirst(x -> x == \"$well_name:orat\", vec(header))]\n",
    "        wrat_ref = data[:, findfirst(x -> x == \"$well_name:wrat\", vec(header))]\n",
    "        tot_rate_ref = grat_ref + orat_ref + wrat_ref\n",
    "        @. qoi_ref[tot_rate_ref == 0] = NaN\n",
    "        crange = (1, max(length(well_names), 2))\n",
    "        lh = lines!(ax, time_jutul./day, abs.(qoi),\n",
    "            color = i,\n",
    "            colorrange = crange,\n",
    "            label = \"$well_name\", colormap = cmap\n",
    "        )\n",
    "        push!(linehandles, lh)\n",
    "        push!(linelabels, \"$well_name\")\n",
    "        lines!(ax, time_ref./day, abs.(qoi_ref),\n",
    "            color = i,\n",
    "            colorrange = crange,\n",
    "            linestyle = :dash,\n",
    "            colormap = cmap\n",
    "        )\n",
    "        i += 1\n",
    "    end\n",
    "    l1 = LineElement(color = :black, linestyle = nothing)\n",
    "    l2 = LineElement(color = :black, linestyle = :dash)\n",
    "\n",
    "    Legend(fig[1:3, 2], linehandles, linelabels, nbanks = 3)\n",
    "    Legend(fig[4, 2], [l1, l2], [\"JutulDarcy.jl\", \"OPM Flow\"])\n",
    "    fig\n",
    "end"
   ],
   "metadata": {},
   "execution_count": null
  },
  {
   "cell_type": "markdown",
   "source": [
    "## Injector bhp"
   ],
   "metadata": {}
  },
  {
   "outputs": [],
   "cell_type": "code",
   "source": [
    "plot_well_comparison(:bhp, inj, \"Bottom hole pressure\")"
   ],
   "metadata": {},
   "execution_count": null
  },
  {
   "cell_type": "markdown",
   "source": [
    "## Gas injection rates"
   ],
   "metadata": {}
  },
  {
   "outputs": [],
   "cell_type": "code",
   "source": [
    "plot_well_comparison(:grat, inj, \"Gas surface injection rate\")"
   ],
   "metadata": {},
   "execution_count": null
  },
  {
   "cell_type": "markdown",
   "source": [
    "## Water injection rates"
   ],
   "metadata": {}
  },
  {
   "outputs": [],
   "cell_type": "code",
   "source": [
    "plot_well_comparison(:wrat, inj, \"Water surface injection rate\")"
   ],
   "metadata": {},
   "execution_count": null
  },
  {
   "cell_type": "markdown",
   "source": [
    "## Producer bhp"
   ],
   "metadata": {}
  },
  {
   "outputs": [],
   "cell_type": "code",
   "source": [
    "plot_well_comparison(:bhp, prod, \"Bottom hole pressure\")"
   ],
   "metadata": {},
   "execution_count": null
  },
  {
   "cell_type": "markdown",
   "source": [
    "## Oil production rates"
   ],
   "metadata": {}
  },
  {
   "outputs": [],
   "cell_type": "code",
   "source": [
    "plot_well_comparison(:orat, prod, \"Oil surface production rate\")"
   ],
   "metadata": {},
   "execution_count": null
  },
  {
   "cell_type": "markdown",
   "source": [
    "## Gas production rates"
   ],
   "metadata": {}
  },
  {
   "outputs": [],
   "cell_type": "code",
   "source": [
    "plot_well_comparison(:grat, prod, \"Gas surface production rate\")"
   ],
   "metadata": {},
   "execution_count": null
  },
  {
   "cell_type": "markdown",
   "source": [
    "## Interactive plotting of field statistics"
   ],
   "metadata": {}
  },
  {
   "outputs": [],
   "cell_type": "code",
   "source": [
    "plot_reservoir_measurables(case, ws, states, left = :fgpr, right = :pres)"
   ],
   "metadata": {},
   "execution_count": null
  },
  {
   "cell_type": "markdown",
   "source": [
    "## Plot wells"
   ],
   "metadata": {}
  },
  {
   "outputs": [],
   "cell_type": "code",
   "source": [
    "plot_well_results(ws)"
   ],
   "metadata": {},
   "execution_count": null
  },
  {
   "cell_type": "markdown",
   "source": [
    "---\n",
    "\n",
    "*This notebook was generated using [Literate.jl](https://github.com/fredrikekre/Literate.jl).*"
   ],
   "metadata": {}
  }
 ],
 "nbformat_minor": 3,
 "metadata": {
  "language_info": {
   "file_extension": ".jl",
   "mimetype": "application/julia",
   "name": "julia",
   "version": "1.11.0"
  },
  "kernelspec": {
   "name": "julia-1.11",
   "display_name": "Julia 1.11.0",
   "language": "julia"
  }
 },
 "nbformat": 4
}
