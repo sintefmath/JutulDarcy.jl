{
 "cells": [
  {
   "cell_type": "markdown",
   "source": [
    "# Validation of equation-of-state compositiona simulator\n",
    "This example solves a 1D problem and compares against existing simulators\n",
    "(E300, AD-GPRS) to verify correctness.\n",
    "\n",
    "The case is loaded from an input file that can be run in other simulators. For\n",
    "convenience, we provide solutions from the other simulators as a binary file."
   ],
   "metadata": {}
  },
  {
   "outputs": [],
   "cell_type": "code",
   "source": [
    "using JutulDarcy\n",
    "using Jutul\n",
    "using GLMakie\n",
    "dpth = JutulDarcy.GeoEnergyIO.test_input_file_path(\"SIMPLE_COMP\")\n",
    "data_path = joinpath(dpth, \"SIMPLE_COMP.DATA\")\n",
    "case = setup_case_from_data_file(data_path)\n",
    "result = simulate_reservoir(case)\n",
    "ws, states = result;"
   ],
   "metadata": {},
   "execution_count": null
  },
  {
   "cell_type": "markdown",
   "source": [
    "## Plot solutions and compare"
   ],
   "metadata": {}
  },
  {
   "outputs": [],
   "cell_type": "code",
   "source": [
    "cmap = :tableau_hue_circle\n",
    "ref_path = joinpath(dpth, \"reference.jld2\")\n",
    "ref = Jutul.JLD2.load(ref_path)\n",
    "\n",
    "step_to_plot = 250\n",
    "fig = with_theme(theme_latexfonts()) do\n",
    "    x = reservoir_domain(case)[:cell_centroids][1, :]\n",
    "    mz = 3\n",
    "    ix = step_to_plot\n",
    "    mt = :circle\n",
    "    fig = Figure(size = (800, 400))\n",
    "    ax = Axis(fig[2, 1], xlabel = \"Cell center / m\")\n",
    "    cnames = [\"DECANE\", \"CO2\", \"METHANE\"]\n",
    "    cnames = [\"C₁₀\", \"CO₂\", \"C₁\"]\n",
    "    cnames = [L\"\\text{C}_{10}\", L\"\\text{CO}_2\", L\"\\text{C}_1\"]\n",
    "    lineh = []\n",
    "    lnames = []\n",
    "    crange = (1, 4)\n",
    "    for i in range(crange...)\n",
    "        if i == 4\n",
    "            cname = L\"\\text{S}_g\"\n",
    "            gprs = missing\n",
    "            ecl = ref[\"e300\"][ix][:Saturations][2, :]\n",
    "            ju = states[ix][:Saturations][2, :]\n",
    "        else\n",
    "            @assert i <= 4\n",
    "            ecl = ref[\"e300\"][ix][:OverallMoleFractions][i, :]\n",
    "            gprs = ref[\"adgprs\"][ix][:OverallMoleFractions][i, :]\n",
    "            ju = states[ix][:OverallMoleFractions][i, :]\n",
    "            cname = cnames[i]\n",
    "        end\n",
    "        h = lines!(ax, x, ju, colormap = cmap, color = i, colorrange = crange, label = cname)\n",
    "        push!(lnames, cname)\n",
    "        push!(lineh, h)\n",
    "        scatter!(ax, x, ecl, markersize = mz, colormap = cmap, color = i, colorrange = crange)\n",
    "        if !ismissing(gprs)\n",
    "            lines!(ax, x, gprs, colormap = cmap, color = i, colorrange = crange, linestyle = :dash)\n",
    "        end\n",
    "    end\n",
    "\n",
    "    l_ju = LineElement(color = :black, linestyle = nothing)\n",
    "    l_ecl = MarkerElement(color = :black, markersize = mz, marker = mt)\n",
    "    l_gprs = LineElement(color = :black, linestyle = :dash)\n",
    "\n",
    "    Legend(\n",
    "        fig[1, 1],\n",
    "        [[l_ju, l_ecl, l_gprs], lineh],\n",
    "        [[L\"\\text{JutulDarcy}\", L\"\\text{E300}\", L\"\\text{AD-GPRS}\"], lnames],\n",
    "        [\"Simulator\", \"Result\"],\n",
    "        tellwidth = false,\n",
    "        orientation = :horizontal,\n",
    "    )\n",
    "    fig\n",
    "end"
   ],
   "metadata": {},
   "execution_count": null
  },
  {
   "cell_type": "markdown",
   "source": [
    "## Calculate sensitivities\n",
    "We demonstrate how the parameter sensitivities of an objective function can be\n",
    "calculated for a compositional model.\n",
    "\n",
    "The objective function is taken to be the average gas saturation at a specific\n",
    "report step that was plotted in the previous section."
   ],
   "metadata": {}
  },
  {
   "outputs": [],
   "cell_type": "code",
   "source": [
    "import Statistics: mean\n",
    "import JutulDarcy: reservoir_sensitivities\n",
    "function objective_function(model, state, Δt, step_i, forces)\n",
    "    if step_i != step_to_plot\n",
    "        return 0.0\n",
    "    end\n",
    "    sg = @view state.Reservoir.Saturations[2, :]\n",
    "    return mean(sg)\n",
    "end\n",
    "data_domain_with_gradients = reservoir_sensitivities(case, result, objective_function, include_parameters = true)\n",
    "\n",
    "fig = with_theme(theme_latexfonts()) do\n",
    "    x = reservoir_domain(case)[:cell_centroids][1, :]\n",
    "    mz = 3\n",
    "    ix = step_to_plot\n",
    "    cmap = :Dark2_5\n",
    "    cmap = :Accent_4\n",
    "    cmap = :Spectral_4\n",
    "    cmap = :tableau_hue_circle\n",
    "    mt = :circle\n",
    "    fig = Figure(size = (800, 400))\n",
    "    normalize = x -> x./(maximum(x) - minimum(x))\n",
    "    logscale = x -> sign.(x).*log10.(abs.(x))\n",
    "\n",
    "    ∂T = data_domain_with_gradients[:temperature]\n",
    "    ∂ϕ = data_domain_with_gradients[:porosity]\n",
    "\n",
    "    ax1 = Axis(fig[2, 1], yticklabelcolor = :blue, xlabel = \"Cell center / m\")\n",
    "    ax2 = Axis(fig[2, 1], yticklabelcolor = :red, yaxisposition = :right)\n",
    "    hidespines!(ax2)\n",
    "    hidexdecorations!(ax2)\n",
    "\n",
    "    l1 = lines!(ax1, x, ∂T, label = \"Temperature\", color = :blue)\n",
    "    l2 = lines!(ax2, x, ∂ϕ, label = \"Porosity\", color = :red)\n",
    "\n",
    "    Legend(fig[1, 1], [l1, l2], [\"Temperature\", \"Porosity\"], \"Parameter\", tellwidth = false, orientation = :horizontal)\n",
    "    fig\n",
    "end\n",
    "fig"
   ],
   "metadata": {},
   "execution_count": null
  },
  {
   "cell_type": "markdown",
   "source": [
    "---\n",
    "\n",
    "*This notebook was generated using [Literate.jl](https://github.com/fredrikekre/Literate.jl).*"
   ],
   "metadata": {}
  }
 ],
 "nbformat_minor": 3,
 "metadata": {
  "language_info": {
   "file_extension": ".jl",
   "mimetype": "application/julia",
   "name": "julia",
   "version": "1.10.5"
  },
  "kernelspec": {
   "name": "julia-1.10",
   "display_name": "Julia 1.10.5",
   "language": "julia"
  }
 },
 "nbformat": 4
}
