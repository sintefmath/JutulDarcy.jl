{
 "cells": [
  {
   "cell_type": "markdown",
   "source": [
    "# Adding new wells to an existing model\n",
    "Taking an existing reservoir model and modifying it with new wells is a\n",
    "typical operation in reservoir simulation. This example demonstrates how to\n",
    "add new wells to an existing model and a few ways to setup these wells.\n",
    "\n",
    "The example uses the SPE1 data set as the model. We load the dataset as a\n",
    "`JutulCase` as usual and unpack the parts of the problem from the `case`\n",
    "before simulating the base case."
   ],
   "metadata": {}
  },
  {
   "outputs": [],
   "cell_type": "code",
   "source": [
    "using Jutul, JutulDarcy, GLMakie\n",
    "spe1_pth = JutulDarcy.GeoEnergyIO.test_input_file_path(\"SPE1\", \"SPE1.DATA\")\n",
    "case = setup_case_from_data_file(spe1_pth)\n",
    "(; model, state0, forces, parameters, dt) = case\n",
    "ws, states = simulate_reservoir(case)"
   ],
   "metadata": {},
   "execution_count": null
  },
  {
   "cell_type": "markdown",
   "source": [
    "## Replacing the existing wells with new wells with the same name\n",
    "The simplest way to replace a well is to create a new well with the same name\n",
    "so that the new well replaces the old one. This is done by calling the setup\n",
    "routines and using the same name as the original wells. We place one injector\n",
    "and one producer, using the same names as in the original version of the case.\n",
    "\n",
    "Here, we make use of the `setup_well` function to create the new wells and use\n",
    "the cell indices directly."
   ],
   "metadata": {}
  },
  {
   "outputs": [],
   "cell_type": "code",
   "source": [
    "reservoir = reservoir_domain(model)\n",
    "I1 = setup_well(reservoir, 1, name = :INJ)\n",
    "P1 = setup_well(reservoir, 10, name = :PROD)"
   ],
   "metadata": {},
   "execution_count": null
  },
  {
   "cell_type": "markdown",
   "source": [
    "## Add a new producer as multisegment well\n",
    "We can also add more wells than originally present by adding new wells with\n",
    "new names. Some care will have to be taken later on to ensure that these wells\n",
    "have valid control and limits. We pick a cell with a IJK index to place this\n",
    "producer."
   ],
   "metadata": {}
  },
  {
   "outputs": [],
   "cell_type": "code",
   "source": [
    "P2 = setup_well(reservoir, (10, 10, 1), name = :PROD_NEW, simple_well = false)"
   ],
   "metadata": {},
   "execution_count": null
  },
  {
   "cell_type": "markdown",
   "source": [
    "## Add a new injector with a trajectory\n",
    "An alternative to placing wells by cell index is to place them by trajectory.\n",
    "We can define a trajectory as a set of points in 3D space, here represented as\n",
    "a Matrix with three columns where each row represents a point along the\n",
    "trajectory. The trajectory is then used to discretize the well into cells."
   ],
   "metadata": {}
  },
  {
   "outputs": [],
   "cell_type": "code",
   "source": [
    "traj = [\n",
    "    50.0 3100.0 2500.0;\n",
    "    56.0 2850.0 2540.0;\n",
    "    120.0 2680.0 2550.0;\n",
    "    400.0 2600.0 2565.0\n",
    "]\n",
    "I2 = setup_well_from_trajectory(reservoir, traj, name = :INJ_NEW)"
   ],
   "metadata": {},
   "execution_count": null
  },
  {
   "cell_type": "markdown",
   "source": [
    "## Set up the new model\n",
    "The new model is set up by calling the `setup_reservoir_model` function with\n",
    "the old model as the template. This function will create a new model with the\n",
    "same properties and customizations as the original model, but with the new\n",
    "wells added. The template model takes the place of the `sys` argument seen in\n",
    "other examples."
   ],
   "metadata": {}
  },
  {
   "outputs": [],
   "cell_type": "code",
   "source": [
    "new_model, new_parameters = setup_reservoir_model(reservoir, model, wells = [I1, I2, P1, P2]);"
   ],
   "metadata": {},
   "execution_count": null
  },
  {
   "cell_type": "markdown",
   "source": [
    "## Visualize the new wells and the trajectory\n",
    "We can see the new wells and the trajectory by plotting the model. Note that\n",
    "the trajectory is connected to cell centers in the numerical model. The coarse\n",
    "resolution of the model makes the trajectory appear jagged when realized along\n",
    "cells."
   ],
   "metadata": {}
  },
  {
   "outputs": [],
   "cell_type": "code",
   "source": [
    "fig = plot_reservoir(new_model, title = \"New model\", alpha = 0.0, edge_color = :black)\n",
    "lines!(fig.current_axis[], traj', color = :red)\n",
    "fig"
   ],
   "metadata": {},
   "execution_count": null
  },
  {
   "cell_type": "markdown",
   "source": [
    "## Setup a new state and forces\n",
    "The new state and forces are set up in the same way as the original model,\n",
    "using the previous state0 and forces as templates. The new control and limits\n",
    "are duplicated from the old ones, mapping producer controls and limits to\n",
    "producers and injector controls and limits to injectors.\n",
    "\n",
    "We keep the controls of the wells constant throughout the simulation, but we\n",
    "could also have made a `forces` Vector with one value per step."
   ],
   "metadata": {}
  },
  {
   "outputs": [],
   "cell_type": "code",
   "source": [
    "new_state0 = setup_reservoir_state(new_model, state0)\n",
    "\n",
    "new_control = Dict()\n",
    "new_limits = Dict()\n",
    "\n",
    "facility_forces = forces[1][:Facility]\n",
    "\n",
    "ictrl = facility_forces.control[:INJ]\n",
    "ilims = facility_forces.limits[:INJ]\n",
    "\n",
    "pctrl = facility_forces.control[:PROD]\n",
    "plims = facility_forces.limits[:PROD]\n",
    "\n",
    "new_control[:INJ] = ictrl\n",
    "new_control[:PROD] = pctrl\n",
    "new_limits[:INJ] = ilims\n",
    "new_limits[:PROD] = plims\n",
    "\n",
    "new_control[:INJ_NEW] = ictrl\n",
    "new_limits[:INJ_NEW] = ilims\n",
    "\n",
    "new_control[:PROD_NEW] = pctrl\n",
    "new_limits[:PROD_NEW] = plims\n",
    "\n",
    "new_forces = setup_reservoir_forces(new_model, control = new_control, limits = new_limits)"
   ],
   "metadata": {},
   "execution_count": null
  },
  {
   "cell_type": "markdown",
   "source": [
    "## Simulate the new case"
   ],
   "metadata": {}
  },
  {
   "outputs": [],
   "cell_type": "code",
   "source": [
    "new_ws, new_states = simulate_reservoir(new_state0, new_model, dt, forces = new_forces, parameters = new_parameters)"
   ],
   "metadata": {},
   "execution_count": null
  },
  {
   "cell_type": "markdown",
   "source": [
    "## Visualize the results\n",
    "We can visualize the results of the new model and the old model"
   ],
   "metadata": {}
  },
  {
   "outputs": [],
   "cell_type": "code",
   "source": [
    "plot_reservoir(new_model, new_states, title = \"New wells\", step = 120, key = :Rs)"
   ],
   "metadata": {},
   "execution_count": null
  },
  {
   "cell_type": "markdown",
   "source": [
    "## We can also visualize the original model for comparison"
   ],
   "metadata": {}
  },
  {
   "outputs": [],
   "cell_type": "code",
   "source": [
    "plot_reservoir(model, states, title = \"Original wells\", step = 120, key = :Pressure)"
   ],
   "metadata": {},
   "execution_count": null
  },
  {
   "cell_type": "markdown",
   "source": [
    "## Side by side comparison"
   ],
   "metadata": {}
  },
  {
   "outputs": [],
   "cell_type": "code",
   "source": [
    "g = physical_representation(reservoir)\n",
    "fig = Figure(size = (1200, 600))\n",
    "ax = Axis3(fig[1, 1], zreversed = true, title = \"Original wells\")\n",
    "plt = plot_cell_data!(ax, g, states[120][:Saturations][3, :], colorrange = (0.0, 0.7))\n",
    "ax = Axis3(fig[1, 2], zreversed = true, title = \"New wells\")\n",
    "plot_cell_data!(ax, g, new_states[120][:Saturations][3, :], colorrange = (0.0, 0.7))\n",
    "Colorbar(fig[1, 3], plt)\n",
    "fig"
   ],
   "metadata": {},
   "execution_count": null
  },
  {
   "cell_type": "markdown",
   "source": [
    "---\n",
    "\n",
    "*This notebook was generated using [Literate.jl](https://github.com/fredrikekre/Literate.jl).*"
   ],
   "metadata": {}
  }
 ],
 "nbformat_minor": 3,
 "metadata": {
  "language_info": {
   "file_extension": ".jl",
   "mimetype": "application/julia",
   "name": "julia",
   "version": "1.11.4"
  },
  "kernelspec": {
   "name": "julia-1.11",
   "display_name": "Julia 1.11.4",
   "language": "julia"
  }
 },
 "nbformat": 4
}
